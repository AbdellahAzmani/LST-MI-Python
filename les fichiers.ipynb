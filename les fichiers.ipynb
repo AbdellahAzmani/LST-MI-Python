{
 "cells": [
  {
   "cell_type": "markdown",
   "metadata": {
    "deletable": false,
    "editable": false
   },
   "source": [
    "<center style=\"font-size:35px;color:red;font-weight:bold\"> Initiation à Python</center><br>\n",
    "<center style=\"color:black;font-size:20px\"> Structures de Données </center>\n",
    "<br>\n",
    "<center style=\"color:black\">**Cours du Pr. Abdellah AZMANI**</center>\n",
    "<center style=\"color:black\">**Département Génie Informatique**</center>\n",
    "<br>\n",
    "<center style=\"color:black\">Université Abdelmalek Essaadi</center>\n",
    "<center style=\"color:black\">Faculté des Sciences et Techniques</center>\n",
    "<center style=\"color:black\">Tanger</center>"
   ]
  },
  {
   "cell_type": "markdown",
   "metadata": {
    "deletable": false,
    "editable": false
   },
   "source": [
    "## Fichiers\n",
    "\n",
    "### Qu’est ce qu’un fichier?\n",
    "\n",
    "Positionnement à l’endroit où se trouve le fichier à créer, à lire ou à écrire\n",
    "\n",
    "Python propose le module « os » qui signifie Operating System ou Système d’exploitation qui possède un ensemble de fonctions prédéfinies pour manipuler les fichiers.\n",
    "\n",
    "Spécifier le répertoire de travail courant"
   ]
  },
  {
   "cell_type": "code",
   "execution_count": 12,
   "metadata": {},
   "outputs": [
    {
     "name": "stdout",
     "output_type": "stream",
     "text": [
      "/Users/mac/Desktop/Python\n"
     ]
    }
   ],
   "source": [
    "import os\n",
    "dossier = os.getcwd()\n",
    "print (dossier)"
   ]
  },
  {
   "cell_type": "markdown",
   "metadata": {
    "deletable": false,
    "editable": false
   },
   "source": [
    "### Remarque\n",
    "#### Dans le cas ou vous changez d'ordinateur, veuillez spécifier le bon chemin pour enreegistrer et lire les données d'un fichier"
   ]
  },
  {
   "cell_type": "code",
   "execution_count": 13,
   "metadata": {},
   "outputs": [
    {
     "data": {
      "text/plain": [
       "'/Users/mac/Desktop/Python'"
      ]
     },
     "execution_count": 13,
     "metadata": {},
     "output_type": "execute_result"
    }
   ],
   "source": [
    "dossier"
   ]
  },
  {
   "cell_type": "markdown",
   "metadata": {
    "deletable": false,
    "editable": false
   },
   "source": [
    "### Changement de répertoire sur ordinateur\n",
    "**Changer de répertoire par importation de la fonction chdir() du module \"os\"**"
   ]
  },
  {
   "cell_type": "code",
   "execution_count": 14,
   "metadata": {},
   "outputs": [],
   "source": [
    "from os import chdir  \n",
    "# la fonction \"chdir\" pour changer le répertoire courant\n",
    "dossier=chdir(\"/Users/mac/Desktop/Python/Cours/\") "
   ]
  },
  {
   "cell_type": "code",
   "execution_count": 15,
   "metadata": {},
   "outputs": [],
   "source": [
    "dossier"
   ]
  },
  {
   "cell_type": "markdown",
   "metadata": {},
   "source": [
    "### Importation de fichier depuis Google Drive\n",
    "L'exemple ci-dessous montre comment installer votre Google Drive dans votre environnement d'exécution à l'aide d'un code d'autorisation, et comment y écrire et lire des fichiers. \n",
    "\n",
    "Cela n'inclut que la lecture, l'écriture et le déplacement de fichiers."
   ]
  },
  {
   "cell_type": "code",
   "execution_count": 2,
   "metadata": {},
   "outputs": [
    {
     "ename": "ModuleNotFoundError",
     "evalue": "No module named 'google.colab'",
     "output_type": "error",
     "traceback": [
      "\u001b[0;31m---------------------------------------------------------------------------\u001b[0m",
      "\u001b[0;31mModuleNotFoundError\u001b[0m                       Traceback (most recent call last)",
      "\u001b[0;32m<ipython-input-2-d5df0069828e>\u001b[0m in \u001b[0;36m<module>\u001b[0;34m()\u001b[0m\n\u001b[0;32m----> 1\u001b[0;31m \u001b[0;32mfrom\u001b[0m \u001b[0mgoogle\u001b[0m\u001b[0;34m.\u001b[0m\u001b[0mcolab\u001b[0m \u001b[0;32mimport\u001b[0m \u001b[0mdrive\u001b[0m\u001b[0;34m\u001b[0m\u001b[0m\n\u001b[0m\u001b[1;32m      2\u001b[0m \u001b[0mdrive\u001b[0m\u001b[0;34m.\u001b[0m\u001b[0mmount\u001b[0m\u001b[0;34m(\u001b[0m\u001b[0;34m'/content/drive'\u001b[0m\u001b[0;34m)\u001b[0m\u001b[0;34m\u001b[0m\u001b[0m\n",
      "\u001b[0;31mModuleNotFoundError\u001b[0m: No module named 'google.colab'"
     ]
    }
   ],
   "source": [
    "from google.colab import drive\n",
    "drive.mount('/content/drive')"
   ]
  },
  {
   "cell_type": "markdown",
   "metadata": {},
   "source": [
    "**Cela va permettre de se situer dans le Drive pour pouvoir lire, écrire et déplacer le fichier.**"
   ]
  },
  {
   "cell_type": "markdown",
   "metadata": {
    "deletable": false,
    "editable": false
   },
   "source": [
    "### Ouverture et fermeture d’un fichier\n",
    "\n",
    "Python propose les 3 modes d’ouverture suivant :\n",
    "* 'r' : ouverture en lecture seule (Read).\n",
    "* 'w' : ouverture en écriture (Write). <br>\n",
    "    Si le fichier existe son contenu est écrasé. <br>\n",
    "\tSi le fichier n'existe pas, il sera créé.<br>\n",
    "    \n",
    "* 'a' : ouverture en écriture en mode ajout (Append). <br>\n",
    "    Si le fichier existe l’écriture se fait à la fin du fichier sans écraser son ancien contenu. <br>\n",
    "\tSi le fichier n'existe pas, il sera créé.\n",
    "    \n",
    "### Créer un fichier texte à partir d’un éditer de texte\n",
    "1. On ouvre par exemple \"Bloc-Notes\".\n",
    "2. On saisit les mots ligne par ligne\n",
    "3. On enregistre sous le non «pierres.txt»\n",
    "\n",
    "### Lecture d’un fichier\n",
    "Ouverture du fichier \"Pierres.txt\" en mode lecture seule 'r'"
   ]
  },
  {
   "cell_type": "code",
   "execution_count": 16,
   "metadata": {},
   "outputs": [
    {
     "name": "stdout",
     "output_type": "stream",
     "text": [
      "<_io.TextIOWrapper name='Pierres.txt' mode='r' encoding='UTF-8'>\n"
     ]
    }
   ],
   "source": [
    "monFichier = open('/content/drive/My Drive/Pierres.txt', 'r')\n",
    "print(monFichier)  \n",
    "# Ici, Python informe sur le type de fichier et son mode de lecture mais pas sur son contenu. "
   ]
  },
  {
   "cell_type": "markdown",
   "metadata": {
    "deletable": false,
    "editable": false
   },
   "source": [
    "A ce niveau aucun ordre de lecture n’est spécifié : le fichier n'est pas encore « lu » \n",
    "\n",
    "#### Lecture avec la méthode « read() » \n",
    "qui retourne le contenu du fichier dans une chaîne de caractères unique."
   ]
  },
  {
   "cell_type": "code",
   "execution_count": 17,
   "metadata": {},
   "outputs": [],
   "source": [
    "# ouvrir le fichier en mode lecture \n",
    "monFichier = open('/content/drive/My Drive/Pierres.txt', 'r')\n",
    "# copier le contenu du fichier dans une chaîne de caractères\n",
    "Chaine=monFichier.read()\n",
    "# imprimer ‘Chaine’ pour vérifier son contenu\n",
    "Chaine"
   ]
  },
  {
   "cell_type": "code",
   "execution_count": 19,
   "metadata": {},
   "outputs": [
    {
     "data": {
      "text/plain": [
       "'Saphir\\nRubis\\nDiamant\\nEmeraude'"
      ]
     },
     "execution_count": 19,
     "metadata": {},
     "output_type": "execute_result"
    }
   ],
   "source": [
    "# imprimer ‘Chaine’ pour vérifier son contenu\n",
    "Chaine"
   ]
  },
  {
   "cell_type": "code",
   "execution_count": 20,
   "metadata": {},
   "outputs": [],
   "source": [
    "# Ne pas oublier de fermer le fichier\n",
    "monFichier.close()"
   ]
  },
  {
   "cell_type": "markdown",
   "metadata": {
    "deletable": false,
    "editable": false
   },
   "source": [
    "#### Lecture avec la méthode «readlines() » \n",
    "Noter le « s » à la fin qui demande à lire toutes les lignes\n",
    "**readlines()** retourne le contenu du fichier dans une liste."
   ]
  },
  {
   "cell_type": "code",
   "execution_count": 22,
   "metadata": {},
   "outputs": [],
   "source": [
    "# ouvrir le fichier en mode lecture \n",
    "monFichier = open('/content/drive/My Drive/Pierres.txt', 'r')\n",
    "# copier le contenu du fichier dans une liste\n",
    "Liste=monFichier.readlines()"
   ]
  },
  {
   "cell_type": "code",
   "execution_count": 23,
   "metadata": {},
   "outputs": [
    {
     "data": {
      "text/plain": [
       "['Saphir\\n', 'Rubis\\n', 'Diamant\\n', 'Emeraude']"
      ]
     },
     "execution_count": 23,
     "metadata": {},
     "output_type": "execute_result"
    }
   ],
   "source": [
    "# imprimer ‘Liste’ pour vérifier son contenu\n",
    "Liste"
   ]
  },
  {
   "cell_type": "code",
   "execution_count": 24,
   "metadata": {},
   "outputs": [],
   "source": [
    "# Ne pas oublier de fermer le fichier\n",
    "monFichier.close()"
   ]
  },
  {
   "cell_type": "markdown",
   "metadata": {
    "deletable": false,
    "editable": false
   },
   "source": [
    "### Lecture itérative d’un fichier\n",
    "#### Lecture avec la méthode «readline() »\n",
    "**« readline() »** permet de lire un fichier ligne par ligne. Chaque ligne lue d’un fichier est renvoyée sous forme d’une chaîne de caractères.<br>\n",
    "L'utilisation d'une boucle est nécessaire pour lire le fichier en entier."
   ]
  },
  {
   "cell_type": "code",
   "execution_count": 25,
   "metadata": {},
   "outputs": [
    {
     "name": "stdout",
     "output_type": "stream",
     "text": [
      "Saphir\n",
      "\n",
      "Rubis\n",
      "\n",
      "Diamant\n",
      "\n",
      "Emeraude\n"
     ]
    }
   ],
   "source": [
    "monFichier = open('/content/drive/My Drive/Pierres.txt', 'r')\n",
    "ligne = monFichier.readline() #lecture 1ère ligne\n",
    "while ligne != \"\":     #arrêt si la ligne est vide\n",
    "    print (ligne)\n",
    "    ligne = monFichier.readline() #passage ligne suivante"
   ]
  },
  {
   "cell_type": "code",
   "execution_count": 26,
   "metadata": {},
   "outputs": [],
   "source": [
    "monFichier.close()"
   ]
  },
  {
   "cell_type": "markdown",
   "metadata": {
    "deletable": false,
    "editable": false
   },
   "source": [
    "### Autre Lecture itérative\n",
    "#### Itérations directement sur le fichier"
   ]
  },
  {
   "cell_type": "code",
   "execution_count": 28,
   "metadata": {},
   "outputs": [
    {
     "name": "stdout",
     "output_type": "stream",
     "text": [
      "Saphir\n",
      "\n",
      "Rubis\n",
      "\n",
      "Diamant\n",
      "\n",
      "Emeraude\n"
     ]
    }
   ],
   "source": [
    "monFichier = open('/content/drive/My Drive/Pierres.txt', 'r')\n",
    "for ligne in monFichier:     # lecture ligne par ligne\n",
    "        print (ligne)"
   ]
  },
  {
   "cell_type": "code",
   "execution_count": 29,
   "metadata": {},
   "outputs": [],
   "source": [
    "monFichier.close()"
   ]
  },
  {
   "cell_type": "markdown",
   "metadata": {
    "deletable": false,
    "editable": false
   },
   "source": [
    "C’est également le moyen le plus simple pour afficher le contenu d’un ficher."
   ]
  },
  {
   "cell_type": "markdown",
   "metadata": {
    "deletable": false,
    "editable": false
   },
   "source": [
    "### Autre manière de lire\n",
    "\n",
    "#### Utilisation de l’instruction With \n",
    "« With » permet d’ouvrir et fermer un fichier de manière commode. \n",
    "\n",
    "Si l’ouverture d’un fichier conduit à une erreur (problème d’accès par exemple), l’utilisation de « with » garantit la bonne fermeture du fichier. \n",
    "\n",
    "De plus, avec « with » pas besoin d’utiliser  la fonction close() : Python fermera automatiquement le fichier."
   ]
  },
  {
   "cell_type": "code",
   "execution_count": 31,
   "metadata": {},
   "outputs": [
    {
     "name": "stdout",
     "output_type": "stream",
     "text": [
      "Saphir\n",
      "\n",
      "Rubis\n",
      "\n",
      "Diamant\n",
      "\n",
      "Emeraude\n"
     ]
    }
   ],
   "source": [
    "# on utilise l’instruction with qui introduit un bloc d’indentation\n",
    "with open('/content/drive/My Drive/Pierres.txt', 'r') as Fichier:\n",
    "    for ligne in Fichier:\n",
    "        print (ligne)"
   ]
  },
  {
   "cell_type": "markdown",
   "metadata": {
    "deletable": false,
    "editable": false
   },
   "source": [
    "### Ecriture dans un fichier\n",
    "#### Ecriture dans un fichier avec write()"
   ]
  },
  {
   "cell_type": "code",
   "execution_count": 32,
   "metadata": {},
   "outputs": [],
   "source": [
    "# Initialisation de notre chaîne de caractères « metier »\n",
    "metier = \"Electricien\\n\" \n",
    "# ouverture du fichier en mode écriture « w »\n",
    "monFichier = open('/content/drive/My Drive/metiers.txt', 'w')"
   ]
  },
  {
   "cell_type": "code",
   "execution_count": 33,
   "metadata": {},
   "outputs": [
    {
     "data": {
      "text/plain": [
       "12"
      ]
     },
     "execution_count": 33,
     "metadata": {},
     "output_type": "execute_result"
    }
   ],
   "source": [
    "#Nous avons écris dans le fichier\n",
    "monFichier.write(metier)  "
   ]
  },
  {
   "cell_type": "code",
   "execution_count": 34,
   "metadata": {},
   "outputs": [],
   "source": [
    "# fermeture du fichier avec la méthode close().\n",
    "monFichier.close()  "
   ]
  },
  {
   "cell_type": "code",
   "execution_count": 35,
   "metadata": {},
   "outputs": [
    {
     "data": {
      "text/plain": [
       "5"
      ]
     },
     "execution_count": 35,
     "metadata": {},
     "output_type": "execute_result"
    }
   ],
   "source": [
    "# ouverture du fichier en mode écriture « w »\n",
    "monFichier = open('/content/drive/My Drive/metiers.txt', 'w')\n",
    "\n",
    "#Nous avons écris dans le fichier\n",
    "monFichier.write('Electricien\\n')\n",
    "monFichier.write('Plombier\\n')\n",
    "monFichier.write('Menuisier\\n')\n",
    "monFichier.write('Maçon')"
   ]
  },
  {
   "cell_type": "code",
   "execution_count": 36,
   "metadata": {},
   "outputs": [],
   "source": [
    "# fermeture du fichier avec la méthode close().\n",
    "monFichier.close() "
   ]
  },
  {
   "cell_type": "markdown",
   "metadata": {
    "deletable": false,
    "editable": false
   },
   "source": [
    "#### Utilisation de  writelines()\n",
    "**writelines()** permet d’écrire directement le contenu d’une liste dans un fichier."
   ]
  },
  {
   "cell_type": "code",
   "execution_count": 37,
   "metadata": {},
   "outputs": [],
   "source": [
    "# Initialisation de notre liste des métiers\n",
    "listeMetiers= [\"Carreleur\\n\", \"Plâtrier\\n\", \"vitrier\\n\", \"Serrurier\"] "
   ]
  },
  {
   "cell_type": "markdown",
   "metadata": {},
   "source": [
    "le caractère « \\n » permet de faire un saut de ligne et de passer à la ligne suivante.\n",
    "\n",
    "Le dernier élément ne doit pas avoir le « \\n »"
   ]
  },
  {
   "cell_type": "code",
   "execution_count": 38,
   "metadata": {},
   "outputs": [],
   "source": [
    "# Ouverture du fichier en mode écriture « w »\n",
    "monFichier = open('/content/drive/My Drive/fichierMetiers.txt', 'w')\n",
    "# Ecriture de la liste en utilisant la fonction « writelines() »\n",
    "monFichier.writelines(listeMetiers)"
   ]
  },
  {
   "cell_type": "code",
   "execution_count": 39,
   "metadata": {},
   "outputs": [],
   "source": [
    "# Fermeture du fichier avec la méthode close().\n",
    "monFichier.close()"
   ]
  },
  {
   "cell_type": "code",
   "execution_count": 42,
   "metadata": {},
   "outputs": [],
   "source": [
    "import os\n",
    "# Initialisation de notre liste « Poissons »\n",
    "listeMetiers2= [\"Chauffeur\\n\",\"Pilote\\n\", \"Conducteur\"] \n",
    "\n",
    "# ouverture du fichier en mode écriture « a »\n",
    "monFichier = open('fichierMetier', 'a') \n",
    "\n",
    "# Ecriture de la liste en utilisant une boucle\n",
    "for i in range(len(listeMetiers2)):\n",
    "       monFichier.write (listeMetiers[i])"
   ]
  },
  {
   "cell_type": "code",
   "execution_count": 41,
   "metadata": {},
   "outputs": [],
   "source": [
    "# Fermeture du fichier avec la méthode close().\n",
    "monFichier.close()  "
   ]
  },
  {
   "cell_type": "markdown",
   "metadata": {
    "deletable": false,
    "editable": false
   },
   "source": [
    "### Position dans un fichier\n",
    "#### Méthodes seek() et tell()\n",
    "La méthode **seek()** permet de se déplacer au nième caractère d’un fichier."
   ]
  },
  {
   "cell_type": "code",
   "execution_count": 52,
   "metadata": {},
   "outputs": [
    {
     "data": {
      "text/plain": [
       "0"
      ]
     },
     "execution_count": 52,
     "metadata": {},
     "output_type": "execute_result"
    }
   ],
   "source": [
    "monFichier = open('/content/drive/My Drive/Pierres.txt', 'r')\n",
    "# Se positionner au début du fichier, caractère 0\n",
    "monFichier.seek(0) "
   ]
  },
  {
   "cell_type": "code",
   "execution_count": 53,
   "metadata": {},
   "outputs": [
    {
     "data": {
      "text/plain": [
       "0"
      ]
     },
     "execution_count": 53,
     "metadata": {},
     "output_type": "execute_result"
    }
   ],
   "source": [
    "# La méthode tell() permet d’afficher la position courante du fichier. \n",
    "monFichier.tell()"
   ]
  },
  {
   "cell_type": "code",
   "execution_count": 54,
   "metadata": {},
   "outputs": [
    {
     "data": {
      "text/plain": [
       "7"
      ]
     },
     "execution_count": 54,
     "metadata": {},
     "output_type": "execute_result"
    }
   ],
   "source": [
    "monFichier.readline()\n",
    "monFichier.tell()"
   ]
  },
  {
   "cell_type": "code",
   "execution_count": 55,
   "metadata": {},
   "outputs": [
    {
     "data": {
      "text/plain": [
       "24"
      ]
     },
     "execution_count": 55,
     "metadata": {},
     "output_type": "execute_result"
    }
   ],
   "source": [
    "monFichier.seek(24)  # Se positionner à la 24ième position\n",
    "monFichier.tell()"
   ]
  },
  {
   "cell_type": "code",
   "execution_count": 56,
   "metadata": {},
   "outputs": [
    {
     "data": {
      "text/plain": [
       "'raude'"
      ]
     },
     "execution_count": 56,
     "metadata": {},
     "output_type": "execute_result"
    }
   ],
   "source": [
    "monFichier.readline()"
   ]
  },
  {
   "cell_type": "code",
   "execution_count": 57,
   "metadata": {},
   "outputs": [
    {
     "data": {
      "text/plain": [
       "29"
      ]
     },
     "execution_count": 57,
     "metadata": {},
     "output_type": "execute_result"
    }
   ],
   "source": [
    "monFichier.tell()"
   ]
  },
  {
   "cell_type": "code",
   "execution_count": 58,
   "metadata": {},
   "outputs": [],
   "source": [
    "monFichier.close()"
   ]
  }
 ],
 "metadata": {
  "celltoolbar": "Edit Metadata",
  "kernelspec": {
   "display_name": "Python 3",
   "language": "python",
   "name": "python3"
  },
  "language_info": {
   "codemirror_mode": {
    "name": "ipython",
    "version": 3
   },
   "file_extension": ".py",
   "mimetype": "text/x-python",
   "name": "python",
   "nbconvert_exporter": "python",
   "pygments_lexer": "ipython3",
   "version": "3.6.5"
  }
 },
 "nbformat": 4,
 "nbformat_minor": 2
}
