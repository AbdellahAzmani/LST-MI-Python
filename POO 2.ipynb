{
 "cells": [
  {
   "cell_type": "markdown",
   "metadata": {},
   "source": [
    "<center style=\"font-size:35px;color:red;font-weight:bold\"> Initiation à Python</center><br>\n",
    "<center style=\"color:black;font-size:20px\"> Programmation Orienté Objet - 2ème Partie </center>\n",
    "<br>\n",
    "<center style=\"color:black\">**Cours du Pr. Abdellah AZMANI**</center>\n",
    "<center style=\"color:black\">**Département Génie Informatique**</center>\n",
    "<br>\n",
    "<center style=\"color:black\">Université Abdelmalek Essaadi</center>\n",
    "<center style=\"color:black\">Faculté des Sciences et Techniques</center>\n",
    "<center style=\"color:black\">Tanger</center>"
   ]
  },
  {
   "attachments": {},
   "cell_type": "markdown",
   "metadata": {},
   "source": [
    "# Classe et Objet\n",
    "## Constructeur\n",
    "### Utilisation d’un constructeur\n",
    "* Pour éviter l'erreur de type précédent où on risque de faire appel à un objet avant qu’il soit construit avec ses propriétés, nous lui associant un constructeur (en Python, il ne peut y avoir qu’un seul constructeur par objet). \n",
    "\n",
    "* Un constructeur est une méthode qui assure à une instance d’exister en lui attribuant une valeur « par défaut ». Cette valeur est attribuée automatiquement quant l’objet est instancié à partir de sa classe. \n",
    "\n",
    "* Python propose la méthode  constructeur qui se nomme \" __init__ \" (le mot « init » entouré par deux caractères « souligné _ » du part et d’autre."
   ]
  },
  {
   "cell_type": "code",
   "execution_count": 1,
   "metadata": {},
   "outputs": [],
   "source": [
    "class Meteo(object):\n",
    "    \"Quel temps fera demain\"\n",
    "    def __init__(self):\n",
    "        self.temperature = 15\n",
    "        self.pression = 1022\n",
    "        self.direction = \"Sud Ouest\"\n",
    "        self.vitesse = 20\n",
    "    def afficher_Meteo(self):\n",
    "        message=\"-La température est de {0}°C \\n-La pression barométrique est de {1} hPa\\n-La direction du vent est {2}\\n-La vitesse du vent est de{3} km /heure.\\n\"\n",
    "        print(message.format(self.temperature, self.pression, self.direction, self.vitesse))"
   ]
  },
  {
   "cell_type": "code",
   "execution_count": 3,
   "metadata": {},
   "outputs": [],
   "source": [
    "#Faisons la même démarche que précédemment :\n",
    "# Créons une instance de la classe Meteo()\n",
    "temp_Demain = Meteo()"
   ]
  },
  {
   "cell_type": "code",
   "execution_count": 4,
   "metadata": {},
   "outputs": [
    {
     "name": "stdout",
     "output_type": "stream",
     "text": [
      "-La température est de 15°C \n",
      "-La pression barométrique est de 1022 hPa\n",
      "-La direction du vent est Sud Ouest\n",
      "-La vitesse du vent est de20 km /heure.\n",
      "\n"
     ]
    }
   ],
   "source": [
    "# Demandons l’affichage de de la météo de l’instance\n",
    "temp_Demain.afficher_Meteo()"
   ]
  },
  {
   "attachments": {},
   "cell_type": "markdown",
   "metadata": {},
   "source": [
    "**Remarque :**\n",
    "* A ce niveau plus d’erreur car le constructeur a permis de spécifier les attributs et leur valeur par défaut de l’instance \"temp_Demain\" de la classe Meteo(). \n",
    "* Les valeurs affichées sont celles données par défaut par le constructeur.\n",
    "\n",
    "### Constructeur avec paramètres\n",
    "Notons que la méthode __init__() peut avoir des paramètres pour mieux initialiser certaines instances de classe. Ces paramètres peuvent recevoir des valeurs par défaut. "
   ]
  },
  {
   "cell_type": "code",
   "execution_count": 49,
   "metadata": {},
   "outputs": [],
   "source": [
    "def __init__(self, tp =10, pb =1020, dv =\"Nord\", vv=5):\n",
    "    self.temperature = tp\n",
    "    self.pression = pb\n",
    "    self.direction = dv\n",
    "    self.vitesse = vv"
   ]
  },
  {
   "cell_type": "markdown",
   "metadata": {},
   "source": [
    "**Remarque :**\n",
    "\n",
    "Cette écriture a un double rôle :\n",
    "* Si le paramètre n’est pas connu alors se sont les valeurs par défaut qui seront prises en considération\n",
    "* Sinon, ce sont les valeurs attribuées avant l’appel du constructeur qui seront utilisées."
   ]
  },
  {
   "cell_type": "markdown",
   "metadata": {},
   "source": [
    "**Faisons la même démarche que précédemment :\n",
    "Créons une instance de la classe Meteo() en indiquant les paramètres que doit utiliser le constructeur**"
   ]
  },
  {
   "cell_type": "code",
   "execution_count": 50,
   "metadata": {},
   "outputs": [],
   "source": [
    "temp_Lundi = Meteo(21,1021,\"Est\",45)"
   ]
  },
  {
   "cell_type": "code",
   "execution_count": 51,
   "metadata": {
    "scrolled": true
   },
   "outputs": [
    {
     "name": "stdout",
     "output_type": "stream",
     "text": [
      "-La température est de 21°C \n",
      "-La pression barométrique est de 1021 hPa\n",
      "-La direction du vent est Est\n",
      "-La vitesse du vent est de45 km /heure.\n",
      "\n"
     ]
    }
   ],
   "source": [
    "# Demandons l’affichage de de la météo de l’instance\n",
    "temp_Lundi.afficher_Meteo() "
   ]
  },
  {
   "attachments": {},
   "cell_type": "markdown",
   "metadata": {},
   "source": [
    "Que se passe-t-il si nous ne donnons pas tous les arguments lors de l'instanciation d'un objet ? Complétez \n",
    "\n",
    "**temp_Mardi = Meteo(25,1025, \"Sud Est\")<br> \n",
    "temp_Mardi. afficher_Meteo()**\n",
    "\n",
    "     * La température est de 25°C\n",
    "     * La pression barométrique est de 1025 hPa\n",
    "     * La direction du vent est Sud Est\n",
    "     * La vitesse du vent est de 5 km /heure.\n",
    "\n",
    "**temp_Mercredi= Meteo(19,1024)<br> \n",
    "temp_Mercredi. afficher_Meteo()**\n",
    "\n",
    "**temp_Jeudi = Meteo(18)<br> \n",
    "temp_Jeudi. afficher_Meteo()**\n",
    "\n",
    "**temp_Vendredi = Meteo(dv=\"Nord Est\")<br> \n",
    "temp_Vendredi.afficher_Meteo()**\n",
    "\n",
    "**temp_Samedi = Meteo(vv=45)<br> \n",
    "temp_Samedi.afficher_Meteo()**\n",
    "\n",
    "**temp_Dimanche = Meteo(pb=1018, vv=55)<br> \n",
    "temp_Dimanche.afficher_Meteo()**"
   ]
  },
  {
   "cell_type": "markdown",
   "metadata": {},
   "source": [
    "<span style=\"color:red;font-weight:bold\"> **Correction** </span><br>\n",
    "\n",
    "**temp_Mercredi= Meteo(19,1024)<br> \n",
    "temp_Mercredi. afficher_Meteo()**\n",
    "\n",
    "    * La température est de 19°C\n",
    "    * La pression barométrique est de 1024 hPa\n",
    "    * La direction du vent est Nord\n",
    "    * La vitesse du vent est de 5 km /heure.\n",
    "\n",
    "**temp_Jeudi = Meteo(18)<br> \n",
    "temp_Jeudi. afficher_Meteo()**\n",
    "\n",
    "    * La température est de 18°C\n",
    "    * La pression barométrique est de 1020 hPa\n",
    "    * La direction du vent est Nord\n",
    "    * La vitesse du vent est de 5 km /heure.\n",
    "\n",
    "**temp_Vendredi = Meteo(dv=\"Nord Est\")<br> \n",
    "temp_Vendredi.afficher_Meteo()**\n",
    "\n",
    "    * La température est de 10°C\n",
    "    * La pression barométrique est de 1020 hPa\n",
    "    * La direction du vent est Nord Est\n",
    "    * La vitesse du vent est de 5 km /heure.\n",
    "\n",
    "**temp_Samedi = Meteo(vv=45)<br> \n",
    "temp_Samedi.afficher_Meteo()**\n",
    "\n",
    "    * La température est de 10°C\n",
    "    * La pression barométrique est de 1020 hPa\n",
    "    * La direction du vent est Nord\n",
    "    * La vitesse du vent est de 45 km /heure.\n",
    "\n",
    "**temp_Dimanche = Meteo(pb=1018, vv=55)<br> \n",
    "temp_Dimanche.afficher_Meteo()**\n",
    "\n",
    "    * La température est de 10°C\n",
    "    * La pression barométrique est de 1018 hPa\n",
    "    * La direction du vent est Nord\n",
    "    * La vitesse du vent est de 55 km /heure. "
   ]
  },
  {
   "attachments": {},
   "cell_type": "markdown",
   "metadata": {},
   "source": [
    "## Espaces de noms des classes et instances\n",
    "**Rappel :**\n",
    "* Les variables définies à l’intérieur d’une fonction sont des variables locales, inaccessibles aux instructions qui se trouvent à l’extérieur de la fonction. Cela permet d’utiliser les mêmes noms de variables dans différentes parties d’un programme, sans risque d’interférence.\n",
    "* On peut utiliser une variable globale (définie au niveau principal) à l’intérieur d’une fonction, mais en lecture seule  (on ne peut la modifier). Pour modifier celle-ci, on l’indique à Python en précédant une telle variable par le mot clé  global.\n",
    "\n",
    "**Faisons une projection sur les classes et les objets :**\n",
    "* Les classes peuvent utiliser (mais pas modifier) les variables globales.\n",
    "* Les instances peuvent utiliser (mais pas modifier) les variables définies au niveau de la classe ainsi que les variables globales.\n",
    "\n",
    "Ce que nous illustrons par l’exemple suivant :"
   ]
  },
  {
   "cell_type": "code",
   "execution_count": 56,
   "metadata": {},
   "outputs": [],
   "source": [
    "temp_hier=Meteo()"
   ]
  },
  {
   "cell_type": "code",
   "execution_count": 57,
   "metadata": {},
   "outputs": [],
   "source": [
    "temp_demain=Meteo()"
   ]
  },
  {
   "cell_type": "code",
   "execution_count": 58,
   "metadata": {},
   "outputs": [],
   "source": [
    "temp_hier.temperature = 15"
   ]
  },
  {
   "cell_type": "code",
   "execution_count": 59,
   "metadata": {},
   "outputs": [
    {
     "name": "stdout",
     "output_type": "stream",
     "text": [
      "-La température est de 10°C \n",
      "-La pression barométrique est de 1020 hPa\n",
      "-La direction du vent est Nord\n",
      "-La vitesse du vent est de5 km /heure.\n",
      "\n"
     ]
    }
   ],
   "source": [
    "temp_demain.afficher_Meteo()"
   ]
  },
  {
   "cell_type": "code",
   "execution_count": 60,
   "metadata": {},
   "outputs": [
    {
     "name": "stdout",
     "output_type": "stream",
     "text": [
      "-La température est de 15°C \n",
      "-La pression barométrique est de 1020 hPa\n",
      "-La direction du vent est Nord\n",
      "-La vitesse du vent est de5 km /heure.\n",
      "\n"
     ]
    }
   ],
   "source": [
    "temp_hier.afficher_Meteo()"
   ]
  },
  {
   "cell_type": "markdown",
   "metadata": {},
   "source": [
    "### Espaces de noms des classes et instances\n",
    "Prenons un exemple où nous allons utiliser le même nom de variable et d'attribut dans plusieurs endroits :\n"
   ]
  },
  {
   "cell_type": "markdown",
   "metadata": {},
   "source": [
    "* class Notation(object):\n",
    "        Déclaration de la classe Notation\n",
    "* note = 10\n",
    "        « note » ici est une variable locale\n",
    "* def affiche(self):\n",
    "        Déclaration de la méthode affiche dans la classe  « Notation »\n",
    "* print(note, Notation.note, self.note)\n",
    "        - Le paramètre « note » caractérise une variable globale.\n",
    "        - Notation.note correspond à la variable « note » locale à la classe « Notation ».\n",
    "        - « Self.note»  caractérise l’appel à l’attribut de l’instance courante, à l’intérieur de la définition de sa classe.\n",
    "* note = 15\n",
    "        Variable globale n'a rien à voir avec la variable locale du même nom\n",
    "* examen = Notation()\n",
    "        instance de la classe Notation\n",
    "* examen.note = 14.75\n",
    "        Attribution d'une valeur à l'attribut note de l'instance.  Celle-ci n'a rien avoir ni avec la variable locale, ni avec la variable globale \n",
    "* examen.affiche()<br> \n",
    "  15  10 14.75\n",
    "        On fait appel à la méthode « affiche » de l’objet « examen » instance de la classe « Notation »\n",
    "* print(note,Notation.note,self.note)<br>\n",
    "15  10  14.75"
   ]
  },
  {
   "attachments": {},
   "cell_type": "markdown",
   "metadata": {},
   "source": [
    "**Désactivant l’affectation de la variable globale « note »**\n",
    "\n",
    "* class Notation(object):\n",
    "        Déclaration de la classe Notation\n",
    "* note = 10\n",
    "        « note » ici est une variable locale\n",
    "* def affiche(self):\n",
    "        Déclaration de la méthode affiche dans la classe  « Notation »\n",
    "* print(note,Notation.note, self.note)\n",
    "        - Le paramètre « note » caractérise une variable globale.\n",
    "        - Notation.note correspond à la variable « note » locale à la classe « Notation ».\n",
    "        - « Self.note»  caractérise l’appel à l’attribut de l’instance courante, à l’intérieur de la définition de sa classe.\n",
    "* #note = 15\n",
    "        On désactive la Variable globale \n",
    "* examen = Notation()\n",
    "        instance de la classe Notation\n",
    "* examen.note = 14.75\n",
    "        Attribution d'une valeur à l'attribut note de l'instance.  Celle-ci n'a rien avoir ni avec la variable locale, ni avec la variable globale \n",
    "* examen.affiche()<br> 15  10 14.75\n",
    "        Provoque une erreur dans la ligne 4\n",
    "        NameError: name 'note' is not defined\n",
    "* print(note,Notation.note, examen.note)<br> 15  10  14.75\n",
    "        Provoque une erreur dans la ligne 9\n",
    "        NameError: name 'note' is not defined\n",
    "\n",
    "\n",
    "**Désactivant la valeur « note » affecter à l’instance examen.**\n",
    "\n",
    "* class Notation(object):\n",
    "        Déclaration de la classe Notation\n",
    "* note = 10\n",
    "        « note » ici est une variable locale\n",
    "* def affiche(self):\n",
    "        Déclaration de la méthode affiche dans la classe  « Notation »\n",
    "* print(note,Notation.note,self.note)\n",
    "        - Le paramètre « note » caractérise une variable globale.\n",
    "        - Notation.note correspond à la variable « note » locale à la classe « Notation ».\n",
    "        - « Self.note»  caractérise l’appel à l’attribut de l’instance courante, à l’intérieur de la définition de sa classe.\n",
    "* note = 15\n",
    "        Variable globale n'a rien à voir avec la variable locale du même nom\n",
    "* examen = Notation()\n",
    "        instance de la classe Notation\n",
    "* #examen.note = 14.75\n",
    "        On désactive cette affectation \n",
    "* examen.affiche()<br> 15 10 10\n",
    "        On fait appel à la méthode « affiche » de l’objet « examen » instance de la classe « Notation »\n",
    "        L’instance courant prend pour son attribut « self.note » la valeur par défaut de sa classe.\n",
    "* print(note,Notation.note, examen.note)<br> 15 10 10\n",
    "        Cet appel aux mêmes paramètres produit le même résultat.\n",
    "        Même principe"
   ]
  },
  {
   "cell_type": "code",
   "execution_count": null,
   "metadata": {},
   "outputs": [],
   "source": []
  }
 ],
 "metadata": {
  "kernelspec": {
   "display_name": "Python 3",
   "language": "python",
   "name": "python3"
  },
  "language_info": {
   "codemirror_mode": {
    "name": "ipython",
    "version": 3
   },
   "file_extension": ".py",
   "mimetype": "text/x-python",
   "name": "python",
   "nbconvert_exporter": "python",
   "pygments_lexer": "ipython3",
   "version": "3.6.5"
  }
 },
 "nbformat": 4,
 "nbformat_minor": 2
}
