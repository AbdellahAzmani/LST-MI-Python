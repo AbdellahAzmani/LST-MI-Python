{
 "cells": [
  {
   "cell_type": "markdown",
   "metadata": {},
   "source": [
    "<center style=\"font-size:35px;color:red;font-weight:bold\"> Initiation à Python</center><br>\n",
    "<center style=\"color:black;font-size:20px\"> Programmation Scientifique  </center>\n",
    "<center style=\"color:black;font-size:14px\"> NumPy </center>\n",
    "<br>\n",
    "<center style=\"color:black\">**Cours du Pr. Abdellah AZMANI**</center>\n",
    "<center style=\"color:black\">**Département Génie Informatique**</center>\n",
    "<br>\n",
    "<center style=\"color:black\">Université Abdelmalek Essaadi</center>\n",
    "<center style=\"color:black\">Faculté des Sciences et Techniques</center>\n",
    "<center style=\"color:black\">Tanger</center>"
   ]
  },
  {
   "cell_type": "markdown",
   "metadata": {},
   "source": [
    "## NumPy\n",
    "### Qu'est-ce que NumPy?\n",
    "   * NumPy est une bibliothèque Python utilisée pour travailler avec des tableaux.\n",
    "   * Il a également des fonctions pour travailler dans le domaine de l'algèbre linéaire, de la transformée de Fourier et des matrices.\n",
    "   * NumPy a été créé en 2005 par Travis Oliphant. C'est un projet open source et vous pouvez l'utiliser librement.\n",
    "\n",
    "**NumPy signifie Numerical Python.**\n",
    "\n",
    "### Pourquoi utiliser NumPy?\n",
    "En Python, nous avons des listes qui servent à des tableaux, mais elles sont lentes à traiter.<br>\n",
    "NumPy vise à fournir un objet de tableau jusqu'à 50 fois plus rapide que les listes Python traditionnelles.<br>\n",
    "L'objet tableau dans NumPy s'appelle ndarray, il fournit de nombreuses fonctions de support qui facilitent le travail avec ndarray.<br>\n",
    "Les tableaux sont très fréquemment utilisés dans la science des données, où la vitesse et les ressources sont très importantes.<br>\n",
    "\n",
    "### Pourquoi NumPy est-il plus rapide que les listes?\n",
    "Les tableaux NumPy sont stockés à un endroit continu de la mémoire contrairement aux listes, de sorte que les processus peuvent y accéder et les manipuler très efficacement.<br>\n",
    "Ce comportement est appelé localité de référence en informatique.<br>\n",
    "C'est la raison principale pour laquelle NumPy est plus rapide que les listes. Il est également optimisé pour fonctionner avec les dernières architectures CPU.\n",
    "\n",
    "### Dans quelle langue NumPy est-il écrit?\n",
    "NumPy est une bibliothèque Python et est écrite partiellement en Python, mais la plupart des parties qui nécessitent un calcul rapide sont écrites en C ou C ++.\n",
    "\n",
    "### Où se trouve la base de code NumPy?\n",
    "Le code source de NumPy se trouve dans ce référentiel github https://github.com/numpy/numpy"
   ]
  },
  {
   "cell_type": "markdown",
   "metadata": {},
   "source": [
    "### Importation NumPy\n",
    "Pour utiliser la bibliothèque Numpy, il faut utiliser le mots clé import à l’entête de notre programme suivie de nom de la bibliothèque qu’est dans notre cas « Numpy ».<br>\n",
    "Exemple : "
   ]
  },
  {
   "cell_type": "code",
   "execution_count": 2,
   "metadata": {},
   "outputs": [],
   "source": [
    "import numpy"
   ]
  },
  {
   "cell_type": "code",
   "execution_count": 4,
   "metadata": {},
   "outputs": [
    {
     "name": "stdout",
     "output_type": "stream",
     "text": [
      "[1 2 3 4 5]\n"
     ]
    }
   ],
   "source": [
    "import numpy \n",
    "arr = numpy.array([1, 2, 3, 4, 5]) \n",
    "print(arr)"
   ]
  },
  {
   "cell_type": "markdown",
   "metadata": {},
   "source": [
    "### Alias\n",
    "Pour augmenter la productivité des programmeurs en python, on utilise souvent le mots clé « as » après l’importation de la bibliothèque pour renommer la bibliothèque par un nom moins difficile à apprendre et facile à écrire."
   ]
  },
  {
   "cell_type": "code",
   "execution_count": 5,
   "metadata": {},
   "outputs": [],
   "source": [
    "import numpy as np"
   ]
  },
  {
   "cell_type": "code",
   "execution_count": 6,
   "metadata": {},
   "outputs": [
    {
     "name": "stdout",
     "output_type": "stream",
     "text": [
      "[1 2 3 4 5]\n"
     ]
    }
   ],
   "source": [
    "import numpy as np \n",
    "arr = np.array([1, 2, 3, 4, 5]) \n",
    "print(arr)"
   ]
  },
  {
   "cell_type": "markdown",
   "metadata": {},
   "source": [
    "### Création d’un tableau \n",
    "Pour créer un tableau, on utilise la fonction numpy.array(). On utilise des crochets pour délimiter les listes d’éléments dans les tableaux.<br>\n",
    "Exemple :"
   ]
  },
  {
   "cell_type": "code",
   "execution_count": 2,
   "metadata": {},
   "outputs": [
    {
     "name": "stdout",
     "output_type": "stream",
     "text": [
      "[1 2 3 4 5]\n"
     ]
    }
   ],
   "source": [
    "import numpy as np \n",
    "arr = np.array([1, 2, 3, 4, 5])\n",
    "print(arr)"
   ]
  },
  {
   "cell_type": "code",
   "execution_count": 3,
   "metadata": {},
   "outputs": [
    {
     "name": "stdout",
     "output_type": "stream",
     "text": [
      "<class 'numpy.ndarray'>\n"
     ]
    }
   ],
   "source": [
    "print(type(arr))"
   ]
  },
  {
   "cell_type": "markdown",
   "metadata": {},
   "source": [
    "## Dimensions dans les tableaux\n",
    "la dimension dans les tableaux est le niveau de profondeur de tableau (tableaux imbriqués).\n",
    "#### Tableaux 0D\n",
    "Les tableaux 0D, ou scalaires, sont les éléments d'un tableau. Chaque valeur d'un tableau est un tableau 0D."
   ]
  },
  {
   "cell_type": "code",
   "execution_count": 11,
   "metadata": {},
   "outputs": [
    {
     "name": "stdout",
     "output_type": "stream",
     "text": [
      "42\n"
     ]
    }
   ],
   "source": [
    "import numpy as np\n",
    "arr = np.array(42)\n",
    "print(arr)"
   ]
  },
  {
   "cell_type": "markdown",
   "metadata": {},
   "source": [
    "#### Tableaux 1D\n",
    "Un tableau qui a des tableaux 0D comme éléments est appelé tableau unidimensionnel ou 1D.<br>\n",
    "Ce sont les tableaux les plus courants et les plus basiques."
   ]
  },
  {
   "cell_type": "code",
   "execution_count": 13,
   "metadata": {},
   "outputs": [
    {
     "name": "stdout",
     "output_type": "stream",
     "text": [
      "[1 2 3 4 5]\n"
     ]
    }
   ],
   "source": [
    "import numpy as np\n",
    "arr = np.array([1, 2, 3, 4, 5])\n",
    "print(arr)"
   ]
  },
  {
   "cell_type": "markdown",
   "metadata": {},
   "source": [
    "#### Matrices 2D\n",
    "Un tableau qui a des tableaux 1D comme éléments est appelé un tableau 2D.<br>\n",
    "Ceux-ci sont souvent utilisés pour représenter des matrices ou des tenseurs de second ordre."
   ]
  },
  {
   "cell_type": "code",
   "execution_count": 14,
   "metadata": {},
   "outputs": [
    {
     "name": "stdout",
     "output_type": "stream",
     "text": [
      "[[1 2 3]\n",
      " [4 5 6]]\n"
     ]
    }
   ],
   "source": [
    "import numpy as np\n",
    "arr = np.array([[1, 2, 3], [4, 5, 6]])\n",
    "print(arr)"
   ]
  },
  {
   "cell_type": "markdown",
   "metadata": {},
   "source": [
    "#### Matrices 3D\n",
    "Un tableau qui a des tableaux 2D (matrices) comme éléments est appelé tableau 3D.<br>\n",
    "Ceux-ci sont souvent utilisés pour représenter un tenseur du 3ème ordre."
   ]
  },
  {
   "cell_type": "code",
   "execution_count": 15,
   "metadata": {},
   "outputs": [
    {
     "name": "stdout",
     "output_type": "stream",
     "text": [
      "[[[1 2 3]\n",
      "  [4 5 6]]\n",
      "\n",
      " [[1 2 3]\n",
      "  [4 5 6]]]\n"
     ]
    }
   ],
   "source": [
    "import numpy as np\n",
    "arr = np.array([[[1, 2, 3], [4, 5, 6]], [[1, 2, 3], [4, 5, 6]]])\n",
    "print(arr)"
   ]
  },
  {
   "cell_type": "markdown",
   "metadata": {},
   "source": [
    "**Pour vérifier la dimensions, NumPy Arrays fournit l'attribut ndim qui renvoie un entier qui nous indique le nombre de dimensions du tableau.**"
   ]
  },
  {
   "cell_type": "code",
   "execution_count": 16,
   "metadata": {},
   "outputs": [
    {
     "name": "stdout",
     "output_type": "stream",
     "text": [
      "0\n",
      "1\n",
      "2\n",
      "3\n"
     ]
    }
   ],
   "source": [
    "import numpy as np\n",
    "\n",
    "a = np.array(42)\n",
    "b = np.array([1, 2, 3, 4, 5])\n",
    "c = np.array([[1, 2, 3], [4, 5, 6]])\n",
    "d = np.array([[[1, 2, 3], [4, 5, 6]], [[1, 2, 3], [4, 5, 6]]])\n",
    "\n",
    "print(a.ndim) \n",
    "print(b.ndim) \n",
    "print(c.ndim) \n",
    "print(d.ndim)"
   ]
  },
  {
   "cell_type": "markdown",
   "metadata": {},
   "source": [
    "## Accéder aux éléments d'un tableau\n",
    "L'indexation de tableau équivaut à accéder à un élément de tableau.<br>\n",
    "Vous pouvez accéder à un élément de tableau en vous référant à son numéro d'index.<br>\n",
    "Les index des tableaux **NumPy** commencent par 0, ce qui signifie que le premier élément a l'index 0 et le second l'index 1, etc."
   ]
  },
  {
   "cell_type": "code",
   "execution_count": 17,
   "metadata": {},
   "outputs": [
    {
     "name": "stdout",
     "output_type": "stream",
     "text": [
      "1\n"
     ]
    }
   ],
   "source": [
    "import numpy as np\n",
    "arr = np.array([1, 2, 3, 4])\n",
    "print(arr[0])"
   ]
  },
  {
   "cell_type": "code",
   "execution_count": 19,
   "metadata": {},
   "outputs": [
    {
     "name": "stdout",
     "output_type": "stream",
     "text": [
      "7\n"
     ]
    }
   ],
   "source": [
    "import numpy as np\n",
    "arr = np.array([1, 2, 3, 4])\n",
    "print(arr[2] + arr[3]) # Récupérez les troisième et quatrième éléments du tableau et afficher leur somme."
   ]
  },
  {
   "cell_type": "markdown",
   "metadata": {},
   "source": [
    "### Accès aux éléments d'un tableau 2D\n",
    "Pour accéder aux éléments des tableaux 2D, nous pouvons utiliser des entiers séparés par des virgules représentant la dimension et l'index de l'élément."
   ]
  },
  {
   "cell_type": "code",
   "execution_count": 20,
   "metadata": {},
   "outputs": [
    {
     "name": "stdout",
     "output_type": "stream",
     "text": [
      "2ème élément du premier tableau:  2\n"
     ]
    }
   ],
   "source": [
    "# Accédez au 2ème élément du premier tableau :\n",
    "import numpy as np\n",
    "arr = np.array([[1,2,3,4,5], [6,7,8,9,10]])\n",
    "print('2ème élément du premier tableau: ', arr[0, 1])"
   ]
  },
  {
   "cell_type": "code",
   "execution_count": 21,
   "metadata": {},
   "outputs": [
    {
     "name": "stdout",
     "output_type": "stream",
     "text": [
      "5ème élément du deuxième tableau:  10\n"
     ]
    }
   ],
   "source": [
    "# Accédez au 5ème élément du deuxième tableau\n",
    "import numpy as np\n",
    "arr = np.array([[1,2,3,4,5], [6,7,8,9,10]])\n",
    "print('5ème élément du deuxième tableau: ', arr[1, 4])"
   ]
  },
  {
   "cell_type": "markdown",
   "metadata": {},
   "source": [
    "### Accés aux éléments d'un tableau 3D\n",
    "Pour accéder aux éléments des tableaux 3D, nous pouvons utiliser des entiers séparés par des virgules représentant les dimensions et l'index de l'élément."
   ]
  },
  {
   "cell_type": "code",
   "execution_count": 22,
   "metadata": {},
   "outputs": [
    {
     "name": "stdout",
     "output_type": "stream",
     "text": [
      "6\n"
     ]
    }
   ],
   "source": [
    "# Accédez au troisième élément du deuxième tableau du premier tableau:\n",
    "import numpy as np\n",
    "arr = np.array([[[1, 2, 3], [4, 5, 6]], [[7, 8, 9], [10, 11, 12]]])\n",
    "print(arr[0, 1, 2])"
   ]
  },
  {
   "cell_type": "markdown",
   "metadata": {},
   "source": [
    "#### Explication :\n",
    "arr [0, 1, 2] imprime la valeur 6.\n",
    "\n",
    "Le premier nombre représente la première dimension, qui contient deux tableaux:\n",
    "**[[1, 2, 3], [4, 5, 6]]**\n",
    "et:\n",
    "**[[7, 8, 9], [10, 11, 12]]**\n",
    "Puisque nous avons sélectionné 0, nous nous retrouvons avec le premier tableau:\n",
    "[[1, 2, 3], [4, 5, 6]]\n",
    "\n",
    "Le deuxième nombre représente la deuxième dimension, qui contient également deux tableaux:\n",
    "**[1, 2, 3]**\n",
    "et:\n",
    "**[4, 5, 6]**\n",
    "Puisque nous avons sélectionné 1, nous nous retrouvons avec le deuxième tableau:\n",
    "**[4, 5, 6]**\n",
    "\n",
    "Le troisième nombre représente la troisième dimension, qui contient trois valeurs:\n",
    "**4\n",
    "5\n",
    "6**\n",
    "Puisque nous avons sélectionné 2, nous nous retrouvons avec la troisième valeur:\n",
    "6\n",
    "\n",
    "## Indexation négative\n",
    "Utilisez l'indexation négative pour accéder à un tableau depuis la fin."
   ]
  },
  {
   "cell_type": "code",
   "execution_count": 24,
   "metadata": {},
   "outputs": [
    {
     "name": "stdout",
     "output_type": "stream",
     "text": [
      "dernier élément du 2ème tableau:  10\n"
     ]
    }
   ],
   "source": [
    "# Imprimez le dernier élément du 2ème tableau:\n",
    "import numpy as np\n",
    "arr = np.array([[1,2,3,4,5], [6,7,8,9,10]])\n",
    "print('dernier élément du 2ème tableau: ', arr[1, -1])"
   ]
  },
  {
   "cell_type": "markdown",
   "metadata": {},
   "source": [
    "## Découpage de tableau\n",
    "* Le découpage en python signifie prendre des éléments d'un index donné à un autre index donné.\n",
    "* Nous passons slice au lieu d'index comme ceci: [start: end].\n",
    "* Nous pouvons également définir l'étape, comme ceci: [start: end: step].\n",
    "\n",
    "#### Exemple\n",
    "Découpez les éléments de l'index 1 à l'index 5 dans le tableau suivant"
   ]
  },
  {
   "cell_type": "code",
   "execution_count": 8,
   "metadata": {},
   "outputs": [
    {
     "name": "stdout",
     "output_type": "stream",
     "text": [
      "[2 3 4 5]\n"
     ]
    }
   ],
   "source": [
    "import numpy as np\n",
    "arr = np.array([1, 2, 3, 4, 5, 6, 7])\n",
    "print(arr[1:5])"
   ]
  },
  {
   "cell_type": "markdown",
   "metadata": {},
   "source": [
    "#### Exemple\n",
    "Découpez les éléments de l'index 4 à la fin du tableau:"
   ]
  },
  {
   "cell_type": "code",
   "execution_count": 7,
   "metadata": {},
   "outputs": [
    {
     "name": "stdout",
     "output_type": "stream",
     "text": [
      "[5 6 7]\n"
     ]
    }
   ],
   "source": [
    "import numpy as np\n",
    "arr = np.array([1, 2, 3, 4, 5, 6, 7])\n",
    "print(arr[4:])"
   ]
  },
  {
   "cell_type": "markdown",
   "metadata": {},
   "source": [
    "#### Exemple\n",
    "Découpez les éléments du début à l'index 4 (non inclus):"
   ]
  },
  {
   "cell_type": "code",
   "execution_count": 6,
   "metadata": {},
   "outputs": [
    {
     "name": "stdout",
     "output_type": "stream",
     "text": [
      "[1 2 3 4]\n"
     ]
    }
   ],
   "source": [
    "import numpy as np\n",
    "arr = np.array([1, 2, 3, 4, 5, 6, 7])\n",
    "print(arr[:4])"
   ]
  },
  {
   "cell_type": "markdown",
   "metadata": {},
   "source": [
    "## Tranchage négatif\n",
    "Utilisez l'opérateur moins pour faire référence à un index à partir de la fin:\n",
    "#### Exemple\n",
    "Tranche de l'index 3 de la fin à l'index 1 de la fin:"
   ]
  },
  {
   "cell_type": "code",
   "execution_count": 9,
   "metadata": {},
   "outputs": [
    {
     "name": "stdout",
     "output_type": "stream",
     "text": [
      "[5 6]\n"
     ]
    }
   ],
   "source": [
    "import numpy as np\n",
    "arr = np.array([1, 2, 3, 4, 5, 6, 7])\n",
    "print(arr[-3:-1])"
   ]
  },
  {
   "cell_type": "markdown",
   "metadata": {},
   "source": [
    "## STEP\n",
    "Utilisez la valeur de l'étape pour déterminer l'étape du tranchage:\n",
    "\n",
    "#### Exemple\n",
    "Renvoie tous les autres éléments de l'index 1 à l'index 5:"
   ]
  },
  {
   "cell_type": "code",
   "execution_count": 10,
   "metadata": {},
   "outputs": [
    {
     "name": "stdout",
     "output_type": "stream",
     "text": [
      "[2 4]\n"
     ]
    }
   ],
   "source": [
    "import numpy as np\n",
    "arr = np.array([1, 2, 3, 4, 5, 6, 7])\n",
    "print(arr[1:5:2])"
   ]
  },
  {
   "cell_type": "markdown",
   "metadata": {},
   "source": [
    "#### Exemple\n",
    "Renvoie tous les autres éléments du tableau entier:"
   ]
  },
  {
   "cell_type": "code",
   "execution_count": 11,
   "metadata": {},
   "outputs": [
    {
     "name": "stdout",
     "output_type": "stream",
     "text": [
      "[1 3 5 7]\n"
     ]
    }
   ],
   "source": [
    "import numpy as np\n",
    "arr = np.array([1, 2, 3, 4, 5, 6, 7])\n",
    "print(arr[::2])"
   ]
  },
  {
   "cell_type": "markdown",
   "metadata": {},
   "source": [
    "### Tableau 2D\n",
    "#### Exemple 1\n",
    "À partir du deuxième élément, découpez les éléments de l'index 1 à l'index 4 (non inclus):"
   ]
  },
  {
   "cell_type": "code",
   "execution_count": 14,
   "metadata": {},
   "outputs": [
    {
     "name": "stdout",
     "output_type": "stream",
     "text": [
      "[7 8 9]\n"
     ]
    }
   ],
   "source": [
    "import numpy as np\n",
    "arr = np.array([[1, 2, 3, 4, 5], [6, 7, 8, 9, 10]])\n",
    "print(arr[1, 1:4])"
   ]
  },
  {
   "cell_type": "markdown",
   "metadata": {},
   "source": [
    "#### Exemple 2\n",
    "À partir des deux éléments, renvoyez l'index 2:"
   ]
  },
  {
   "cell_type": "code",
   "execution_count": 15,
   "metadata": {},
   "outputs": [
    {
     "name": "stdout",
     "output_type": "stream",
     "text": [
      "[3 8]\n"
     ]
    }
   ],
   "source": [
    "import numpy as np\n",
    "arr = np.array([[1, 2, 3, 4, 5], [6, 7, 8, 9, 10]])\n",
    "print(arr[0:2, 2])"
   ]
  },
  {
   "cell_type": "markdown",
   "metadata": {},
   "source": [
    "#### Exemple 3\n",
    "À partir des deux éléments, de l'index 1 à l'index 4 (non inclus), cela renverra un tableau 2D:"
   ]
  },
  {
   "cell_type": "code",
   "execution_count": 16,
   "metadata": {},
   "outputs": [
    {
     "name": "stdout",
     "output_type": "stream",
     "text": [
      "[[2 3 4]\n",
      " [7 8 9]]\n"
     ]
    }
   ],
   "source": [
    "import numpy as np\n",
    "arr = np.array([[1, 2, 3, 4, 5], [6, 7, 8, 9, 10]])\n",
    "print(arr[0:2, 1:4])"
   ]
  },
  {
   "cell_type": "markdown",
   "metadata": {},
   "source": [
    "## Types de données en Python\n",
    "Par défaut, Python a ces types de données:\n",
    "\n",
    "* strings - utilisées pour représenter des données textuelles, le texte est placé entre guillemets. par exemple. \"A B C D\"\n",
    "* integer - utilisé pour représenter des nombres entiers. par exemple. -1, -2, -3\n",
    "* float - utilisé pour représenter des nombres réels. par exemple. 1,2, 42,42\n",
    "* booléen - utilisé pour représenter True ou False.\n",
    "* complex - utilisé pour représenter un nombre complexe. par exemple. 1,0 + 2,0j, 1,5 + 2,5j\n",
    "\n",
    "## Types de données NumPy\n",
    "NumPy a quelques types de données supplémentaires et fait référence à des types de données avec un caractère, comme i pour les entiers, u pour les entiers non signés, etc.\n",
    "\n",
    "Vous trouverez ci-dessous une liste de tous les types de données dans NumPy et les caractères utilisés pour les représenter.\n",
    "\n",
    "| Caractère | Type de données | Description | Exemple |\n",
    "| :-------- | :--------- | :--------- | :--------- |\n",
    "| i | integer | Entier Signé | 128 |\n",
    "| b | boolean | Booléen | True ou False |\n",
    "| u | unsigned integer | Entier non signé | |\n",
    "| f | float | Nombre à virgule flottante |14.5|\n",
    "| c | complex float | Complexe | 2 + 3j|\n",
    "| M | datetime | Date et heure | 2020-01-01 |\n",
    "| O | object | Objet | Voiture |\n",
    "| S | string | Chaîne de caractères | \"Bonjour\" |\n",
    "| U | unicode string | Chaîne de caractère non signé | 0A |\n",
    "\n",
    "\n",
    "## Vérification du type de données d'un tableau\n",
    "L'objet tableau NumPy a une propriété appelée dtype qui renvoie le type de données du tableau:\n",
    "\n",
    "| Type de données | Description |\n",
    "| :--------- | :----------------------- |\n",
    "| bool | Booléen |\n",
    "| int8 | Entier signé 8 bits |\n",
    "| int16 | Entier signé 16 bits |\n",
    "| int32 | Entier signé 32 bits |\n",
    "| int64 | Entier signé 64 bits |\n",
    "| uint8 | Entier non signé 8 bits |\n",
    "| uint16 | Entier non signé 16 bits |\n",
    "| uint32 | Entier non signé 32 bits |\n",
    "| uint64 | Entier non signé 64 bits |\n",
    "| float16 | Nombre à virgule flottante 16 bitss |\n",
    "| float32 | Nombre à virgule flottante 32 bits |\n",
    "| float64 | Nombre à virgule flottante 64 bits |\n",
    "| complex64 | Nombre complexe 64 bits |\n",
    "| complex128 | Nombre complexe de 128 bits |"
   ]
  },
  {
   "cell_type": "code",
   "execution_count": 17,
   "metadata": {},
   "outputs": [
    {
     "name": "stdout",
     "output_type": "stream",
     "text": [
      "int64\n"
     ]
    }
   ],
   "source": [
    "import numpy as np\n",
    "arr = np.array([1, 2, 3, 4])\n",
    "print(arr.dtype)"
   ]
  },
  {
   "cell_type": "code",
   "execution_count": 18,
   "metadata": {},
   "outputs": [
    {
     "name": "stdout",
     "output_type": "stream",
     "text": [
      "<U6\n"
     ]
    }
   ],
   "source": [
    "import numpy as np\n",
    "arr = np.array(['apple', 'banana', 'cherry'])\n",
    "print(arr.dtype)"
   ]
  },
  {
   "cell_type": "markdown",
   "metadata": {},
   "source": [
    "## Création de tableaux avec un type de données défini\n",
    "Nous utilisons la fonction array() pour créer des tableaux, cette fonction peut prendre un argument optionnel: **dtype** qui nous permet de définir le type de données attendu des éléments du tableau:"
   ]
  },
  {
   "cell_type": "code",
   "execution_count": 20,
   "metadata": {},
   "outputs": [
    {
     "name": "stdout",
     "output_type": "stream",
     "text": [
      "[b'1' b'2' b'3' b'4']\n"
     ]
    }
   ],
   "source": [
    "# Création d'un tableau avec une chaîne de caractère comme type de données:\n",
    "import numpy as np\n",
    "arr = np.array([1, 2, 3, 4], dtype='S')\n",
    "print(arr)"
   ]
  },
  {
   "cell_type": "code",
   "execution_count": 21,
   "metadata": {},
   "outputs": [
    {
     "name": "stdout",
     "output_type": "stream",
     "text": [
      "|S1\n"
     ]
    }
   ],
   "source": [
    "print(arr.dtype)"
   ]
  },
  {
   "cell_type": "markdown",
   "metadata": {},
   "source": [
    "**Pour i, u, f, S et U, nous pouvons également définir la taille.**"
   ]
  },
  {
   "cell_type": "code",
   "execution_count": 22,
   "metadata": {},
   "outputs": [
    {
     "name": "stdout",
     "output_type": "stream",
     "text": [
      "[1 2 3 4]\n",
      "int32\n"
     ]
    }
   ],
   "source": [
    "import numpy as np\n",
    "arr = np.array([1, 2, 3, 4], dtype='i4')\n",
    "print(arr)\n",
    "print(arr.dtype)"
   ]
  },
  {
   "cell_type": "markdown",
   "metadata": {},
   "source": [
    "## Tableau NumPy : Copy vs View\n",
    "\n",
    "La différence entre Copy et View : \n",
    "* La principale différence entre une Copy et View d'un tableau est que la copie est un nouveau tableau et que la vue n'est qu'une vue du tableau d'origine.\n",
    "\n",
    "* La copie possède les données et les modifications apportées à la copie n'affecteront pas la matrice d'origine, et toutes les modifications apportées à la matrice d'origine n'affecteront pas la copie.\n",
    "\n",
    "* La vue ne possède pas les données et toutes les modifications apportées à la vue affecteront le tableau d'origine et toutes les modifications apportées au tableau d'origine affecteront la vue.\n",
    "\n",
    "### COPY"
   ]
  },
  {
   "cell_type": "code",
   "execution_count": 26,
   "metadata": {},
   "outputs": [
    {
     "name": "stdout",
     "output_type": "stream",
     "text": [
      "[42  2  3  4  5]\n"
     ]
    }
   ],
   "source": [
    "# Faites une copie, modifiez le tableau d'origine et affichez les deux tableaux:\n",
    "import numpy as np\n",
    "\n",
    "arr = np.array([1, 2, 3, 4, 5])\n",
    "x = arr.copy()\n",
    "arr[0] = 42\n",
    "\n",
    "print(arr) "
   ]
  },
  {
   "cell_type": "code",
   "execution_count": 27,
   "metadata": {},
   "outputs": [
    {
     "name": "stdout",
     "output_type": "stream",
     "text": [
      "[1 2 3 4 5]\n"
     ]
    }
   ],
   "source": [
    "print(x)"
   ]
  },
  {
   "cell_type": "markdown",
   "metadata": {},
   "source": [
    "### VIEW"
   ]
  },
  {
   "cell_type": "code",
   "execution_count": 28,
   "metadata": {},
   "outputs": [
    {
     "name": "stdout",
     "output_type": "stream",
     "text": [
      "[42  2  3  4  5]\n"
     ]
    }
   ],
   "source": [
    "# Créez une vue, modifiez le tableau d'origine et affichez les deux tableaux:\n",
    "import numpy as np\n",
    "\n",
    "arr = np.array([1, 2, 3, 4, 5])\n",
    "x = arr.view()\n",
    "arr[0] = 42\n",
    "\n",
    "print(arr) "
   ]
  },
  {
   "cell_type": "code",
   "execution_count": 29,
   "metadata": {},
   "outputs": [
    {
     "name": "stdout",
     "output_type": "stream",
     "text": [
      "[42  2  3  4  5]\n"
     ]
    }
   ],
   "source": [
    "print(x)"
   ]
  },
  {
   "cell_type": "markdown",
   "metadata": {},
   "source": [
    "## Itération des Tableaux\n",
    "Itérer signifie parcourir les éléments un par un.\n",
    "\n",
    "Comme nous traitons des tableaux multidimensionnels dans numpy, nous pouvons le faire en utilisant la boucle for basique de python.\n",
    "\n",
    "Si nous itérons sur un tableau 1D, il passera par chaque élément un par un."
   ]
  },
  {
   "cell_type": "code",
   "execution_count": 30,
   "metadata": {},
   "outputs": [
    {
     "name": "stdout",
     "output_type": "stream",
     "text": [
      "1\n",
      "2\n",
      "3\n"
     ]
    }
   ],
   "source": [
    "import numpy as np\n",
    "\n",
    "arr = np.array([1, 2, 3])\n",
    "\n",
    "for x in arr:\n",
    "  print(x)"
   ]
  },
  {
   "cell_type": "markdown",
   "metadata": {},
   "source": [
    "### Tableau 2D\n",
    "Dans un tableau 2D, il parcourra toutes les lignes."
   ]
  },
  {
   "cell_type": "code",
   "execution_count": 31,
   "metadata": {},
   "outputs": [
    {
     "name": "stdout",
     "output_type": "stream",
     "text": [
      "[1 2 3]\n",
      "[4 5 6]\n"
     ]
    }
   ],
   "source": [
    "import numpy as np\n",
    "\n",
    "arr = np.array([[1, 2, 3], [4, 5, 6]])\n",
    "\n",
    "for x in arr:\n",
    "  print(x)"
   ]
  },
  {
   "cell_type": "code",
   "execution_count": 32,
   "metadata": {},
   "outputs": [
    {
     "name": "stdout",
     "output_type": "stream",
     "text": [
      "1\n",
      "2\n",
      "3\n",
      "4\n",
      "5\n",
      "6\n"
     ]
    }
   ],
   "source": [
    "import numpy as np\n",
    "\n",
    "arr = np.array([[1, 2, 3], [4, 5, 6]])\n",
    "\n",
    "for x in arr:\n",
    "  for y in x:\n",
    "    print(y)"
   ]
  },
  {
   "cell_type": "markdown",
   "metadata": {},
   "source": [
    "### Tableau 3D\n",
    "Dans un tableau 3D, il passera par tous les tableaux 2D."
   ]
  },
  {
   "cell_type": "code",
   "execution_count": 33,
   "metadata": {},
   "outputs": [
    {
     "name": "stdout",
     "output_type": "stream",
     "text": [
      "[[1 2 3]\n",
      " [4 5 6]]\n",
      "[[ 7  8  9]\n",
      " [10 11 12]]\n"
     ]
    }
   ],
   "source": [
    "import numpy as np\n",
    "\n",
    "arr = np.array([[[1, 2, 3], [4, 5, 6]], [[7, 8, 9], [10, 11, 12]]])\n",
    "\n",
    "for x in arr:\n",
    "  print(x)"
   ]
  },
  {
   "cell_type": "code",
   "execution_count": 34,
   "metadata": {},
   "outputs": [
    {
     "name": "stdout",
     "output_type": "stream",
     "text": [
      "1\n",
      "2\n",
      "3\n",
      "4\n",
      "5\n",
      "6\n",
      "7\n",
      "8\n",
      "9\n",
      "10\n",
      "11\n",
      "12\n"
     ]
    }
   ],
   "source": [
    "import numpy as np\n",
    "\n",
    "arr = np.array([[[1, 2, 3], [4, 5, 6]], [[7, 8, 9], [10, 11, 12]]])\n",
    "\n",
    "for x in arr:\n",
    "  for y in x:\n",
    "    for z in y:\n",
    "      print(z)"
   ]
  },
  {
   "cell_type": "markdown",
   "metadata": {},
   "source": [
    "### Itérer des tableaux avec nditer ()\n",
    "La fonction **nditer()** est une fonction d'aide qui peut être utilisée à partir d'itérations très basiques à très avancées. Elle résout certains problèmes de base auxquels nous sommes confrontés dans l'itération.\n",
    "\n",
    "#### Itération sur chaque élément scalaire\n",
    "Dans les boucles **for** basiques, en parcourant chaque scalaire d'un tableau, nous devons utiliser **n** boucles **for**, ce qui peut être difficile à écrire pour les tableaux avec une dimensionnalité très élevée."
   ]
  },
  {
   "cell_type": "code",
   "execution_count": 35,
   "metadata": {},
   "outputs": [
    {
     "name": "stdout",
     "output_type": "stream",
     "text": [
      "1\n",
      "2\n",
      "3\n",
      "4\n",
      "5\n",
      "6\n",
      "7\n",
      "8\n"
     ]
    }
   ],
   "source": [
    "import numpy as np\n",
    "\n",
    "arr = np.array([[[1, 2], [3, 4]], [[5, 6], [7, 8]]])\n",
    "\n",
    "for x in np.nditer(arr):\n",
    "  print(x)"
   ]
  },
  {
   "cell_type": "markdown",
   "metadata": {},
   "source": [
    "#### Itération avec une taille de pas différente\n",
    "Nous pouvons utiliser le filtrage et suivi d'une itération."
   ]
  },
  {
   "cell_type": "code",
   "execution_count": 37,
   "metadata": {},
   "outputs": [
    {
     "name": "stdout",
     "output_type": "stream",
     "text": [
      "1\n",
      "3\n",
      "5\n",
      "7\n"
     ]
    }
   ],
   "source": [
    "import numpy as np\n",
    "\n",
    "arr = np.array([[1, 2, 3, 4], [5, 6, 7, 8]])\n",
    "\n",
    "for x in np.nditer(arr[:, ::2]):\n",
    "  print(x)"
   ]
  },
  {
   "cell_type": "markdown",
   "metadata": {},
   "source": [
    "## Joindre les tableaux NumPy\n",
    "Joindre signifie placer le contenu de deux tableaux ou plus dans un seul tableau.\n",
    "\n",
    "Nous passons une séquence de tableaux que nous voulons joindre à la fonction **concatenate()**, avec l'axe. Si l'axe n'est pas explicitement passé, il est considéré comme 0."
   ]
  },
  {
   "cell_type": "code",
   "execution_count": 39,
   "metadata": {},
   "outputs": [
    {
     "name": "stdout",
     "output_type": "stream",
     "text": [
      "[1 2 3 4 5 6]\n"
     ]
    }
   ],
   "source": [
    "import numpy as np\n",
    "\n",
    "arr1 = np.array([1, 2, 3])\n",
    "\n",
    "arr2 = np.array([4, 5, 6])\n",
    "\n",
    "arr = np.concatenate((arr1, arr2))\n",
    "\n",
    "print(arr)"
   ]
  },
  {
   "cell_type": "code",
   "execution_count": 40,
   "metadata": {},
   "outputs": [
    {
     "name": "stdout",
     "output_type": "stream",
     "text": [
      "[[1 2 5 6]\n",
      " [3 4 7 8]]\n"
     ]
    }
   ],
   "source": [
    "import numpy as np\n",
    "\n",
    "arr1 = np.array([[1, 2], [3, 4]])\n",
    "\n",
    "arr2 = np.array([[5, 6], [7, 8]])\n",
    "\n",
    "arr = np.concatenate((arr1, arr2), axis=1)\n",
    "\n",
    "print(arr)"
   ]
  },
  {
   "cell_type": "markdown",
   "metadata": {},
   "source": [
    "### Joindre des tableaux à l'aide de la fonction Stack\n",
    "L'empilement est identique à la concaténation, la seule différence est que l'empilement est effectué le long d'un nouvel axe.\n",
    "\n",
    "On peut concaténer deux tableaux 1D le long du deuxième axe ce qui aboutirait à les placer l'un sur l'autre, c'est-à-dire empilement.\n",
    "\n",
    "Nous passons une séquence de tableaux que nous voulons joindre à la méthode **stack()** avec l'axe. Si l'axe n'est pas explicitement passé, il est considéré comme 0."
   ]
  },
  {
   "cell_type": "code",
   "execution_count": 41,
   "metadata": {},
   "outputs": [
    {
     "name": "stdout",
     "output_type": "stream",
     "text": [
      "[[1 4]\n",
      " [2 5]\n",
      " [3 6]]\n"
     ]
    }
   ],
   "source": [
    "import numpy as np\n",
    "\n",
    "arr1 = np.array([1, 2, 3])\n",
    "\n",
    "arr2 = np.array([4, 5, 6])\n",
    "\n",
    "arr = np.stack((arr1, arr2), axis=1)\n",
    "\n",
    "print(arr)"
   ]
  },
  {
   "cell_type": "markdown",
   "metadata": {},
   "source": [
    "#### Empilement le long des lignes\n",
    "NumPy fournit une fonction d'assistance: **hstack()** pour empiler le long des lignes."
   ]
  },
  {
   "cell_type": "code",
   "execution_count": 43,
   "metadata": {},
   "outputs": [
    {
     "name": "stdout",
     "output_type": "stream",
     "text": [
      "[1 2 3 4 5 6]\n"
     ]
    }
   ],
   "source": [
    "import numpy as np\n",
    "\n",
    "arr1 = np.array([1, 2, 3])\n",
    "\n",
    "arr2 = np.array([4, 5, 6])\n",
    "\n",
    "arr = np.hstack((arr1, arr2))\n",
    "\n",
    "print(arr)"
   ]
  },
  {
   "cell_type": "markdown",
   "metadata": {},
   "source": [
    "#### Empilement le long des colonnes\n",
    "NumPy fournit une fonction d'assistance: **vstack()** pour empiler le long des colonnes."
   ]
  },
  {
   "cell_type": "code",
   "execution_count": 44,
   "metadata": {},
   "outputs": [
    {
     "name": "stdout",
     "output_type": "stream",
     "text": [
      "[[1 2 3]\n",
      " [4 5 6]]\n"
     ]
    }
   ],
   "source": [
    "import numpy as np\n",
    "\n",
    "arr1 = np.array([1, 2, 3])\n",
    "\n",
    "arr2 = np.array([4, 5, 6])\n",
    "\n",
    "arr = np.vstack((arr1, arr2))\n",
    "\n",
    "print(arr)"
   ]
  },
  {
   "cell_type": "markdown",
   "metadata": {},
   "source": [
    "## Division des tableaux NumPy\n",
    "Le fractionnement est une opération inverse de la jonction.\n",
    "\n",
    "La jonction fusionne plusieurs tableaux en un seul et le fractionnement divise un tableau en plusieurs.\n",
    "\n",
    "Nous utilisons **array_split()** pour diviser les tableaux, nous lui passons le tableau que nous voulons diviser et le nombre de divisions."
   ]
  },
  {
   "cell_type": "code",
   "execution_count": 45,
   "metadata": {},
   "outputs": [
    {
     "name": "stdout",
     "output_type": "stream",
     "text": [
      "[array([1, 2]), array([3, 4]), array([5, 6])]\n"
     ]
    }
   ],
   "source": [
    "#Diviser le tableau en 3 parts : \n",
    "\n",
    "import numpy as np\n",
    "\n",
    "arr = np.array([1, 2, 3, 4, 5, 6])\n",
    "\n",
    "newarr = np.array_split(arr, 3)\n",
    "\n",
    "print(newarr)"
   ]
  },
  {
   "cell_type": "code",
   "execution_count": 46,
   "metadata": {},
   "outputs": [
    {
     "name": "stdout",
     "output_type": "stream",
     "text": [
      "[array([1, 2]), array([3, 4]), array([5]), array([6])]\n"
     ]
    }
   ],
   "source": [
    "#Diviser le tableau en 4 parts : \n",
    "import numpy as np\n",
    "\n",
    "arr = np.array([1, 2, 3, 4, 5, 6])\n",
    "\n",
    "newarr = np.array_split(arr, 4)\n",
    "\n",
    "print(newarr)"
   ]
  },
  {
   "cell_type": "markdown",
   "metadata": {},
   "source": [
    "### Diviser en tableaux\n",
    "La valeur de retour de la méthode **array_split()** est un tableau contenant chacun des fragments sous forme de tableau.\n",
    "\n",
    "Si vous divisez un tableau en 3 tableaux, vous pouvez y accéder à partir du résultat comme n'importe quel élément du tableau:"
   ]
  },
  {
   "cell_type": "code",
   "execution_count": 48,
   "metadata": {},
   "outputs": [
    {
     "name": "stdout",
     "output_type": "stream",
     "text": [
      "[1 2]\n",
      "[3 4]\n",
      "[5 6]\n"
     ]
    }
   ],
   "source": [
    "import numpy as np\n",
    "\n",
    "arr = np.array([1, 2, 3, 4, 5, 6])\n",
    "\n",
    "newarr = np.array_split(arr, 3)\n",
    "\n",
    "print(newarr[0])\n",
    "print(newarr[1])\n",
    "print(newarr[2])"
   ]
  },
  {
   "cell_type": "code",
   "execution_count": 49,
   "metadata": {},
   "outputs": [
    {
     "name": "stdout",
     "output_type": "stream",
     "text": [
      "[array([[1, 2],\n",
      "       [3, 4]]), array([[5, 6],\n",
      "       [7, 8]]), array([[ 9, 10],\n",
      "       [11, 12]])]\n"
     ]
    }
   ],
   "source": [
    "import numpy as np\n",
    "\n",
    "arr = np.array([[1, 2], [3, 4], [5, 6], [7, 8], [9, 10], [11, 12]])\n",
    "\n",
    "newarr = np.array_split(arr, 3)\n",
    "\n",
    "print(newarr)"
   ]
  },
  {
   "cell_type": "code",
   "execution_count": 50,
   "metadata": {},
   "outputs": [
    {
     "name": "stdout",
     "output_type": "stream",
     "text": [
      "[array([[1, 2, 3],\n",
      "       [4, 5, 6]]), array([[ 7,  8,  9],\n",
      "       [10, 11, 12]]), array([[13, 14, 15],\n",
      "       [16, 17, 18]])]\n"
     ]
    }
   ],
   "source": [
    "import numpy as np\n",
    "\n",
    "arr = np.array([[1, 2, 3], [4, 5, 6], [7, 8, 9], [10, 11, 12], [13, 14, 15], [16, 17, 18]])\n",
    "\n",
    "newarr = np.array_split(arr, 3)\n",
    "\n",
    "print(newarr)"
   ]
  },
  {
   "cell_type": "markdown",
   "metadata": {},
   "source": [
    "## Recherche de tableaux\n",
    "Vous pouvez rechercher dans un tableau une certaine valeur et renvoyer les index qui obtiennent une correspondance.\n",
    "\n",
    "Pour rechercher un tableau, utilisez la méthode **where()**."
   ]
  },
  {
   "cell_type": "code",
   "execution_count": 69,
   "metadata": {},
   "outputs": [
    {
     "name": "stdout",
     "output_type": "stream",
     "text": [
      "(array([3, 5, 6]),)\n"
     ]
    }
   ],
   "source": [
    "# Rechercher les index dont la valeur est 4:\n",
    "\n",
    "import numpy as np\n",
    "\n",
    "arr = np.array([1, 2, 3, 4, 5, 4, 4])\n",
    "\n",
    "x = np.where(arr == 4)\n",
    "\n",
    "print(x)"
   ]
  },
  {
   "cell_type": "code",
   "execution_count": 70,
   "metadata": {},
   "outputs": [
    {
     "name": "stdout",
     "output_type": "stream",
     "text": [
      "(array([1, 3, 5, 7]),)\n"
     ]
    }
   ],
   "source": [
    "# Trouver les index où les valeurs sont paires:\n",
    "\n",
    "import numpy as np\n",
    "\n",
    "arr = np.array([1, 2, 3, 4, 5, 6, 7, 8])\n",
    "\n",
    "x = np.where(arr%2 == 0)\n",
    "\n",
    "print(x)"
   ]
  },
  {
   "cell_type": "code",
   "execution_count": 71,
   "metadata": {},
   "outputs": [
    {
     "name": "stdout",
     "output_type": "stream",
     "text": [
      "(array([0, 2, 4, 6]),)\n"
     ]
    }
   ],
   "source": [
    "# Trouver les index où les valeurs sont impaires:\n",
    "\n",
    "import numpy as np\n",
    "\n",
    "arr = np.array([1, 2, 3, 4, 5, 6, 7, 8])\n",
    "\n",
    "x = np.where(arr%2 == 1)\n",
    "\n",
    "print(x)"
   ]
  },
  {
   "cell_type": "markdown",
   "metadata": {},
   "source": [
    "## Tri des tableaux\n",
    "Le tri signifie placer les éléments dans une séquence ordonnée.\n",
    "\n",
    "Une séquence ordonnée est toute séquence dont l'ordre correspond aux éléments, comme numérique ou alphabétique, croissant ou décroissant.\n",
    "\n",
    "L'objet NumPy **ndarray** a une fonction appelée **sort()**, qui triera un tableau spécifié."
   ]
  },
  {
   "cell_type": "code",
   "execution_count": 59,
   "metadata": {},
   "outputs": [
    {
     "name": "stdout",
     "output_type": "stream",
     "text": [
      "[0 1 2 3]\n"
     ]
    }
   ],
   "source": [
    "# Tri d'un tableau:\n",
    "\n",
    "import numpy as np\n",
    "\n",
    "arr = np.array([3, 2, 0, 1])\n",
    "\n",
    "print(np.sort(arr))"
   ]
  },
  {
   "cell_type": "code",
   "execution_count": 60,
   "metadata": {},
   "outputs": [
    {
     "name": "stdout",
     "output_type": "stream",
     "text": [
      "['apple' 'banana' 'cherry']\n"
     ]
    }
   ],
   "source": [
    "# Tri d'un tableau par ordre alphabétique:\n",
    "\n",
    "import numpy as np\n",
    "\n",
    "arr = np.array(['banana', 'cherry', 'apple'])\n",
    "\n",
    "print(np.sort(arr))"
   ]
  },
  {
   "cell_type": "code",
   "execution_count": 62,
   "metadata": {},
   "outputs": [
    {
     "name": "stdout",
     "output_type": "stream",
     "text": [
      "[False  True  True]\n"
     ]
    }
   ],
   "source": [
    "# Tri d'un tableau booléen:\n",
    "\n",
    "import numpy as np\n",
    "\n",
    "arr = np.array([True, False, True])\n",
    "\n",
    "print(np.sort(arr))"
   ]
  },
  {
   "cell_type": "code",
   "execution_count": 64,
   "metadata": {},
   "outputs": [
    {
     "name": "stdout",
     "output_type": "stream",
     "text": [
      "[[2 3 4]\n",
      " [0 1 5]]\n"
     ]
    }
   ],
   "source": [
    "# Tri d'un tableau 2D:\n",
    "\n",
    "import numpy as np\n",
    "\n",
    "arr = np.array([[3, 2, 4], [5, 0, 1]])\n",
    "\n",
    "print(np.sort(arr))"
   ]
  },
  {
   "cell_type": "markdown",
   "metadata": {},
   "source": [
    "## Filtrage des tableaux\n",
    "Extraire certains éléments d'un tableau existant et en créer un nouveau s'appelle le filtrage.\n",
    "\n",
    "Dans NumPy, vous filtrez un tableau à l'aide d'une liste d'index booléenne.\n",
    "\n",
    "Une liste d'index booléen est une liste de booléens correspondant aux index du tableau.\n",
    "\n",
    "Si la valeur d'un index est True, cet élément est contenu dans le tableau filtré, si la valeur de cet index est False, cet élément est exclu du tableau filtré."
   ]
  },
  {
   "cell_type": "code",
   "execution_count": 68,
   "metadata": {},
   "outputs": [
    {
     "name": "stdout",
     "output_type": "stream",
     "text": [
      "[41 43]\n"
     ]
    }
   ],
   "source": [
    "import numpy as np\n",
    "\n",
    "arr = np.array([41, 42, 43, 44])\n",
    "\n",
    "x = [True, False, True, False]\n",
    "\n",
    "newarr = arr[x]\n",
    "\n",
    "print(newarr)"
   ]
  },
  {
   "cell_type": "markdown",
   "metadata": {},
   "source": [
    "#### Création d'un tableau de filtres qui ne renverra que des valeurs supérieures à 42:"
   ]
  },
  {
   "cell_type": "code",
   "execution_count": 67,
   "metadata": {},
   "outputs": [
    {
     "name": "stdout",
     "output_type": "stream",
     "text": [
      "[False, False, True, True]\n",
      "[43 44]\n"
     ]
    }
   ],
   "source": [
    "import numpy as np\n",
    "\n",
    "arr = np.array([41, 42, 43, 44])\n",
    "\n",
    "# Create an empty list\n",
    "filter_arr = []\n",
    "\n",
    "# go through each element in arr\n",
    "for element in arr:\n",
    "  # if the element is higher than 42, set the value to True, otherwise False:\n",
    "  if element > 42:\n",
    "    filter_arr.append(True)\n",
    "  else:\n",
    "    filter_arr.append(False)\n",
    "\n",
    "newarr = arr[filter_arr]\n",
    "\n",
    "print(filter_arr)\n",
    "print(newarr)"
   ]
  },
  {
   "cell_type": "markdown",
   "metadata": {},
   "source": [
    "## Qu'est-ce qu'un nombre aléatoire?\n",
    "Un nombre aléatoire ne signifie PAS un nombre différent à chaque fois. Aléatoire signifie quelque chose qui ne peut être prédit logiquement.\n",
    "\n",
    "### Générer un nombre aléatoire\n",
    "NumPy propose le module aléatoire pour travailler avec des nombres aléatoires.\n",
    "\n",
    "#### Génération d'un nombre aléatoire entre 0 et 100"
   ]
  },
  {
   "cell_type": "code",
   "execution_count": 72,
   "metadata": {},
   "outputs": [
    {
     "name": "stdout",
     "output_type": "stream",
     "text": [
      "87\n"
     ]
    }
   ],
   "source": [
    "from numpy import random\n",
    "x = random.randint(100)\n",
    "print(x)"
   ]
  },
  {
   "cell_type": "code",
   "execution_count": 74,
   "metadata": {},
   "outputs": [],
   "source": [
    "#### Génération d'un flottant aléatoire de 0 à 1:"
   ]
  },
  {
   "cell_type": "code",
   "execution_count": 75,
   "metadata": {},
   "outputs": [
    {
     "name": "stdout",
     "output_type": "stream",
     "text": [
      "0.6898518951744371\n"
     ]
    }
   ],
   "source": [
    "from numpy import random\n",
    "x = random.rand()\n",
    "print(x)"
   ]
  },
  {
   "cell_type": "markdown",
   "metadata": {},
   "source": [
    "### Génération d'un tableau aléatoire\n",
    "Dans NumPy, nous travaillons avec des tableaux, et vous pouvez utiliser les deux méthodes des exemples ci-dessus pour créer des tableaux aléatoires.\n",
    "\n",
    "#### Entiers\n",
    "La méthode **randint()** prend un paramètre de taille dans lequel vous pouvez spécifier la forme d'un tableau."
   ]
  },
  {
   "cell_type": "code",
   "execution_count": 76,
   "metadata": {},
   "outputs": [
    {
     "name": "stdout",
     "output_type": "stream",
     "text": [
      "[96 69 85  7 21]\n"
     ]
    }
   ],
   "source": [
    "from numpy import random\n",
    "x=random.randint(100, size=(5))\n",
    "print(x)"
   ]
  },
  {
   "cell_type": "markdown",
   "metadata": {},
   "source": [
    "#### Génération d'un tableau 2D avec 3 lignes, chaque ligne contenant 5 entiers aléatoires de 0 à 100:"
   ]
  },
  {
   "cell_type": "code",
   "execution_count": 77,
   "metadata": {},
   "outputs": [
    {
     "name": "stdout",
     "output_type": "stream",
     "text": [
      "[[34 61 15 39 27]\n",
      " [92 59 28 55 25]\n",
      " [37 33  3 45 54]]\n"
     ]
    }
   ],
   "source": [
    "from numpy import random\n",
    "x = random.randint(100, size=(3, 5))\n",
    "print(x)"
   ]
  },
  {
   "cell_type": "markdown",
   "metadata": {},
   "source": [
    "#### Float\n",
    "La méthode **rand()** vous permet également de spécifier la forme du tableau."
   ]
  },
  {
   "cell_type": "code",
   "execution_count": 79,
   "metadata": {},
   "outputs": [
    {
     "name": "stdout",
     "output_type": "stream",
     "text": [
      "[0.20120451 0.24035606 0.24254606 0.89310305 0.23724314]\n"
     ]
    }
   ],
   "source": [
    "from numpy import random\n",
    "x = random.rand(5)\n",
    "print(x)"
   ]
  },
  {
   "cell_type": "markdown",
   "metadata": {},
   "source": [
    "#### Génération d'un tableau 2D avec 3 lignes, chaque ligne contenant 5 nombres aléatoires:"
   ]
  },
  {
   "cell_type": "code",
   "execution_count": 81,
   "metadata": {},
   "outputs": [
    {
     "name": "stdout",
     "output_type": "stream",
     "text": [
      "[[0.06880795 0.79231368 0.46214119 0.0302246  0.90161812]\n",
      " [0.10787222 0.67732166 0.50856425 0.06922125 0.92173267]\n",
      " [0.95152857 0.95209542 0.21555577 0.74591265 0.71400197]]\n"
     ]
    }
   ],
   "source": [
    "from numpy import random\n",
    "x = random.rand(3, 5)\n",
    "print(x)"
   ]
  },
  {
   "cell_type": "markdown",
   "metadata": {},
   "source": [
    "## Fonctions hyperboliques\n",
    "* numpy.sinh(x) : sinus hyperbolique\n",
    "* numpy.cosh(x) : cosinus hyperbolique\n",
    "* numpy.tanh(x) : tangente hyperbolique\n",
    "* numpy.arcsinh(x) : arcsinus hyperbolique\n",
    "* numpy.arccosh(x) : arc cosinus hyperbolique\n",
    "* numpy.arctanh(x) : arc tangente hyperbolique\n",
    "\n",
    "## Fonctions trigonométriques\n",
    "* numpy.sin(x) : sinus\n",
    "* numpy.cos(x) : cosinus\n",
    "* numpy.tan(x) : tangente\n",
    "* numpy.arcsin(x) : arcsinus\n",
    "* numpy.arccos(x) : arc cosinus\n",
    "* numpy.arctan(x) : arc tangente\n",
    "\n",
    "## Fonctions diverses\n",
    "* numpy.sqrt(x) : racine carrée\n",
    "* numpy.exp(x) : exponentielle\n",
    "* numpy.log(x) : logarithme népérien\n",
    "* numpy.abs(x) : valeur absolue\n",
    "* numpy.sign(x) : signe\n",
    "\n",
    "## Fonctions utiles pour les nombres complexes\n",
    "* numpy.real(x) : partie réelle\n",
    "* numpy.imag(x) : partie imaginaire\n",
    "* numpy.abs(x) : module\n",
    "* numpy.angle(x) : argument en radians\n",
    "* numpy.conj(x) : complexe conjugué\n",
    "\n",
    "## Arrondis\n",
    "* numpy.around(x,n) : arrondi à n décimales\n",
    "* numpy.trunc(x) : retourne la partie entière du nombre (le nombre est tronqué)\n"
   ]
  }
 ],
 "metadata": {
  "kernelspec": {
   "display_name": "Python 3",
   "language": "python",
   "name": "python3"
  },
  "language_info": {
   "codemirror_mode": {
    "name": "ipython",
    "version": 3
   },
   "file_extension": ".py",
   "mimetype": "text/x-python",
   "name": "python",
   "nbconvert_exporter": "python",
   "pygments_lexer": "ipython3",
   "version": "3.6.5"
  }
 },
 "nbformat": 4,
 "nbformat_minor": 2
}
