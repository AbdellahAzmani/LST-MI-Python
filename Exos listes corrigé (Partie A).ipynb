{
 "cells": [
  {
   "cell_type": "markdown",
   "metadata": {},
   "source": [
    "<center style=\"font-size:35px;color:red;font-weight:bold\"> Initiation à Python</center><br>\n",
    "<center style=\"color:black;font-size:20px\"> Correction Exercices TP3 </center>\n",
    "<br>\n",
    "<center style=\"color:black\">**Cours du Pr. Abdellah AZMANI**</center>\n",
    "<center style=\"color:black\">**Département Génie Informatique**</center>\n",
    "<br>\n",
    "<center style=\"color:black\">Université Abdelmalek Essaadi</center>\n",
    "<center style=\"color:black\">Faculté des Sciences et Techniques</center>\n",
    "<center style=\"color:black\">Tanger</center>"
   ]
  },
  {
   "cell_type": "markdown",
   "metadata": {},
   "source": [
    "## Cours Programmation avancée :   premiers pas avec Python \n",
    "#### Exercices de TD 3 / TP 3 : script basique &  initiation aux listes et aux fonctions "
   ]
  },
  {
   "cell_type": "markdown",
   "metadata": {},
   "source": [
    "## Exercice 1\n",
    "### Soit  « impairs »  la liste de nombres [1, 3, 5, 7, 9, 11, 13, 15, 17, 19, 21].\n",
    "Écrire un programme qui, à partir de la liste « impairs », construit une liste « pairs » dans laquelle tous les éléments de « impairs » sont incrémentés de 1."
   ]
  },
  {
   "cell_type": "code",
   "execution_count": 1,
   "metadata": {},
   "outputs": [
    {
     "name": "stdout",
     "output_type": "stream",
     "text": [
      "[2, 4, 6, 8, 10, 12, 14, 16, 18, 20, 22]\n"
     ]
    }
   ],
   "source": [
    "t1=[1, 3, 5, 7, 9, 11, 13, 15, 17, 19, 21]\n",
    "t2=[]\n",
    "for i in range(len(t1)) :\n",
    "    t2.append(t1[i]+1)\n",
    "\n",
    "print(t2)"
   ]
  },
  {
   "cell_type": "markdown",
   "metadata": {},
   "source": [
    "## Exercice 2\n",
    "### Avec Python comptez, en une seule commande, combien y a-t-il de nombres pairs dans l’intervalle [2, 10000] inclus ?"
   ]
  },
  {
   "cell_type": "code",
   "execution_count": 2,
   "metadata": {},
   "outputs": [
    {
     "name": "stdout",
     "output_type": "stream",
     "text": [
      "4999\n"
     ]
    }
   ],
   "source": [
    "print(len(list(range(2, 10000, 2))))"
   ]
  },
  {
   "cell_type": "markdown",
   "metadata": {},
   "source": [
    "## Exercice 3\n",
    "### La liste ci-dessous représente une séquence d’ADN :\n",
    "[\"A\",\"C\",\"G\",\"T\",\"T\",\"A\",\"G\",\"C\",\"T\",\"A\",\"A\",\"C\",\"G\"]\n",
    "* Écrivez un script qui transforme cette séquence en sa séquence complémentaire. \n",
    "* Calculez la fréquence en adénine (A), cytosine (C), guanine (G) ou thymine (T) dans cette séquence.\n",
    "\n",
    "**Rappel : la séquence complémentaire s’obtient en remplaçant A par T, T par A, C par G et G par C.**"
   ]
  },
  {
   "cell_type": "code",
   "execution_count": 54,
   "metadata": {},
   "outputs": [
    {
     "name": "stdout",
     "output_type": "stream",
     "text": [
      "['T', 'G', 'C', 'A', 'A', 'T', 'C', 'G', 'A', 'T', 'T', 'G', 'C']\n"
     ]
    }
   ],
   "source": [
    "List =  [\"A\",\"C\",\"G\",\"T\",\"T\",\"A\",\"G\",\"C\",\"T\",\"A\",\"A\",\"C\",\"G\"]\n",
    "Nbre_Element =  len (List)\n",
    "NA = 0\n",
    "NT = 0\n",
    "NC = 0\n",
    "NG = 0\n",
    "for i in range(Nbre_Element):\n",
    "    if List[i] == \"A\":\n",
    "        List[i]=\"T\"\n",
    "        NA +=1 \n",
    "    elif List[i] == \"T\":\n",
    "        List[i]=\"A\"\n",
    "        NT +=1\n",
    "    elif List[i] == \"C\":\n",
    "        List[i]=\"G\"\n",
    "        NC +=1\n",
    "    elif List[i] == \"G\":\n",
    "        List[i]=\"C\"\n",
    "        NG +=1\n",
    "print(List)"
   ]
  },
  {
   "cell_type": "markdown",
   "metadata": {},
   "source": [
    "## Exercice 4\n",
    "### Soient les listes suivantes :\n",
    "L1 = [31, 28, 31, 30, 31, 30, 31, 31, 30, 31, 30, 31]<br>\n",
    "et<br>\n",
    "L2=[\"Janvier\",\"Février\",\"Mars\",\"Avril\", \"Mai\",\"Juin\",\"Juillet\",\"Août\",\"Septembre\",\"Octobre\", \"Novembre\",\"Décembre\"]<br>\n",
    "\n",
    "Écrire un petit programme qui crée une nouvelle liste t3 qui devra contenir tous les éléments des deux listes en les alternant, de telle manière que chaque nom de mois soit suivi du nombre de jours correspondant : \n",
    "\n",
    " **['Janvier',31,'Février',28,'Mars',31, ...].**"
   ]
  },
  {
   "cell_type": "code",
   "execution_count": 3,
   "metadata": {},
   "outputs": [
    {
     "name": "stdout",
     "output_type": "stream",
     "text": [
      "['Janvier', 31, 'Février', 28, 'Mars', 31, 'Avril', 30, 'Mai', 31, 'Juin', 30, 'Juillet', 31, 'Août', 31, 'Septembre', 30, 'Octobre', 31, 'Novembre', 30, 'Décembre', 31]\n"
     ]
    }
   ],
   "source": [
    "t1 = [31,28,31,30,31,30,31,31,30,31,30,31]\n",
    "t2 = ['Janvier','Février','Mars','Avril','Mai','Juin','Juillet','Août','Septembre','Octobre','Novembre','Décembre']\n",
    "t3 = []\n",
    "for i in range(len(t1)) :\n",
    "    t3.append(t2[i])\n",
    "    t3.append(t1[i])\n",
    "\n",
    "print(t3)"
   ]
  },
  {
   "cell_type": "markdown",
   "metadata": {},
   "source": [
    "## Exercice 5\n",
    "### Ecrire et tester les fonctions de gestion de liste sans utiliser les fonctions prédéfinies de manipulation des listes à l'exception des fonctions basiques \"len\", \"append\" et \"del\" :\n",
    "-\tAjouter un élément en-tête de  liste (empiler).\n",
    "-\tAjouter un élément en fin de liste (enfiler).\n",
    "-\tVérifier si un élément appartient à une liste.\n",
    "-\tDépiler un élément dans une liste.\n",
    "-\tSupprimer un élément d'une liste.\n",
    "-\tCalculer la longueur d'une liste.\n",
    "-\tRemplacer un élément par un autre dans une liste. \n",
    "-\tAfficher le contenu d'une liste. \n",
    "-\tTrouver l'occurrence d’un élément dans une liste.\n",
    "-\tVérifier si une liste est ordonnée \n",
    "-\tTrier une liste.\n",
    "-\tInsérer  un élément dans une liste triée.\n",
    "-\tVérifier si deux listes sont égales.\n",
    "-\tConcaténer deux listes.\n",
    "-\tinverser une liste.\n"
   ]
  },
  {
   "cell_type": "code",
   "execution_count": 4,
   "metadata": {},
   "outputs": [],
   "source": [
    "def add_Header_List(X,L):\n",
    "    L=[X]+L\n",
    "    return L"
   ]
  },
  {
   "cell_type": "code",
   "execution_count": 5,
   "metadata": {},
   "outputs": [],
   "source": [
    "def add_Tail_List(X,L):\n",
    "    L=L+[X]\n",
    "    return L"
   ]
  },
  {
   "cell_type": "code",
   "execution_count": 51,
   "metadata": {},
   "outputs": [],
   "source": [
    "def member_bis(X,L):\n",
    "    appartient=False\n",
    "    N=len(L)\n",
    "    i=1\n",
    "    while (not appartient)and(i<N):\n",
    "        if(L[i]==X):\n",
    "            appartient=True\n",
    "        i+=1\n",
    "    return appartient"
   ]
  },
  {
   "cell_type": "code",
   "execution_count": 7,
   "metadata": {},
   "outputs": [],
   "source": [
    "def del_Header_List(L):\n",
    "    L=L[1:]\n",
    "    return L"
   ]
  },
  {
   "cell_type": "code",
   "execution_count": 9,
   "metadata": {},
   "outputs": [],
   "source": [
    "def del_Element_List(X,L):\n",
    "    for i in range(len(L)):\n",
    "        if(L[i]==X):\n",
    "            del(L[i])\n",
    "    return L"
   ]
  },
  {
   "cell_type": "code",
   "execution_count": 10,
   "metadata": {},
   "outputs": [],
   "source": [
    "def Len_List(L):#On suppose que L est non vide\n",
    "    i=0\n",
    "    while (L!=[]):\n",
    "        del(L[i])\n",
    "        i+=1\n",
    "    return i"
   ]
  },
  {
   "cell_type": "code",
   "execution_count": 50,
   "metadata": {},
   "outputs": [],
   "source": [
    "def replace_Element(X,Y,L):\n",
    "    for i in range(len(L)):\n",
    "        if(L[i]==X):\n",
    "            L[i]=Y\n",
    "    return L"
   ]
  },
  {
   "cell_type": "code",
   "execution_count": 12,
   "metadata": {},
   "outputs": [],
   "source": [
    "def occur_Element(X,L):\n",
    "    Nx=0\n",
    "    for i in range(len(L)):\n",
    "        if(L[i]==X):\n",
    "            Nx+=1\n",
    "    return Nx"
   ]
  },
  {
   "cell_type": "code",
   "execution_count": 13,
   "metadata": {},
   "outputs": [],
   "source": [
    "def List_Croissante(L):\n",
    "    N=len(L)\n",
    "    ordre_croissant=False\n",
    "    i=0\n",
    "    while (i<N)and(L[i]<L[i+1]):\n",
    "        i+=1\n",
    "    if (i==N):\n",
    "        ordre_croissant=True\n",
    "    return ordre_croissant"
   ]
  },
  {
   "cell_type": "code",
   "execution_count": 27,
   "metadata": {},
   "outputs": [],
   "source": [
    "def Trier_List(L):\n",
    "    N=len(L)\n",
    "    i=0\n",
    "    LL=[]\n",
    "    while (i<N):\n",
    "        LL=Inserer_List(L[i],LL)\n",
    "    return (LL)"
   ]
  },
  {
   "cell_type": "code",
   "execution_count": 14,
   "metadata": {},
   "outputs": [],
   "source": [
    "def Insert_Element_List(X,L): #suppose que la liste est ordonnée\n",
    "    N=len(L)\n",
    "    Exit=False\n",
    "    i=0\n",
    "    while (not Exit)and(i<N):\n",
    "        if (X<=L[i]):\n",
    "            L=L[0:i]+[X]+L[i:]\n",
    "            Exit=True\n",
    "        else:\n",
    "            i+=1\n",
    "    return L"
   ]
  },
  {
   "cell_type": "code",
   "execution_count": 18,
   "metadata": {},
   "outputs": [],
   "source": [
    "def Equal_Lists(L1,L2): #suppose que les deux listes sont ordonnée\n",
    "    N1=len(L1)\n",
    "    N2=len(L2)\n",
    "    Egale=True\n",
    "    if (L1==L2):\n",
    "        Exit=False\n",
    "        i=0\n",
    "        while (not Exit)and(i<N):\n",
    "            if (L1[i]!=L2[i]):\n",
    "                Exit=True\n",
    "            else:\n",
    "                i+=1\n",
    "    if Exit:\n",
    "        Egale=False    \n",
    "    return Egale"
   ]
  },
  {
   "cell_type": "code",
   "execution_count": 53,
   "metadata": {},
   "outputs": [],
   "source": [
    "def concat_Lists(L1,L2):\n",
    "    L = L1+L2\n",
    "    print(L)"
   ]
  },
  {
   "cell_type": "code",
   "execution_count": 1,
   "metadata": {},
   "outputs": [],
   "source": [
    "def revers_List(L):\n",
    "    LL=[]\n",
    "    N=len(L)\n",
    "    for i in range(len(L)):\n",
    "        LL=LL+[L[N-i-1]]\n",
    "    return LL"
   ]
  }
 ],
 "metadata": {
  "kernelspec": {
   "display_name": "Python 3",
   "language": "python",
   "name": "python3"
  },
  "language_info": {
   "codemirror_mode": {
    "name": "ipython",
    "version": 3
   },
   "file_extension": ".py",
   "mimetype": "text/x-python",
   "name": "python",
   "nbconvert_exporter": "python",
   "pygments_lexer": "ipython3",
   "version": "3.6.5"
  }
 },
 "nbformat": 4,
 "nbformat_minor": 2
}
