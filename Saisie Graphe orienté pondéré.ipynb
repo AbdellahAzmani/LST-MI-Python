{
 "cells": [
  {
   "cell_type": "markdown",
   "metadata": {},
   "source": [
    "## Graphe orienté pondéré"
   ]
  },
  {
   "cell_type": "code",
   "execution_count": 18,
   "metadata": {},
   "outputs": [
    {
     "name": "stdout",
     "output_type": "stream",
     "text": [
      "saisir sommet : A\n",
      "------Tapez votre choix------(0 pour exit)\n",
      "1\n",
      "saisir sommet : B\n",
      "------Tapez votre choix------(0 pour exit)\n",
      "1\n",
      "saisir sommet : C\n",
      "------Tapez votre choix------(0 pour exit)\n",
      "0\n",
      "--------------------------------\n",
      "saisir sommet 1 : A\n",
      "saisir sommet 2 : B\n",
      "saisir poids : 12\n",
      "------Tapez votre choix------(0 pour exit)\n",
      "1\n",
      "saisir sommet 1 : B\n",
      "saisir sommet 2 : C\n",
      "saisir poids : 23\n",
      "------Tapez votre choix------(0 pour exit)\n",
      "1\n",
      "saisir sommet 1 : B\n",
      "saisir sommet 2 : A\n",
      "saisir poids : 4\n",
      "------Tapez votre choix------(0 pour exit)\n",
      "0\n",
      "A  ->  B  Poids:  12\n",
      "B  ->  A  Poids:  4\n",
      "B  ->  C  Poids:  23\n",
      "Matrice d'adjacence :  [[0, 12, 0], [4, 0, 23], [0, 0, 0]]\n"
     ]
    }
   ],
   "source": [
    "# Ajouter un sommet à l'ensemble des sommets et au graphe\n",
    "def add_vertex(v):\n",
    "    global graph\n",
    "    global vertices_no\n",
    "    global vertices\n",
    "    if v in vertices:\n",
    "        print(\"Sommet \", v, \" existe déjà\")\n",
    "    else:\n",
    "        vertices_no = vertices_no + 1\n",
    "        vertices.append(v)\n",
    "    if vertices_no > 1:\n",
    "        for vertex in graph:\n",
    "            vertex.append(0)\n",
    "    temp = []\n",
    "    for i in range(vertices_no):\n",
    "        temp.append(0)\n",
    "    graph.append(temp)\n",
    "\n",
    "# Ajouter une arête entre les sommets v1 et v2 avec un poids d'arête e\n",
    "def add_edge(v1, v2, e):\n",
    "    global graph\n",
    "    global vertices_no\n",
    "    global vertices\n",
    "    # Check if vertex v1 is a valid vertex\n",
    "    if v1 not in vertices:\n",
    "        print(\"Sommet \", v1, \" n'existe pas.\")\n",
    "    # Check if vertex v1 is a valid vertex\n",
    "    elif v2 not in vertices:\n",
    "        print(\"Sommet \", v2, \" n'existe pas.\")\n",
    "    else:\n",
    "        index1 = vertices.index(v1)\n",
    "        index2 = vertices.index(v2)\n",
    "        graph[index1][index2] = e\n",
    "\n",
    "# Dessin du graphe\n",
    "def print_graph():\n",
    "    global graph\n",
    "    global vertices_no\n",
    "    for i in range(vertices_no):\n",
    "        for j in range(vertices_no):\n",
    "            if graph[i][j] != 0:\n",
    "                print(vertices[i], \" -> \", vertices[j], \\\n",
    "                \" Poids: \", graph[i][j])\n",
    "            \n",
    "\n",
    "# stocke les sommets du graphe\n",
    "vertices = []\n",
    "# stocke le nombre de sommets dans le graphe\n",
    "vertices_no = 0\n",
    "graph = []\n",
    "# Ajouter des sommets au graphique\n",
    "\n",
    "while True:\n",
    "        try:\n",
    "            add_vertex(input(\"saisir sommet : \"))\n",
    "            i = int(input(\"------Tapez votre choix------(0 pour exit)\\n\"))\n",
    "            if i ==0:\n",
    "                break   \n",
    "        except Exception as e:\n",
    "            print(\"e\")\n",
    "\n",
    "print('--------------------------------')        \n",
    " \n",
    "# Ajoutez les arêtes entre les sommets en spécifiant\n",
    "# le sommet from et to avec les poids des arêtes.\n",
    "\n",
    "while True:\n",
    "    try:\n",
    "        add_edge((input(\"saisir sommet 1 : \")), (input(\"saisir sommet 2 : \")) , int(input(\"saisir poids : \")))\n",
    "        k = int(input(\"------Tapez votre choix------(0 pour exit)\\n\"))\n",
    "        if k ==0:\n",
    "            break   \n",
    "    except Exception as e:\n",
    "        print(\"e\") \n",
    "\n",
    "print('--------------------------------')        \n",
    "\n",
    "print_graph()\n",
    "print('--------------------------------')        \n",
    "print(\"Matrice d'adjacence : \", graph)"
   ]
  },
  {
   "cell_type": "code",
   "execution_count": 19,
   "metadata": {},
   "outputs": [
    {
     "name": "stdout",
     "output_type": "stream",
     "text": [
      "[[0, 12, 0], [4, 0, 23], [0, 0, 0]]\n"
     ]
    }
   ],
   "source": [
    "print(graph)"
   ]
  },
  {
   "cell_type": "code",
   "execution_count": 20,
   "metadata": {},
   "outputs": [
    {
     "name": "stdout",
     "output_type": "stream",
     "text": [
      "[[ 0 12  0]\n",
      " [ 4  0 23]\n",
      " [ 0  0  0]]\n"
     ]
    }
   ],
   "source": [
    "import numpy as np\n",
    "A=np.array(graph)\n",
    "print(A)"
   ]
  },
  {
   "cell_type": "code",
   "execution_count": 47,
   "metadata": {},
   "outputs": [
    {
     "name": "stdout",
     "output_type": "stream",
     "text": [
      "Nodes of graph: \n",
      "['A', 'B', 'C']\n"
     ]
    }
   ],
   "source": [
    "print(\"Nodes of graph: \")\n",
    "print(vertices)"
   ]
  }
 ],
 "metadata": {
  "kernelspec": {
   "display_name": "Python 3",
   "language": "python",
   "name": "python3"
  },
  "language_info": {
   "codemirror_mode": {
    "name": "ipython",
    "version": 3
   },
   "file_extension": ".py",
   "mimetype": "text/x-python",
   "name": "python",
   "nbconvert_exporter": "python",
   "pygments_lexer": "ipython3",
   "version": "3.6.5"
  }
 },
 "nbformat": 4,
 "nbformat_minor": 2
}
