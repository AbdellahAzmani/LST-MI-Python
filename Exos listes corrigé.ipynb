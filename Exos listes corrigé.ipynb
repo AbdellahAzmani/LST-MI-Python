{
 "cells": [
  {
   "cell_type": "markdown",
   "metadata": {},
   "source": [
    "<center style=\"font-size:35px;color:red;font-weight:bold\"> Initiation à Python</center><br>\n",
    "<center style=\"color:black;font-size:20px\"> Correction Exercices TP3 </center>\n",
    "<br>\n",
    "<center style=\"color:black\">**Cours du Pr. Abdellah AZMANI**</center>\n",
    "<center style=\"color:black\">**Département Génie Informatique**</center>\n",
    "<br>\n",
    "<center style=\"color:black\">Université Abdelmalek Essaadi</center>\n",
    "<center style=\"color:black\">Faculté des Sciences et Techniques</center>\n",
    "<center style=\"color:black\">Tanger</center>"
   ]
  },
  {
   "cell_type": "markdown",
   "metadata": {},
   "source": [
    "## Cours Programmation avancée :   premiers pas avec Python \n",
    "#### Exercices de TD 3 / TP 3 : script basique &  initiation aux listes et aux fonctions "
   ]
  },
  {
   "cell_type": "markdown",
   "metadata": {},
   "source": [
    "## Exercice 1\n",
    "### Soit  « impairs »  la liste de nombres [1, 3, 5, 7, 9, 11, 13, 15, 17, 19, 21].\n",
    "Écrire un programme qui, à partir de la liste « impairs », construit une liste « pairs » dans laquelle tous les éléments de « impairs » sont incrémentés de 1."
   ]
  },
  {
   "cell_type": "code",
   "execution_count": null,
   "metadata": {},
   "outputs": [],
   "source": [
    "t1=[1, 3, 5, 7, 9, 11, 13, 15, 17, 19, 21]\n",
    "t2=[]\n",
    "for i in range(len(t1)) :\n",
    "    t2.append(t1[i]+1)\n",
    "\n",
    "print(t2)"
   ]
  },
  {
   "cell_type": "markdown",
   "metadata": {},
   "source": [
    "## Exercice 2\n",
    "### Avec Python comptez, en une seule commande, combien y a-t-il de nombres pairs dans l’intervalle [2, 10000] inclus ?"
   ]
  },
  {
   "cell_type": "code",
   "execution_count": null,
   "metadata": {},
   "outputs": [],
   "source": [
    "print(len(list(range(2, 10000, 2))))"
   ]
  },
  {
   "cell_type": "markdown",
   "metadata": {},
   "source": [
    "## Exercice 3\n",
    "### La liste ci-dessous représente une séquence d’ADN :\n",
    "[\"A\",\"C\",\"G\",\"T\",\"T\",\"A\",\"G\",\"C\",\"T\",\"A\",\"A\",\"C\",\"G\"]\n",
    "* Écrivez un script qui transforme cette séquence en sa séquence complémentaire. \n",
    "* Calculez la fréquence en adénine (A), cytosine (C), guanine (G) ou thymine (T) dans cette séquence.\n",
    "\n",
    "**Rappel : la séquence complémentaire s’obtient en remplaçant A par T, T par A, C par G et G par C.**"
   ]
  },
  {
   "cell_type": "code",
   "execution_count": null,
   "metadata": {},
   "outputs": [],
   "source": [
    "List =  [\"A\",\"C\",\"G\",\"T\",\"T\",\"A\",\"G\",\"C\",\"T\",\"A\",\"A\",\"C\",\"G\"]\n",
    "Nbre_Element =  len (List)\n",
    "NA = 0\n",
    "NT = 0\n",
    "NC = 0\n",
    "NG = 0\n",
    "for i in range(Nbre_Element):\n",
    "    if List[i] == \"A\":\n",
    "        List[i]=\"T\"\n",
    "        NA +=1 \n",
    "    elif List[i] == \"T\":\n",
    "        List[i]=\"A\"\n",
    "        NT +=1\n",
    "    elif List[i] == \"C\":\n",
    "        List[i]=\"G\"\n",
    "        NC +=1\n",
    "    elif List[i] == \"G\":\n",
    "        List[i]=\"C\"\n",
    "        NG +=1\n",
    "print(List)"
   ]
  },
  {
   "cell_type": "markdown",
   "metadata": {},
   "source": [
    "## Exercice 4\n",
    "### Soient les listes suivantes :\n",
    "L1 = [31, 28, 31, 30, 31, 30, 31, 31, 30, 31, 30, 31]<br>\n",
    "et<br>\n",
    "L2=[\"Janvier\",\"Février\",\"Mars\",\"Avril\", \"Mai\",\"Juin\",\"Juillet\",\"Août\",\"Septembre\",\"Octobre\", \"Novembre\",\"Décembre\"]<br>\n",
    "\n",
    "Écrire un petit programme qui crée une nouvelle liste t3 qui devra contenir tous les éléments des deux listes en les alternant, de telle manière que chaque nom de mois soit suivi du nombre de jours correspondant : \n",
    "\n",
    " **['Janvier',31,'Février',28,'Mars',31, ...].**"
   ]
  },
  {
   "cell_type": "code",
   "execution_count": null,
   "metadata": {},
   "outputs": [],
   "source": [
    "t1 = [31,28,31,30,31,30,31,31,30,31,30,31]\n",
    "t2 = ['Janvier','Février','Mars','Avril','Mai','Juin','Juillet','Août','Septembre','Octobre','Novembre','Décembre']\n",
    "t3 = []\n",
    "for i in range(len(t1)) :\n",
    "    t3.append(t2[i])\n",
    "    t3.append(t1[i])\n",
    "\n",
    "print(t3)"
   ]
  },
  {
   "cell_type": "markdown",
   "metadata": {},
   "source": [
    "## Exercice 5\n",
    "### Ecrire et tester les fonctions de gestion de liste sans utiliser les fonctions prédéfinies de manipulation des listes à l'exception des fonctions basiques \"len\", \"append\" et \"del\" :\n",
    "-\tAjouter un élément en-tête de  liste (empiler).\n",
    "-\tAjouter un élément en fin de liste (enfiler).\n",
    "-\tVérifier si un élément appartient à une liste.\n",
    "-\tDépiler un élément dans une liste.\n",
    "-\tSupprimer un élément d'une liste.\n",
    "-\tCalculer la longueur d'une liste.\n",
    "-\tRemplacer un élément par un autre dans une liste. \n",
    "-\tAfficher le contenu d'une liste. \n",
    "-\tTrouver l'occurrence d’un élément dans une liste.\n",
    "-\tVérifier si une liste est ordonnée \n",
    "-\tTrier une liste.\n",
    "-\tInsérer  un élément dans une liste triée.\n",
    "-\tVérifier si deux listes sont égales.\n",
    "-\tConcaténer deux listes.\n",
    "-\tinverser une liste.\n"
   ]
  },
  {
   "cell_type": "code",
   "execution_count": null,
   "metadata": {},
   "outputs": [],
   "source": [
    "def add_Header_List(X,L):\n",
    "    L=[X]+L\n",
    "    return L"
   ]
  },
  {
   "cell_type": "code",
   "execution_count": null,
   "metadata": {},
   "outputs": [],
   "source": [
    "def add_Tail_List(X,L):\n",
    "    L=L+[X]\n",
    "    return L"
   ]
  },
  {
   "cell_type": "code",
   "execution_count": null,
   "metadata": {},
   "outputs": [],
   "source": [
    "def member_bis(X,L):\n",
    "    appartient=False\n",
    "    N=len(L)\n",
    "    i=1\n",
    "    while (not appartient)and(i<N):\n",
    "        if(L[i]==X):\n",
    "            appartient=True\n",
    "        i+=1\n",
    "    return appartient"
   ]
  },
  {
   "cell_type": "code",
   "execution_count": null,
   "metadata": {},
   "outputs": [],
   "source": [
    "def del_Header_List(L):\n",
    "    L=L[1:]\n",
    "    return L"
   ]
  },
  {
   "cell_type": "code",
   "execution_count": null,
   "metadata": {},
   "outputs": [],
   "source": [
    "def del_Element_List(X,L):\n",
    "    for i in range(len(L)):\n",
    "        if(L[i]==X):\n",
    "            del(L[i])\n",
    "    return L"
   ]
  },
  {
   "cell_type": "code",
   "execution_count": null,
   "metadata": {},
   "outputs": [],
   "source": [
    "def Len_List(L):#On suppose que L est non vide\n",
    "    i=0\n",
    "    while (L!=[]):\n",
    "        del(L[i])\n",
    "        i+=1\n",
    "    return i"
   ]
  },
  {
   "cell_type": "code",
   "execution_count": null,
   "metadata": {},
   "outputs": [],
   "source": [
    "def replace_Element(X,Y,L):\n",
    "    for i in range(len(L)):\n",
    "        if(L[i]==X):\n",
    "            L[i]=Y\n",
    "    return L"
   ]
  },
  {
   "cell_type": "code",
   "execution_count": null,
   "metadata": {},
   "outputs": [],
   "source": [
    "def occur_Element(X,L):\n",
    "    Nx=0\n",
    "    for i in range(len(L)):\n",
    "        if(L[i]==X):\n",
    "            Nx+=1\n",
    "    return Nx"
   ]
  },
  {
   "cell_type": "code",
   "execution_count": null,
   "metadata": {},
   "outputs": [],
   "source": [
    "def List_Croissante(L):\n",
    "    N=len(L)\n",
    "    ordre_croissant=False\n",
    "    i=0\n",
    "    while (i<N)and(L[i]<L[i+1]):\n",
    "        i+=1\n",
    "    if (i==N):\n",
    "        ordre_croissant=True\n",
    "    return ordre_croissant"
   ]
  },
  {
   "cell_type": "code",
   "execution_count": null,
   "metadata": {},
   "outputs": [],
   "source": [
    "def Trier_List(L):\n",
    "    N=len(L)\n",
    "    i=0\n",
    "    LL=[]\n",
    "    while (i<N):\n",
    "        LL=Inserer_List(L[i],LL)\n",
    "    return (LL)"
   ]
  },
  {
   "cell_type": "code",
   "execution_count": null,
   "metadata": {},
   "outputs": [],
   "source": [
    "def Insert_Element_List(X,L): #suppose que la liste est ordonnée\n",
    "    N=len(L)\n",
    "    Exit=False\n",
    "    i=0\n",
    "    while (not Exit)and(i<N):\n",
    "        if (X<=L[i]):\n",
    "            L=L[0:i]+[X]+L[i:]\n",
    "            Exit=True\n",
    "        else:\n",
    "            i+=1\n",
    "    return L"
   ]
  },
  {
   "cell_type": "code",
   "execution_count": null,
   "metadata": {},
   "outputs": [],
   "source": [
    "def Equal_Lists(L1,L2): #suppose que les deux listes sont ordonnée\n",
    "    N1=len(L1)\n",
    "    N2=len(L2)\n",
    "    Egale=True\n",
    "    if (L1==L2):\n",
    "        Exit=False\n",
    "        i=0\n",
    "        while (not Exit)and(i<N):\n",
    "            if (L1[i]!=L2[i]):\n",
    "                Exit=True\n",
    "            else:\n",
    "                i+=1\n",
    "    if Exit:\n",
    "        Egale=False    \n",
    "    return Egale"
   ]
  },
  {
   "cell_type": "code",
   "execution_count": null,
   "metadata": {},
   "outputs": [],
   "source": [
    "def concat_Lists(L1,L2):\n",
    "    L = L1+L2\n",
    "    print(L)"
   ]
  },
  {
   "cell_type": "code",
   "execution_count": null,
   "metadata": {},
   "outputs": [],
   "source": [
    "def revers_List(L):\n",
    "    LL=[]\n",
    "    N=len(L)\n",
    "    for i in range(len(L)):\n",
    "        LL=LL+[L[N-i-1]]\n",
    "    return LL"
   ]
  },
  {
   "cell_type": "markdown",
   "metadata": {},
   "source": [
    "## Exercice 6\n",
    "### Ecrire et tester les fonctions de gestion des ensembles sans utiliser les fonctions prédéfinies de manipulation des listes :\n",
    "-\tAjouter un élément dans un ensemble.\n",
    "-\tTransformer une liste en un ensemble\n",
    "-\tVérifier que deux ensembles sont égaux.\n",
    "-\tVérifier qu’un ensemble est inclus dans un autre.\n",
    "-\tFaire l’intersection de deux ensembles.\n",
    "-\tFaire l’union de deux ensembles.\n",
    "-\tVérifier que deux ensembles sont complémentaires pour autre ensemble.\n"
   ]
  },
  {
   "cell_type": "code",
   "execution_count": null,
   "metadata": {},
   "outputs": [],
   "source": [
    "def del_Element_List(X,L):      # Suppression d'un élément et de ses occurences dans une liste non triée\n",
    "    for i in range(len(L)):     # On parcourt toute la liste et on élimine l'élément à supprimer s'ilexiste\n",
    "        if(L[i]==X):\n",
    "            del(L[i])\n",
    "    return L"
   ]
  },
  {
   "cell_type": "code",
   "execution_count": null,
   "metadata": {},
   "outputs": [],
   "source": [
    "def list_A_Ensemble(L):         # Transformation d'une liste en un ensemble par élimination des doublons\n",
    "    E=[]                        # on commence par initialiser l'ensemble à construire à vide\n",
    "    while L!=[]:                # On effectue un traitemnt tant que la liste n'est pas vide\n",
    "        E=E+[L[1]]              # A chaque itération,  on ajoute l'élément de tête à l'ensemble en cours de construction\n",
    "        L = del_Element_Ensemble(L[i],L) # On éliminine l'élément de tête et toutes ses occurences s'elles existent\n",
    "    return(E)"
   ]
  },
  {
   "cell_type": "code",
   "execution_count": null,
   "metadata": {},
   "outputs": [],
   "source": [
    "def  list_A_Ensemble2(L):  # Transformation d'une liste en un ensemble par élimination des doublons\n",
    "    E = []  # on commence par initialiser l'ensemble à construire à vide\n",
    "    for i in range(len(L)):  # On parcours toute la liste\n",
    "        if not(L[i] in E): # on vérifie si l'élément courant n'appartient pas déjà à l'ensemble en cours de construction\n",
    "            E = E + [L[i]]  # A chaque itération,  on ajoute l'élément courant à l'ensemble en cours de construction\n",
    "    return (E)"
   ]
  },
  {
   "cell_type": "code",
   "execution_count": null,
   "metadata": {},
   "outputs": [],
   "source": [
    "def ajouter_Element_Ensemble(X,E):\n",
    "    # type: (object, object) -> object\n",
    "    E=E+[X]\n",
    "    return E"
   ]
  },
  {
   "cell_type": "code",
   "execution_count": null,
   "metadata": {},
   "outputs": [],
   "source": [
    "# Vérifier que deux ensemble sont égaux (solution 1)\n",
    "def egalite_Ensembles(E1, E2):\n",
    "        valeur=False\n",
    "        if len(E1)==len(E2):\n",
    "            for i in range(len(E1)):\n",
    "                if (E1[i] not in E2):  # on peut utiliser la fonction member_List de l'exercice 5 : if not membre_list(E1[i],E2))\n",
    "                    break\n",
    "            valeur=True\n",
    "        return valeur"
   ]
  },
  {
   "cell_type": "code",
   "execution_count": null,
   "metadata": {},
   "outputs": [],
   "source": [
    "#  Vérifier qu'un ensemble est inclus dans l'autre\n",
    "def inclus(E1,E2):\n",
    "    if len(E1)<=len(E2):\n",
    "        for i in range(len(E1)):  # on peut utiliser la\n",
    "            if not(E1[i]in E2):# on peut utiliser la fonction member_List de l'exercice 5 : if not membre_list(E1[i],E2))\n",
    "                return False\n",
    "        return True\n",
    "    return False"
   ]
  },
  {
   "cell_type": "code",
   "execution_count": null,
   "metadata": {},
   "outputs": [],
   "source": [
    "# Vérifier que deux ensemble sont égaux\n",
    "def egalite_Ensembles2(E1, E2):  #(solution 2)\n",
    "    return inclus(E1,E2) and inclus(E2,E1)"
   ]
  },
  {
   "cell_type": "code",
   "execution_count": null,
   "metadata": {},
   "outputs": [],
   "source": [
    "# Intersection de deux enembles\n",
    "def intersection (E1, E2):\n",
    "    E3=[]\n",
    "    N = len(E1)\n",
    "    if E2!=[]:\n",
    "        for i in range(N):  # on peut utiliser\n",
    "            if (E1[i] in E2):\n",
    "                E3=E3+E1[i]\n",
    "    return E3"
   ]
  },
  {
   "cell_type": "code",
   "execution_count": null,
   "metadata": {},
   "outputs": [],
   "source": [
    "# Union de deux ensembles\n",
    "def union(E1, E2):\n",
    "    E3 = E1\n",
    "    N=len(E2)\n",
    "    if E2 != []:\n",
    "        for i in range(N):  # on peut utiliser la fonction member_list\n",
    "           if not(E2[i]in E3):\n",
    "                E3 = E3 + E2[i]\n",
    "    return E3"
   ]
  },
  {
   "cell_type": "code",
   "execution_count": null,
   "metadata": {},
   "outputs": [],
   "source": [
    "# Ensembles complémentaires\n",
    "def complment(E1, E2):\n",
    "    E3 = []\n",
    "    N = len(E2)\n",
    "    if ((E2 != []) and (inclus (E1,E2))):\n",
    "        for i in range(N):  # on peut utiliser la\n",
    "            if not(E2[i] in E1):\n",
    "                E3 = E3 + E2[i]\n",
    "    return E3"
   ]
  },
  {
   "cell_type": "code",
   "execution_count": null,
   "metadata": {},
   "outputs": [],
   "source": [
    "def saisir_ensemble():\n",
    "    print(\"Opération de saisie d'un ensemeble d'entiers\")\n",
    "    E=[]\n",
    "    Arreter=False  #permet d'arrêter la boucle\n",
    "    while not(Arreter):   # l'itération va se produire tant que la variable Arrêter est fausse\n",
    "        R=str(input(\"Tapez 'o' ou 'O' pour continuer et 'n' ou 'N' pour arrêter : \")) # R est la réponse\n",
    "        if(R.lower()=='o'):\n",
    "            x=int(input(\"Voulez-vous saisir un nombre entier\"))\n",
    "            E=ajouter_Element_Ensemble(X, E)\n",
    "        elif R.lower()=='n':\n",
    "            Arreter=True\n",
    "        else:\n",
    "            print(\"mauvaise frappe : recommencez\")"
   ]
  },
  {
   "cell_type": "code",
   "execution_count": null,
   "metadata": {},
   "outputs": [],
   "source": [
    "def menu():\n",
    "        print(\"0. saisir deux ensemble d'entier\")\n",
    "        print(\"1. vérifier si un ensemble est inclus dans un autre\")\n",
    "        print(\"2. vérifier si deux ensemble sont égaux\")\n",
    "        print(\"3. donner l'intersection de deux ensemble\")\n",
    "        print(\"4. donner l'union de deux ensembles\")\n",
    "        print(\"5. donner le complémentaire d'un ensemble par rapport à un ensemble donnée\")\n",
    "        print(\"6. pour quiter\")"
   ]
  },
  {
   "cell_type": "code",
   "execution_count": null,
   "metadata": {},
   "outputs": [],
   "source": [
    "def main_exo6():\n",
    "    arreter = False\n",
    "    E1=[]\n",
    "    E2=[]\n",
    "    while not (arreter):\n",
    "        menu()\n",
    "        choix = int(input(\"Tapez 1,2,3 ou 4 selon votre choix\"))\n",
    "        if (choix==0):\n",
    "            E1=saisir_ensemble()\n",
    "            E2=saisir_ensemble()\n",
    "        elif (choix==1):\n",
    "            if (inclus(E1,E2)):\n",
    "                print(\"le premier ensemble \",E1,\" est inclus dans le deuxième ensemble \",E2)\n",
    "            else:\n",
    "                print(\"le premier ensemble \", E1, \" n'est oas inclus dans le deuxième ensemble \", E2)\n",
    "        elif (choix == 2):\n",
    "            if (egalite_Ensembles(E1, E2)):\n",
    "                print(\"le premier ensemble \", E1, \" est égale au deuxième ensemble \", E2)\n",
    "            else:\n",
    "                print(\"le premier ensemble \", E1, \"  égale au deuxième ensemble \", E2)\n",
    "        elif (choix == 3):\n",
    "            print(\"L'intersection de \", E1, \" et de  \", E2, \" est :\",intersection (E1, E2))\n",
    "        elif (choix == 4):\n",
    "            print(\"L'union de \", E1, \" et de  \", E2, \" est :\", union(E1, E2))\n",
    "        elif (choix == 5):\n",
    "            print(\"Le complément de \", E1, \" par rapport à \", E2, \" est :\", complment(E1,E2))\n",
    "        elif (choix == 6):\n",
    "            arreter=True\n",
    "        else:\n",
    "            print(\"mauvaise frappe : veuillez saisir un entier entre 0 et 6 \")"
   ]
  },
  {
   "cell_type": "markdown",
   "metadata": {},
   "source": [
    "## Exercice 7\n",
    "### Revoir l’exercice 5, en utilisant les listes et les fonctions pour saisir des nombres réels et pour calculer les fonctions suivantes (sans utiliser Numpy) : \n",
    "-\tla somme \n",
    "-\tla moyenne \n",
    "-\tle produit\n",
    "-\tle max \n",
    "-\tle min\n",
    "-\tl’écart-type \n",
    "-\tla variance\n",
    "-\tla covariance"
   ]
  },
  {
   "cell_type": "code",
   "execution_count": null,
   "metadata": {},
   "outputs": [],
   "source": [
    "# Somme des nombres d'une liste\n",
    "def sum_list(L):\n",
    "    S=0\n",
    "    for i in range(len(L)):\n",
    "        S+=L[i]\n",
    "    return S"
   ]
  },
  {
   "cell_type": "code",
   "execution_count": null,
   "metadata": {},
   "outputs": [],
   "source": [
    "# Produit des nombres d'une liste\n",
    "def prod_List(L):\n",
    "    P=1\n",
    "    for i in range(len(L)):\n",
    "       P*=L[i]\n",
    "    return P"
   ]
  },
  {
   "cell_type": "code",
   "execution_count": null,
   "metadata": {},
   "outputs": [],
   "source": [
    "# Moyenne des nombres d'une liste\n",
    "def moy_list(L):\n",
    "    return sum_list(L)/len(L)"
   ]
  },
  {
   "cell_type": "code",
   "execution_count": null,
   "metadata": {},
   "outputs": [],
   "source": [
    "# Max des nombres d'une liste\n",
    "def max_list(L):\n",
    "    Max=L[0]\n",
    "    for i in range(len(L)):\n",
    "        if(L[i]>Max):\n",
    "            Max=L[i]\n",
    "    return Max"
   ]
  },
  {
   "cell_type": "code",
   "execution_count": null,
   "metadata": {},
   "outputs": [],
   "source": [
    "# Min des nombres d'une liste\n",
    "def min_List(L):\n",
    "    Min=L[0]\n",
    "    for i in range(len(L)):\n",
    "        if(L[i]<Min):\n",
    "            Min=L[i]\n",
    "    return Min"
   ]
  },
  {
   "cell_type": "code",
   "execution_count": null,
   "metadata": {},
   "outputs": [],
   "source": [
    "# Ecart type des nombres d'une liste\n",
    "def ecarttype(L):\n",
    "    M=moy_list(L)\n",
    "    N=len(L)\n",
    "    S=0\n",
    "    for i in range(N):\n",
    "       C=L[i]-M\n",
    "       S+=(C*C)\n",
    "    return sqrt(S/N)"
   ]
  },
  {
   "cell_type": "code",
   "execution_count": null,
   "metadata": {},
   "outputs": [],
   "source": [
    "# Variance des nombres d'une liste\n",
    "def variance(L):\n",
    "    M=moy_list(L)\n",
    "    N=len(L)\n",
    "    S=0\n",
    "    for i in range(N):\n",
    "       C=L[i]-M\n",
    "       S+=(C*C)\n",
    "    return (S/N)"
   ]
  },
  {
   "cell_type": "code",
   "execution_count": null,
   "metadata": {},
   "outputs": [],
   "source": [
    "# Ecart type utilisant la fonction variance\n",
    "def ecarttype2(L):\n",
    "    return(sqrt(variance(L)))"
   ]
  },
  {
   "cell_type": "code",
   "execution_count": null,
   "metadata": {},
   "outputs": [],
   "source": [
    "# Covariance des nombres d'une liste    \n",
    "def covariance(X,Y):\n",
    "    Mx=moy_list(X)\n",
    "    My=moy_list(Y)\n",
    "    N=len(X)\n",
    "    S=0\n",
    "    for i in range(N):\n",
    "       Cx=X[i]-Mx\n",
    "       Cy=Y[i]-My\n",
    "       S+=(Cx*Cy)\n",
    "    return (S/N)"
   ]
  },
  {
   "cell_type": "code",
   "execution_count": null,
   "metadata": {},
   "outputs": [],
   "source": [
    "#Programme principale\n",
    "from math import sqrt\n",
    "Arreter=False  #permet d'arrêter la boucle\n",
    "L=[] \n",
    "while not(Arreter): \n",
    "    print(\"Voulez-vous saisir un nombre réel\") \n",
    "    R=str(input(\"Tapez 'o' ou 'O' pour continuer et 'n' ou 'N' pour arrêter : \")) # R est la réponse\n",
    "    if(R.lower()=='o'):\n",
    "        X=float(input(\"saisir un nombre réel : \")) #Nombre réel saisi\n",
    "        L=ajouter_Element_List(X,L)\n",
    "        print(L)\n",
    "    elif(R.lower()=='n'):\n",
    "        Arreter=True\n",
    "    else: # cas où l'utilisateur tape autre chose que 'o' ou 'n'\n",
    "        print(\"!!! Mauvaise frappe, veuillez taper 'o' ou 'n'\")\n",
    "\n",
    "if (L!=[]):\n",
    "    print(\"le nombre d'éléments saisis est : \", len(L))\n",
    "    print(\"la somme des nombres saisis est : \",sum_list(L))\n",
    "    print(\"le produit des nombres saisis est : \", prod_List(L))\n",
    "    print(\"la moyenne des nombres d'éléments saisis est : \",moy_list(L))\n",
    "    print(\"le max des nombres saisis est : \",max_list(L))\n",
    "    print(\"la min des nombres saisis est : \",min_List(L))\n",
    "    print(\"l'écart Type des nombres d'éléments saisis est : \", ecarttype2(L))\n",
    "    print(\"la variance des nombres saisis est : \", variance(L))\n",
    "    #print(\"la covariance des nombres saisis est : \", covariance(L))\n",
    "else:\n",
    "    print(\"Aucune valeur n'a été saisie\")"
   ]
  },
  {
   "cell_type": "markdown",
   "metadata": {},
   "source": [
    "## Exercice 8\n",
    "### Revoir l'exercice sur la création  fonction personne() du TD 2 afin de  :\n",
    "- créer une liste de personnes ;\n",
    "- Lister cette liste\n",
    "- Chercher une personne de cette liste\n",
    "\n",
    "    def personne():  # faire attention au 2 points « : »\n",
    "        # On demande de saisir le nom. \n",
    "        N= input(\"Quel est votre nom ? \")\n",
    "        # On demande de saisir le prénom.\n",
    "        P= input(\"Quel est votre prénom ? \") \n",
    "        # On demande de saisir le genre.\n",
    "        G= input(\"Quel est votre genre ? \") \n",
    "        # On demande de saisir l’âge.\n",
    "        A= int(input(\"Quel est votre âge? \")) \n",
    "        # On demande de présenter la personne\n",
    "        print(\"Nous avons le plaisir de vous présenter : \") \n",
    "        print(N, \"  \", P, \"  \", G, \"  \", A)"
   ]
  },
  {
   "cell_type": "code",
   "execution_count": null,
   "metadata": {},
   "outputs": [],
   "source": [
    "def saisir_personne():\n",
    "    print(\"Opération pour saisir les données d'une personne \")\n",
    "    # On demande de saisir le nom.\n",
    "    N = input(\"Quel est votre nom ? \")\n",
    "    # On demande de saisir le prénom.\n",
    "    P = input(\"Quel est votre prénom ? \")\n",
    "    # On demande de saisir le genre.\n",
    "    G = input(\"Quel est votre genre ? \")\n",
    "    # On demande de saisir l’âge.\n",
    "    A = int(input(\"Quel est votre âge? \"))\n",
    "    return ([N,P,G,A])"
   ]
  },
  {
   "cell_type": "code",
   "execution_count": null,
   "metadata": {},
   "outputs": [],
   "source": [
    "def afficher_personne(P):\n",
    "    print(\"Nom : \", P[0])\n",
    "    print(\"Prénom : \", P[1])\n",
    "    print(\"Genre : \", P[2])\n",
    "    print(\"Age : \", P[3])"
   ]
  },
  {
   "cell_type": "code",
   "execution_count": null,
   "metadata": {},
   "outputs": [],
   "source": [
    "def ajouter_Element_List(X,L):\n",
    "    L=L+[X]\n",
    "    return L"
   ]
  },
  {
   "cell_type": "code",
   "execution_count": null,
   "metadata": {},
   "outputs": [],
   "source": [
    "def chercher_personne(Name,L):\n",
    "    i=0\n",
    "    while (Name!=L[i][1])and (i<=len(L)):  #Pourquoi cette écriture est mauvais et comment y remédier\n",
    "        i+=1\n",
    "    return i"
   ]
  },
  {
   "cell_type": "code",
   "execution_count": null,
   "metadata": {},
   "outputs": [],
   "source": [
    "def saisir_Liste_Personnes():\n",
    "    print(\"Opération de saisie d'une liste de personnes : \")\n",
    "    L=[]\n",
    "    Arreter=False  #permet d'arrêter la boucle\n",
    "    while not(Arreter):   # l'itération va se produire tant que la variable Arrêter est fausse\n",
    "        R=str(input(\"Tapez 'o' ou 'O' pour continuer et 'n' ou 'N' pour arrêter : \")) # R est la réponse\n",
    "        if(R.lower()=='o'):\n",
    "            L=ajouter_Element_List(saisir_personne(), L)\n",
    "        elif (R.lower()=='n'):\n",
    "            Arreter=True\n",
    "        else:\n",
    "            print(\"mauvaise frappe : recommencez\")"
   ]
  },
  {
   "cell_type": "code",
   "execution_count": null,
   "metadata": {},
   "outputs": [],
   "source": [
    "def afficher_Liste__Personnes(L):\n",
    "    for i in range(len(L)):\n",
    "        print(\"Affichage des données de la Personne n° \",i)\n",
    "        afficher_personne(L[i])"
   ]
  },
  {
   "cell_type": "code",
   "execution_count": null,
   "metadata": {},
   "outputs": [],
   "source": [
    "def menu():\n",
    "    print(\"0. saisir une liste de personneS\")\n",
    "    print(\"1. Afficher la liste des personnes\")\n",
    "    print(\"2. Chercher une personne dans la liste des personne\")\n",
    "    print(\"3. pour quiter\")"
   ]
  },
  {
   "cell_type": "code",
   "execution_count": null,
   "metadata": {},
   "outputs": [],
   "source": [
    "def main_exo8():\n",
    "    arreter = False\n",
    "    LP=[]\n",
    "    while not (arreter):\n",
    "        menu()\n",
    "        choix = int(input(\"Tapez 0,1,2 ou 3 selon votre choix\"))\n",
    "        if (choix==0):\n",
    "            LP=saisir_Liste_Personnes()\n",
    "        elif (choix==1):\n",
    "            if LP!=[]:\n",
    "                afficher_Liste__Personnes(LP)\n",
    "            else:\n",
    "                print(\"La liste des personnes est vide, veuillez d'abord la remplir\")\n",
    "        elif (choix == 2):                                          \n",
    "           # Améliorer cette partie pour afficher toutes les personnes qui portent le même nom recherché\n",
    "            N=str(input(\"Tapez le nom de la personneà chercher\"))\n",
    "            indice=chercher_personne(N, LP)\n",
    "            if indice<len(LP):\n",
    "                print(\"La liste ne contient aucun personne qui porte ce nom\")\n",
    "                afficher_personne(LP[indice])\n",
    "            else:\n",
    "                print(\"La liste ne contient aucun personne qui porte ce nom\")\n",
    "        elif (choix == 3):\n",
    "            arreter=True\n",
    "        else:\n",
    "            print(\"mauvaise frappe : veuillez saisir un entier entre 0 et 3 \")"
   ]
  }
 ],
 "metadata": {
  "kernelspec": {
   "display_name": "Python 3",
   "language": "python",
   "name": "python3"
  },
  "language_info": {
   "codemirror_mode": {
    "name": "ipython",
    "version": 3
   },
   "file_extension": ".py",
   "mimetype": "text/x-python",
   "name": "python",
   "nbconvert_exporter": "python",
   "pygments_lexer": "ipython3",
   "version": "3.6.5"
  }
 },
 "nbformat": 4,
 "nbformat_minor": 2
}
