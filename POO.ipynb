{
 "cells": [
  {
   "cell_type": "markdown",
   "metadata": {},
   "source": [
    "<center style=\"font-size:35px;color:red;font-weight:bold\"> Initiation à Python</center><br>\n",
    "<center style=\"color:black;font-size:20px\"> Programmation Orienté Objet - 1ère Partie </center>\n",
    "<br>\n",
    "<center style=\"color:black\">**Cours du Pr. Abdellah AZMANI**</center>\n",
    "<center style=\"color:black\">**Département Génie Informatique**</center>\n",
    "<br>\n",
    "<center style=\"color:black\">Université Abdelmalek Essaadi</center>\n",
    "<center style=\"color:black\">Faculté des Sciences et Techniques</center>\n",
    "<center style=\"color:black\">Tanger</center>"
   ]
  },
  {
   "attachments": {},
   "cell_type": "markdown",
   "metadata": {},
   "source": [
    "# Classe et Objet\n",
    "## Définition d’une classe élémentaire\n",
    "### Définition\n",
    "Pour créer une nouvelle classe d’objets Python, on utilise l’instruction class. \n",
    "Avec les classes d'objet on peut créer de nouveaux types composites.\n",
    "\n",
    "Exemple :\n",
    "Nous allons créer le type Point qui possède deux coordonnées x et y."
   ]
  },
  {
   "cell_type": "code",
   "execution_count": 1,
   "metadata": {},
   "outputs": [],
   "source": [
    "class Point(object):\n",
    "    \"Définition d'un point géométrique\""
   ]
  },
  {
   "attachments": {},
   "cell_type": "markdown",
   "metadata": {},
   "source": [
    "**Remarques :**\n",
    "* Une classe sous Python commence toujours par une majuscule.\n",
    "* Le paramètre entre parenthèses indique la classe d'héritage. Quand il s'agit d'une    classe fondamentale comme ici, on fait appel à la classe spécial \"object\". \n",
    "* Depuis Python 3, il n'est pas obligé de spécifier pour la déclaration d'une classe son héritage de \"Object\". On peut donc omettre de ne pas l'écrire car Pyhton considère donc que cet héritage existe par défaut.\n",
    "* Les \":\" à la fin de la ligne sont obligatoires\n",
    "* La déclaration d'une classe doit contenir au moins une ligne. Dans notre exemple, cette ligne ne contient qu'un commentaire. \n",
    "* L'indentation du bloc d'instructions (ici une simple ligne commentaire) est obligatoire. Python considère ainsi le bloc comme intégré dans la classe."
   ]
  },
  {
   "cell_type": "markdown",
   "metadata": {},
   "source": [
    "### Instance\n",
    "Une classe ne s'utilise que par ses instances, par exemple : "
   ]
  },
  {
   "cell_type": "code",
   "execution_count": 3,
   "metadata": {},
   "outputs": [],
   "source": [
    "dot = Point()  #ceci est une opération d'instanciation\n",
    "# \"dot\" est une instance de la classe\"Point()\"."
   ]
  },
  {
   "cell_type": "markdown",
   "metadata": {},
   "source": [
    "Une classe est toujours représentée par son nom suivi de parenthèses : Point(). \n",
    "Pas besoin d'utiliser <span style=\"color:red\">**\"new\" : dot=new Point()**</span>."
   ]
  },
  {
   "cell_type": "code",
   "execution_count": 5,
   "metadata": {},
   "outputs": [
    {
     "name": "stdout",
     "output_type": "stream",
     "text": [
      "<__main__.Point object at 0x108eb9748>\n"
     ]
    }
   ],
   "source": [
    "print(dot)"
   ]
  },
  {
   "cell_type": "markdown",
   "metadata": {},
   "source": [
    "Le résultat indique que \"dot\" est une instance de la classe Point() qui se trouve au niveau principal (main)du programme. \n",
    "\n",
    "**0x108eb9748** = notation hexadecimale indique l'adresse de l'emplacement de la mémoire vive de cette instance."
   ]
  },
  {
   "cell_type": "code",
   "execution_count": 6,
   "metadata": {},
   "outputs": [
    {
     "name": "stdout",
     "output_type": "stream",
     "text": [
      "Définition d'un point géométrique\n"
     ]
    }
   ],
   "source": [
    "print(dot.__doc__)"
   ]
  },
  {
   "cell_type": "markdown",
   "metadata": {},
   "source": [
    "L'attribut prédéfini **\"__doc__\"**  permet d'afficher le commentaire associé à un objet.\n",
    "\n",
    "### Attribut\n",
    "#### Attributs (ou variables) d’instance\n",
    "Un objet n'a d'intérêt que s'il possède des attributs.\n",
    "\n",
    "Dans notre exemple, il s'agit de spécifier les coordonnées \"x\" et \"y\" d'un point."
   ]
  },
  {
   "cell_type": "code",
   "execution_count": 7,
   "metadata": {},
   "outputs": [],
   "source": [
    "dot.x = 1.0\n",
    "dot.y = 5.0"
   ]
  },
  {
   "cell_type": "markdown",
   "metadata": {},
   "source": [
    "**Avec cette écriture, on encapsule les deux attributs avec l'instance ou objet \"dot\".  Ceci permet, comme le montre le code qui suit, d'utiliser un attribut avec son objet comme n'importe quelle variable.**"
   ]
  },
  {
   "cell_type": "code",
   "execution_count": 9,
   "metadata": {},
   "outputs": [
    {
     "name": "stdout",
     "output_type": "stream",
     "text": [
      "1.0\n"
     ]
    }
   ],
   "source": [
    "print(dot.x)"
   ]
  },
  {
   "cell_type": "code",
   "execution_count": 10,
   "metadata": {},
   "outputs": [
    {
     "name": "stdout",
     "output_type": "stream",
     "text": [
      "26.0\n"
     ]
    }
   ],
   "source": [
    "print(dot.x**2+ dot.y**2)"
   ]
  },
  {
   "cell_type": "markdown",
   "metadata": {},
   "source": [
    "**Remarque :**\n",
    "* une variable (ex. x ) et un attribut d'un objet  (ex. dot.x) qui portent le même nom ne représente pas la même chose et chacun est considéré différemment par python. La première caractérise une variable libre ( celle de \"x\") quant à la deuxième elle est encapsulée dans l'objet \"dot\".\n"
   ]
  },
  {
   "cell_type": "code",
   "execution_count": 11,
   "metadata": {},
   "outputs": [
    {
     "name": "stdout",
     "output_type": "stream",
     "text": [
      "25 12\n"
     ]
    }
   ],
   "source": [
    "y=25\n",
    "dot.y=12\n",
    "print(y, dot.y)"
   ]
  },
  {
   "cell_type": "markdown",
   "metadata": {},
   "source": [
    "#### Passage d’objets comme arguments d’une fonction\n",
    "Soit la fonction suivante :"
   ]
  },
  {
   "cell_type": "code",
   "execution_count": 12,
   "metadata": {},
   "outputs": [],
   "source": [
    "def affiche_point(p):\n",
    "    print(\" Abscisse = \", p.x, \" l'ordonnée = \", p.y)"
   ]
  },
  {
   "cell_type": "code",
   "execution_count": 13,
   "metadata": {},
   "outputs": [],
   "source": [
    "#On crée une nouvelle instance p0 de la classe Point()\n",
    "p0=Point() "
   ]
  },
  {
   "cell_type": "code",
   "execution_count": 14,
   "metadata": {},
   "outputs": [],
   "source": [
    "#On lui crée deux attributs relatifs à ses coordonnées\n",
    "p0.x=14.5\n",
    "p0.y=7.25"
   ]
  },
  {
   "cell_type": "code",
   "execution_count": 15,
   "metadata": {},
   "outputs": [
    {
     "name": "stdout",
     "output_type": "stream",
     "text": [
      " Abscisse =  14.5  l'ordonnée =  7.25\n"
     ]
    }
   ],
   "source": [
    "#On passe un objet de type Point() comme argument*\n",
    "affiche_point(p0)"
   ]
  },
  {
   "cell_type": "markdown",
   "metadata": {},
   "source": [
    "#### Unification d'objets\n",
    "Soit le code Python suivant :"
   ]
  },
  {
   "cell_type": "code",
   "execution_count": 18,
   "metadata": {},
   "outputs": [],
   "source": [
    "#On crée une nouvelle instance p1 de la classe Point()\n",
    "p1 = Point()"
   ]
  },
  {
   "cell_type": "code",
   "execution_count": 19,
   "metadata": {},
   "outputs": [],
   "source": [
    "#On lui crée deux attributs relatifs à ses coordonnées\n",
    "p1.x = 10\n",
    "p1.y = 20"
   ]
  },
  {
   "cell_type": "code",
   "execution_count": 20,
   "metadata": {},
   "outputs": [],
   "source": [
    "#On crée une autre instance p2 de la classe Point()\n",
    "p2 = Point()"
   ]
  },
  {
   "cell_type": "code",
   "execution_count": 21,
   "metadata": {},
   "outputs": [],
   "source": [
    "#On lui crée deux attributs relatifs à ses coordonnées\n",
    "p2.x = 10\n",
    "p2.y = 20"
   ]
  },
  {
   "cell_type": "code",
   "execution_count": 22,
   "metadata": {},
   "outputs": [
    {
     "name": "stdout",
     "output_type": "stream",
     "text": [
      "False\n"
     ]
    }
   ],
   "source": [
    "#On demande d'imprimer la valeur de la comparaison d'égalité de p1 et p2\n",
    "print(p1 == p2)"
   ]
  },
  {
   "cell_type": "markdown",
   "metadata": {},
   "source": [
    "**Explication :**\n",
    "* La création de deux instances de Point() sont considérées comme deux objets distincts et donc totalement différents même s'ils ont le même contenu.  Les deux instances ne pointent pas sur la même adresse mémoire.\n",
    "\n",
    "Essayons le code suivant :"
   ]
  },
  {
   "cell_type": "code",
   "execution_count": 25,
   "metadata": {},
   "outputs": [
    {
     "name": "stdout",
     "output_type": "stream",
     "text": [
      "True\n"
     ]
    }
   ],
   "source": [
    "#On crée une autre instance p2 de la classe Point()\n",
    "p2 = p1\n",
    "\n",
    "#On demande d'imprimer la valeur de la comparaison d'égalité de p1 et p2\n",
    "print(p1 == p2)"
   ]
  },
  {
   "cell_type": "markdown",
   "metadata": {},
   "source": [
    "**Explication :**\n",
    "* Cette fois-ci, on fait une affectation et plus généralement une Unification entre les deux variables de type Point().\n",
    "* Les deux variables référencent le même objet et pointe sur le même emplacement  mémoire. On dit que sont des \"alias\" l'une de l'autre. \n",
    "\n",
    "Que se passe-t-il si on modifie la valeur d'un attribut de p1 ?"
   ]
  },
  {
   "cell_type": "code",
   "execution_count": 26,
   "metadata": {},
   "outputs": [
    {
     "name": "stdout",
     "output_type": "stream",
     "text": [
      "100\n"
     ]
    }
   ],
   "source": [
    "#On donne à l'attribut \"x\" de p1 la valeur 100\n",
    "p1.x = 100\n",
    "#On demande d'imprimer l'attribut \"x\" de p2\n",
    "print(p2.x)\n",
    "\n",
    "#On constate que  \"p2.x\" a reçu également la valeur attribuée à \"p1.x\" "
   ]
  },
  {
   "cell_type": "markdown",
   "metadata": {},
   "source": [
    "## Méthode\n",
    "### Définition d’une méthode\n",
    "La finalité des classes est l'encapsulation dans un même objet ses attributs (propriétés) et ses méthodes (fonctions qui peuvent agir sur les attributs)\n",
    "**Objet = encapsulation des  attributs + méthodes**\n",
    " \n",
    "On commence par définir la classe **Meteo()**\n",
    "\n",
    "A chaque instant, on connait sa **\"température\"**, sa **\"pression_barometrique\"**, sa **\"direction_vent\"**, sa **\"vitesse_vent\"**. "
   ]
  },
  {
   "cell_type": "code",
   "execution_count": 88,
   "metadata": {},
   "outputs": [],
   "source": [
    "class Meteo(object):\n",
    "    \"definition d'objets Meteo\"\n",
    "    instantMeteo = Meteo()\n",
    "    instantMeteo.témperature = 18  # en °C\n",
    "    instantMeteo.pression = 1025  # en Hecto Pascal => 1 hPa = 1 mbar  \n",
    "    instantMeteo.direction = \"Nord Est\"\n",
    "    instantMeteo.vitesse = 75 # Km/h"
   ]
  },
  {
   "cell_type": "markdown",
   "metadata": {},
   "source": [
    "On souhaite maintenant afficher notre instantMeteo\n",
    "#Ceci est une fonction et non une méthode de la classe Meteo()"
   ]
  },
  {
   "cell_type": "code",
   "execution_count": 89,
   "metadata": {},
   "outputs": [],
   "source": [
    "def afficher_Meteo(m): \n",
    "    message =\"-La température est de \"+str(m.temperature)+\"°C\"+ \"\\n\"+\"-La pression barométrique est de \"+str(m.pression)+\" hPa\"+\"\\n\"+\"-La direction du vent est \"+m.direction+\"\\n\"+\"-La vitesse du vent est de \"+str(m.vitesse)+\"km /heure.\\n\"\n",
    "    print(message)"
   ]
  },
  {
   "cell_type": "code",
   "execution_count": 90,
   "metadata": {},
   "outputs": [
    {
     "name": "stdout",
     "output_type": "stream",
     "text": [
      "-La température est de 18°C\n",
      "-La pression barométrique est de 1025 hPa\n",
      "-La direction du vent est Nord Est\n",
      "-La vitesse du vent est de 75km /heure.\n",
      "\n"
     ]
    }
   ],
   "source": [
    "afficher_Meteo(instantMeteo)"
   ]
  },
  {
   "cell_type": "markdown",
   "metadata": {},
   "source": [
    "**! « \\n » correspond au caractère spécial «saut de ligne» (line feed).**\n",
    "\n",
    "Qu'on peut également écrire comme suit"
   ]
  },
  {
   "cell_type": "code",
   "execution_count": 91,
   "metadata": {},
   "outputs": [],
   "source": [
    "def afficher_Meteo_bis(m):\n",
    "    message=\"-La température est de {0}°C\\n -La pression barométrique est de {1} hPa\\n -La direction du vent est {2}\\n -La vitesse du vent est de{3} km /heure.\\n\"        \n",
    "    print(message.format(m.temperature, m.pression,  m.direction, m.vitesse))"
   ]
  },
  {
   "cell_type": "code",
   "execution_count": 93,
   "metadata": {},
   "outputs": [
    {
     "name": "stdout",
     "output_type": "stream",
     "text": [
      "-La température est de 18°C\n",
      " -La pression barométrique est de 1025 hPa\n",
      " -La direction du vent est Nord Est\n",
      " -La vitesse du vent est de75 km /heure.\n",
      "\n"
     ]
    }
   ],
   "source": [
    "afficher_Meteo_bis(instantMeteo)"
   ]
  },
  {
   "cell_type": "markdown",
   "metadata": {},
   "source": [
    "**Remarque :**\n",
    "* La manière précédente n'associe pas la fonction AfficherMeteo à la classe Meteo(). Cette fonction n'est pas encapsulée dans la classe Meteo(). Elle est donc pas une méthode et ce n'est donc pas de la programmation orientée objet.\n",
    " \n",
    "Pour remédier à cela, nous écrivons le code suivant : "
   ]
  },
  {
   "cell_type": "code",
   "execution_count": 98,
   "metadata": {},
   "outputs": [],
   "source": [
    "class Meteo(object):\n",
    "    \"definition d'objets Meteo \"\n",
    "    def afficher_Meteo(m):\n",
    "        message=\"-La température est de {0}°C \\n\"\n",
    "        \"-La pression barométrique est de {1} hPa \\n\"\n",
    "        \"-La direction du vent est {2} \\n\"\n",
    "        \"-La vitesse du vent est de{3} km /heure. \\n\" \n",
    "        print(message.format(m.temperature, m.pression,\n",
    "        m.direction, m.vitesse))"
   ]
  },
  {
   "cell_type": "markdown",
   "metadata": {},
   "source": [
    "**Remarque :**\n",
    "* Cette écriture est mieux que la précédente mais reste insuffisante pour être réellement en adéquation avec la convention de Python pour la POO. \n",
    "\n",
    "Pour une vraie déclaration d'une méthode encapsulée, nous utilisons le code suivant :"
   ]
  },
  {
   "cell_type": "code",
   "execution_count": 110,
   "metadata": {},
   "outputs": [],
   "source": [
    "class Meteo(object):\n",
    "    \"definition d'objets Meteo\"\n",
    "    def afficher_Meteo(self):\n",
    "        message=\"-La température est de {0}°C \\n -La pression barométrique est de {1} hPa \\n -La direction du vent est {2} \\n -La vitesse du vent est de{3} km /heure.\\n\"   \n",
    "        print(message.format(self.temperature, self.pression, self.direction, self.vitesse))"
   ]
  },
  {
   "cell_type": "markdown",
   "metadata": {},
   "source": [
    "**Remarques : **\n",
    "* Avec cette écriture la méthode Afficher_Meteo est encapsulée dans la class Meteo().\n",
    "* La définition d’une méthode doit toujours comporter au moins un paramètre, il s'agit du paramètre \"self\". \n",
    "* On peut utiliser un autre nom que \"self\" mais ceci est déconseillé pour être en accord avec la convention de Python.\n",
    "* \"self\" fait référence à l’instance ou l’objet courant."
   ]
  },
  {
   "cell_type": "markdown",
   "metadata": {},
   "source": [
    "### Appel à une méthode sans instanciation correcte avec les attributs et leur valeur \u000b",
    "\n",
    "Soit une instance de la Meteo()"
   ]
  },
  {
   "cell_type": "code",
   "execution_count": 111,
   "metadata": {},
   "outputs": [],
   "source": [
    "temp_Aujourdhui = Meteo()"
   ]
  },
  {
   "cell_type": "code",
   "execution_count": 112,
   "metadata": {},
   "outputs": [
    {
     "ename": "AttributeError",
     "evalue": "'Meteo' object has no attribute 'affiche_Meteo'",
     "output_type": "error",
     "traceback": [
      "\u001b[0;31m---------------------------------------------------------------------------\u001b[0m",
      "\u001b[0;31mAttributeError\u001b[0m                            Traceback (most recent call last)",
      "\u001b[0;32m<ipython-input-112-4db0f429506e>\u001b[0m in \u001b[0;36m<module>\u001b[0;34m()\u001b[0m\n\u001b[1;32m      1\u001b[0m \u001b[0;31m# Que donnerai l’appel à la fonction afficher_ Meteo ()\u001b[0m\u001b[0;34m\u001b[0m\u001b[0;34m\u001b[0m\u001b[0m\n\u001b[0;32m----> 2\u001b[0;31m \u001b[0mtemp_Aujourdhui\u001b[0m\u001b[0;34m.\u001b[0m\u001b[0maffiche_Meteo\u001b[0m\u001b[0;34m(\u001b[0m\u001b[0;34m)\u001b[0m\u001b[0;34m\u001b[0m\u001b[0m\n\u001b[0m",
      "\u001b[0;31mAttributeError\u001b[0m: 'Meteo' object has no attribute 'affiche_Meteo'"
     ]
    }
   ],
   "source": [
    "# Que donnerai l’appel à la fonction afficher_ Meteo ()\n",
    "temp_Aujourdhui.affiche_Meteo() "
   ]
  },
  {
   "cell_type": "markdown",
   "metadata": {},
   "source": [
    "L’instruction donne l’erreur suivante :\n",
    "\n",
    "**AttributeError: ' Meteo ' object has no attribute 'affiche_Meteo'**\n",
    "\n",
    "Ceci est normal car à ce niveau, nous n’avons pas encore crée les attributs de l’instance **temp_Aujourdhui.**\n",
    "\n",
    "Commençons par le faire avec le code Python suivant :"
   ]
  },
  {
   "cell_type": "code",
   "execution_count": 113,
   "metadata": {},
   "outputs": [],
   "source": [
    "temp_Aujourdhui.temperature = 25\n",
    "temp_Aujourdhui.pression = 1020\n",
    "temp_Aujourdhui.direction = \"Sud\"\n",
    "temp_Aujourdhui.vitesse = 15"
   ]
  },
  {
   "cell_type": "markdown",
   "metadata": {},
   "source": [
    "**Essayon de nouveau :**"
   ]
  },
  {
   "cell_type": "code",
   "execution_count": 114,
   "metadata": {},
   "outputs": [
    {
     "name": "stdout",
     "output_type": "stream",
     "text": [
      "-La température est de 25°C \n",
      " -La pression barométrique est de 1020 hPa \n",
      " -La direction du vent est Sud \n",
      " -La vitesse du vent est de15 km /heure.\n",
      "\n"
     ]
    }
   ],
   "source": [
    "temp_Aujourdhui.afficher_Meteo()"
   ]
  },
  {
   "cell_type": "markdown",
   "metadata": {},
   "source": [
    "**Remarque :**\n",
    "* On constate cette fois-ci qu'il n y a pas erreur. Toutefois, cette façon de déclarer les attributs (utilisée à caractère pédagogique pour faciliter la compréhension) n’est pas recommandée car elle peut conduire à l’erreur précitée. \n",
    "* Nous  verrons dans la suite que les déclarations des attributs et des méthodes doivent se faire de manières plus conventionnelle et professionnelle notamment par l'utilisation d'un constructeur."
   ]
  }
 ],
 "metadata": {
  "kernelspec": {
   "display_name": "Python 3",
   "language": "python",
   "name": "python3"
  },
  "language_info": {
   "codemirror_mode": {
    "name": "ipython",
    "version": 3
   },
   "file_extension": ".py",
   "mimetype": "text/x-python",
   "name": "python",
   "nbconvert_exporter": "python",
   "pygments_lexer": "ipython3",
   "version": "3.6.5"
  }
 },
 "nbformat": 4,
 "nbformat_minor": 2
}
