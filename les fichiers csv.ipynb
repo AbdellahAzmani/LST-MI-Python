{
 "cells": [
  {
   "cell_type": "markdown",
   "metadata": {
    "deletable": false
   },
   "source": [
    "<center style=\"font-size:35px;color:red;font-weight:bold\"> Initiation à Python</center><br>\n",
    "<center style=\"color:black;font-size:20px\"> Structures de Données - Fichiers CSV </center>\n",
    "<br>\n",
    "<center style=\"color:black\">**Cours du Pr. Abdellah AZMANI**</center>\n",
    "<center style=\"color:black\">**Département Génie Informatique**</center>\n",
    "<br>\n",
    "<center style=\"color:black\">Université Abdelmalek Essaadi</center>\n",
    "<center style=\"color:black\">Faculté des Sciences et Techniques</center>\n",
    "<center style=\"color:black\">Tanger</center>"
   ]
  },
  {
   "cell_type": "markdown",
   "metadata": {
    "deletable": false
   },
   "source": [
    "## Fichiers CSV\n",
    "\n",
    "### Qu’est ce qu’un fichier CSV?\n",
    "\n",
    "Un fichier « CSV » est un fichier texte qui respecte un certain format. En effet, comme son nom l’indique (comma seperated values) : valeurs séparées par des virgules. \n",
    "\n",
    "Le format CSV est très utilisé comme format par les tableurs (comme excel) et les logiciels de base de données pour les opérations d’import et d’export.\n",
    "\n",
    "Le contenu d’un fichier est un ensemble de lignes, où chaque ligne est composée de plusieurs valeurs séparées par des virgules (la virgule est le séparateur par défaut).\n",
    "\n",
    "Le séparateur par défaut est la virgule « , ». Toutefois, on peut définir d’autres séparateurs comme : le point-virgule « ; », l’espace  » « , les deux points « : », … etc."
   ]
  },
  {
   "cell_type": "markdown",
   "metadata": {
    "deletable": false
   },
   "source": [
    "### Lecture d'un fichier CSV\n",
    "Comme les fichiers CSV sont des fichiers texte, il faut d’abord les ouvrir en mode lecture texte « r ». Pour cela, on utilise la fonction « open ».\n",
    "#### Lecture d'un fichier CSV sans module csv\n",
    "Pour lire le contenu d’un fichier CSV sans utiliser le module Python « csv », il faudra lire le fichier ligne par ligne et parser les lignes en python :"
   ]
  },
  {
   "cell_type": "code",
   "execution_count": null,
   "metadata": {},
   "outputs": [],
   "source": [
    "# Importation de la bibliothéque Drive\n",
    "from google.colab import drive\n",
    "drive.mount('/content/drive')"
   ]
  },
  {
   "cell_type": "code",
   "execution_count": null,
   "metadata": {},
   "outputs": [],
   "source": [
    "f = open(\"/content/drive/My Drive/Fichier.csv\", \"r+\")     # mode lecture/écriture\n",
    "lignes = f.readlines()\n",
    "f.seek(0)                         # retour au début du fichier\n",
    "for l in lignes:\n",
    "     # découper les lignes en plusieurs éléments\n",
    "     s = l.split(\",\")             \n",
    "     # regrouper les éléments\n",
    "     ss = \"#\".join(s) \n",
    "     # écrire la ligne dans le fichier            \n",
    "     f.write(ss)\n",
    "f.close()"
   ]
  },
  {
   "cell_type": "markdown",
   "metadata": {},
   "source": [
    "#### Lecture d'un fichier CSV avec le module csv\n",
    "Avec le module CSV, on utilise une la fonction « reader » qui génère un itérateur et qui itère sur les ligne du fichier. Cette fonction s’occupe également de parser les lignes. Ensuite, on utilise « writer » pour l’écriture."
   ]
  },
  {
   "cell_type": "code",
   "execution_count": null,
   "metadata": {},
   "outputs": [],
   "source": [
    "import csv\n",
    "f = open(\"Fichier.csv\", \"r+\")\n",
    "r = csv.reader(f, delimiter=\",\")\n",
    "lignes = list(r)\n",
    "f.seek(0)                           # retour au début du fichier\n",
    "w = csv.writer(f, delimiter=\"#\")\n",
    "w.writerows(lignes)\n",
    "f.close()                           # fermeture du fichier"
   ]
  }
 ],
 "metadata": {
  "celltoolbar": "Edit Metadata",
  "kernelspec": {
   "display_name": "Python 3",
   "language": "python",
   "name": "python3"
  },
  "language_info": {
   "codemirror_mode": {
    "name": "ipython",
    "version": 3
   },
   "file_extension": ".py",
   "mimetype": "text/x-python",
   "name": "python",
   "nbconvert_exporter": "python",
   "pygments_lexer": "ipython3",
   "version": "3.6.5"
  }
 },
 "nbformat": 4,
 "nbformat_minor": 2
}
