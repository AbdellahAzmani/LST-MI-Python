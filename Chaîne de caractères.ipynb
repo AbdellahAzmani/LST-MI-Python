{
 "cells": [
  {
   "cell_type": "markdown",
   "metadata": {
    "deletable": false,
    "editable": false
   },
   "source": [
    "<center style=\"font-size:35px;color:red;font-weight:bold\"> Initiation à Python</center><br>\n",
    "<center style=\"color:black;font-size:20px\"> Structures de Données  </center>\n",
    "<br>\n",
    "<center style=\"color:black\">**Cours du Pr. Abdellah AZMANI**</center>\n",
    "<center style=\"color:black\">**Département Génie Informatique**</center>\n",
    "<br>\n",
    "<center style=\"color:black\">Université Abdelmalek Essaadi</center>\n",
    "<center style=\"color:black\">Faculté des Sciences et Techniques</center>\n",
    "<center style=\"color:black\">Tanger</center>"
   ]
  },
  {
   "cell_type": "markdown",
   "metadata": {
    "deletable": false,
    "editable": false
   },
   "source": [
    "## Chaîne de Caractères\n",
    "\n",
    "### Représentation \n",
    "\n",
    "Les chaines de caractères sont des variables de types « string » qui permettent de de stocker une série de caractères alphanumériques (lettres, chiffres, symbole et caractères spéciaux).\n",
    "\n",
    "Python permet plusieurs formes d’affectation \n",
    "\n",
    "St1 = \" je suis une chaîne de caractère entre deux guillemets\" \n",
    "\n",
    "St2 = ‘je suis une chaîne de caractères en 2 apostrophes’\n",
    "\n",
    "**Python permet plusieurs formes d’affectation** <br>\n",
    "St1 = **\" je suis une chaîne de caractère entre deux guillemets\" ** <br>\n",
    "St2 = **‘je suis une chaîne de caractères en 2 apostrophes’** <br>\n",
    "St3 = **\" \" \" je suis une chaîne de caractères <br>\n",
    "        qui s’écrive sur plusieurs lignes. <br>\n",
    "        Pour m’indiquer à Python, il faut commencer <br>\n",
    "        par 3 guillemets et terminer également par  <br>\n",
    "        et 3 guillemets  \" \" \" **"
   ]
  },
  {
   "cell_type": "markdown",
   "metadata": {
    "deletable": false,
    "editable": false
   },
   "source": [
    "**Problèmes à éviter **\n",
    "\n",
    "NoSt4 = ’Pourquoi c’est moi qui pose problème ? ’\n",
    "\n",
    "Ici Python considère que **‘Pourquoi c’** comme une chaîne de caractères comprise entre 2 guillemets. \n",
    "\n",
    "Et comme il ne trouve pas pour la deuxième partie \n",
    "**est moi qui pose problème ?’** le premier guillemet, Python provoque une erreur. \n",
    "\n",
    "Pour tenir compte d’un caractère apostrophe « ‘ » ou guillemet «\"» qui fait partie intégrante du contenu de la chaîne de caractères, il faut l’indiquer à Python en ajouter un anti-Slach « \\ » avant. \n",
    "\n",
    "St4 = ’c<span style=\"color:red\">**\\’**</span> est ainsi que je ne pose pas problème .’\n",
    "\n",
    "St5 = \" <span style=\"color:red\">** \\\" **</span> moi non plus <span style=\"color:red\">** \\\" **</span> a précisé l’autre \" \n",
    "\n",
    "### Exercice\n",
    "\n",
    "| Expression type chaîne de caractères | Pb. de syntaxe ou non |\n",
    "| :--------- | :----------------------- |\n",
    "| S1 = 'C'est bien aujourd'hui qu'on va le voir ?' |    |\n",
    "| S1 = 'C\\'est bien aujourd\\'hui qu\\'on va le voir ?' |  |\n",
    "| S1=\"C'est bien aujourd'hui qu'on va le voir ?\" |   |\n",
    "| S2 = \" arrête de m’énerver LMN \" |  |\n",
    "| S3=\"D\\’après l’auteur : \\ \"  |  |\n",
    "| S4='Y=aX2 + bX + c' |  |"
   ]
  },
  {
   "cell_type": "markdown",
   "metadata": {
    "deletable": false,
    "editable": false
   },
   "source": [
    "### Fonctionnalités\n",
    "\n",
    "#### Indexation d’une chaîne de caractère\n",
    "\n",
    "A l’instar d’autres langages, Python considère une chaîne de caractère comme une liste. On peut ainsi l’indexer par des indices positifs qui commencent au début à l’indice « 0 » ou des indices négatifs qui commencent depuis la fin de la chaîne à l’indice « -1 ». \n",
    "\n",
    "**Exemples :**"
   ]
  },
  {
   "cell_type": "code",
   "execution_count": 9,
   "metadata": {},
   "outputs": [
    {
     "name": "stdout",
     "output_type": "stream",
     "text": [
      "L’élement St[ 0 ]  est =  V\n",
      "L’élement St[ 1 ]  est =  i\n",
      "L’élement St[ 2 ]  est =  v\n",
      "L’élement St[ 3 ]  est =  a\n",
      "L’élement St[ 4 ]  est =   \n",
      "L’élement St[ 5 ]  est =  l\n",
      "L’élement St[ 6 ]  est =  a\n",
      "L’élement St[ 7 ]  est =   \n",
      "L’élement St[ 8 ]  est =  v\n",
      "L’élement St[ 9 ]  est =  i\n",
      "L’élement St[ 10 ]  est =  d\n",
      "L’élement St[ 11 ]  est =  a\n"
     ]
    }
   ],
   "source": [
    "St = \"Viva la vida\"\n",
    "N = len(St)\n",
    "i=0\n",
    "while i<N:\n",
    "     print(\"L’élement St[\" ,i, \"]  est = \" , St[i])\n",
    "     i+=1"
   ]
  },
  {
   "cell_type": "markdown",
   "metadata": {
    "deletable": false,
    "editable": false
   },
   "source": [
    "**Exercice :**\n",
    "Transformer ce script en utilisant les indices négatifs. "
   ]
  },
  {
   "cell_type": "markdown",
   "metadata": {
    "deletable": false,
    "editable": false
   },
   "source": [
    "**Autre exemple :**\n",
    "\n",
    "Chaine = \"Le travail c’est la santé \" \n",
    "\n",
    "| 0 | 1 | 2 | 3 | 4 | 5 | 6 | 7 | 8 | 9 | 10 | 11 | 12 | 13 | 14 | 15 | 16 | 17 | 18 | 19 | 20 | 21 | 22 | 23 |24|\n",
    "| :- | :- | :- | :- | :- | :- | :- | :- | \n",
    "| L | e |  | t | r | a | v | a | i | l |  | c | ' | e | s | t |  | l | a |  | s | a | n | t | é |\n",
    "| -25 | -24 | -23 | -22 | -21 | -20 | -19 | -18 | -17 | -16 | -15 | -14 | -13 | -12 | -11 | -10 | -9 | -8 | -7 | -6 | -5 | -4 | -3 | -2 | -1 |\n",
    "\n",
    "\n",
    "Les cases ou cellules vides correspondent ici au caractère espace\n",
    "\n",
    "Chaine[0] = Chaine[25] = « L »<br>\n",
    "…<br>\n",
    "Chaine[24] = Chaine[-1] = « é »<br>\n",
    "\n",
    "<span style=\"color:red\">**Remarque :**</span><br>\n",
    "L’apostrophe de la phrase se trouve dans une chaîne entre 2 guillemets => pas besoin d’utiliser ici le « \\ »  \t\n",
    "\n",
    "### Extraction de sous-chaînes de caractères\n",
    "\n",
    "Comme pour les sous-listes, on peut extraire de sous-chaines comme suit : <br>\n",
    "Soit la chaîne  «   Ch1 = **\"Le travail c’est la santé\"**    » \n",
    "\n",
    "| Sous-chaîne | Résultat associé |\n",
    "| :--------- | :----------------------- |\n",
    "| Sch1 = Ch1[0:]  |    |\n",
    "| Sch2 = Ch1[2:] |  |\n",
    "| Sch3 = Ch1[3:10] |   |\n",
    "| Sch4 = Ch1[:10] |  |\n",
    "| Sch5 =Ch1[0:len(Ch1):2]  |  |\n",
    "\n",
    "### Concaténation de chaînes de caractères\n",
    "Comme pour les listes, Python permet de concaténer les chaînes de caractères en utilisant l’opérateur « + »"
   ]
  },
  {
   "cell_type": "code",
   "execution_count": 18,
   "metadata": {},
   "outputs": [
    {
     "data": {
      "text/plain": [
       "'Faculté des Sciences et Techniques'"
      ]
     },
     "execution_count": 18,
     "metadata": {},
     "output_type": "execute_result"
    }
   ],
   "source": [
    "Ch1  = \"Faculté\"\n",
    "Ch2  = \" des Sciences et Techniques\"\n",
    "Ch3  = \" Polytech\"\n",
    "Ch4  = \" de Tanger\"\n",
    "Ch1_2 = Ch1+ Ch2\n",
    "Ch1_2"
   ]
  },
  {
   "cell_type": "code",
   "execution_count": 19,
   "metadata": {},
   "outputs": [
    {
     "data": {
      "text/plain": [
       "'Faculté des Sciences et Techniques de Tanger'"
      ]
     },
     "execution_count": 19,
     "metadata": {},
     "output_type": "execute_result"
    }
   ],
   "source": [
    "Ch1_2_4 = Ch1_2 + Ch4\n",
    "Ch1_2_4"
   ]
  },
  {
   "cell_type": "code",
   "execution_count": 20,
   "metadata": {},
   "outputs": [
    {
     "data": {
      "text/plain": [
       "'Faculté Polytech de Tanger'"
      ]
     },
     "execution_count": 20,
     "metadata": {},
     "output_type": "execute_result"
    }
   ],
   "source": [
    "Ch1_3_4 = Ch1+Ch3 + Ch4\n",
    "Ch1_3_4"
   ]
  },
  {
   "cell_type": "markdown",
   "metadata": {
    "deletable": false,
    "editable": false
   },
   "source": [
    "### Modification d’une chaîne de caractères\n",
    "Soit la chaîne :   Ch = \"tanger\"    \n",
    "\n",
    "Nous souhaitons changer « t » par « T »"
   ]
  },
  {
   "cell_type": "code",
   "execution_count": 21,
   "metadata": {},
   "outputs": [
    {
     "ename": "TypeError",
     "evalue": "'str' object does not support item assignment",
     "output_type": "error",
     "traceback": [
      "\u001b[0;31m---------------------------------------------------------------------------\u001b[0m",
      "\u001b[0;31mTypeError\u001b[0m                                 Traceback (most recent call last)",
      "\u001b[0;32m<ipython-input-21-a9397aa60d0e>\u001b[0m in \u001b[0;36m<module>\u001b[0;34m()\u001b[0m\n\u001b[1;32m      1\u001b[0m \u001b[0mCh\u001b[0m \u001b[0;34m=\u001b[0m \u001b[0;34m' tanger'\u001b[0m\u001b[0;34m\u001b[0m\u001b[0m\n\u001b[0;32m----> 2\u001b[0;31m \u001b[0mCh\u001b[0m\u001b[0;34m[\u001b[0m\u001b[0;36m0\u001b[0m\u001b[0;34m]\u001b[0m \u001b[0;34m=\u001b[0m \u001b[0;34m' T '\u001b[0m\u001b[0;34m\u001b[0m\u001b[0m\n\u001b[0m",
      "\u001b[0;31mTypeError\u001b[0m: 'str' object does not support item assignment"
     ]
    }
   ],
   "source": [
    "Ch = ' tanger'\n",
    "Ch[0] = ' T '"
   ]
  },
  {
   "cell_type": "markdown",
   "metadata": {
    "deletable": false,
    "editable": false
   },
   "source": [
    "Python affiche une erreur :\n",
    "…\n",
    "TypeError: 'str' object does not support item assignment\n",
    "\n",
    "**Pour y remédier**"
   ]
  },
  {
   "cell_type": "code",
   "execution_count": 25,
   "metadata": {},
   "outputs": [
    {
     "name": "stdout",
     "output_type": "stream",
     "text": [
      "Tanger \n"
     ]
    }
   ],
   "source": [
    "Ch = 'tanger '\n",
    "Ch = \"T\" + Ch[1:]  #Extraction de sous-chaine et concaténation\n",
    "print (Ch)"
   ]
  },
  {
   "cell_type": "markdown",
   "metadata": {
    "deletable": false,
    "editable": false
   },
   "source": [
    "### Duplication d’une chaîne de caractères\n",
    "\n",
    "Même principe que pour les listes, Python propose d’utiliser l’opérateur « * » suivi d’un coefficient multiplicateur pour dupliquer une chaîne de caractères ."
   ]
  },
  {
   "cell_type": "code",
   "execution_count": 27,
   "metadata": {},
   "outputs": [
    {
     "name": "stdout",
     "output_type": "stream",
     "text": [
      "Allo ! Allo ! \n"
     ]
    }
   ],
   "source": [
    "ch_solo = \"Allo ! \"\n",
    "ch_double = ch_solo * 2   # duplication simple\n",
    "print(ch_double)"
   ]
  },
  {
   "cell_type": "code",
   "execution_count": 28,
   "metadata": {},
   "outputs": [
    {
     "name": "stdout",
     "output_type": "stream",
     "text": [
      "Allo ! Allo ! Allo ! Allo ! Allo ! \n"
     ]
    }
   ],
   "source": [
    "ch_quintuple = ch_solo * 5   # duplication 5 fois\n",
    "print(ch_quintuple)"
   ]
  },
  {
   "cell_type": "markdown",
   "metadata": {
    "deletable": false,
    "editable": false
   },
   "source": [
    "### Conversion d’une chaîne de caractères\n",
    "Python permet, grâce aux fonctions  int() et float(), de convertir une chaîne de caractère formée par des chiffres et qui correspond à un nombre entier ou réel (éventuellement avec une partie décimale indiquée par la présence du séparateur «.»). \n"
   ]
  },
  {
   "cell_type": "code",
   "execution_count": 30,
   "metadata": {},
   "outputs": [
    {
     "ename": "TypeError",
     "evalue": "must be str, not int",
     "output_type": "error",
     "traceback": [
      "\u001b[0;31m---------------------------------------------------------------------------\u001b[0m",
      "\u001b[0;31mTypeError\u001b[0m                                 Traceback (most recent call last)",
      "\u001b[0;32m<ipython-input-30-9a895b4763e0>\u001b[0m in \u001b[0;36m<module>\u001b[0;34m()\u001b[0m\n\u001b[1;32m      1\u001b[0m \u001b[0mch\u001b[0m \u001b[0;34m=\u001b[0m \u001b[0;34m'90'\u001b[0m\u001b[0;34m\u001b[0m\u001b[0m\n\u001b[0;32m----> 2\u001b[0;31m \u001b[0mprint\u001b[0m\u001b[0;34m(\u001b[0m\u001b[0mch\u001b[0m \u001b[0;34m+\u001b[0m \u001b[0;36m10\u001b[0m\u001b[0;34m)\u001b[0m\u001b[0;34m\u001b[0m\u001b[0m\n\u001b[0m",
      "\u001b[0;31mTypeError\u001b[0m: must be str, not int"
     ]
    }
   ],
   "source": [
    "ch = '90'\n",
    "print(ch + 10)"
   ]
  },
  {
   "cell_type": "markdown",
   "metadata": {
    "deletable": false,
    "editable": false
   },
   "source": [
    "Python indique une erreur<br>\n",
    "TypeError: must be str, not int<br>\n",
    "On ne peut additionner une chaîne de caractères et un entier<br>"
   ]
  },
  {
   "cell_type": "code",
   "execution_count": 32,
   "metadata": {},
   "outputs": [
    {
     "name": "stdout",
     "output_type": "stream",
     "text": [
      "100\n"
     ]
    }
   ],
   "source": [
    "# Conversion de « ch » d’une chaine de caractère à un entier \n",
    "n = int(ch)\n",
    "print(n + 10)"
   ]
  },
  {
   "cell_type": "markdown",
   "metadata": {
    "deletable": false,
    "editable": false
   },
   "source": [
    "### Exemples de Conversions de chaînes de caractères"
   ]
  },
  {
   "cell_type": "code",
   "execution_count": 34,
   "metadata": {},
   "outputs": [
    {
     "name": "stdout",
     "output_type": "stream",
     "text": [
      "La moyenne est :  14.0\n"
     ]
    }
   ],
   "source": [
    "note1 = '14.5'\n",
    "note2 = '13.5'\n",
    "print (\"La moyenne est : \", (float(note1)+float(note2))/2)\n"
   ]
  },
  {
   "cell_type": "code",
   "execution_count": 35,
   "metadata": {},
   "outputs": [
    {
     "data": {
      "text/plain": [
       "'14.5'"
      ]
     },
     "execution_count": 35,
     "metadata": {},
     "output_type": "execute_result"
    }
   ],
   "source": [
    "# L’inverse :\n",
    "Str1 = str(14.5)\n",
    "Str1"
   ]
  },
  {
   "cell_type": "code",
   "execution_count": 36,
   "metadata": {},
   "outputs": [
    {
     "data": {
      "text/plain": [
       "'13.5'"
      ]
     },
     "execution_count": 36,
     "metadata": {},
     "output_type": "execute_result"
    }
   ],
   "source": [
    "Str2 = str(float('13.5'))\n",
    "Str2"
   ]
  },
  {
   "cell_type": "markdown",
   "metadata": {
    "deletable": false,
    "editable": false
   },
   "source": [
    "### Utilisation de l'instruction \"in\" pour vérifier l'appartenance d’un élément à une chaine de caractères ou liste :\n",
    "\n",
    "Python propose l'instruction \"in\"  qui permet si un caractère se trouve dans une chaîne de caractères. \n",
    " \n",
    "Pour la chaîne de caractères :<br>"
   ]
  },
  {
   "cell_type": "code",
   "execution_count": 45,
   "metadata": {},
   "outputs": [
    {
     "name": "stdout",
     "output_type": "stream",
     "text": [
      "a  se trouve dans notre phrase.\n"
     ]
    }
   ],
   "source": [
    "Caractere = 'a'\n",
    "Chaine = \"Phrase de test\"\n",
    "if Caractere in Chaine:\n",
    " print(Caractere, \" se trouve dans notre phrase.\")"
   ]
  },
  {
   "cell_type": "markdown",
   "metadata": {
    "deletable": false,
    "editable": false
   },
   "source": [
    "**Rappel : l’instruction « in » permet également de vérifier si un élément se trouve dans une liste. **"
   ]
  },
  {
   "cell_type": "code",
   "execution_count": 47,
   "metadata": {},
   "outputs": [
    {
     "name": "stdout",
     "output_type": "stream",
     "text": [
      "1 fait bien partie de notre liste\n"
     ]
    }
   ],
   "source": [
    "nombre = 1\n",
    "liste = [1, 2, 3, 11, 101, 250]\n",
    "if nombre in liste:\n",
    " print(nombre, \"fait bien partie de notre liste\")"
   ]
  },
  {
   "cell_type": "markdown",
   "metadata": {
    "deletable": false,
    "editable": false
   },
   "source": [
    "## Fonctions prédéfinies\n",
    "### Utilisation des fonctions prédéfinies\n",
    "**split()** découpe une chaîne en une liste de plusieurs éléments. <br>\n",
    "Quand elle est appelée sans paramètres, elle découpe la chaîne selon le délimiteur par défaut, à savoir l'espace."
   ]
  },
  {
   "cell_type": "code",
   "execution_count": 48,
   "metadata": {},
   "outputs": [
    {
     "name": "stdout",
     "output_type": "stream",
     "text": [
      "['Phrase', 'de', 'test']\n"
     ]
    }
   ],
   "source": [
    "chaine =\"Phrase de test\"\n",
    "List = chaine.split()\n",
    "print(List)"
   ]
  },
  {
   "cell_type": "markdown",
   "metadata": {
    "deletable": false,
    "editable": false
   },
   "source": [
    "Elle peut aussi prendre 2 arguments :<br>\n",
    "Le 1er, le délimiteur.<br>\n",
    "Le 2ème, le nombre de découpages à effectuer.<br>"
   ]
  },
  {
   "cell_type": "code",
   "execution_count": 49,
   "metadata": {},
   "outputs": [
    {
     "name": "stdout",
     "output_type": "stream",
     "text": [
      "['Phrase', 'de#test']\n"
     ]
    }
   ],
   "source": [
    "chaine =\"Phrase#de#test\"\n",
    "List = chaine.split(\"#\",1)\n",
    "print(List)"
   ]
  },
  {
   "cell_type": "markdown",
   "metadata": {
    "deletable": false,
    "editable": false
   },
   "source": [
    "**join(list)** assemble les éléments d'une liste de chaîne pour former une chaîne unique.  \n",
    "\n",
    "La chaîne à laquelle on appliquera cette méthode est celle qui servira de séparateur.\n",
    " \n",
    "**Remarque :** cette fonction fonctionne avec les liste de chaînes seulement sinon elle génère une exception."
   ]
  },
  {
   "cell_type": "code",
   "execution_count": 51,
   "metadata": {},
   "outputs": [
    {
     "name": "stdout",
     "output_type": "stream",
     "text": [
      "Phrase de test\n"
     ]
    }
   ],
   "source": [
    "List =[\"Phrase\", \"de\", \"test\"]\n",
    "a= \" \"\n",
    "#Nous définissons le séparateur comme étant l'espace\n",
    "print(a.join(List))"
   ]
  },
  {
   "cell_type": "markdown",
   "metadata": {
    "deletable": false,
    "editable": false
   },
   "source": [
    "**find(seq)** : cherche la position d’une séquence dans une chaîne de caractères."
   ]
  },
  {
   "cell_type": "code",
   "execution_count": 52,
   "metadata": {},
   "outputs": [
    {
     "name": "stdout",
     "output_type": "stream",
     "text": [
      "10\n"
     ]
    }
   ],
   "source": [
    "ch1 = \"phrase de test\"\n",
    "ch2 = \"test\"\n",
    "print(ch1.find(ch2))"
   ]
  },
  {
   "cell_type": "markdown",
   "metadata": {
    "deletable": false,
    "editable": false
   },
   "source": [
    "**count(seq)**: compte le nombre d’occurrence de la séquence passée en argument dans la chaîne de caractères."
   ]
  },
  {
   "cell_type": "code",
   "execution_count": 53,
   "metadata": {},
   "outputs": [
    {
     "name": "stdout",
     "output_type": "stream",
     "text": [
      "3\n"
     ]
    }
   ],
   "source": [
    "ch1 = \"phrase de test\"\n",
    "ch2 = 'e'\n",
    "print(ch1.count(ch2))"
   ]
  },
  {
   "cell_type": "markdown",
   "metadata": {
    "deletable": false,
    "editable": false
   },
   "source": [
    "### Changement de « casse »\n",
    "\n",
    "**lower()** convertit toute la chaîne en minuscules."
   ]
  },
  {
   "cell_type": "code",
   "execution_count": 54,
   "metadata": {},
   "outputs": [
    {
     "name": "stdout",
     "output_type": "stream",
     "text": [
      "kiss kiss boom boom\n"
     ]
    }
   ],
   "source": [
    "ch0 = \"Kiss Kiss Boom Boom\"\n",
    "print(ch0.lower())"
   ]
  },
  {
   "cell_type": "code",
   "execution_count": 55,
   "metadata": {},
   "outputs": [
    {
     "name": "stdout",
     "output_type": "stream",
     "text": [
      "viva la vida\n"
     ]
    }
   ],
   "source": [
    "ch1 = \"VIVA LA VIDA\"\n",
    "print(ch1.lower())"
   ]
  },
  {
   "cell_type": "markdown",
   "metadata": {
    "deletable": false,
    "editable": false
   },
   "source": [
    "**upper()** convertit toute la chaîne en majuscules."
   ]
  },
  {
   "cell_type": "code",
   "execution_count": 56,
   "metadata": {},
   "outputs": [
    {
     "name": "stdout",
     "output_type": "stream",
     "text": [
      "LA RÉPONSE EST DANS LE VENT.\n"
     ]
    }
   ],
   "source": [
    "ch2 = \"La réponse est dans le vent.\"\n",
    "print(ch2.upper())"
   ]
  },
  {
   "cell_type": "code",
   "execution_count": 57,
   "metadata": {},
   "outputs": [
    {
     "name": "stdout",
     "output_type": "stream",
     "text": [
      "PIERRES QUI ROULENT\n"
     ]
    }
   ],
   "source": [
    "ch3 = \"pierres qui roulent\"\n",
    "print(ch3.upper())"
   ]
  },
  {
   "cell_type": "markdown",
   "metadata": {
    "deletable": false,
    "editable": false
   },
   "source": [
    "**swapcase()** convertit les majuscules d’une chaîne de caractères en minuscules, et vice-versa."
   ]
  },
  {
   "cell_type": "code",
   "execution_count": 58,
   "metadata": {},
   "outputs": [
    {
     "name": "stdout",
     "output_type": "stream",
     "text": [
      "iCI eT aILLEURS !\n"
     ]
    }
   ],
   "source": [
    "ch4 = \"Ici Et Ailleurs !\"\n",
    "print(ch4.swapcase())"
   ]
  },
  {
   "cell_type": "markdown",
   "metadata": {
    "deletable": false,
    "editable": false
   },
   "source": [
    "**title()** convertit en majuscule l’initiale de chaque mot d’une chaîne de caractères."
   ]
  },
  {
   "cell_type": "code",
   "execution_count": 59,
   "metadata": {},
   "outputs": [
    {
     "name": "stdout",
     "output_type": "stream",
     "text": [
      "Doit-On Craindre L’Intelligence Artificielle ?\n"
     ]
    }
   ],
   "source": [
    "ch5 = \"Doit-on craindre l’intelligence artificielle ?\"\n",
    "print(ch5.title())"
   ]
  },
  {
   "cell_type": "markdown",
   "metadata": {
    "deletable": false,
    "editable": false
   },
   "source": [
    "**capitalize()** convertit en majuscule la première lettre du 1er mot de la chaîne de caractères."
   ]
  },
  {
   "cell_type": "code",
   "execution_count": 60,
   "metadata": {},
   "outputs": [
    {
     "name": "stdout",
     "output_type": "stream",
     "text": [
      "L’histoire nous jugera.\n"
     ]
    }
   ],
   "source": [
    "ch6 = \"l’histoire nous jugera.\"\n",
    "print(ch6.capitalize())"
   ]
  },
  {
   "cell_type": "markdown",
   "metadata": {
    "deletable": false,
    "editable": false
   },
   "source": [
    "**strip()** enlève les espaces éventuels au début et à la fin de la chaîne de caractères."
   ]
  },
  {
   "cell_type": "code",
   "execution_count": 61,
   "metadata": {},
   "outputs": [
    {
     "data": {
      "text/plain": [
       "'Blablabla …'"
      ]
     },
     "execution_count": 61,
     "metadata": {},
     "output_type": "execute_result"
    }
   ],
   "source": [
    "ch7 = \"             Blablabla …       \"\n",
    "ch7.strip()"
   ]
  },
  {
   "cell_type": "markdown",
   "metadata": {
    "deletable": false,
    "editable": false
   },
   "source": [
    "**replace(X, Y)** remplace, dans la chaîne de caractères, toutes les occurrences du caractère représenté par « X » par le caractère représenté par « Y »."
   ]
  },
  {
   "cell_type": "code",
   "execution_count": 63,
   "metadata": {},
   "outputs": [
    {
     "name": "stdout",
     "output_type": "stream",
     "text": [
      "Vive le vide.\n"
     ]
    }
   ],
   "source": [
    "ch8 = \"Viva la vida.\"\n",
    "# Vive la vie\n",
    "print(ch8.replace(\"a\", \"e\"))"
   ]
  },
  {
   "cell_type": "markdown",
   "metadata": {
    "deletable": false,
    "editable": false
   },
   "source": [
    "**index(X)** renvoie l’indice de la première occurrence du caractère représenté par « X » dans la chaîne de caractères."
   ]
  },
  {
   "cell_type": "code",
   "execution_count": 64,
   "metadata": {},
   "outputs": [
    {
     "name": "stdout",
     "output_type": "stream",
     "text": [
      "3\n"
     ]
    }
   ],
   "source": [
    "ch9 =\"Le Zéro et l’infini\"\n",
    "print(ch9.index(\"Z\"))"
   ]
  },
  {
   "cell_type": "code",
   "execution_count": 65,
   "metadata": {},
   "outputs": [
    {
     "ename": "ValueError",
     "evalue": "substring not found",
     "output_type": "error",
     "traceback": [
      "\u001b[0;31m---------------------------------------------------------------------------\u001b[0m",
      "\u001b[0;31mValueError\u001b[0m                                Traceback (most recent call last)",
      "\u001b[0;32m<ipython-input-65-f8c30b155b75>\u001b[0m in \u001b[0;36m<module>\u001b[0;34m()\u001b[0m\n\u001b[0;32m----> 1\u001b[0;31m \u001b[0mprint\u001b[0m\u001b[0;34m(\u001b[0m\u001b[0mch9\u001b[0m\u001b[0;34m.\u001b[0m\u001b[0mindex\u001b[0m\u001b[0;34m(\u001b[0m\u001b[0;34m\"z\"\u001b[0m\u001b[0;34m)\u001b[0m\u001b[0;34m)\u001b[0m\u001b[0;34m\u001b[0m\u001b[0m\n\u001b[0m",
      "\u001b[0;31mValueError\u001b[0m: substring not found"
     ]
    }
   ],
   "source": [
    "print(ch9.index(\"z\"))"
   ]
  },
  {
   "cell_type": "markdown",
   "metadata": {
    "deletable": false,
    "editable": false
   },
   "source": [
    "Python indique une ERREUR<br>\n",
    "ValueError: substring not found<br>\n",
    "<span style=\"color:red\">**car “z” minuscule ne figure pas dans ch9.  **</span>"
   ]
  },
  {
   "cell_type": "code",
   "execution_count": 66,
   "metadata": {},
   "outputs": [
    {
     "name": "stdout",
     "output_type": "stream",
     "text": [
      "1\n"
     ]
    }
   ],
   "source": [
    "ch9 =\"Le Zéro et l’infini\"\n",
    "print(ch9.index(\"e\"))"
   ]
  },
  {
   "cell_type": "markdown",
   "metadata": {
    "deletable": false,
    "editable": false
   },
   "source": [
    "#### Formatage des chaînes de caractères :\n",
    "Lors de la construction d'une chaîne de caractères complexes. <br>\n",
    "Le formatage permet d’afficher très facilement divers résultats.<br>\n",
    "Nous écrivons notre phrase en utilisant des balises aux endroits où nous voulons insérer le contenu variable.<br>\n",
    "\n",
    "#### Formatage simple :\n",
    "La balise « %s » est valable pour tous les types de variables.<br>"
   ]
  },
  {
   "cell_type": "code",
   "execution_count": 68,
   "metadata": {},
   "outputs": [
    {
     "name": "stdout",
     "output_type": "stream",
     "text": [
      "Le majorant de la filière Intelligence Artificielle est l’étudiant RIFI qui a obtenu une moyenne générale de 17.25\n"
     ]
    }
   ],
   "source": [
    "Nom_Etudiant = \"RIFI\"\n",
    "Nom_Filiere = \"Intelligence Artificielle\"\n",
    "Moyenne_Etudiant = 17.25\n",
    "print(\"Le majorant de la filière %s est l’étudiant %s qui a obtenu une moyenne générale de %s\" % (Nom_Filiere, Nom_Etudiant, Moyenne_Etudiant))"
   ]
  },
  {
   "cell_type": "code",
   "execution_count": 70,
   "metadata": {},
   "outputs": [
    {
     "name": "stdout",
     "output_type": "stream",
     "text": [
      "Le majorant de la filière Intelligence Artificielle est l’étudiant RIFI qui a obtenu une moyenne générale de  17.25\n"
     ]
    }
   ],
   "source": [
    "Nom_Etudiant = \"RIFI\"\n",
    "Nom_Filiere = \"Intelligence Artificielle\"\n",
    "Moyenne_Etudiant = 17.25\n",
    "Phrase =\"Le majorant de la filière {} est l’étudiant {} qui a obtenu une moyenne générale de  {}\" \n",
    "print(Phrase.format (Nom_Filiere, Nom_Etudiant, Moyenne_Etudiant))"
   ]
  },
  {
   "cell_type": "markdown",
   "metadata": {
    "deletable": false,
    "editable": false
   },
   "source": [
    "Nous pouvons aussi utiliser ce formatage en utilisant des numéros d’ordre dans les balises."
   ]
  },
  {
   "cell_type": "code",
   "execution_count": 72,
   "metadata": {},
   "outputs": [
    {
     "name": "stdout",
     "output_type": "stream",
     "text": [
      "Jeunes hommes, bonjour à tous. \n"
     ]
    }
   ],
   "source": [
    "phrase =\"Jeunes {1}, bonjour à tou{0}s. \"\n",
    "print(phrase.format(\"\", \"hommes\"))"
   ]
  },
  {
   "cell_type": "code",
   "execution_count": 73,
   "metadata": {},
   "outputs": [
    {
     "name": "stdout",
     "output_type": "stream",
     "text": [
      "Jeunes femmes, bonjour à toutes. \n"
     ]
    }
   ],
   "source": [
    "phrase =\"Jeunes {1}, bonjour à tou{0}s. \"\n",
    "print(phrase.format(\"te\", \"femmes\"))"
   ]
  }
 ],
 "metadata": {
  "kernelspec": {
   "display_name": "Python 3",
   "language": "python",
   "name": "python3"
  },
  "language_info": {
   "codemirror_mode": {
    "name": "ipython",
    "version": 3
   },
   "file_extension": ".py",
   "mimetype": "text/x-python",
   "name": "python",
   "nbconvert_exporter": "python",
   "pygments_lexer": "ipython3",
   "version": "3.6.5"
  }
 },
 "nbformat": 4,
 "nbformat_minor": 2
}
