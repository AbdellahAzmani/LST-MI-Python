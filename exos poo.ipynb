{
 "cells": [
  {
   "cell_type": "markdown",
   "metadata": {},
   "source": [
    "<center style=\"font-size:35px;color:red;font-weight:bold\"> Initiation à Python</center><br>\n",
    "<center style=\"color:black;font-size:20px\"> Exercices TP6 - Programmation Orientée Objet</center>\n",
    "<br>\n",
    "<center style=\"color:black\">**Cours du Pr. Abdellah AZMANI**</center>\n",
    "<center style=\"color:black\">**Département Génie Informatique**</center>\n",
    "<br>\n",
    "<center style=\"color:black\">Université Abdelmalek Essaadi</center>\n",
    "<center style=\"color:black\">Faculté des Sciences et Techniques</center>\n",
    "<center style=\"color:black\">Tanger</center>"
   ]
  },
  {
   "cell_type": "markdown",
   "metadata": {},
   "source": [
    "## Exercice 1 : Figures géométriques\n",
    "Ecrire un programme Python qui permet de calculer par utilisation des classes et de leurs instances : le périmètre et la surface de figures géométriques suivantes :<br>\n",
    "Rectangle, Carré et Cercle.\n",
    "* Méthode 1 : on connait les mesures des côtés et du rayon.\n",
    "* Méthode 2 : on connaît les coordonnées des points"
   ]
  },
  {
   "cell_type": "code",
   "execution_count": null,
   "metadata": {},
   "outputs": [],
   "source": []
  },
  {
   "cell_type": "markdown",
   "metadata": {},
   "source": [
    "## Exercice 2 : Ventes de véhicule d’occasions\n",
    "On distingue deux catégories de véhicules : citadine (berline ou 4x4) et les utilitaires (fourgonne ou fourgonnette).<br>\n",
    "Chaque véhicule possède les informations suivantes :\n",
    "* Marque et Modèle\n",
    "* Kilométrage\n",
    "* Type de moteur : Essence, Diesel, Electrique, Hybride\n",
    "* Millésime (année de première mise en circulation)\n",
    "* Couleur\n",
    "* Etat Physique :  Excellent, T. Bon, Bon, Moyen, Nécessite travaux\n",
    "* Prix Achat\n",
    "* Prix de vente<br>\n",
    "\n",
    "Déclarer toutes les classes et sous-classes ainsi que leur constructeur et les méthodes qui permettent de les déclarer, de les modifier ses attributs, de les lires et de les afficher.  Mettre en évidence l’héritage et le polymorphisme."
   ]
  },
  {
   "cell_type": "code",
   "execution_count": null,
   "metadata": {},
   "outputs": [],
   "source": []
  },
  {
   "cell_type": "markdown",
   "metadata": {},
   "source": [
    "## Exercice 3 : Gestion du stocks\n",
    "Il s’agit d’un stocks de boissons.<br>\n",
    "On distingue plusieurs sortes de boissons :\n",
    "* Boissons gazeuses, Jus, Limonade, Eau plate, Eau petiote\n",
    "* Les boissons sont conditionnées dans des bouteilles en verre, des bouteilles en plastique, des briques en cartons, des canettes en métal.\n",
    "* On distingue plusieurs type de volume : 33 cL, ½ L, 1L, 1,5 L et 2L. \n",
    "* Les boissons sont conditionnées par des paquets de 24 pour les 33 cL et de paquets de 6 pour les autres.\n",
    " \n",
    "En plus des infos précitées, chaque boisson possède un Nom, une couleur.\n",
    "Le Stock gère les flux d’entrées et de sorties des paquets de boissons.\n",
    "\n",
    "Déclarer toutes les classes et sous-classes ainsi que leur constructeur et les méthodes qui permettent de les déclarer, de modifier leurs attributs, de les lires et de les afficher.  Mettre en évidence l’héritage et le polymorphisme."
   ]
  },
  {
   "cell_type": "code",
   "execution_count": null,
   "metadata": {},
   "outputs": [],
   "source": []
  }
 ],
 "metadata": {
  "kernelspec": {
   "display_name": "Python 3",
   "language": "python",
   "name": "python3"
  },
  "language_info": {
   "codemirror_mode": {
    "name": "ipython",
    "version": 3
   },
   "file_extension": ".py",
   "mimetype": "text/x-python",
   "name": "python",
   "nbconvert_exporter": "python",
   "pygments_lexer": "ipython3",
   "version": "3.6.5"
  }
 },
 "nbformat": 4,
 "nbformat_minor": 2
}
