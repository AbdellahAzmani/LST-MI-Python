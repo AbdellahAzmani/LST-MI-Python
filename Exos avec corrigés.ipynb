{
 "cells": [
  {
   "cell_type": "markdown",
   "metadata": {},
   "source": [
    "### Écrivez un programme pour afficher la mention selon la note saisie : \n",
    "| Note | Mention |\n",
    "| :- | :- |\n",
    "| 0 à 4| Très faible|\n",
    "| 4 à 6| Faible|\n",
    "| 6 à 8| Très médiocre|\n",
    "| 8 à 10| Médiocre|\n",
    "| 10 à 12| Passable|\n",
    "| 12 à 14| Assez bien|\n",
    "| 14 à 16| Bien|\n",
    "| 16 à 20| Très bien|"
   ]
  },
  {
   "cell_type": "code",
   "execution_count": null,
   "metadata": {},
   "outputs": [],
   "source": [
    "Note = int(input(\"Veuillez saisir une note entre 0 et 20 : \"))\n",
    "if Note < 0 : \n",
    "    print(\"Veuillez saisir une note entre 0 et 20 :\")\n",
    "elif Note >= 0 and Note < 4:\n",
    "    print(\"Très faible\")\n",
    "elif Note >= 4 and Note < 6:\n",
    "    print(\"Faible\")\n",
    "elif Note >= 6 and Note < 8:\n",
    "    print(\"Très médiocre\")\n",
    "elif Note >= 8 and Note < 10:\n",
    "    print(\"Médiocre\")\n",
    "elif Note >= 10 and Note < 12:\n",
    "    print(\"Passable\")\n",
    "elif Note >= 12 and Note < 14:\n",
    "    print(\"Assez Bien\")\n",
    "elif Note >= 14 and Note < 16:\n",
    "    print(\"Bien\")\n",
    "elif Note >= 16 and Note < 20:\n",
    "    print(\"Très Bien\")\n",
    "else : \n",
    "    print(\"Veuillez saisir une note entre 0 et 20 :\")"
   ]
  },
  {
   "cell_type": "markdown",
   "metadata": {},
   "source": [
    "### Écrivez un programme qui, pour une variable recevant une valeur entière, indique si l’année correspondante est bissextile en affichant : \"Cette année est bissextile\" ou \"Cette année n’est pas bissextile\" selon le cas.\n",
    "\n",
    "**Rappel.** Les années bissextiles sont celles qui sont divisibles par 4, sauf lorsqu’elles débutent un siècle non multiple de 400.\n",
    "\n",
    "(Par exemple : l’année 2000 était bissextile : 2000 débute un siècle mais 2000/400 = 50 ; l’année 2100 ne sera pas bissextile)."
   ]
  },
  {
   "cell_type": "code",
   "execution_count": null,
   "metadata": {},
   "outputs": [],
   "source": [
    "annee = int(input(\"Saisissez une année : \"))\n",
    "bissextile = False \n",
    "if annee % 400 == 0:\n",
    "    bissextile = True\n",
    "elif annee % 100 == 0:\n",
    "    bissextile = False\n",
    "elif annee % 4 == 0:\n",
    "    bissextile = True\n",
    "else:\n",
    "    bissextile = False\n",
    " \n",
    "if bissextile: # Si l'année est bissextile\n",
    "    print(\"L'année saisie est bissextile.\")\n",
    "else:\n",
    "    print(\"L'année saisie n'est pas bissextile.\")"
   ]
  },
  {
   "cell_type": "markdown",
   "metadata": {},
   "source": [
    "### Écrivez un programme pour afficher tous les nombres naturels en sens inverse de n à 1 en utilisant la boucle for et while."
   ]
  },
  {
   "cell_type": "code",
   "execution_count": null,
   "metadata": {},
   "outputs": [],
   "source": [
    "# Fournir les données d'entrée\n",
    "n = int(input(\"Saisir un nombre : \"))\n",
    "print(\"les nombres naturels de {0} à 1\".format(n))\n",
    "for i in range(n, 0, -1):\n",
    "    print(i, end=' ')"
   ]
  },
  {
   "cell_type": "markdown",
   "metadata": {},
   "source": [
    "### Écrivez un programme pour trouver la somme de tous les nombres naturels entre 1 et n en utilisant la boucle for et while"
   ]
  },
  {
   "cell_type": "code",
   "execution_count": null,
   "metadata": {},
   "outputs": [],
   "source": [
    "# Fournir les données d'entrée\n",
    "n = int(input(\"Saisir un nombre : \"))\n",
    "print(\"les nombres impairs de 1 à {0} \".format(n))\n",
    "somme = 0\n",
    "for i in range(1, n+1):\n",
    "    somme += i\n",
    "    print(\"la somme de {0} nombres = {1}\".format(n, somme))"
   ]
  },
  {
   "cell_type": "markdown",
   "metadata": {},
   "source": [
    "### Écrivez un programme pour entrer un nombre de l'utilisateur et comptez le nombre de chiffres dans l'entier donné en utilisant une boucle."
   ]
  },
  {
   "cell_type": "code",
   "execution_count": null,
   "metadata": {},
   "outputs": [],
   "source": [
    "# Fournir les données d'entrée\n",
    "num = int(input(\"Saisir un nombre : \"))\n",
    "compteur = 0\n",
    "while (num != 0):\n",
    "    # incrémenter le compteur\n",
    "    compteur += 1\n",
    "\n",
    "    # Supprimer le dernier chiffre de 'num'\n",
    "    num //= 10\n",
    "    print(\"Nombre de chiffres : \", compteur)"
   ]
  },
  {
   "cell_type": "markdown",
   "metadata": {},
   "source": [
    "### Écrivez un programme pour saisir un nombre et calculer la somme de ses chiffres en utilisant la boucle for."
   ]
  },
  {
   "cell_type": "code",
   "execution_count": null,
   "metadata": {},
   "outputs": [],
   "source": [
    "# Fournir les données d'entrée\n",
    "num = int(input(\"Saisir un nombre : \"))\n",
    "somme = 0\n",
    "# Répétez jusqu'à ce que num devienne 0\n",
    "while (num != 0):\n",
    "    # Trouver le dernier chiffre de num et l'ajouter à somme\n",
    "    somme += num % 10\n",
    "\n",
    "    # Supprimer le dernier chiffre\n",
    "    num = num // 10\n",
    "print(\"Somme de chiffres = \", somme)"
   ]
  },
  {
   "cell_type": "markdown",
   "metadata": {},
   "source": [
    "### Écrivez un script qui affiche une suite de 12 nombres dont chaque terme soit égal au triple du terme précédent.<br>"
   ]
  },
  {
   "cell_type": "code",
   "execution_count": null,
   "metadata": {},
   "outputs": [],
   "source": [
    "N= int(input(\"Saisir un nombre : \"))\n",
    "for i in range(12):\n",
    "    print(\" \" +str(N))\n",
    "    N = 3*N\n",
    "    i = i+1"
   ]
  },
  {
   "cell_type": "markdown",
   "metadata": {},
   "source": [
    "### Écrivez un programme qui convertit un nombre entier de secondes fourni au départ en un nombre d’années, de mois, de jours, de minutes et de secondes (utilisez l’opérateur modulo : % )."
   ]
  },
  {
   "cell_type": "code",
   "execution_count": null,
   "metadata": {},
   "outputs": [],
   "source": [
    "Nbre_initial_sec = int(input(\"Entrez le nombre de secondes à convertir \"))\n",
    "minutes = Nbre_initial_sec//60\n",
    "Nbre_initial_sec = Nbre_initial_sec%60\n",
    "heures = minutes//60\n",
    "minutes = minutes %60\n",
    "jours = heures//24\n",
    "heures = heures%60\n",
    "mois = jours//30\n",
    "jours=jours%30\n",
    "annees=jours//365\n",
    "jours = jours%365\n",
    "print(Nbre_initial_sec, 'secondes')\n",
    "print(minutes, 'minutes')\n",
    "print(heures, 'heures')\n",
    "print(jours, 'jours')\n",
    "print(mois, 'mois')\n",
    "print(annees, 'annees')"
   ]
  },
  {
   "cell_type": "markdown",
   "metadata": {},
   "source": [
    "### Ecrire un script qui continue de demander à l’utilisateur de saisir des nombres jusqu’à ce que leur somme des nombres saisis dépasse  une valeur initialement demandée à l’utilisateur.\n",
    "* Affiche la dernière somme calculée.\n",
    "* Affiche le nombre des nombres saisis au clavier."
   ]
  },
  {
   "cell_type": "code",
   "execution_count": null,
   "metadata": {},
   "outputs": [],
   "source": [
    "import os\n",
    "som=0\n",
    "cmp =0\n",
    "Limite=int(input(\" saisir un nombre \") ) #! attention\n",
    "while (som <=Limite) :\n",
    "    N = input(\" Veuillez saisir une valeur \")\n",
    "    N = int(N)\n",
    "    cmp =  cmp+1 \n",
    "    som =  som+N \n",
    "print (\" La somme des nombres saisis = \", som) \n",
    "print (\" Le nombre des nombres saisis  =  \", cmp)"
   ]
  },
  {
   "cell_type": "markdown",
   "metadata": {},
   "source": [
    "### Ecrire un programme Python qui continue de demander à l’utilisateur de saisir des nombres jusqu’à ce que ce dernier choisisse d’arrêter sachant que le programme lui demande à chaque itération s’il souhaite arrêter ou continuer.  Dès que l’utilisateur choisit d’arrêter, le programme doit afficher tenant compte des nombres saisis : \n",
    "* leur somme, leur moyenne, leur produit, leur maximum et leur minimum\n",
    "\n"
   ]
  },
  {
   "cell_type": "code",
   "execution_count": null,
   "metadata": {},
   "outputs": [],
   "source": [
    "N=0  # nombre entier de saisies  \n",
    "S,P=0,1  # S est la somme, P est le produit\n",
    "#Max=0\n",
    "#Min=0 \n",
    "Arreter=False  #permet d'arrêter la boucle \n",
    "while not(Arreter): \n",
    "    print(\"Voulez-vous saisir un nombre réel\") \n",
    "    R=str(input(\"Tapez 'o' ou 'O' pour continuer et 'n' ou 'N' pour arrêter : \")) # R est la réponse\n",
    "    if(R.lower()=='o'):\n",
    "        N+=1\n",
    "        X=float(input(\"saisir un nombre réel : \")) #Nombre réel saisi\n",
    "        S+=X \n",
    "        P*=X\n",
    "        if((N==1)or(X>Max)):\n",
    "            Max=X\n",
    "        if ((N==1)or(X<Min)):\n",
    "            Min=X\n",
    "    elif(R.lower()=='n'):\n",
    "        Arreter=True\n",
    "    else: # cas où l'utilisateur tape autre chose que 'o' ou 'n'\n",
    "        print(\"!!! Mauvaise frappe, veuillez taper 'o' ou 'n'\")\n",
    "\n",
    "if (N!=0):\n",
    "    print(\"--------------------------------------\")\n",
    "    print(\"le nombre d'éléments saisis est : \", N)\n",
    "    print(\"--------------------------------------\")\n",
    "    print(\"la somme des nombres saisis est : \", S)\n",
    "    print(\"--------------------------------------\")\n",
    "    print(\"le produit des nombres saisis est : \", P)\n",
    "    print(\"--------------------------------------\")\n",
    "    print(\"la moyenne des nombres d'éléments saisis est : \", S/N)\n",
    "    print(\"--------------------------------------\")\n",
    "    print(\"le max d'éléments saisis est : \", Max)\n",
    "    print(\"--------------------------------------\")\n",
    "    print(\"la min des nombres saisis est : \", Min)\n",
    "else:\n",
    "    print(\"Aucune valeur n'a été saisie\")"
   ]
  }
 ],
 "metadata": {
  "kernelspec": {
   "display_name": "Python 3",
   "language": "python",
   "name": "python3"
  },
  "language_info": {
   "codemirror_mode": {
    "name": "ipython",
    "version": 3
   },
   "file_extension": ".py",
   "mimetype": "text/x-python",
   "name": "python",
   "nbconvert_exporter": "python",
   "pygments_lexer": "ipython3",
   "version": "3.6.5"
  }
 },
 "nbformat": 4,
 "nbformat_minor": 2
}
