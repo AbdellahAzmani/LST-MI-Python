{
 "cells": [
  {
   "cell_type": "markdown",
   "metadata": {},
   "source": [
    "<center style=\"font-size:35px;color:red;font-weight:bold\"> Initiation à Python</center><br>\n",
    "<center style=\"color:black;font-size:20px\"> TP - Python : Graphes  </center>\n",
    "<br>\n",
    "<center style=\"color:black\">**Cours du Pr. Abdellah AZMANI**</center>\n",
    "<center style=\"color:black\">**Département Génie Informatique**</center>\n",
    "<br>\n",
    "<center style=\"color:black\">Université Abdelmalek Essaadi</center>\n",
    "<center style=\"color:black\">Faculté des Sciences et Techniques</center>\n",
    "<center style=\"color:black\">Tanger</center>"
   ]
  },
  {
   "cell_type": "markdown",
   "metadata": {},
   "source": [
    "Un groupe d’amis organise une randonnée.\n",
    "\n",
    "Soit Graphe G1(X1,Y1, un graphe non orienté, representé par les sommets A, B, C, D, E, F par lesquels ils peuvent choisir de passer.\n",
    "\n",
    "Une arête entre deux sommets coïncide avec l’existence d’un chemin entre les deux sommets.\n",
    "\n",
    "Ensemble des sommets: X = { A ,B ,C ,D ,E ,F}\n",
    "Ensemble des arêtes: Y = {A:(B,D,E,F) , B:(A,C,E,F) , C:(B,F) , D:(A,E,F) , E:(A,B,D,F) , F:(A,B,C,D,E)}\n",
    "\n",
    "### 1. Dessiner le graphe.\n",
    "### 2. Justifier que le graphe est connexe.\n",
    "\n",
    "** Rappel ** : Un graphe G est connexe si chaque couple de sommets est relié par une chaîne. \n",
    "\n",
    "### 3. Calculer le Degré des sommets du graphe\n",
    "\n",
    "** Rappel ** : Pour un graphe ou un multigraphe, on appelle degré du sommet v, et on note d(v), le nombre d‘arêtes incidentes avec ce sommet\n",
    "\n",
    "### 4. Donner la matrice d’adjacence M1 de ce graphe\n",
    "\n",
    "Le groupe se trouve au sommet C et souhaite se rendre au sommet D. Les distances en kilomètres entre chaque sommet sont comme suit : \n",
    "\n",
    "* A = {(A,B)=2 , (A,D)=12 , (A,E)=3 , (A,F)=4}\n",
    "* B = {(B,A)=2 , (B,C)=12 , (B,E)=5 , (B,F)=3}\n",
    "* C = {(C,B)=12 , (C,F)=15}\n",
    "* D = {(D,A)=12 , (D,E)=7 , (D,F)=23}\n",
    "* E = {(E,A)=3 , (E,B)=5 , (E,D)=7 , (E,F)=8}\n",
    "* F = {(F,A)=4 , (F,B)=3 , (F,C)=15 , (F,E)=8 , (F,D)=23}\n",
    "\n",
    "### 5. suivant la nouvelle modélisation graphique, donner a matrice d’adjacence M2 du nouveau graphe\n",
    "### 6. Déterminer le plus court chemin entre C et D en appliquant l’algorithme de Djikstra\n",
    "### 7. Déterminer le plus courts chemins reliant le sommet F à tous les sommets du graphe en appliquant  l’algorithme de Ford-Bellman\n",
    "\n",
    "Commençons par transformer le graphe non orienté en graphe orienté avec comme poids la durée du parcours, afin de calculer le temps à parcourir entre chaque sommet, la distance va être representé par minutes comme suit : \n",
    "\n",
    "* A = {(A,D)=30min , (A,E)=10min}\n",
    "* B = {(B,A)=5min , (B,C)=30min , (B,F)=10min}\n",
    "* C = {(C,B)=30min}\n",
    "* D = {(D,E)=17min}\n",
    "* E = {E,B)=15min , (E,F)=13min}\n",
    "* F = {(F,A)=8min ,(F,C)=35min , (F,D)=55min}\n",
    "\n",
    "### 8. suivant la nouvelle modélisation graphique, donner a matrice d’adjacence M2 du nouveau graphe\n",
    "### 9. Extraire les circuits du graphe\n",
    "\n",
    "** Rappel ** : Dans un graphe orienté, on appelle circuit une suite d'arcs consécutifs dont les deux sommets extrémités sont identiques \n",
    "\n",
    "### 10.  On vous demande d'appliquer les algorithmes précédents pour en extraire les chemins les plus rapides sachant que certains arcs présentent des contrainte qui peuvent apporter un ralentissement de quelques minutes (exemple l'arc ( F , D ) 15 mn)"
   ]
  },
  {
   "cell_type": "code",
   "execution_count": null,
   "metadata": {},
   "outputs": [],
   "source": []
  }
 ],
 "metadata": {
  "kernelspec": {
   "display_name": "Python 3",
   "language": "python",
   "name": "python3"
  },
  "language_info": {
   "codemirror_mode": {
    "name": "ipython",
    "version": 3
   },
   "file_extension": ".py",
   "mimetype": "text/x-python",
   "name": "python",
   "nbconvert_exporter": "python",
   "pygments_lexer": "ipython3",
   "version": "3.6.5"
  }
 },
 "nbformat": 4,
 "nbformat_minor": 2
}
