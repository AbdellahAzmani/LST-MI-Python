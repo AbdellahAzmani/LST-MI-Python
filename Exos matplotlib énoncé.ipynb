{
 "cells": [
  {
   "cell_type": "markdown",
   "metadata": {},
   "source": [
    "## Exercice 1 : Ecrivez un programme Python pour dessiner une ligne avec une étiquette appropriée sur l'axe x, l'axe y et un titre."
   ]
  },
  {
   "cell_type": "code",
   "execution_count": null,
   "metadata": {},
   "outputs": [],
   "source": []
  },
  {
   "cell_type": "markdown",
   "metadata": {},
   "source": [
    "## Exercice 2 : Ecrivez un programme Python pour dessiner une ligne en utilisant des valeurs d'axe données avec une étiquette appropriée sur l'axe x, l'axe y et un titre."
   ]
  },
  {
   "cell_type": "code",
   "execution_count": null,
   "metadata": {},
   "outputs": [],
   "source": []
  },
  {
   "cell_type": "markdown",
   "metadata": {},
   "source": [
    "## Exercice 3 : Ecrivez un programme Python pour tracer deux lignes ou plus sur le même tracé avec des légendes appropriées de chaque ligne."
   ]
  },
  {
   "cell_type": "code",
   "execution_count": null,
   "metadata": {},
   "outputs": [],
   "source": []
  },
  {
   "cell_type": "markdown",
   "metadata": {},
   "source": [
    "## Exercice 4 : Ecrivez un programme Python pour tracer deux ou plusieurs lignes avec des styles différents."
   ]
  },
  {
   "cell_type": "code",
   "execution_count": null,
   "metadata": {},
   "outputs": [],
   "source": []
  },
  {
   "cell_type": "markdown",
   "metadata": {},
   "source": [
    "## Exercice 5 : Ecrivez un programme Python pour tracer deux lignes ou plus et définir les marqueurs de ligne."
   ]
  },
  {
   "cell_type": "code",
   "execution_count": null,
   "metadata": {},
   "outputs": [],
   "source": []
  },
  {
   "cell_type": "markdown",
   "metadata": {},
   "source": [
    "## Exercice 6 : Ecrivez un programme Python pour tracer plusieurs lignes avec différents styles de format en une seule commande en utilisant des tableaux."
   ]
  },
  {
   "cell_type": "code",
   "execution_count": null,
   "metadata": {},
   "outputs": [],
   "source": []
  },
  {
   "cell_type": "markdown",
   "metadata": {},
   "source": [
    "## Exercice 7 : Ecrire une programmation Python pour afficher un histogramme de la popularité des langages de programmation.\n",
    "### Exemple de données:\n",
    "* Langages de programmation: Java, Python, PHP, JavaScript, C #, C ++\n",
    "* Popularité: 22.2, 17.6, 8.8, 8, 7.7, 6."
   ]
  },
  {
   "cell_type": "code",
   "execution_count": null,
   "metadata": {},
   "outputs": [],
   "source": []
  },
  {
   "cell_type": "markdown",
   "metadata": {},
   "source": [
    "## Exercice 8 : Ecrire un programme Python pour créer un diagramme à barres des scores par groupe et sexe. Utilisez plusieurs valeurs X sur le même graphique pour les hommes et les femmes.\n",
    "### Exemple de données:\n",
    "* Moyennes (hommes) = (22, 30, 35, 35, 26)\n",
    "* Moyennes (femmes) = (25, 32, 30, 35, 29)"
   ]
  },
  {
   "cell_type": "code",
   "execution_count": null,
   "metadata": {},
   "outputs": [],
   "source": []
  },
  {
   "cell_type": "markdown",
   "metadata": {},
   "source": [
    "## Exercice 9 : Ecrivez un programme Python pour créer un histogramme horizontal avec des couleurs ordonnées différemment.\n",
    "### Exemple de jeu de données:\n",
    "* languages = [['Language', 'Science', 'Math'], ['Science', 'Math', 'Language'], ['Math', 'Language', 'Science']]\n",
    "* valeurs = [{'Language': 75, 'Science': 88, 'Math': 96}, {'Language': 71, 'Science': 95, 'Math': 92}, {'Language': 75, 'Science': 90, 'Math': 89}]"
   ]
  },
  {
   "cell_type": "code",
   "execution_count": null,
   "metadata": {},
   "outputs": [],
   "source": []
  },
  {
   "cell_type": "markdown",
   "metadata": {},
   "source": [
    "## Exercice 10 : Ecrire une programmation Python pour afficher un graphique à secteurs de la popularité des langages de programmation.\n",
    "### Exemple de données:\n",
    "* Langages de programmation: Java, Python, PHP, JavaScript, C #, C ++\n",
    "* Popularité: 22,2, 17,6, 8,8, 8, 7,7, 6."
   ]
  },
  {
   "cell_type": "code",
   "execution_count": null,
   "metadata": {},
   "outputs": [],
   "source": []
  },
  {
   "cell_type": "markdown",
   "metadata": {},
   "source": [
    "## Exercice 11 : Ecrire un programme Python pour dessiner un nuage de points prenant une distribution aléatoire en X et Y et tracé l'un par rapport à l'autre."
   ]
  },
  {
   "cell_type": "code",
   "execution_count": null,
   "metadata": {},
   "outputs": [],
   "source": []
  },
  {
   "cell_type": "markdown",
   "metadata": {},
   "source": [
    "## Exercice 12 : Ecrire un programme Python pour dessiner un nuage de points comparant deux notes de matières en mathématiques et en sciences. Utilisez les notes de 10 élèves.\n",
    "### Données de test:\n",
    "* note_math = [88, 92, 80, 89, 100, 80, 60, 100, 80, 34]\n",
    "* note_science = [35, 79, 79, 48, 100, 88, 32, 45, 20, 30]\n",
    "* marks_range = [10, 20, 30, 40, 50, 60, 70, 80, 90, 100]"
   ]
  },
  {
   "cell_type": "code",
   "execution_count": null,
   "metadata": {},
   "outputs": [],
   "source": []
  }
 ],
 "metadata": {
  "kernelspec": {
   "display_name": "Python 3",
   "language": "python",
   "name": "python3"
  },
  "language_info": {
   "codemirror_mode": {
    "name": "ipython",
    "version": 3
   },
   "file_extension": ".py",
   "mimetype": "text/x-python",
   "name": "python",
   "nbconvert_exporter": "python",
   "pygments_lexer": "ipython3",
   "version": "3.6.5"
  }
 },
 "nbformat": 4,
 "nbformat_minor": 2
}
