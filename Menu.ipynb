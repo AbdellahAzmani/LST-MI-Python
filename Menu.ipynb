{
 "cells": [
  {
   "cell_type": "code",
   "execution_count": null,
   "metadata": {},
   "outputs": [],
   "source": [
    "# libraries\n",
    "import pandas as pd\n",
    "import numpy as np\n",
    "import networkx as nx\n",
    "import matplotlib.pyplot as plt\n",
    "\n",
    "    \n",
    "    def menu():\n",
    "\n",
    "        while True:\n",
    "            print(\"1.Saisir un graphe\")\n",
    "            print(\"2.Générer un graphe\")\n",
    "            print(\"3.Tracé un graphe\")\n",
    "            print(\"4.Générer la matrice d'adjacence\")\n",
    "            print(\"5.Calculer les degrés des sommets\")\n",
    "            print(\"6.Applications des algorithmes\")\n",
    "            choix = int(input(\"------Tapez votre choix------(0 pour exit)\\n\"))\n",
    "\n",
    "            if choix in range(0,7):\n",
    "                if choix == 0:\n",
    "                    break\n",
    "                elif choix == 1:\n",
    "                    while True:\n",
    "                        print(\"1.Ajouter un sommet\")\n",
    "                        \n",
    "                        print(\"2.Ajouter un arêt\")\n",
    "                        \n",
    "                elif choix == 2:\n",
    "                    print(\"Génération d'un Graphe\")\n",
    "                    G = nx.random_geometric_graph(10, 0.6)\n",
    "                    nx.draw(G)\n",
    "                    plt.show()\n",
    "                    \n",
    "                elif choix == 3:\n",
    "                    print(\"Choix 3\")\n",
    "                elif choix == 4:\n",
    "                    print(\"Choix 4\")\n",
    "                elif choix == 5:\n",
    "                    print(\"Choix 5\")\n",
    "                elif choix == 6:\n",
    "                    print(\"Choix 6\")\n",
    "\n",
    "            else:\n",
    "                print(\"tapez un choix valable (0--->7)\")"
   ]
  },
  {
   "cell_type": "code",
   "execution_count": null,
   "metadata": {},
   "outputs": [],
   "source": [
    "menu()"
   ]
  },
  {
   "cell_type": "code",
   "execution_count": null,
   "metadata": {},
   "outputs": [],
   "source": []
  }
 ],
 "metadata": {
  "kernelspec": {
   "display_name": "Python 3",
   "language": "python",
   "name": "python3"
  },
  "language_info": {
   "codemirror_mode": {
    "name": "ipython",
    "version": 3
   },
   "file_extension": ".py",
   "mimetype": "text/x-python",
   "name": "python",
   "nbconvert_exporter": "python",
   "pygments_lexer": "ipython3",
   "version": "3.6.5"
  }
 },
 "nbformat": 4,
 "nbformat_minor": 2
}
