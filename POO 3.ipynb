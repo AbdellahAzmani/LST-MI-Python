{
 "cells": [
  {
   "cell_type": "markdown",
   "metadata": {},
   "source": [
    "<center style=\"font-size:35px;color:red;font-weight:bold\"> Initiation à Python</center><br>\n",
    "<center style=\"color:black;font-size:20px\"> Programmation Orienté Objet - 3ème Partie </center>\n",
    "<br>\n",
    "<center style=\"color:black\">**Cours du Pr. Abdellah AZMANI**</center>\n",
    "<center style=\"color:black\">**Département Génie Informatique**</center>\n",
    "<br>\n",
    "<center style=\"color:black\">Université Abdelmalek Essaadi</center>\n",
    "<center style=\"color:black\">Faculté des Sciences et Techniques</center>\n",
    "<center style=\"color:black\">Tanger</center>"
   ]
  },
  {
   "attachments": {},
   "cell_type": "markdown",
   "metadata": {},
   "source": [
    "# Classe et Objet\n",
    "## Héritage\n",
    "* L’héritage est un des atouts fondamentaux de la POO. Il se caractérise par le fait d’utiliser une classe préexistante pour en créer une nouvelle.\n",
    "\n",
    "* La nouvelle classe est une dérivation de la première. On parle de classe fille qui hérite toutes les propriétés de sa classe mère.\n",
    "\n",
    "* La classe fille peut modifier certaines propriétés héritées de sa classe mère et pourra même en posséder ses propres caractéristiques.\n",
    " \n",
    "* On dit également qu’une classe fille est une spécialisation de sa classe mère.\n",
    "\n",
    "* Inversement, on dit que la classe mère est une généralisation de ses classes filles.\n",
    "\n",
    "### Exemple d'Héritage simple"
   ]
  },
  {
   "cell_type": "code",
   "execution_count": 2,
   "metadata": {},
   "outputs": [],
   "source": [
    "#création classe principale Vehicule() avec un attribut\n",
    "class Vehicule(object):\n",
    "    attrib1 = \"possède des roues\""
   ]
  },
  {
   "cell_type": "code",
   "execution_count": 3,
   "metadata": {},
   "outputs": [],
   "source": [
    "# création classe Voiture() dérivée de la classe vehicule() avec un attribut\n",
    "class Voiture(Vehicule):\n",
    "    attrib2 = \"possède des sièges\""
   ]
  },
  {
   "cell_type": "code",
   "execution_count": 4,
   "metadata": {},
   "outputs": [],
   "source": [
    "# création classe Voiture_Autonome() dérivée de la classe vehicule() avec un attribut\n",
    "class Voiture_Autonome(Voiture):\n",
    "    attrib3=\"possède un moteur électrique\""
   ]
  },
  {
   "cell_type": "code",
   "execution_count": 5,
   "metadata": {},
   "outputs": [],
   "source": [
    "# Création d’un instance de  tesla_Roadster de la classe Voiture_ Autonome ():\n",
    "tesla_Roadster=Voiture_Autonome()"
   ]
  },
  {
   "cell_type": "code",
   "execution_count": 6,
   "metadata": {},
   "outputs": [
    {
     "name": "stdout",
     "output_type": "stream",
     "text": [
      "possède des roues possède des sièges possède un moteur électrique\n"
     ]
    }
   ],
   "source": [
    "# Impression des 3 attributs précités à partir du programme principal avec l’instance  tesla\n",
    "print(tesla_Roadster.attrib1, tesla_Roadster.attrib2, tesla_Roadster.attrib3)"
   ]
  },
  {
   "attachments": {},
   "cell_type": "markdown",
   "metadata": {},
   "source": [
    "**Remarques :**\n",
    "* « tesla_Roadster » instance de voiture électrique possède ses attributs propres et hérite toutes les propriétés de des ascendants : Voiture() et Véhicule().\n",
    "* Notez bien que les attributs utilisés dans cet exemple sont des attributs de classes (et non des attributs d'instances).\n",
    "* **L'instance peut accéder aux attributs des ses classes ascendantes mais elle ne peut les modifier.** \n",
    "\n",
    "Dans l'exemple suivant, on va attribuer à une instance un attribut ayant le même nom que celui de l'un de ses ascendants :<br> \n",
    "\" \" \" l’instance tesla_Roadster de la classe «Voiture_Autonome() » fille de la classe « Voiture() » va modifier l’attribut « attrib2 » de son ancêtre.\" \" \" "
   ]
  },
  {
   "cell_type": "code",
   "execution_count": 7,
   "metadata": {},
   "outputs": [],
   "source": [
    "tesla_Roadster.attrib2 = \"possède 8 caméras\" "
   ]
  },
  {
   "cell_type": "code",
   "execution_count": 8,
   "metadata": {},
   "outputs": [
    {
     "name": "stdout",
     "output_type": "stream",
     "text": [
      "possède 8 caméras\n"
     ]
    }
   ],
   "source": [
    "#  La demande de l’affichage de cet attribut avec ’instance tesla_Roadster confirme cette modification \n",
    "print(tesla_Roadster.attrib2)"
   ]
  },
  {
   "cell_type": "code",
   "execution_count": 9,
   "metadata": {},
   "outputs": [],
   "source": [
    "#  on crée une nouvelle instance de «googleCar »  de l a classe «Voiture_Autonome() » \n",
    "googleCar = Voiture_Autonome()"
   ]
  },
  {
   "cell_type": "markdown",
   "metadata": {},
   "source": [
    "**On  demande l’affichage de « attrib2 » avec l’instance googleCar<br> \n",
    "On constate que cette fois-ci que le descend « googleCar » a hérité la valeur de son ancêtre « Voiture() »**"
   ]
  },
  {
   "cell_type": "code",
   "execution_count": 10,
   "metadata": {},
   "outputs": [
    {
     "name": "stdout",
     "output_type": "stream",
     "text": [
      "possède des sièges\n"
     ]
    }
   ],
   "source": [
    "print(googleCar.attrib2)"
   ]
  },
  {
   "attachments": {},
   "cell_type": "markdown",
   "metadata": {},
   "source": [
    "**Remarque :**\n",
    "* Pour attribuer la valeur d'un attribut comme ici \"attrib2\", Python commence par rechercher si ce nom a été directement attribué à l'instance. \n",
    "    * Si c'est le cas, il priorise la valeur de cet attribut. \n",
    "    * Sinon, il va chercher dans l'ancêtre le plus proche (premier niveau d'héritage), et ainsi de suite. \n",
    "        * Dès qu'il rencontre le premier attribut avec ce nom, il va utiliser sa valeur.\n",
    "        * S'il ne le trouve pas, il va afficher une erreur.\n",
    "        \n",
    "## Polymorphisme\n",
    "* Le polymorphisme permet à des fonctions et des méthodes de mêmes noms d'avoir des fonctionnalités différentes et d'effectuer des opérations sur des données de types différents.\n",
    "\n",
    "* Nous nous intéressons ici au polymorphisme d'héritage et nous verrons les autres types (surcharge ou adhoc, générique, statique, dynamique) par la suite. \n",
    " \n",
    "* Le polymorphisme d'héritage permet de redéfinir une méthode dans des classes héritant d’une classe ascendante. \n",
    " \n",
    "* Ainsi une classe fille qui hérite des méthodes d’une classe ascendante peut modifier celle-ci pour l'adapter à ses besoins. Dans ce cas, les deux méthodes doivent garder le même nom.\n",
    " \n",
    "* Il s'agit également du fait de pouvoir utiliser une même méthode portant le même nom par plusieurs objets différents. On parle de surcharge de méthode.\n",
    "\n",
    "Prenant l'exemple suivant :"
   ]
  },
  {
   "cell_type": "code",
   "execution_count": 15,
   "metadata": {},
   "outputs": [],
   "source": [
    "class Forme(object):\n",
    "    # forme géométrique\n",
    "    def aire():\n",
    "        return 0\n",
    "class Carre(Forme):\n",
    "    def __init__(self,x=0):\n",
    "        self.cote=x\n",
    "    def aire(self):\n",
    "        return self.cote*self.cote\n",
    "class Cercle(Forme):\n",
    "        def __init__(self,x=0):\n",
    "            self.rayon=x\n",
    "        def aire(self):\n",
    "            return 3.1415926535*self.rayon**2"
   ]
  },
  {
   "cell_type": "code",
   "execution_count": 17,
   "metadata": {},
   "outputs": [],
   "source": [
    "# programme principal\n",
    "def princ():\n",
    "    c=Carre(5)\n",
    "    r=Cercle(3)\n",
    "    print(c.aire(),\"***\",r.aire())"
   ]
  },
  {
   "cell_type": "code",
   "execution_count": 18,
   "metadata": {},
   "outputs": [
    {
     "name": "stdout",
     "output_type": "stream",
     "text": [
      "25 *** 28.2743338815\n"
     ]
    }
   ],
   "source": [
    "#L'appel au programme principal \n",
    "princ()"
   ]
  },
  {
   "cell_type": "code",
   "execution_count": null,
   "metadata": {},
   "outputs": [],
   "source": []
  }
 ],
 "metadata": {
  "kernelspec": {
   "display_name": "Python 3",
   "language": "python",
   "name": "python3"
  },
  "language_info": {
   "codemirror_mode": {
    "name": "ipython",
    "version": 3
   },
   "file_extension": ".py",
   "mimetype": "text/x-python",
   "name": "python",
   "nbconvert_exporter": "python",
   "pygments_lexer": "ipython3",
   "version": "3.6.5"
  }
 },
 "nbformat": 4,
 "nbformat_minor": 2
}
