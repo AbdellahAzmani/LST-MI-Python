{
 "cells": [
  {
   "cell_type": "markdown",
   "metadata": {
    "deletable": false,
    "editable": false
   },
   "source": [
    "## Fonctions sous Python\n",
    "\n",
    "### Définition\n",
    "\n",
    "Une fonction est un sous-programme effectuant une action spécifique et qui renvoie éventuellement un résultat.<br>\n",
    "Les fonctions permettent de découper la réalisation d’un programme pour mieux le structurer et pour bien le gérer durant (phase développement) et après sa création (phase tests et phase maintenance). <br>\n",
    "Une fonction peut être sans paramètres ou avec un ou plusieurs paramètres ou arguments. <br>\n",
    "Les paramètres sont placés entre parenthèses et séparés par des ‘,’ selon la syntaxe suivante :<br>\n",
    "<center style=\"color:red\">** nom_fonction (parametre_1, parametre_2,…, parametre_n) **</center><br>\n",
    "Python propose une panoplie de fonctions prédéfinies et permet à un programmeur d’en créer  les siennes  pour répondre aux objectifs  du programme à développer et pour mieux l’organiser. "
   ]
  },
  {
   "cell_type": "markdown",
   "metadata": {
    "deletable": false,
    "editable": false
   },
   "source": [
    "### Prédéfinies\n",
    "\n",
    "#### Exemples de Fonctions prédéfinies\n",
    "\n",
    " * **len(uneListe)** : calcule et retourne le nombre d’éléments dans une liste\n",
    " * **append(X)** : ajoute un élément en fin de liste \n",
    " * **del(x) ou del x** : efface la valeur d’une variable.\n",
    " * **clear() ou clear** : efface l’écran.\n",
    " * **reset() ou reset** : efface les valeurs de toutes les variables.\n",
    " \n",
    "### Création d’une fonction avec paramètres\n",
    "A l’instar des différents langages de programmation, Python permet de créer  : \n",
    "* Une fonction sans paramètres et sans retour de résultats.\n",
    "* Une fonction sans paramètres et avec retour de résultat(s).\n",
    "* Une fonction avec paramètre(s) et sans retour de résultats.\n",
    "* Une fonction avec paramètre(s) et avec retour de résultat(s).\n"
   ]
  },
  {
   "cell_type": "markdown",
   "metadata": {
    "deletable": false,
    "editable": false
   },
   "source": [
    "#### Création d’une Fonction sans paramètres et sans retour de résultats\n",
    "\n",
    "Nous créons une fonction « carre_SPSR » qui calcule le carré d‘un nombre saisi par l’utilisateur :"
   ]
  },
  {
   "cell_type": "code",
   "execution_count": 54,
   "metadata": {},
   "outputs": [
    {
     "ename": "SyntaxError",
     "evalue": "invalid character in identifier (<ipython-input-54-2a0a3bbb6caf>, line 4)",
     "output_type": "error",
     "traceback": [
      "\u001b[0;36m  File \u001b[0;32m\"<ipython-input-54-2a0a3bbb6caf>\"\u001b[0;36m, line \u001b[0;32m4\u001b[0m\n\u001b[0;31m    print(\" Le carré de  \" + x + \" est : \" + x**2)\u001b[0m\n\u001b[0m                                          ^\u001b[0m\n\u001b[0;31mSyntaxError\u001b[0m\u001b[0;31m:\u001b[0m invalid character in identifier\n"
     ]
    }
   ],
   "source": [
    "def carre_SPSR():  # faire attention au 2 points « : »\n",
    "# On demande de saisir un nombre réel x\n",
    "     x = input(\" Saisir un nombre réel : \")\n",
    "print(\" Le carré de  \" , x , \" est : \" , x**2)"
   ]
  },
  {
   "cell_type": "markdown",
   "metadata": {
    "deletable": false,
    "editable": false
   },
   "source": [
    "Une fois créée, la fonction <span style=\"color:red\">**carre_SPSR()**</span>, peut être utilisée comme suit :"
   ]
  },
  {
   "cell_type": "code",
   "execution_count": 55,
   "metadata": {},
   "outputs": [
    {
     "name": "stdout",
     "output_type": "stream",
     "text": [
      " Saisir un nombre réel : 5\n"
     ]
    },
    {
     "ename": "TypeError",
     "evalue": "unsupported operand type(s) for ** or pow(): 'int' and 'str'",
     "output_type": "error",
     "traceback": [
      "\u001b[0;31m---------------------------------------------------------------------------\u001b[0m",
      "\u001b[0;31mTypeError\u001b[0m                                 Traceback (most recent call last)",
      "\u001b[0;32m<ipython-input-55-cc7d7367f1a2>\u001b[0m in \u001b[0;36m<module>\u001b[0;34m()\u001b[0m\n\u001b[0;32m----> 1\u001b[0;31m \u001b[0mcarre_SPSR\u001b[0m\u001b[0;34m(\u001b[0m\u001b[0;34m)\u001b[0m\u001b[0;34m\u001b[0m\u001b[0m\n\u001b[0m",
      "\u001b[0;32m<ipython-input-33-68a120741e76>\u001b[0m in \u001b[0;36mcarre_SPSR\u001b[0;34m()\u001b[0m\n\u001b[1;32m      2\u001b[0m \u001b[0;31m# On demande de saisir un nombre réel x\u001b[0m\u001b[0;34m\u001b[0m\u001b[0;34m\u001b[0m\u001b[0m\n\u001b[1;32m      3\u001b[0m     \u001b[0mx\u001b[0m \u001b[0;34m=\u001b[0m \u001b[0minput\u001b[0m\u001b[0;34m(\u001b[0m\u001b[0;34m\" Saisir un nombre réel : \"\u001b[0m\u001b[0;34m)\u001b[0m\u001b[0;34m\u001b[0m\u001b[0m\n\u001b[0;32m----> 4\u001b[0;31m     \u001b[0;32mreturn\u001b[0m \u001b[0;36m2\u001b[0m \u001b[0;34m**\u001b[0m \u001b[0mx\u001b[0m\u001b[0;34m\u001b[0m\u001b[0m\n\u001b[0m",
      "\u001b[0;31mTypeError\u001b[0m: unsupported operand type(s) for ** or pow(): 'int' and 'str'"
     ]
    }
   ],
   "source": [
    "carre_SPSR()"
   ]
  },
  {
   "attachments": {},
   "cell_type": "markdown",
   "metadata": {
    "deletable": false,
    "editable": false
   },
   "source": [
    "**A retenir :**<br>\n",
    "def    : indique qu’on va définir une nouvelle fonction.<br>\n",
    "« : »  : indique à python qu’on va déclarer d’un bloc d’instruction qui constitue le corps de la fonction.<br>\n",
    "« … _______»      : indique qu’on attend le corps de la fonction dont chaque ligne doit laisser un espace d’indentation pour respecter la convention de Python. <br>\n",
    "\n",
    "\n",
    "**Exercice :**<br>\n",
    "Créer une fonction « puissance_SPSR » qui affiche xn avec un nombre réel et n un nombre entier qui caractérise  l’exposant :  x et n doivent être demandés à l’utilisateur. "
   ]
  },
  {
   "cell_type": "markdown",
   "metadata": {
    "deletable": false,
    "editable": false
   },
   "source": [
    "**Correction de l’exercice (mauvaise version)**<br>\n",
    "Nous créons une fonction « Puissance» qui saisit un exposant « n », un nombre « x » et  et affiche le résultat de xn :"
   ]
  },
  {
   "cell_type": "code",
   "execution_count": 59,
   "metadata": {},
   "outputs": [
    {
     "ename": "SyntaxError",
     "evalue": "invalid character in identifier (<ipython-input-59-0add307889b1>, line 9)",
     "output_type": "error",
     "traceback": [
      "\u001b[0;36m  File \u001b[0;32m\"<ipython-input-59-0add307889b1>\"\u001b[0;36m, line \u001b[0;32m9\u001b[0m\n\u001b[0;31m    print(\" La puissance de \" + x+ \" par \", n, \" est : \"  )\u001b[0m\n\u001b[0m                             ^\u001b[0m\n\u001b[0;31mSyntaxError\u001b[0m\u001b[0;31m:\u001b[0m invalid character in identifier\n"
     ]
    }
   ],
   "source": [
    "def puissance():  # faire attention au 2 points « : »\n",
    "    # On demande de saisir l’exposant de la puissance\n",
    "    n= int(Input(\" Saisir un exposant entier : \"))\n",
    "    # On demande de saisir un nombre\n",
    "    x= float(input(\" Saisir un nombre entier ou réel : \")) \n",
    "    i ,p =1 \n",
    "    while (i <= n):   # ( ! n’oubliez pas le double point « : » )\n",
    "            p= p * x      # (! n’oubliez pas l’indentation )\n",
    "print(\" La puissance de \" , x, \" par \", n, \" est : \"  ) \n",
    "            if p>=0 :\n",
    "         print(p) \n",
    "            else :\n",
    "         print(1/p)"
   ]
  },
  {
   "cell_type": "markdown",
   "metadata": {},
   "source": [
    "<span style=\"color:red\">** Commentez cette fonction, que peut-on en retenir ? **</span><br>"
   ]
  },
  {
   "cell_type": "markdown",
   "metadata": {},
   "source": [
    "Nous créons une fonction « Puissance» qui saisit un exposant « n », un nombre « x » et  et affiche le résultat de xn :"
   ]
  },
  {
   "cell_type": "code",
   "execution_count": null,
   "metadata": {},
   "outputs": [],
   "source": [
    "def puissance():  # faire attention au 2 points « : »\n",
    "    # On demande de saisir l’exposant de la puissance\n",
    "    n= int(input(\" Saisir un exposant entier : \"))\n",
    "    # On demande de saisir un nombre\n",
    "    x= float(input(\" Saisir un nombre entier ou réel : \")) \n",
    "    i =1 \n",
    "    p= 1\n",
    "    while (i <= n):   # ( ! n’oubliez pas le double point « : » )\n",
    "        p= p * x      # (! n’oubliez pas l’indentation )\n",
    "        i+=1\n",
    "    print(\" La puissance de \" , x, \" par \", n, \" est : \"  ) \n",
    "        if p>=0 :\n",
    "    print(p) \n",
    "        else :\n",
    "    print(1/p)"
   ]
  },
  {
   "cell_type": "markdown",
   "metadata": {},
   "source": [
    "<span style=\"color:red\">** Commentez cette fonction, que peut-on en retenir ? **</span><br>"
   ]
  },
  {
   "attachments": {},
   "cell_type": "markdown",
   "metadata": {
    "deletable": false,
    "editable": false
   },
   "source": [
    "#### Création d’une Fonction sans paramètres et avec retour de résultats\n",
    "\n",
    "Nous créons une fonction « carre_SPAR » qui calcule le carré d‘un nombre saisi par l’utilisateur :"
   ]
  },
  {
   "cell_type": "code",
   "execution_count": null,
   "metadata": {},
   "outputs": [],
   "source": [
    "def carre_SPAR():  # faire attention au 2 points « : »\n",
    "    # On demande de saisir un nombre réel x\n",
    "    x= float(Input(\" Saisir un nombre réel : \")) \n",
    "    # On demande de retourner le carré x² du nombre saisi\n",
    "    return (x**2)"
   ]
  },
  {
   "cell_type": "markdown",
   "metadata": {},
   "source": [
    "Une fois créée, la fonction carre_SPAR() peut être utilisée ainsi : "
   ]
  },
  {
   "cell_type": "code",
   "execution_count": null,
   "metadata": {},
   "outputs": [],
   "source": [
    "# On appelle la fonction carre_SPAR() tout en affectant son retour à une variable x2\n",
    "x2 = carre_SPAR()      # on appelle l’exécution de la fonction\n",
    "\n",
    "# Python affichera ici le carré de 5, soit «  25  »\n",
    "print(\" Le carré de  \", x, \" est : \" , x2) "
   ]
  },
  {
   "attachments": {},
   "cell_type": "markdown",
   "metadata": {
    "deletable": false,
    "editable": false
   },
   "source": [
    "**A retenir : **<br>\n",
    "\n",
    "return  : indique que la fonction va retourner un résultat. <br>\n",
    "Le résultat retourné peut être affectée à une variable comme x2. \n",
    "\n",
    "\n",
    "**Exercice :** <br>\n",
    "Créer une fonction « puissance_SPAR » qui affiche xn avec un nombre réel et n un nombre entier qui caractérise  l’exposant :  x et n doivent être demandés à l’utilisateur. "
   ]
  },
  {
   "cell_type": "markdown",
   "metadata": {},
   "source": [
    "**Correction de l’exercice** <br>\n",
    "Nous créons une fonction « Puissance» qui saisit un exposant « n », un nombre « x » et  et affiche le résultat de xn :"
   ]
  },
  {
   "cell_type": "code",
   "execution_count": null,
   "metadata": {},
   "outputs": [],
   "source": [
    "def puissance():  # faire attention au 2 points « : »\n",
    "    # On demande de saisir l’exposant de la puissance\n",
    "    n= int(input(\" Saisir un exposant entier : \"))\n",
    "    # On demande de saisir un nombre\n",
    "    x= float(input(\" Saisir un nombre entier ou réel : \")) \n",
    "    i = 1\n",
    "    ip= 1\n",
    "    while (i <= n):   # ( ! n’oubliez pas le double point « : » )\n",
    "        p= p * x      # (! n’oubliez pas l’indentation )\n",
    "        i+=1\n",
    "        if p>=0 :\n",
    "     return(p) \n",
    "        else :\n",
    "     return(1/p) "
   ]
  },
  {
   "cell_type": "markdown",
   "metadata": {},
   "source": [
    "<span style=\"color:red\">** Commentez cette fonction, que peut-on en retenir ? **</span><br>"
   ]
  },
  {
   "cell_type": "markdown",
   "metadata": {},
   "source": [
    "#### Création d’une Fonction avec paramètres et sans retour de résultats\n",
    "\n",
    "Nous créons une fonction « carre_APSR » qui calcule le carré d‘un nombre saisi par l’utilisateur :"
   ]
  },
  {
   "cell_type": "code",
   "execution_count": null,
   "metadata": {},
   "outputs": [],
   "source": [
    "def carre_APSR(x):  #  Fonction avec 1 paramètre\n",
    "    # On demande d’afficher le carré x² du paramètre x\n",
    "    print(\" Le carré de  \", x, \" est :  \" , x**2)"
   ]
  },
  {
   "cell_type": "markdown",
   "metadata": {},
   "source": [
    "Une fois créée, la fonction carre_APSR(), peut être utilisée comme suit :"
   ]
  },
  {
   "cell_type": "code",
   "execution_count": null,
   "metadata": {},
   "outputs": [],
   "source": [
    "carre_APSR(6)     # on appelle l’exécution de la fonction"
   ]
  },
  {
   "cell_type": "markdown",
   "metadata": {},
   "source": [
    "Le carré de  6 est : 36\n",
    "\n",
    "**Autre manière d’utiliser de carre_APSR : **"
   ]
  },
  {
   "cell_type": "code",
   "execution_count": null,
   "metadata": {},
   "outputs": [],
   "source": [
    "# On demande de saisir un nombre réel x\n",
    "x= float(Input(\" Saisir un nombre réel : \"))"
   ]
  },
  {
   "cell_type": "code",
   "execution_count": null,
   "metadata": {},
   "outputs": [],
   "source": [
    "# Saisir un nombre réel : 7\n",
    "# On peut vérifier la valeur de x (étape optionnelle)\n",
    "print(x)\n",
    "# 7\n",
    "carre_APSR(x)      # on appelle l’exécution de la fonction\n",
    "# Le carré de  7 est : 49"
   ]
  },
  {
   "cell_type": "markdown",
   "metadata": {},
   "source": [
    "**Exercice : **<br>\n",
    "Créer une fonction « puissance_APSR » qui affiche xn avec un nombre réel et n un nombre entier qui caractérise  l’exposant :  x et n doivent être demandés à l’utilisateur. "
   ]
  },
  {
   "cell_type": "markdown",
   "metadata": {},
   "source": [
    "**Correction de l’exercice**<br>\n",
    "Nous créons une fonction « Puissance» qui saisit un exposant « n », un nombre « x » et  et affiche le résultat de xn :"
   ]
  },
  {
   "cell_type": "code",
   "execution_count": null,
   "metadata": {},
   "outputs": [],
   "source": [
    "def puissance(x, n):  # faire attention au 2 points « : »\n",
    "    i , p= 1\n",
    "    while (i <= n):   # ( ! n’oubliez pas le double point « : » )\n",
    "        p= p * x      # (! n’oubliez pas l’indentation )\n",
    "         print(« La puissance de « , x, « par , n, « est : «  ) \n",
    "         if p>=0 :\n",
    "    print(p) \n",
    "         else :\n",
    "    print(1/p) "
   ]
  },
  {
   "cell_type": "markdown",
   "metadata": {},
   "source": [
    "<span style=\"color:red\">** Commentez cette fonction, que peut-on en retenir ? **</span><br>"
   ]
  },
  {
   "attachments": {},
   "cell_type": "markdown",
   "metadata": {},
   "source": [
    "#### Création d’une Fonction avec paramètres et avec retour de résultats\n",
    "Nous créons une fonction « carre_APAR » qui calcule le carré d‘un nombre saisi par l’utilisateur :"
   ]
  },
  {
   "cell_type": "code",
   "execution_count": 60,
   "metadata": {},
   "outputs": [],
   "source": [
    "def carre_APAR(x):  #  Fonction avec 1 paramètre\n",
    "    # On demande de retourner le carré x² du paramètre x\n",
    "    return(x**2) "
   ]
  },
  {
   "cell_type": "markdown",
   "metadata": {},
   "source": [
    "Une fois créée, la fonction carre_APAR(), peut être utilisée comme suit :"
   ]
  },
  {
   "cell_type": "code",
   "execution_count": 62,
   "metadata": {},
   "outputs": [
    {
     "ename": "SyntaxError",
     "evalue": "invalid character in identifier (<ipython-input-62-8957c40ed731>, line 4)",
     "output_type": "error",
     "traceback": [
      "\u001b[0;36m  File \u001b[0;32m\"<ipython-input-62-8957c40ed731>\"\u001b[0;36m, line \u001b[0;32m4\u001b[0m\n\u001b[0;31m    print(\" Le carré de  \", 8, \" est : \" , x2)\u001b[0m\n\u001b[0m                                        ^\u001b[0m\n\u001b[0;31mSyntaxError\u001b[0m\u001b[0;31m:\u001b[0m invalid character in identifier\n"
     ]
    }
   ],
   "source": [
    "# On appelle la fonction carre_APAR() tout en affectant son retour à une variable x2\n",
    "x2=carre_APAR(8)      # on appelle l’exécution de la fonction\n",
    "# Python affichera ici le carré de 7, soit «  49  »\n",
    "print(\" Le carré de  \", 8, \" est : \" , x2) \n",
    "# Le carré de  8 est : 64"
   ]
  },
  {
   "cell_type": "markdown",
   "metadata": {},
   "source": [
    "**Autre manière d’utiliser de carre_APAR : **"
   ]
  },
  {
   "cell_type": "code",
   "execution_count": 64,
   "metadata": {},
   "outputs": [
    {
     "ename": "SyntaxError",
     "evalue": "invalid character in identifier (<ipython-input-64-a35f186eb3d3>, line 9)",
     "output_type": "error",
     "traceback": [
      "\u001b[0;36m  File \u001b[0;32m\"<ipython-input-64-a35f186eb3d3>\"\u001b[0;36m, line \u001b[0;32m9\u001b[0m\n\u001b[0;31m    print(\" Le carré de  \", x, \" est : \" , x2)\u001b[0m\n\u001b[0m                                        ^\u001b[0m\n\u001b[0;31mSyntaxError\u001b[0m\u001b[0;31m:\u001b[0m invalid character in identifier\n"
     ]
    }
   ],
   "source": [
    "# On demande de saisir un nombre réel x\n",
    "x= float(Input(\" Saisir un nombre réel : \"))\n",
    "# Saisir un nombre réel : 9\n",
    "# On peut vérifier la valeur de x (étape optionnelle)\n",
    "print(x)\n",
    "# 9\n",
    "x2= carre_APAR(x)      # on appelle l’exécution de la fonction\n",
    "# Python affichera ici le carré de 7, soit «  49  »\n",
    "print(\" Le carré de  \", x, \" est : \" , x2) \n",
    "# Le carré de  9 est : 81"
   ]
  },
  {
   "cell_type": "markdown",
   "metadata": {},
   "source": [
    "**Exercice : **<br>\n",
    "Créer une fonction « puissance_APAR » qui affiche xn avec un nombre réel et n un nombre entier qui caractérise  l’exposant :  x et n doivent être demandés à l’utilisateur. "
   ]
  },
  {
   "cell_type": "markdown",
   "metadata": {},
   "source": [
    "**Correction de l’exercice**<br>\n",
    "Nous créons une fonction « Puissance» qui saisit un exposant « n », un nombre « x » et  et affiche le résultat de xn :"
   ]
  },
  {
   "cell_type": "code",
   "execution_count": 65,
   "metadata": {},
   "outputs": [
    {
     "ename": "IndentationError",
     "evalue": "unindent does not match any outer indentation level (<ipython-input-65-f1cba94bf064>, line 7)",
     "output_type": "error",
     "traceback": [
      "\u001b[0;36m  File \u001b[0;32m\"<ipython-input-65-f1cba94bf064>\"\u001b[0;36m, line \u001b[0;32m7\u001b[0m\n\u001b[0;31m    if p>=0 :\u001b[0m\n\u001b[0m             ^\u001b[0m\n\u001b[0;31mIndentationError\u001b[0m\u001b[0;31m:\u001b[0m unindent does not match any outer indentation level\n"
     ]
    }
   ],
   "source": [
    ">>> def puissance(x, n):  # faire attention au 2 points « : »\n",
    "    i = 1\n",
    "    p= 1\n",
    "    while (i <= n):   # ( ! n’oubliez pas le double point « : » )\n",
    "        p= p * x      # (! n’oubliez pas l’indentation )\n",
    "        i+= 1\n",
    "     if p>=0 :\n",
    "    return(p) \n",
    "     else :\n",
    "    return(1/p) "
   ]
  },
  {
   "cell_type": "markdown",
   "metadata": {
    "deletable": false,
    "editable": false
   },
   "source": [
    "<span style=\"color:red\">** Commentez cette fonction, que peut-on en retenir ? **</span><br>\n",
    "\n",
    "**Ecrire un programme avec 2 fonctions, une qui affiche un message et permet de saisir un nombre et une qui calcule la puissance.**<br> \n",
    "* Montrer comment peut-on utiliser ces deux fonctions ?<br> \n",
    "* Que pensez-vous ? "
   ]
  },
  {
   "attachments": {},
   "cell_type": "markdown",
   "metadata": {
    "deletable": false,
    "editable": false
   },
   "source": [
    "### Variable Globale & Variable Locale\n",
    "#### Portée des variables\n",
    "On distingue deux types de variables :<br> \n",
    "**Globale** :  il s’agit d’une variable accessible dans tout le programme y compris à l’intérieur d’une fonction.<br> \n",
    "**Locale** :  il s’agit d’une variable locale à une fonction. Il n’est pas accessible en dehors de cette fonction. <br> \n",
    "<span style=\"color:red\">** Exemple  d’une variable globale :  **</span><br>"
   ]
  },
  {
   "cell_type": "code",
   "execution_count": 69,
   "metadata": {},
   "outputs": [
    {
     "name": "stdout",
     "output_type": "stream",
     "text": [
      "3\n"
     ]
    }
   ],
   "source": [
    "# Création d’une fonction qui affiche la valeur de la variable « x »\n",
    "def mafonction():\n",
    "    print (x) #demande d’imprimer la valeur d’une variable x\n",
    "# Chaque  variable utilisée à la racine du programme est globale\n",
    "x = 3 # « x » est globale\n",
    "print (x) # demande d’afficher la valeur de la variable globale « x »"
   ]
  },
  {
   "cell_type": "code",
   "execution_count": 70,
   "metadata": {},
   "outputs": [
    {
     "name": "stdout",
     "output_type": "stream",
     "text": [
      "3\n"
     ]
    }
   ],
   "source": [
    "# appel de la fonction définie précédemment \n",
    "mafonction() # fonction qui affiche la val.de la var. globale « x »"
   ]
  },
  {
   "cell_type": "markdown",
   "metadata": {},
   "source": [
    "<span style=\"color:red\">** Exemple  d’une variable locale :  **</span><br>    "
   ]
  },
  {
   "cell_type": "code",
   "execution_count": 76,
   "metadata": {},
   "outputs": [
    {
     "name": "stdout",
     "output_type": "stream",
     "text": [
      "5\n",
      "3\n"
     ]
    }
   ],
   "source": [
    "# Création d’une fonction qui affiche la valeur de la variable « x »\n",
    "def mafonction():\n",
    "    x=5    # « x » est une variable locale\n",
    "    print (x) # imprimer la valeur de la variable locale « x »\n",
    "# appel de la fonction définie précédemment \n",
    "mafonction() # fonction qui affiche la val.de la var. globale « x »\n",
    "\n",
    "# 5\n",
    "\n",
    "print (x) # « x » est locale à mafonction()\n",
    "# Python ne reconnait pas « x » au niveau de la racine => erreur "
   ]
  },
  {
   "attachments": {},
   "cell_type": "markdown",
   "metadata": {},
   "source": [
    "**Que se passe-t-il avec le programme suivant ?**"
   ]
  },
  {
   "cell_type": "code",
   "execution_count": 81,
   "metadata": {},
   "outputs": [
    {
     "ename": "NameError",
     "evalue": "name 'X' is not defined",
     "output_type": "error",
     "traceback": [
      "\u001b[0;31m---------------------------------------------------------------------------\u001b[0m",
      "\u001b[0;31mNameError\u001b[0m                                 Traceback (most recent call last)",
      "\u001b[0;32m<ipython-input-81-d959981f1a3e>\u001b[0m in \u001b[0;36m<module>\u001b[0;34m()\u001b[0m\n\u001b[1;32m      2\u001b[0m     \u001b[0mprint\u001b[0m \u001b[0;34m(\u001b[0m\u001b[0mX\u001b[0m\u001b[0;34m)\u001b[0m\u001b[0;34m\u001b[0m\u001b[0m\n\u001b[1;32m      3\u001b[0m \u001b[0;31m# appel de la fonction définie précédemment\u001b[0m\u001b[0;34m\u001b[0m\u001b[0;34m\u001b[0m\u001b[0m\n\u001b[0;32m----> 4\u001b[0;31m \u001b[0mmafonction\u001b[0m\u001b[0;34m(\u001b[0m\u001b[0;34m)\u001b[0m \u001b[0;31m# appel de la fonction définie précédemment\u001b[0m\u001b[0;34m\u001b[0m\u001b[0m\n\u001b[0m",
      "\u001b[0;32m<ipython-input-81-d959981f1a3e>\u001b[0m in \u001b[0;36mmafonction\u001b[0;34m()\u001b[0m\n\u001b[1;32m      1\u001b[0m \u001b[0;32mdef\u001b[0m \u001b[0mmafonction\u001b[0m\u001b[0;34m(\u001b[0m\u001b[0;34m)\u001b[0m\u001b[0;34m:\u001b[0m\u001b[0;34m\u001b[0m\u001b[0m\n\u001b[0;32m----> 2\u001b[0;31m     \u001b[0mprint\u001b[0m \u001b[0;34m(\u001b[0m\u001b[0mX\u001b[0m\u001b[0;34m)\u001b[0m\u001b[0;34m\u001b[0m\u001b[0m\n\u001b[0m\u001b[1;32m      3\u001b[0m \u001b[0;31m# appel de la fonction définie précédemment\u001b[0m\u001b[0;34m\u001b[0m\u001b[0;34m\u001b[0m\u001b[0m\n\u001b[1;32m      4\u001b[0m \u001b[0mmafonction\u001b[0m\u001b[0;34m(\u001b[0m\u001b[0;34m)\u001b[0m \u001b[0;31m# appel de la fonction définie précédemment\u001b[0m\u001b[0;34m\u001b[0m\u001b[0m\n",
      "\u001b[0;31mNameError\u001b[0m: name 'X' is not defined"
     ]
    }
   ],
   "source": [
    "def mafonction():\n",
    "    print (X)\n",
    "# appel de la fonction définie précédemment \n",
    "mafonction() # appel de la fonction définie précédemment "
   ]
  },
  {
   "cell_type": "markdown",
   "metadata": {},
   "source": [
    "<span style=\"color:red\">** NameError: name ‘X' is not defined **</span><br>\n",
    "**Réponse :**<br>\n",
    "Comme « X » n’a pas été déclarée à la racine, elle est considérée comme locale.<br>\n",
    "Comme « X » variable locale n’ a pas reçu de valeur, Python signale une erreur."
   ]
  },
  {
   "cell_type": "code",
   "execution_count": 83,
   "metadata": {},
   "outputs": [
    {
     "name": "stdout",
     "output_type": "stream",
     "text": [
      "3\n"
     ]
    }
   ],
   "source": [
    "X = 3  # « X » est globale\n",
    "print (X) #demande d’afficher la valeur de la variable globale « x "
   ]
  },
  {
   "cell_type": "code",
   "execution_count": 85,
   "metadata": {},
   "outputs": [
    {
     "name": "stdout",
     "output_type": "stream",
     "text": [
      "3\n"
     ]
    },
    {
     "ename": "UnboundLocalError",
     "evalue": "local variable 'X' referenced before assignment",
     "output_type": "error",
     "traceback": [
      "\u001b[0;31m---------------------------------------------------------------------------\u001b[0m",
      "\u001b[0;31mUnboundLocalError\u001b[0m                         Traceback (most recent call last)",
      "\u001b[0;32m<ipython-input-85-5c01773ee5b7>\u001b[0m in \u001b[0;36m<module>\u001b[0;34m()\u001b[0m\n\u001b[1;32m      5\u001b[0m \u001b[0;31m# appel de la fonction mafonction()\u001b[0m\u001b[0;34m\u001b[0m\u001b[0;34m\u001b[0m\u001b[0m\n\u001b[1;32m      6\u001b[0m \u001b[0;31m# Celle-ci modifie et affiche la valeur de la variable globale «x»\u001b[0m\u001b[0;34m\u001b[0m\u001b[0;34m\u001b[0m\u001b[0m\n\u001b[0;32m----> 7\u001b[0;31m \u001b[0mmafonction\u001b[0m\u001b[0;34m(\u001b[0m\u001b[0;34m)\u001b[0m\u001b[0;34m\u001b[0m\u001b[0m\n\u001b[0m",
      "\u001b[0;32m<ipython-input-85-5c01773ee5b7>\u001b[0m in \u001b[0;36mmafonction\u001b[0;34m()\u001b[0m\n\u001b[1;32m      1\u001b[0m \u001b[0;32mdef\u001b[0m \u001b[0mmafonction\u001b[0m\u001b[0;34m(\u001b[0m\u001b[0;34m)\u001b[0m\u001b[0;34m:\u001b[0m\u001b[0;34m\u001b[0m\u001b[0m\n\u001b[0;32m----> 2\u001b[0;31m     \u001b[0mX\u001b[0m\u001b[0;34m=\u001b[0m\u001b[0mX\u001b[0m\u001b[0;34m+\u001b[0m\u001b[0;36m1\u001b[0m          \u001b[0;31m# à ce niveau « x » est une variable locale\u001b[0m\u001b[0;34m\u001b[0m\u001b[0m\n\u001b[0m\u001b[1;32m      3\u001b[0m \u001b[0mprint\u001b[0m \u001b[0;34m(\u001b[0m\u001b[0mX\u001b[0m\u001b[0;34m)\u001b[0m       \u001b[0;31m# imprimer la valeur de la variable locale « x »\u001b[0m\u001b[0;34m\u001b[0m\u001b[0m\n\u001b[1;32m      4\u001b[0m \u001b[0;34m\u001b[0m\u001b[0m\n\u001b[1;32m      5\u001b[0m \u001b[0;31m# appel de la fonction mafonction()\u001b[0m\u001b[0;34m\u001b[0m\u001b[0;34m\u001b[0m\u001b[0m\n",
      "\u001b[0;31mUnboundLocalError\u001b[0m: local variable 'X' referenced before assignment"
     ]
    }
   ],
   "source": [
    "def mafonction():\n",
    "    X=X+1          # à ce niveau « x » est une variable locale\n",
    "print (X)       # imprimer la valeur de la variable locale « x »\n",
    "\n",
    "# appel de la fonction mafonction()\n",
    "# Celle-ci modifie et affiche la valeur de la variable globale «x»\n",
    "mafonction() "
   ]
  },
  {
   "cell_type": "markdown",
   "metadata": {
    "deletable": false,
    "editable": false
   },
   "source": [
    "Traceback (most recent call last):<br>\n",
    "File \"<stdin>\", line 1, in <module><br>\n",
    "File \"<stdin>\", line 2, in mafonction<br>\n",
    "UnboundLocalError: local variable 'x' referenced before assignment<br>\n",
    "\n",
    "**Python ne permet pas de modifier une variable globale à l’intérieur d’une fonction**"
   ]
  },
  {
   "cell_type": "markdown",
   "metadata": {
    "deletable": false,
    "editable": false
   },
   "source": [
    "Pour obliger Python à modifier une variable globale, bous utiliserons le mot-clé « global ». Ce mot-clé force la variable a être globale au lieu d’être locale au sein de la fonction.\n",
    "\n",
    "On crée une fonction qui modifie la valeur de la variable Globale « x »"
   ]
  },
  {
   "cell_type": "code",
   "execution_count": 87,
   "metadata": {},
   "outputs": [
    {
     "data": {
      "text/plain": [
       "33"
      ]
     },
     "execution_count": 87,
     "metadata": {},
     "output_type": "execute_result"
    }
   ],
   "source": [
    "def mafonction():\n",
    "    global x\n",
    "    x=x+30        # à ce niveau « x » est une variable globale\n",
    "\n",
    "x = 3  # « x » est globale\n",
    "# appel de la fonction mafonction()\n",
    "mafonction() \n",
    "x"
   ]
  },
  {
   "cell_type": "markdown",
   "metadata": {},
   "source": [
    "<span style=\"color:red\"> ** !!! Je déconseille d’utiliser les variables globales à l’intérieur d’une fonction : si besoin vaut mieux passer par des paramètres ** </span><br>"
   ]
  }
 ],
 "metadata": {
  "kernelspec": {
   "display_name": "Python 3",
   "language": "python",
   "name": "python3"
  },
  "language_info": {
   "codemirror_mode": {
    "name": "ipython",
    "version": 3
   },
   "file_extension": ".py",
   "mimetype": "text/x-python",
   "name": "python",
   "nbconvert_exporter": "python",
   "pygments_lexer": "ipython3",
   "version": "3.6.5"
  }
 },
 "nbformat": 4,
 "nbformat_minor": 2
}
