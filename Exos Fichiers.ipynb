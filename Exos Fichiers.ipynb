{
 "cells": [
  {
   "cell_type": "markdown",
   "metadata": {},
   "source": [
    "<center style=\"font-size:35px;color:red;font-weight:bold\"> Initiation à Python</center><br>\n",
    "<center style=\"color:black;font-size:20px\"> Exercices TP5 - Gestion des fichiers et utilisation des structures des données</center>\n",
    "<br>\n",
    "<center style=\"color:black\">**Cours du Pr. Abdellah AZMANI**</center>\n",
    "<center style=\"color:black\">**Département Génie Informatique**</center>\n",
    "<br>\n",
    "<center style=\"color:black\">Université Abdelmalek Essaadi</center>\n",
    "<center style=\"color:black\">Faculté des Sciences et Techniques</center>\n",
    "<center style=\"color:black\">Tanger</center>"
   ]
  },
  {
   "cell_type": "markdown",
   "metadata": {},
   "source": [
    "## Gestion de Fichiers : pays du globe\n",
    "1. Créer un fichier texte  « paysMonde » à partir d’un éditeur de texte type Bloc-note et Insérer 3 ou 4  pays ainsi qu’une ligne vide au milieu et à la fin de ce fichier. "
   ]
  },
  {
   "cell_type": "code",
   "execution_count": null,
   "metadata": {},
   "outputs": [],
   "source": []
  },
  {
   "cell_type": "markdown",
   "metadata": {},
   "source": [
    "2. Créer la Chaîne de caractères retournée par la lecture de ce fichier"
   ]
  },
  {
   "cell_type": "code",
   "execution_count": null,
   "metadata": {},
   "outputs": [],
   "source": []
  },
  {
   "cell_type": "markdown",
   "metadata": {},
   "source": [
    "3. Idem pour une Liste"
   ]
  },
  {
   "cell_type": "code",
   "execution_count": null,
   "metadata": {},
   "outputs": [],
   "source": []
  },
  {
   "cell_type": "markdown",
   "metadata": {},
   "source": [
    "4. Faire une lecture et un affichage ligne"
   ]
  },
  {
   "cell_type": "code",
   "execution_count": null,
   "metadata": {},
   "outputs": [],
   "source": []
  },
  {
   "cell_type": "markdown",
   "metadata": {},
   "source": [
    "5. Que constatez vous : comment se traduisent les lignes laissées vides dans le fichier et comment les éliminer ? "
   ]
  },
  {
   "cell_type": "code",
   "execution_count": null,
   "metadata": {},
   "outputs": [],
   "source": []
  },
  {
   "cell_type": "markdown",
   "metadata": {},
   "source": [
    "6. Créer une liste « listePaysAfricains » afin de  créer un fichier « PaysAfrique » par utilisation de l’instruction writelines."
   ]
  },
  {
   "cell_type": "code",
   "execution_count": null,
   "metadata": {},
   "outputs": [],
   "source": []
  },
  {
   "cell_type": "markdown",
   "metadata": {},
   "source": [
    "7. Créer une liste « listePaysArabe » afin de  créer un fichier « ListePaysArabe » par utilisation de l’instruction write."
   ]
  },
  {
   "cell_type": "code",
   "execution_count": null,
   "metadata": {},
   "outputs": [],
   "source": []
  },
  {
   "cell_type": "markdown",
   "metadata": {},
   "source": [
    "8. Créer un fichier « paysEurope » en utilisant une boucle tant que l’utilisateur souhaite saisir un pays. "
   ]
  },
  {
   "cell_type": "code",
   "execution_count": null,
   "metadata": {},
   "outputs": [],
   "source": []
  },
  {
   "cell_type": "markdown",
   "metadata": {},
   "source": [
    "9. Recréer le fichier « paysMonde » à partir des 3 fichiers précédents (attention à la redondance) en indiquant  dans chaque ligne le « Continent : pays »\n",
    "    * Exemple : Asie : Quatar"
   ]
  },
  {
   "cell_type": "code",
   "execution_count": null,
   "metadata": {},
   "outputs": [],
   "source": []
  },
  {
   "cell_type": "markdown",
   "metadata": {},
   "source": [
    "10.Compléter le fichier « paysMonde » par utilisation ou amélioration des fonctions créées en 9. \n",
    "   * Ici, il faut ajouter les pays des différents continents. "
   ]
  },
  {
   "cell_type": "code",
   "execution_count": null,
   "metadata": {},
   "outputs": [],
   "source": []
  },
  {
   "cell_type": "markdown",
   "metadata": {},
   "source": [
    "11.Ajouter un commentaire à chaque élément de pays en indiquant son niveau de développement parmi les cas suivant :  \n",
    "\t* très développé, développé, en voie de développement, sous-développé.\n",
    "\t* exemples:  \tEurope : Norvège = très développé\n",
    "\t\t\tAfrique : Maroc = en voie de développement\n",
    "\t* Ici, le programme doit parcourir le fichier « paysMonde » et demander à chaque fois de de choisir l’option de développement adéquat. \n",
    "\t* Attention, on ne peut pas ouvrir un fichier en lecture et en écriture en même temps.\t\t  \n",
    "\n",
    "* Consigne :  Faut utiliser les fonctions paramétrées et un programme principal qui propose un menu pour faire des choix.\n",
    "\"\"\""
   ]
  },
  {
   "cell_type": "code",
   "execution_count": null,
   "metadata": {},
   "outputs": [],
   "source": []
  }
 ],
 "metadata": {
  "kernelspec": {
   "display_name": "Python 3",
   "language": "python",
   "name": "python3"
  },
  "language_info": {
   "codemirror_mode": {
    "name": "ipython",
    "version": 3
   },
   "file_extension": ".py",
   "mimetype": "text/x-python",
   "name": "python",
   "nbconvert_exporter": "python",
   "pygments_lexer": "ipython3",
   "version": "3.6.5"
  }
 },
 "nbformat": 4,
 "nbformat_minor": 2
}
