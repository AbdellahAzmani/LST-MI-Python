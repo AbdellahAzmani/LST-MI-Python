{
 "cells": [
  {
   "cell_type": "markdown",
   "metadata": {},
   "source": [
    "<center style=\"font-size:35px;color:red;font-weight:bold\"> Initiation à Python</center><br>\n",
    "<center style=\"color:black;font-size:20px\"> Complément de cours  </center>\n",
    "<center style=\"color:black;font-size:14px\"> Python & SciPy : réaliser des graphes </center>\n",
    "<br>\n",
    "<center style=\"color:black\">**Cours du Pr. Abdellah AZMANI**</center>\n",
    "<center style=\"color:black\">**Département Génie Informatique**</center>\n",
    "<br>\n",
    "<center style=\"color:black\">Université Abdelmalek Essaadi</center>\n",
    "<center style=\"color:black\">Faculté des Sciences et Techniques</center>\n",
    "<center style=\"color:black\">Tanger</center>"
   ]
  },
  {
   "cell_type": "markdown",
   "metadata": {},
   "source": [
    "La librairie SciPy qui permet le calcul scientifique est composée de plusieurs sous-modules permettant différentes opérations comme les opérations d’optimisation, d’algèbre linéaire, d’interpolation, etc.\n",
    "\n",
    "Nous prêterons attention en particulier au sous-module **CSGraph** qui est l’acronyme de Compressed Sparse Graph et qui comprend des opérations permettant de travailler avec des graphes et dont les algorithmes se basent sur des représentations matricielles éparses.\n",
    "\n",
    "La création de ce sous-module a été motivée par plusieurs algorithmes utilisés dans scikit-learn."
   ]
  },
  {
   "cell_type": "markdown",
   "metadata": {},
   "source": [
    "## Définitions\n",
    "\n",
    "Tout d’abord un graphe est un couple **G = (V, E)**, où V est l’ensemble des sommets appelés également nœuds ou points et E est l’ensemble des arêtes appelées aussi liens ou lignes et qui sont des paires de sommets, i.e. une arête est liée à deux sommets distincts.\n",
    "\n",
    "Un graphe creux (sparse graph) quant à lui est un graphe contenant peu d’arêtes.\n",
    "\n",
    "## Représentations de graphe en utilisant Scipy\n",
    "\n",
    "Le sous-module **CSGraph** utilise les graphes représentés dans des matrices éparses.\n",
    "\n",
    "Un graphe de N nœuds peut être représenté par une matrice de N lignes et N colonnes.\n",
    "\n",
    "Si i et j sont deux nœuds du graphe alors G [i, j] = w, avec w le poids de l’arête qui lie entre ces deux nœuds.\n",
    "Si i et j deux nœuds du graphe et qui ne sont pas liés, alors leur valeur dans la matrice dépend de la représentation :\n",
    "- Pour les représentations de matrices denses G [i, j] = 0, l’infini ou NaN.\n",
    "\n",
    "- Pour les représentations denses masquées (i.e. np.ma.MaskedArray) G [i, j] = valeur masquée.\n",
    "\n",
    "- Pour les représentations de matrices éparses G [i, j] = non-entrée.\n",
    "\n",
    "### Exemple 1 :\n",
    "\n",
    "Le graphe ci-dessous contient 3 nœuds.\n",
    "\n",
    "Où : G [2,3] = 1 et G [2,4] = 2\n",
    "\n",
    "<img src=\"graphes/image001.jpg\"/>\n",
    "\n",
    "Afin de représenter ce graphe on peut procéder selon les trois représentations précédemment citées, on obtient alors :"
   ]
  },
  {
   "cell_type": "code",
   "execution_count": 5,
   "metadata": {},
   "outputs": [
    {
     "name": "stdout",
     "output_type": "stream",
     "text": [
      "[[0 1 2]\n",
      " [1 0 0]\n",
      " [2 0 0]]\n",
      "-------------------\n",
      "[[-- 1 2]\n",
      " [1 -- --]\n",
      " [2 -- --]]\n",
      "-------------------\n",
      "  (0, 1)\t1\n",
      "  (0, 2)\t2\n",
      "  (1, 0)\t1\n",
      "  (2, 0)\t2\n"
     ]
    }
   ],
   "source": [
    "import numpy as np\n",
    "from scipy.sparse import csr_matrix\n",
    "#représentation du graphe dense\n",
    "G_dense = np.array([[0, 1, 2],\n",
    "[1, 0, 0],\n",
    "[2, 0, 0]])\n",
    "print(G_dense)\n",
    "print(\"-------------------\")\n",
    "#représentation du graphe masque\n",
    "G_masque = np.ma.masked_values(G_dense, 0)\n",
    "print(G_masque)\n",
    "print(\"-------------------\")\n",
    "#représentation du graphe éparse\n",
    "G_eparse = csr_matrix(G_dense)\n",
    "print(G_eparse)"
   ]
  },
  {
   "cell_type": "markdown",
   "metadata": {},
   "source": [
    "Le code précédent engendrera des erreurs si on a dans le graphe un poids nul. Alors pour remédier à cela on peut faire appel à la routine utilitaire **csgraph_from_dense** du sous-module **CSGraph** qui permet de convertir une représentation dense en une représentation éparse pouvant être comprise par les algorithmes du sous-module.\n",
    "\n",
    "### Exemple 2 :\n",
    "\n",
    "Le graphe ci-dessous contient 3 nœuds.\n",
    "\n",
    "Où : G [2,3] = 1 et G [2,4] = 0\n",
    "\n",
    "<img src=\"graphes/image003.png\"/>"
   ]
  },
  {
   "cell_type": "code",
   "execution_count": 7,
   "metadata": {},
   "outputs": [
    {
     "name": "stdout",
     "output_type": "stream",
     "text": [
      "[[inf  1.  0.]\n",
      " [ 1. inf inf]\n",
      " [ 0. inf inf]]\n",
      "-------------------\n",
      "[[-- 1.0 0.0]\n",
      " [1.0 -- --]\n",
      " [0.0 -- --]]\n",
      "-------------------\n",
      "  (0, 1)\t1.0\n",
      "  (0, 2)\t0.0\n",
      "  (1, 0)\t1.0\n",
      "  (2, 0)\t0.0\n"
     ]
    }
   ],
   "source": [
    "from scipy.sparse.csgraph import csgraph_from_dense\n",
    "#représentation du graphe dense\n",
    "G_dense = np.array([[np.inf, 1, 0],\n",
    "[1, np.inf, np.inf],\n",
    "[0, np.inf, np.inf]])\n",
    "print(G_dense)\n",
    "print(\"-------------------\")\n",
    "#représentation du graphe masqué\n",
    "G_masque = np.ma.masked_invalid(G_dense)\n",
    "print(G_masque)\n",
    "print(\"-------------------\")\n",
    "#représentation du graphe éparse\n",
    "G_sparse = csgraph_from_dense(G_dense, null_value=np.inf)\n",
    "print(G_sparse)"
   ]
  },
  {
   "cell_type": "markdown",
   "metadata": {},
   "source": [
    "Le tableau ci-dessous regroupe quelques routines utilitaires du sous-module CSGraph.\n",
    "\n",
    "| FONCTION | DESCRIPTION |\n",
    "| :--------- | :----------------------- |\n",
    "| csgraph_from_dense | Construit un graphe de format CSR (Compressed Sparse Row) à partir d’une matrice dense. |\n",
    "| csgraph_from_masked | Construit un graphe de format CSR (Compressed Sparse Row) à partir d’une matrice masquée. |\n",
    "| csgraph_masked_from_dense | Construit une représentation du graphe en une matrice masqué à partir d’une matrice dense. |\n",
    "| csgraph_to_dense | Converti une représentation éparse en une représentation dense. |\n",
    "| csgraph_to_masked | Converti une représentation éparse en une représentation masquée. |\n"
   ]
  },
  {
   "cell_type": "markdown",
   "metadata": {},
   "source": [
    "## Algorithmes de la théorie des graphes\n",
    "\n",
    "### Algorithmes de parcours d’un graphe\n",
    "\n",
    "#### Algorithme de parcours en largeur (BFS : Breadth First Search)\n",
    "\n",
    "La fonction **breadth_first_tree** permet de parcourir un graphe selon l’algorithme de parcours en largeur.\n",
    "\n",
    "#### Exemple 3 :\n",
    "\n",
    "Appliquons l’algorithme de parcours en largeur sur le graphe suivant :\n",
    "<img src=\"graphes/image005.jpg\"/>"
   ]
  },
  {
   "cell_type": "code",
   "execution_count": 12,
   "metadata": {},
   "outputs": [
    {
     "data": {
      "text/plain": [
       "array([[0, 1, 2, 0, 0],\n",
       "       [0, 0, 0, 2, 2],\n",
       "       [0, 0, 0, 0, 0],\n",
       "       [0, 0, 0, 0, 0],\n",
       "       [0, 0, 0, 0, 0]])"
      ]
     },
     "execution_count": 12,
     "metadata": {},
     "output_type": "execute_result"
    }
   ],
   "source": [
    "from scipy.sparse import csr_matrix\n",
    "from scipy.sparse.csgraph import breadth_first_tree \n",
    "G = [[0, 1, 2, 0, 0],\n",
    "[0, 0, 0, 2, 2],\n",
    "[0, 3, 0, 2, 0],\n",
    "[0, 0, 0, 0, 4],\n",
    "[0, 0, 0, 0, 0]]\n",
    "G_eparse = csr_matrix(G)\n",
    "p = breadth_first_tree ( G_eparse, 0, directed = True)\n",
    "p.toarray().astype(int)"
   ]
  },
  {
   "cell_type": "markdown",
   "metadata": {},
   "source": [
    "#### Algorithme de parcours en profondeur (DFS : Depth First Search)\n",
    "\n",
    "La fonction **depth_first_tree** permet de parcourir un graphe selon l’algorithme de parcours en profondeur."
   ]
  },
  {
   "cell_type": "code",
   "execution_count": 13,
   "metadata": {},
   "outputs": [
    {
     "data": {
      "text/plain": [
       "array([[0, 1, 2, 0, 0],\n",
       "       [0, 0, 0, 2, 0],\n",
       "       [0, 0, 0, 0, 0],\n",
       "       [0, 0, 0, 0, 4],\n",
       "       [0, 0, 0, 0, 0]])"
      ]
     },
     "execution_count": 13,
     "metadata": {},
     "output_type": "execute_result"
    }
   ],
   "source": [
    "from scipy.sparse import csr_matrix\n",
    "from scipy.sparse.csgraph import depth_first_tree \n",
    "G = [[0, 1, 2, 0, 0],\n",
    "[0, 0, 0, 2, 2],\n",
    "[0, 3, 0, 2, 0],\n",
    "[0, 0, 0, 0, 4],\n",
    "[0, 0, 0, 0, 0]]\n",
    "G_eparse = csr_matrix(G)\n",
    "d = depth_first_tree ( G_eparse, 0, directed = True)\n",
    "d.toarray().astype(int)"
   ]
  },
  {
   "cell_type": "markdown",
   "metadata": {},
   "source": [
    "### Algorithmes du plus court chemin\n",
    "\n",
    "#### Algorithme de Dijkstra\n",
    "\n",
    "On peut faire appel à la fonction dijkstra du sous-module **CSGraph** pour appliquer l’algorithme de Dijkstra qui sert à résoudre le problème du plus court chemin dans un graphe orienté pondéré par des réels positifs.\n",
    "\n",
    "La fonction dijkstra retourne :\n",
    "\n",
    "- dist_matrix qui est la matrice des distances entre les nœuds du graphe.\n",
    "\n",
    "- predecessors qui est la matrice des prédécesseurs.\n",
    "\n",
    "<img src=\"graphes/image005-1.jpg\"/>"
   ]
  },
  {
   "cell_type": "code",
   "execution_count": 17,
   "metadata": {},
   "outputs": [
    {
     "name": "stdout",
     "output_type": "stream",
     "text": [
      "[[ 0.  1.  2.  3.  3.]\n",
      " [inf  0. inf  2.  2.]\n",
      " [inf  3.  0.  2.  5.]\n",
      " [inf inf inf  0.  4.]\n",
      " [inf inf inf inf  0.]]\n",
      "--------------------------\n",
      "[[-9999     0     0     1     1]\n",
      " [-9999 -9999 -9999     1     1]\n",
      " [-9999     2 -9999     2     1]\n",
      " [-9999 -9999 -9999 -9999     3]\n",
      " [-9999 -9999 -9999 -9999 -9999]]\n"
     ]
    }
   ],
   "source": [
    "from scipy.sparse import csr_matrix\n",
    "from scipy.sparse.csgraph import dijkstra\n",
    "G = [[0, 1, 2, 0, 0],\n",
    "[0, 0, 0, 2, 2],\n",
    "[0, 3, 0, 2, 0],\n",
    "[0, 0, 0, 0, 4],\n",
    "[0, 0, 0, 0, 0]]\n",
    "G_eparse = csr_matrix(G)\n",
    "dist_matrix, predecessors = dijkstra (csgraph = G_eparse, directed = True,\n",
    "return_predecessors = True)\n",
    "print(dist_matrix)\n",
    "print(\"--------------------------\")\n",
    "print(predecessors)"
   ]
  },
  {
   "cell_type": "markdown",
   "metadata": {},
   "source": [
    "<span style=\"color:red\">**Remarque :**</span>\n",
    "\n",
    "<span style=\"color:red\">Dans la matrice des prédécesseurs on retrouve dans certains cas **[i, j] = -9999**, par défaut ce nombre est affiché lorsqu’il n’existe pas de lien entre un nœud i et un nœud j. Dans le cas contraire elle nous donner l’indice du nœud précédent dans le chemin du point i au point j.</span>"
   ]
  },
  {
   "cell_type": "markdown",
   "metadata": {},
   "source": [
    "### Algorithme de Floyd – Warshall\n",
    "\n",
    "La fonction **floyd_warshall** permet de calculer les distances des plus courts chemins entre toutes les paires de sommets dans un graphe orienté et pondéré selon l’algorithme **Floyd - Warshall.**\n",
    "\n",
    "La fonction **floyd_warshall** retourne :\n",
    "\n",
    "- dist_matrix qui est la matrice des distances entre les nœuds du graphe.\n",
    "\n",
    "- predecessors qui est la matrice des prédécesseurs.\n",
    "\n",
    "#### Exemple 6 :\n",
    "\n",
    "On reprend le graphe de l’exemple précédent et on applique dessus l’algorithme de **Floyd - Warshall.**"
   ]
  },
  {
   "cell_type": "code",
   "execution_count": 16,
   "metadata": {},
   "outputs": [
    {
     "name": "stdout",
     "output_type": "stream",
     "text": [
      "[[ 0.  1.  2.  3.  3.]\n",
      " [inf  0. inf  2.  2.]\n",
      " [inf  3.  0.  2.  5.]\n",
      " [inf inf inf  0.  4.]\n",
      " [inf inf inf inf  0.]]\n",
      "--------------------------\n",
      "[[-9999     0     0     1     1]\n",
      " [-9999 -9999 -9999     1     1]\n",
      " [-9999     2 -9999     2     1]\n",
      " [-9999 -9999 -9999 -9999     3]\n",
      " [-9999 -9999 -9999 -9999 -9999]]\n"
     ]
    }
   ],
   "source": [
    "from scipy.sparse import csr_matrix\n",
    "from scipy.sparse.csgraph import floyd_warshall \n",
    "G = [[0, 1, 2, 0, 0],\n",
    "[0, 0, 0, 2, 2],\n",
    "[0, 3, 0, 2, 0],\n",
    "[0, 0, 0, 0, 4],\n",
    "[0, 0, 0, 0, 0]]\n",
    "G_eparse = csr_matrix(G)\n",
    "dist_matrix, predecessors = floyd_warshall ( csgraph = G_eparse, directed = True,\n",
    "return_predecessors = True )\n",
    "print(dist_matrix)\n",
    "print(\"--------------------------\")\n",
    "print(predecessors)"
   ]
  },
  {
   "cell_type": "markdown",
   "metadata": {},
   "source": [
    "### Algorithme de Bellman - Ford\n",
    "\n",
    "La fonction **bellman_ford** permet de calculer les plus courts chemins depuis un sommet source donné dans un graphe orienté et pondéré selon l’algorithme **Bellman - Ford**. Et contrairement à l’algorithme de Dijkstra, celui-ci autorise les poids négatifs.\n",
    "\n",
    "La fonction **bellman_ford** retourne :\n",
    "\n",
    "- dist_matrix qui est la matrice des distances entre les nœuds du graphe.\n",
    "\n",
    "- predecessors qui est la matrice des prédécesseurs.\n",
    "\n",
    "#### Exemple 7 :\n",
    "\n",
    "Considérons le graphe suivant dans lequel on va appliquer l’algorithme de **Bellman - Ford** :\n",
    "\n",
    "<img src=\"graphes/image010.jpg\"/>"
   ]
  },
  {
   "cell_type": "code",
   "execution_count": 18,
   "metadata": {},
   "outputs": [
    {
     "name": "stdout",
     "output_type": "stream",
     "text": [
      "[[ 0. -1.  2.  0. -4.]\n",
      " [inf  0. inf  2. -2.]\n",
      " [inf  3.  0. -2. -6.]\n",
      " [inf inf inf  0. -4.]\n",
      " [inf inf inf inf  0.]]\n",
      "--------------------------\n",
      "[[-9999     0     0     2     3]\n",
      " [-9999 -9999 -9999     1     3]\n",
      " [-9999     2 -9999     2     3]\n",
      " [-9999 -9999 -9999 -9999     3]\n",
      " [-9999 -9999 -9999 -9999 -9999]]\n"
     ]
    }
   ],
   "source": [
    "from scipy.sparse import csr_matrix\n",
    "from scipy.sparse.csgraph import bellman_ford\n",
    "G = [ [0, -1, 2, 0, 0],\n",
    "[0, 0, 0, 2, 2],\n",
    "[0, 3, 0, -2, 0],\n",
    "[0, 0, 0, 0, -4],\n",
    "[0, 0, 0, 0, 0] ]\n",
    "G_eparse = csr_matrix(G)\n",
    "dist_matrix, predecessors = bellman_ford (csgraph = G_eparse, directed = True,\n",
    "return_predecessors = True)\n",
    "print(dist_matrix)\n",
    "print(\"--------------------------\")\n",
    "print(predecessors)"
   ]
  },
  {
   "cell_type": "markdown",
   "metadata": {},
   "source": [
    "## Représentations de graphe en utilisant Matplotlib\n",
    "### networkx\n",
    "\n",
    "Le module **networkx** permet de représenter un réseau ou un graphe de petite taille (< 500 noeuds). Un graphe est défini par un ensemble de noeuds (ou vertex en anglais) reliés par des arcs (ou edge en anglais). La galerie vous donnera une idée de ce que le module est capable de faire."
   ]
  },
  {
   "cell_type": "code",
   "execution_count": 23,
   "metadata": {},
   "outputs": [
    {
     "data": {
      "image/png": "[encoded data removed]",
      "text/plain": [
       "<Figure size 576x288 with 1 Axes>"
      ]
     },
     "metadata": {},
     "output_type": "display_data"
    }
   ],
   "source": [
    "import random\n",
    "import networkx as nx\n",
    "G=nx.Graph()\n",
    "for i in range(15) :\n",
    "    G.add_edge ( random.randint(0,5),  random.randint(0,5) )\n",
    "\n",
    "import matplotlib.pyplot as plt\n",
    "f, ax = plt.subplots(figsize=(8,4))\n",
    "nx.draw(G, ax = ax)"
   ]
  },
  {
   "cell_type": "code",
   "execution_count": 43,
   "metadata": {},
   "outputs": [
    {
     "data": {
      "image/png": "[encoded data removed]",
      "text/plain": [
       "<Figure size 432x288 with 1 Axes>"
      ]
     },
     "metadata": {},
     "output_type": "display_data"
    }
   ],
   "source": [
    "# libraries\n",
    "import pandas as pd\n",
    "import numpy as np\n",
    "import networkx as nx\n",
    "import matplotlib.pyplot as plt\n",
    " \n",
    "# Build a dataframe with 4 connections\n",
    "df = pd.DataFrame({ 'from':['Tanger', 'Larache', 'Ksar Sghir','Tanger'], 'to':['Asilah', 'Tanger', 'Tetouan','Ksar Sghir']})\n",
    "df\n",
    " \n",
    "# Build your graph\n",
    "G=nx.from_pandas_edgelist(df, 'from', 'to')\n",
    " \n",
    "# Plot it\n",
    "nx.draw(G, with_labels=True)\n",
    "plt.show()"
   ]
  },
  {
   "cell_type": "markdown",
   "metadata": {},
   "source": [
    "### Graphviz\n",
    "\n",
    "**Graphviz** est un outil développé depuis plusieurs années déjà qui permet de réprésenter des graphes plus conséquents (> 500 noeuds). Il propose un choix plus riche de graphes.\n",
    "\n",
    "Il est utilisable via le module **graphviz**. Son installation requiert l’installation de l’outil Graphviz qui n’est pas inclus. La différence entre les deux modules tient dans l’algorithme utilisé pour assigner des coordonnées à chaque noeud du graphe de façon à ce que ses arcs se croisent le moins possibles. Au delà d’une certaine taille, le dessin de graphe n’est plus lisible et nécessite quelques tatônnements. \n",
    "\n",
    "Cela peut passer par une clusterisation du graphe (voir la méthode Louvain) de façon à colorer certains noeuds proches voire à les regrouper."
   ]
  },
  {
   "cell_type": "code",
   "execution_count": 29,
   "metadata": {},
   "outputs": [
    {
     "ename": "ModuleNotFoundError",
     "evalue": "No module named 'pyquickhelper'",
     "output_type": "error",
     "traceback": [
      "\u001b[0;31m---------------------------------------------------------------------------\u001b[0m",
      "\u001b[0;31mModuleNotFoundError\u001b[0m                       Traceback (most recent call last)",
      "\u001b[0;32m<ipython-input-29-88abebaac32d>\u001b[0m in \u001b[0;36m<module>\u001b[0;34m()\u001b[0m\n\u001b[1;32m      2\u001b[0m \u001b[0;32mfrom\u001b[0m \u001b[0mgraphviz\u001b[0m \u001b[0;32mimport\u001b[0m \u001b[0mDigraph\u001b[0m\u001b[0;34m\u001b[0m\u001b[0m\n\u001b[1;32m      3\u001b[0m \u001b[0;32mfrom\u001b[0m \u001b[0mIPython\u001b[0m\u001b[0;34m.\u001b[0m\u001b[0mdisplay\u001b[0m \u001b[0;32mimport\u001b[0m \u001b[0mImage\u001b[0m\u001b[0;34m\u001b[0m\u001b[0m\n\u001b[0;32m----> 4\u001b[0;31m \u001b[0;32mfrom\u001b[0m \u001b[0mpyquickhelper\u001b[0m\u001b[0;34m.\u001b[0m\u001b[0mhelpgen\u001b[0m \u001b[0;32mimport\u001b[0m \u001b[0mfind_graphviz_dot\u001b[0m\u001b[0;34m\u001b[0m\u001b[0m\n\u001b[0m\u001b[1;32m      5\u001b[0m \u001b[0mbin\u001b[0m \u001b[0;34m=\u001b[0m \u001b[0mos\u001b[0m\u001b[0;34m.\u001b[0m\u001b[0mpath\u001b[0m\u001b[0;34m.\u001b[0m\u001b[0mdirname\u001b[0m\u001b[0;34m(\u001b[0m\u001b[0mfind_graphviz_dot\u001b[0m\u001b[0;34m(\u001b[0m\u001b[0;34m)\u001b[0m\u001b[0;34m)\u001b[0m\u001b[0;34m\u001b[0m\u001b[0m\n\u001b[1;32m      6\u001b[0m \u001b[0;32mif\u001b[0m \u001b[0mbin\u001b[0m \u001b[0;32mnot\u001b[0m \u001b[0;32min\u001b[0m \u001b[0mos\u001b[0m\u001b[0;34m.\u001b[0m\u001b[0menviron\u001b[0m\u001b[0;34m[\u001b[0m\u001b[0;34m\"PATH\"\u001b[0m\u001b[0;34m]\u001b[0m\u001b[0;34m:\u001b[0m\u001b[0;34m\u001b[0m\u001b[0m\n",
      "\u001b[0;31mModuleNotFoundError\u001b[0m: No module named 'pyquickhelper'"
     ]
    }
   ],
   "source": [
    "import random, os\n",
    "from graphviz import Digraph\n",
    "from IPython.display import Image\n",
    "from pyquickhelper.helpgen import find_graphviz_dot\n",
    "bin = os.path.dirname(find_graphviz_dot())\n",
    "if bin not in os.environ[\"PATH\"]:\n",
    "    os.environ[\"PATH\"] = os.environ[\"PATH\"] + \";\" + bin\n",
    "\n",
    "dot = Digraph(comment='random graph', format=\"png\")\n",
    "for i in range(15) :\n",
    "    dot.edge ( str(random.randint(0,5)),  str(random.randint(0,5)) )\n",
    "\n",
    "img = dot.render('t_random_graph.gv')\n",
    "Image(img)"
   ]
  },
  {
   "cell_type": "code",
   "execution_count": 32,
   "metadata": {},
   "outputs": [
    {
     "name": "stdout",
     "output_type": "stream",
     "text": [
      "// The Round Table\n",
      "digraph {\n",
      "\tA [label=\"King Arthur\"]\n",
      "\tB [label=\"Sir Bedevere the Wise\"]\n",
      "\tL [label=\"Sir Lancelot the Brave\"]\n",
      "\tA -> B\n",
      "\tA -> L\n",
      "\tB -> L [constraint=false]\n",
      "}\n"
     ]
    }
   ],
   "source": [
    "from graphviz import Digraph\n",
    "dot = Digraph(comment='The Round Table')\n",
    "dot  \n",
    "dot.node('A', 'King Arthur')\n",
    "dot.node('B', 'Sir Bedevere the Wise')\n",
    "dot.node('L', 'Sir Lancelot the Brave')\n",
    "\n",
    "dot.edges(['AB', 'AL'])\n",
    "dot.edge('B', 'L', constraint='false')\n",
    "\n",
    "print(dot.source)"
   ]
  }
 ],
 "metadata": {
  "kernelspec": {
   "display_name": "Python 3",
   "language": "python",
   "name": "python3"
  },
  "language_info": {
   "codemirror_mode": {
    "name": "ipython",
    "version": 3
   },
   "file_extension": ".py",
   "mimetype": "text/x-python",
   "name": "python",
   "nbconvert_exporter": "python",
   "pygments_lexer": "ipython3",
   "version": "3.6.5"
  }
 },
 "nbformat": 4,
 "nbformat_minor": 2
}
