{
 "cells": [
  {
   "cell_type": "markdown",
   "metadata": {
    "deletable": false,
    "editable": false
   },
   "source": [
    "# Structures de contrôles\n",
    "\n",
    "## Structures conditionnelles\n",
    "\n",
    "\n",
    "Les mot-clés « if » et « elif » doivent être suivis d'un test (appelé aussi prédicat).\n",
    " \n",
    "Forme minimale en if\n",
    "On utilisera dans ce cas la forme simplifiée suivante : \n",
    "\n",
    "**Syntaxe: **\n",
    "  \n",
    "**if** prédicat :\n",
    "        \n",
    "    instruction ou suite d'instructions\n",
    " \n",
    "**Exemple :**"
   ]
  },
  {
   "cell_type": "code",
   "execution_count": 11,
   "metadata": {},
   "outputs": [
    {
     "name": "stdout",
     "output_type": "stream",
     "text": [
      "a est positif.\n"
     ]
    }
   ],
   "source": [
    "a = 5\n",
    "if a > 0: # Si a est positif\n",
    "    print(\"a est positif.\") # faut laisser un espace d’ indentation )"
   ]
  },
  {
   "cell_type": "markdown",
   "metadata": {
    "deletable": false,
    "editable": false
   },
   "source": [
    "## Forme complète (if, elif et else)\n",
    "\n",
    "Les instructions conditionnelles servent à exécuter une instruction ou une suite d'instructions que si une condition est vérifiée.\n",
    "\n",
    "**Syntaxe: **\n",
    "\n",
    "**if** prédicat1 :\n",
    "    \n",
    "    instruction1 ou suite d'instructions\n",
    "\n",
    "**elif** prédicat2 :    \n",
    "    \n",
    "    instruction2 ou suite d'instructions\n",
    "\n",
    "**else :**\n",
    "    \n",
    "    instruction3 ou suite d'instructions\n",
    " \n",
    " \n",
    "**Exemple :**"
   ]
  },
  {
   "cell_type": "code",
   "execution_count": 44,
   "metadata": {},
   "outputs": [
    {
     "name": "stdout",
     "output_type": "stream",
     "text": [
      "ce nombre est positif\n"
     ]
    }
   ],
   "source": [
    "x = 5\n",
    "if x == 0:\n",
    "  print(\"ce nombre est nul\")\n",
    "elif x < 0:\n",
    "  print(\"ce nombre est négatif\")\n",
    "else :\n",
    "  print(\"ce nombre est positif\")"
   ]
  },
  {
   "cell_type": "markdown",
   "metadata": {
    "deletable": false,
    "editable": false
   },
   "source": [
    "**Exercice  : la mention**\n",
    "\n",
    "Note = input(\" Entrez la note de l’étudiant \") "
   ]
  },
  {
   "cell_type": "markdown",
   "metadata": {
    "deletable": false,
    "editable": false
   },
   "source": [
    "## L’itératif\n",
    "\n",
    "- Une boucle nécessite trois éléments pour fonctionner correctement :\n",
    "        1. l’initialisation de la variable de test avant/au début de la boucle ;\n",
    "        2. le test de la véracité de la variable de test (condition );\n",
    "        3. l’incrémentation  ou la modification de la valeur de la variable de test.\n",
    " \n",
    "- Si le prédicat est toujours VRAI, la boucle ne s'arrêtera donc jamais. C'est une boucle infinie.\n",
    "\n",
    "### Boucle while (Tant que)\n",
    "\n",
    "Ici, nous ne savons pas à l’avance combien de fois la boucle va s’exécuter. <br>\n",
    "L'arrêt de cette boucle dépendra de la véracité du prédicat testé (condition d’itération de la boucle)."
   ]
  },
  {
   "cell_type": "code",
   "execution_count": 45,
   "metadata": {},
   "outputs": [
    {
     "name": "stdout",
     "output_type": "stream",
     "text": [
      "1\n",
      "2\n",
      "3\n",
      "4\n",
      "5\n",
      "6\n",
      "7\n",
      "voici la dernière valeur de n est :  7\n"
     ]
    }
   ],
   "source": [
    "n = 0\n",
    "while (n < 7):   # ( ! n’oubliez pas le double point « : » )\n",
    "    n = n + 1      # (! n’oubliez pas l’indentation )\n",
    "    print(n)       # (! n’oubliez pas l’indentation )\n",
    "print(\"voici la dernière valeur de n est : \", n)"
   ]
  },
  {
   "cell_type": "markdown",
   "metadata": {
    "deletable": false,
    "editable": false
   },
   "source": [
    " | Programme erroné | Commentaire |\n",
    "| :--------- | :----------------------- |\n",
    "| >>> n = 0 |  |\n",
    "| >>> while (n < 7) |# Absence des « : » |\n",
    "| ... n = n + 1  | # Pas d’indentation |\n",
    "| ... print(n) | # Pas d’indentation |\n",
    "| >>> print(\"voici la dernière valeur de n\", n) |  |"
   ]
  },
  {
   "cell_type": "markdown",
   "metadata": {
    "deletable": false,
    "editable": false
   },
   "source": [
    "### Principe de la Boucle while\n",
    "\n",
    "L’instruction **while** indique à Python qu’il lui faut répéter continuellement le bloc d’instructions qui suit (une ou plusieurs lignes), tant que la condition d’arrêt n’est pas vérifiée. \n",
    "\n",
    "Dans notre exemple tant que la variable « n » reste inférieur à 7, on exécute les deux instructions :\n",
    "« n = n + 1 » et « **print**(n) »\n",
    "\n",
    "### Boucle for\n",
    "\n",
    "Il s’agit d’une boucle à compteur, nous connaissons à l'avance combien de fois la boucle devra s'exécuter."
   ]
  },
  {
   "cell_type": "code",
   "execution_count": 47,
   "metadata": {},
   "outputs": [
    {
     "name": "stdout",
     "output_type": "stream",
     "text": [
      "0\n",
      "1\n",
      "2\n",
      "3\n"
     ]
    }
   ],
   "source": [
    "for i in range(4):\n",
    "    print (i)"
   ]
  },
  {
   "cell_type": "markdown",
   "metadata": {
    "deletable": false,
    "editable": false
   },
   "source": [
    "**L’instruction range() permet d’accéder à une liste d’entiers.**<br>\n",
    "**Si vous itérez sur les indices vous pouvez appeler la variable i. **"
   ]
  },
  {
   "cell_type": "markdown",
   "metadata": {
    "deletable": false,
    "editable": false
   },
   "source": [
    "**Principe :**<br>\n",
    "La 1ère ligne encapsule 3 composants :<br>\n",
    " * Initialisation de la variable « i » par défaut à 0.\n",
    " * Incrémentation, exécution de l’instruction « i = i+1 ».\n",
    " * Teste de la condition « i < 4 » : c’est ce qui nous permet de déterminer si la boucle continue d’itérer ou vas s’arrêter.<br>\n",
    "### Instructions break et continue\n",
    "\n",
    "Ces deux instructions permettent de modifier le comportement d’une boucle (for ou while) avec un test."
   ]
  },
  {
   "cell_type": "markdown",
   "metadata": {},
   "source": [
    "**L’instruction break stoppe la boucle.**"
   ]
  },
  {
   "cell_type": "code",
   "execution_count": 48,
   "metadata": {},
   "outputs": [
    {
     "name": "stdout",
     "output_type": "stream",
     "text": [
      "0\n",
      "1\n",
      "2\n"
     ]
    }
   ],
   "source": [
    "for i in range(5):\n",
    "    if i > 2:\n",
    "        break\n",
    "    print (i)"
   ]
  },
  {
   "cell_type": "markdown",
   "metadata": {},
   "source": [
    "**L’instruction continue saute à l’itération suivante.**"
   ]
  },
  {
   "cell_type": "code",
   "execution_count": 49,
   "metadata": {},
   "outputs": [
    {
     "name": "stdout",
     "output_type": "stream",
     "text": [
      "0\n",
      "1\n",
      "3\n",
      "4\n"
     ]
    }
   ],
   "source": [
    "for i in range(5):\n",
    "    if i == 2:\n",
    "        continue\n",
    "    print (i)"
   ]
  },
  {
   "cell_type": "markdown",
   "metadata": {
    "deletable": false,
    "editable": false
   },
   "source": [
    "#### Exercices TD 1 :\n",
    "\n",
    "1. Écrivez un script qui affiche une suite de 12 nombres dont chaque terme soit égal au triple du terme précédent.<br>\n",
    "2. Écrivez un programme qui convertit un nombre entier de secondes fourni au départ en un nombre d’années, de mois, de jours, de minutes et de secondes (utilisez l’opérateur modulo : % ).<br>\n",
    "3. Soit le code script Python suivant :\n",
    "\n",
    ">>> cpt = 1\n",
    ">>> while (cpt < 99):\n",
    "…\tprint(\"Je boucle et je suis, c’est cela est ma vie  \")\n",
    "…\tcpt = cpt + 2\n",
    "\n",
    "   * Combien de fois la phrase «Je boucle … ma vie » va-t-elle s’afficher \n",
    "   * La boucle va s’exécuter ….. Fois.<br>\n",
    "\n",
    "4. Ecrire un script qui continue de demander à l’utilisateur de saisir des nombres jusqu’à ce que leur somme des nombres saisis dépasse  une valeur initialement demandée à l’utilisateur.<br>\n",
    "    * Affiche la dernière somme calculée.<br>\n",
    "    * Affiche le nombre des nombres saisis au clavier."
   ]
  },
  {
   "cell_type": "markdown",
   "metadata": {},
   "source": [
    "**Solution du 4 :**"
   ]
  },
  {
   "cell_type": "code",
   "execution_count": 50,
   "metadata": {},
   "outputs": [
    {
     "name": "stdout",
     "output_type": "stream",
     "text": [
      " saisir un nombre12\n",
      " Veuillez saisir une valeur34\n",
      " La somme des nombres saisis =  34\n",
      " Le nombre des nombres saisis  =   1\n"
     ]
    }
   ],
   "source": [
    "import os\n",
    "som=0\n",
    "cmp =0\n",
    "Limite=int(input(\" saisir un nombre\") ) #! attention\n",
    "while (som <=Limite) :\n",
    "    N = input(\" Veuillez saisir une valeur\")\n",
    "    N = int(N)\n",
    "    cmp =  cmp+1 \n",
    "    som =  som+N \n",
    "print (\" La somme des nombres saisis = \", som) \n",
    "print (\" Le nombre des nombres saisis  =  \", cmp)\n"
   ]
  }
 ],
 "metadata": {
  "kernelspec": {
   "display_name": "Python 3",
   "language": "python",
   "name": "python3"
  },
  "language_info": {
   "codemirror_mode": {
    "name": "ipython",
    "version": 3
   },
   "file_extension": ".py",
   "mimetype": "text/x-python",
   "name": "python",
   "nbconvert_exporter": "python",
   "pygments_lexer": "ipython3",
   "version": "3.6.5"
  }
 },
 "nbformat": 4,
 "nbformat_minor": 2
}
