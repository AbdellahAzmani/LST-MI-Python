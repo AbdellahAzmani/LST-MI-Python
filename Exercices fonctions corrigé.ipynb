{
 "cells": [
  {
   "cell_type": "markdown",
   "metadata": {},
   "source": [
    "### Créez une fonction qui prend deux nombres comme arguments et retourne leur somme."
   ]
  },
  {
   "cell_type": "code",
   "execution_count": null,
   "metadata": {},
   "outputs": [],
   "source": [
    "def somme(a, b):\n",
    "  return a + b"
   ]
  },
  {
   "cell_type": "code",
   "execution_count": null,
   "metadata": {},
   "outputs": [],
   "source": [
    "somme(2,5)"
   ]
  },
  {
   "cell_type": "markdown",
   "metadata": {},
   "source": [
    "### Créez une fonction qui prend demande à l'utilisateur de saisir 2 nombres et retourne par le suite, la somme, le produit et le reste de la division."
   ]
  },
  {
   "cell_type": "code",
   "execution_count": null,
   "metadata": {},
   "outputs": [],
   "source": [
    "def Calculatrice():\n",
    "    A=int(input(\"Veuillez saisir un nombre \"))\n",
    "    B=int(input(\"Veuillez saisir un nombre \"))\n",
    "    S=A+B\n",
    "    P=A*B\n",
    "    D=A/B\n",
    "    print(\"--------------------------------------\")\n",
    "    print(\"la somme des nombres saisis est : \", S)\n",
    "    print(\"--------------------------------------\")\n",
    "    print(\"le produit des nombres saisis est : \", P)\n",
    "    print(\"--------------------------------------\")\n",
    "    print(\"la division des nombres saisis est : \", D)\n",
    "    print(\"--------------------------------------\")"
   ]
  },
  {
   "cell_type": "code",
   "execution_count": null,
   "metadata": {},
   "outputs": [],
   "source": [
    "Calculatrice()"
   ]
  },
  {
   "cell_type": "markdown",
   "metadata": {},
   "source": [
    "### Écrivez une fonction qui prend un nombre entier de minutes et le convertit en secondes."
   ]
  },
  {
   "cell_type": "code",
   "execution_count": null,
   "metadata": {},
   "outputs": [],
   "source": [
    "def convert(minutes):\n",
    "  return minutes * 60"
   ]
  },
  {
   "cell_type": "markdown",
   "metadata": {},
   "source": [
    "### Créer une fonction personne qui permet demande à l'utilisateur de saisir le nom, prénom, genre et âge et affiche le résultat par la suite."
   ]
  },
  {
   "cell_type": "code",
   "execution_count": null,
   "metadata": {},
   "outputs": [],
   "source": [
    "# fonction qui retourne  4 résultats\n",
    "def personne():  # faire attention au 2 points « : » \n",
    "    # On demande de saisir le nom. \n",
    "    N=input(\"Quel est votre nom ? \")\n",
    "    # On demande de saisir le prénom.\n",
    "    P= input(\"Quel est votre prénom ? \") \n",
    "    # On demande de saisir le genre.\n",
    "    G= input(\"Quel est votre genre ? \") \n",
    "    # On demande de saisir l’âge.\n",
    "    A= int(input(\"Quel est votre âge? \")) \n",
    "    # On demande de retourner les données saisies de la personne\n",
    "    return (N, P, G, A)"
   ]
  },
  {
   "cell_type": "code",
   "execution_count": null,
   "metadata": {},
   "outputs": [],
   "source": [
    "personne()"
   ]
  },
  {
   "cell_type": "markdown",
   "metadata": {},
   "source": [
    "### Créer une fonction Date qui permet de saisir une date de naissance"
   ]
  },
  {
   "cell_type": "code",
   "execution_count": null,
   "metadata": {},
   "outputs": [],
   "source": [
    "def  date_Naissance(): \n",
    "    print(\"Veuillez saisir votre date de Naissance : \")\n",
    "    # On demande de saisir le jour. \n",
    "    J= str((input(\"Jour :  \")))\n",
    "    # On demande de saisir le mois.\n",
    "    M= str((input(\"Mois :  \")))\n",
    "    # On demande de saisir l'année.\n",
    "    A= str(( input(\"Année :  \")))\n",
    "    # On forme une seule chaîne de caractère\n",
    "    Date = J+\"/\"+M+\"/\"+A\n",
    "    return (Date)"
   ]
  },
  {
   "cell_type": "code",
   "execution_count": null,
   "metadata": {},
   "outputs": [],
   "source": [
    "date_Naissance()"
   ]
  },
  {
   "cell_type": "markdown",
   "metadata": {},
   "source": [
    "### Ecrire un programme qui permet de saisir l’état civil et les coordonnées d’un(e) étudiant(e)."
   ]
  },
  {
   "cell_type": "code",
   "execution_count": null,
   "metadata": {},
   "outputs": [],
   "source": [
    "# fonction qui retourne  les coordonnées d'une personne \n",
    "def  coord1(): \n",
    "    print(\"Veuillez saisir vos coordonnées : \")\n",
    "    # On demande de saisir l'adresse. \n",
    "    A= str((input(\"Adresse :  \")))\n",
    "    # On demande de saisir le code postal.\n",
    "    CP= int((input(\"Code postal :  \")))\n",
    "    # On demande de saisir la ville.\n",
    "    V= str(( input(\"Ville :  \")))\n",
    "    # On demande de saisir le pays.\n",
    "    P= str(( input(\"Pays :  \")))\n",
    "    # On demande de saisir le téléphone.\n",
    "    T= int(( input(\"Tél. :  \")))\n",
    "    # On demande de saisir l'eMail.\n",
    "    E= str(( input(\"Email :  \")))\n",
    "    # On demande de renvoyer les 3 données saisies \n",
    "    return (A, CP,V,P,T,E)\n",
    "print(\"Veuillez entrer les données de l'étudiant(e)\")\n",
    "A1, A2, A3, A4=personne()\n",
    "A5 = date_Naissance()\n",
    "A6, A7, A8, A9, A10, A11=coord1() \n",
    "print(\"------------------------------------\")\n",
    "print(\"Nom et Prénom : \", A1, \" \", A2)\n",
    "print(\"Genre : \", A1, \" \", A2)\n",
    "print(\"Date de Naissance : \", A5)\n",
    "print(\"Adresse : \", A6, \" \", A7,\" \", A8, \" \", A9)\n",
    "print(\"Tél. : \", A10)\n",
    "print(\"E-Mail : \", A11)"
   ]
  }
 ],
 "metadata": {
  "kernelspec": {
   "display_name": "Python 3",
   "language": "python",
   "name": "python3"
  },
  "language_info": {
   "codemirror_mode": {
    "name": "ipython",
    "version": 3
   },
   "file_extension": ".py",
   "mimetype": "text/x-python",
   "name": "python",
   "nbconvert_exporter": "python",
   "pygments_lexer": "ipython3",
   "version": "3.6.5"
  }
 },
 "nbformat": 4,
 "nbformat_minor": 2
}
