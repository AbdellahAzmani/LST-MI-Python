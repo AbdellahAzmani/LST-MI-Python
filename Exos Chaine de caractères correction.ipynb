{
 "cells": [
  {
   "cell_type": "markdown",
   "metadata": {},
   "source": [
    "<center style=\"font-size:35px;color:red;font-weight:bold\"> Initiation à Python</center><br>\n",
    "<center style=\"color:black;font-size:20px\"> Correction des Exercices TP4 - Chaîne de caractères</center>\n",
    "<br>\n",
    "<center style=\"color:black\">**Cours du Pr. Abdellah AZMANI**</center>\n",
    "<center style=\"color:black\">**Département Génie Informatique**</center>\n",
    "<br>\n",
    "<center style=\"color:black\">Université Abdelmalek Essaadi</center>\n",
    "<center style=\"color:black\">Faculté des Sciences et Techniques</center>\n",
    "<center style=\"color:black\">Tanger</center>"
   ]
  },
  {
   "cell_type": "markdown",
   "metadata": {},
   "source": [
    "### Écrire un script qui recopie retourne l’inverse d’une chaîne dans une nouvelle variable. "
   ]
  },
  {
   "cell_type": "code",
   "execution_count": 1,
   "metadata": {},
   "outputs": [
    {
     "name": "stdout",
     "output_type": "stream",
     "text": [
      "olleh\n"
     ]
    }
   ],
   "source": [
    "def inverseFunction (s):\n",
    "    ss=\"\"\n",
    "    i=0\n",
    "    while(i<len(s)):\n",
    "        ss=ss+s[len(s)-1-i]\n",
    "        i=i+1\n",
    "    return ss\n",
    "\n",
    "print(inverseFunction(\"hello\"))"
   ]
  },
  {
   "cell_type": "markdown",
   "metadata": {},
   "source": [
    "### Écrire un script qui vérifie si une chaîne de caractères est un palindrome. Indication : utilisez ce qui précède. "
   ]
  },
  {
   "cell_type": "code",
   "execution_count": 2,
   "metadata": {},
   "outputs": [
    {
     "name": "stdout",
     "output_type": "stream",
     "text": [
      "False\n",
      "True\n"
     ]
    }
   ],
   "source": [
    "#Version2\n",
    "def inverseFunction (s):\n",
    "    ss=\"\"       \n",
    "    i=0\n",
    "    while(i<len(s)):\n",
    "        ss=ss+s[len(s)-1-i]\n",
    "        i=i+1\n",
    "    return ss\n",
    "\n",
    "def isPalindromV2(s):\n",
    "    ss=inverseFunction(s)\n",
    "    if(ss==s):\n",
    "        return True\n",
    "    else:\n",
    "        return False\n",
    "\n",
    "#False_Test\n",
    "print(isPalindromV2(\"annjkn\"))\n",
    "#True_Test\n",
    "print(isPalindromV2(\"ana\"))"
   ]
  },
  {
   "cell_type": "markdown",
   "metadata": {},
   "source": [
    "### Découper la chaîne : « La vie n’est pas un long fleuve tranquille » en 3 parties. Puis, rassemblez ces morceaux dans l’ordre inverse."
   ]
  },
  {
   "cell_type": "code",
   "execution_count": 3,
   "metadata": {},
   "outputs": [
    {
     "name": "stdout",
     "output_type": "stream",
     "text": [
      "['La', 'vie', 'n’est', 'pas un long fleuve tranquille']\n",
      "pas un long fleuve tranquille n’est vie La\n"
     ]
    }
   ],
   "source": [
    "def decouper(s):\n",
    "    list=[]\n",
    "    list=s.split(' ',3)\n",
    "    return list\n",
    "\n",
    "def inverserOrdre(s):\n",
    "    sep=' '\n",
    "    list= decouper(s)\n",
    "    list=list[::-1]\n",
    "    return sep.join(list)\n",
    "\n",
    "#Test\n",
    "s=\"La vie n’est pas un long fleuve tranquille\"\n",
    "print(decouper(s))\n",
    "print(inverserOrdre(s))"
   ]
  },
  {
   "cell_type": "markdown",
   "metadata": {},
   "source": [
    "### Écrire une fonction Phrase2Liste() qui convertisse une phrase en une liste de mots."
   ]
  },
  {
   "cell_type": "code",
   "execution_count": 4,
   "metadata": {},
   "outputs": [
    {
     "name": "stdout",
     "output_type": "stream",
     "text": [
      "['Faculté', 'des', 'sciences', 'et', 'techniques']\n"
     ]
    }
   ],
   "source": [
    "def phrase2list(s):\n",
    "    sep=' '\n",
    "    list= s.split(sep)\n",
    "    return list\n",
    "\n",
    "#Test\n",
    "s='Faculté des sciences et techniques'\n",
    "print(phrase2list(s))"
   ]
  },
  {
   "cell_type": "markdown",
   "metadata": {},
   "source": [
    "### Écrire une fonction qui renvoie le nombre de caractères majuscules contenus dans une phrase donnée en argument. "
   ]
  },
  {
   "cell_type": "code",
   "execution_count": 6,
   "metadata": {},
   "outputs": [
    {
     "name": "stdout",
     "output_type": "stream",
     "text": [
      "3\n"
     ]
    }
   ],
   "source": [
    "def numbMajisculeV2(s):\n",
    "    num=0\n",
    "    i=0\n",
    "    ss=''\n",
    "    s=s.replace(\" \",\"\")\n",
    "    ss=s.upper()\n",
    "    while (i<len(s)):\n",
    "        if(ss[i]==s[i]):\n",
    "            num=num+1\n",
    "        i=i+1\n",
    "    return num\n",
    "\n",
    "#test\n",
    "s='Faculté des Sciences et Techniques'\n",
    "print(numbMajisculeV2(s))"
   ]
  },
  {
   "cell_type": "markdown",
   "metadata": {},
   "source": [
    "### Créer une fonction voyelle(c) qui teste si le caractère donné en argument est une voyelle."
   ]
  },
  {
   "cell_type": "code",
   "execution_count": 7,
   "metadata": {},
   "outputs": [
    {
     "name": "stdout",
     "output_type": "stream",
     "text": [
      "True\n",
      "False\n"
     ]
    }
   ],
   "source": [
    "def isVoyelle(s):\n",
    "    list_voyelle=['a','e','i','u','y']\n",
    "    if(s in list_voyelle):\n",
    "        return True\n",
    "    return False\n",
    "\n",
    "#Test\n",
    "s='a'\n",
    "ss='r'\n",
    "print(isVoyelle(s))\n",
    "print(isVoyelle(ss))"
   ]
  },
  {
   "cell_type": "markdown",
   "metadata": {},
   "source": [
    "### Écrire une fonction compte_Voyelles(phrase), qui renvoie le nombre de voyelles contenues dans une phrase donnée."
   ]
  },
  {
   "cell_type": "code",
   "execution_count": 8,
   "metadata": {},
   "outputs": [
    {
     "name": "stdout",
     "output_type": "stream",
     "text": [
      "4\n"
     ]
    }
   ],
   "source": [
    "def isVoyelle(s):\n",
    "    list_voyelle=['a','e','i','u','y']\n",
    "    if(s in list_voyelle or s.lower() in list_voyelle):\n",
    "        return True\n",
    "    return False\n",
    "\n",
    "def compte_Voyelle(s):\n",
    "    i=0\n",
    "    num=0\n",
    "    while(i<len(s)):\n",
    "        if(isVoyelle(s[i])):\n",
    "            num=num+1\n",
    "        i=i+1\n",
    "    return num\n",
    "\n",
    "#test\n",
    "s='Techniques'\n",
    "print(compte_Voyelle(s))"
   ]
  },
  {
   "cell_type": "markdown",
   "metadata": {},
   "source": [
    "### Écrire une fonction, qui compte le nombre de lettre dans un texte et qui retourne, le nombre de voyelles, le nombre de consonnes et le nombre de caractère spéciaux."
   ]
  },
  {
   "cell_type": "code",
   "execution_count": 9,
   "metadata": {},
   "outputs": [
    {
     "name": "stdout",
     "output_type": "stream",
     "text": [
      "(4, 11, 2)\n"
     ]
    }
   ],
   "source": [
    "def isVoyelle(s):\n",
    "    list_voyelle=['a','e','i','u','y']\n",
    "    if(s in list_voyelle or s.lower() in list_voyelle):\n",
    "        return True\n",
    "    return False\n",
    "\n",
    "def isCaractereSpecial(s):\n",
    "    #J'ai mis comme exemple que les caratères mathèmatiques vu qu'on a plusieur caractères spéciaux\n",
    "    list_caractere_special=['+','*','-','/']\n",
    "    if(s in list_caractere_special):\n",
    "        return True\n",
    "    return False\n",
    "\n",
    "def compt(s):\n",
    "    num_voyelle=0\n",
    "    num_caractereSpecial=0\n",
    "    num_consonne=0\n",
    "    i=0\n",
    "    while(i<len(s)):\n",
    "        if(isVoyelle(s[i])):\n",
    "            num_voyelle=num_voyelle+1\n",
    "        elif (isCaractereSpecial(s[i])):\n",
    "            num_caractereSpecial=num_caractereSpecial+1\n",
    "        else:\n",
    "            num_consonne=num_consonne+1\n",
    "        i=i+1\n",
    "    return(num_voyelle,num_consonne,num_caractereSpecial)\n",
    "\n",
    "#Test\n",
    "s='Licence+Math+2020'\n",
    "print(compt(s))"
   ]
  },
  {
   "cell_type": "markdown",
   "metadata": {},
   "source": [
    "### Écrire une petite fonction trouve_Index() qui retourne l’index correspondant à un caractère donné dans une chaîne de caractère connue. \n",
    "* Traiter tous les cas de figure : chaîne vide, ou chaine avec ou sans caractère recherché.    "
   ]
  },
  {
   "cell_type": "code",
   "execution_count": 10,
   "metadata": {},
   "outputs": [
    {
     "name": "stdout",
     "output_type": "stream",
     "text": [
      "[0, 2]\n",
      "Chaine Vide\n",
      "n'existe pas\n"
     ]
    }
   ],
   "source": [
    "def trouver_indexV3(c,s):\n",
    "    i=0\n",
    "    index = []\n",
    "    chaineVide='Chaine Vide'\n",
    "    existePas=\"n'existe pas\"\n",
    "    if(s==''):\n",
    "        return chaineVide\n",
    "    else:\n",
    "        while (i<len(s)):\n",
    "            if(s[i]==c):\n",
    "              index= index+[i]  \n",
    "            i=i+1\n",
    "        if(index!=[]):\n",
    "            return index\n",
    "        else:\n",
    "            return existePas\n",
    "\n",
    "#Test_Tous_Index\n",
    "print(trouver_indexV3('a','anas'))\n",
    "print(trouver_indexV3('a',''))\n",
    "print(trouver_indexV3('a','ops'))"
   ]
  },
  {
   "cell_type": "markdown",
   "metadata": {},
   "source": [
    "### Améliorer la fonction de l’exercice précédent en lui ajoutant un troisième paramètre : l’index à partir duquel la recherche doit s’effectuer dans la chaîne."
   ]
  },
  {
   "cell_type": "code",
   "execution_count": 11,
   "metadata": {},
   "outputs": [
    {
     "name": "stdout",
     "output_type": "stream",
     "text": [
      "[2]\n",
      "Chaine Vide\n",
      "n'existe pas\n"
     ]
    }
   ],
   "source": [
    "def trouver_index(c,s,k):\n",
    "    index = []\n",
    "    chaineVide='Chaine Vide'\n",
    "    existePas=\"n'existe pas\"\n",
    "    if(s==''):\n",
    "        return chaineVide\n",
    "    else:\n",
    "        while (k<len(s)):\n",
    "            if(s[k]==c):\n",
    "              index= index+[k]  \n",
    "            k=k+1\n",
    "        if(index!=[]):\n",
    "            return index\n",
    "        else:\n",
    "            return existePas\n",
    "\n",
    "#Test_Tous_Index\n",
    "print(trouver_index('a','anas',1))\n",
    "print(trouver_index('a','',1))\n",
    "print(trouver_index('a','ops',1))"
   ]
  }
 ],
 "metadata": {
  "kernelspec": {
   "display_name": "Python 3",
   "language": "python",
   "name": "python3"
  },
  "language_info": {
   "codemirror_mode": {
    "name": "ipython",
    "version": 3
   },
   "file_extension": ".py",
   "mimetype": "text/x-python",
   "name": "python",
   "nbconvert_exporter": "python",
   "pygments_lexer": "ipython3",
   "version": "3.6.5"
  }
 },
 "nbformat": 4,
 "nbformat_minor": 2
}
