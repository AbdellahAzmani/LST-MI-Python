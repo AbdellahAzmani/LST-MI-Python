{
 "cells": [
  {
   "cell_type": "markdown",
   "metadata": {},
   "source": [
    "## Cours Programmation avancée :   premiers pas avec Python \n",
    "#### Exercices de TD 3 / TP 3 : script basique &  initiation aux listes et aux fonctions "
   ]
  },
  {
   "cell_type": "markdown",
   "metadata": {},
   "source": [
    "## Exercice 1\n",
    "### Soit  « impairs »  la liste de nombres [1, 3, 5, 7, 9, 11, 13, 15, 17, 19, 21].\n",
    "Écrire un programme qui, à partir de la liste « impairs », construit une liste « pairs » dans laquelle tous les éléments de « impairs » sont incrémentés de 1."
   ]
  },
  {
   "cell_type": "code",
   "execution_count": null,
   "metadata": {},
   "outputs": [],
   "source": []
  },
  {
   "cell_type": "markdown",
   "metadata": {},
   "source": [
    "## Exercice 2\n",
    "### Avec Python comptez, en une seule commande, combien y a-t-il de nombres pairs dans l’intervalle [2, 10000] inclus ?"
   ]
  },
  {
   "cell_type": "code",
   "execution_count": null,
   "metadata": {},
   "outputs": [],
   "source": []
  },
  {
   "cell_type": "markdown",
   "metadata": {},
   "source": [
    "## Exercice 3\n",
    "### La liste ci-dessous représente une séquence d’ADN :\n",
    "[\"A\",\"C\",\"G\",\"T\",\"T\",\"A\",\"G\",\"C\",\"T\",\"A\",\"A\",\"C\",\"G\"]\n",
    "* Écrivez un script qui transforme cette séquence en sa séquence complémentaire. \n",
    "* Calculez la fréquence en adénine (A), cytosine (C), guanine (G) ou thymine (T) dans cette séquence.\n",
    "\n",
    "**Rappel : la séquence complémentaire s’obtient en remplaçant A par T, T par A, C par G et G par C.**"
   ]
  },
  {
   "cell_type": "code",
   "execution_count": null,
   "metadata": {},
   "outputs": [],
   "source": []
  },
  {
   "cell_type": "markdown",
   "metadata": {},
   "source": [
    "## Exercice 4\n",
    "### Soient les listes suivantes :\n",
    "L1 = [31, 28, 31, 30, 31, 30, 31, 31, 30, 31, 30, 31]<br>\n",
    "et<br>\n",
    "L2=[\"Janvier\",\"Février\",\"Mars\",\"Avril\", \"Mai\",\"Juin\",\"Juillet\",\"Août\",\"Septembre\",\"Octobre\", \"Novembre\",\"Décembre\"]<br>\n",
    "\n",
    "Écrire un petit programme qui crée une nouvelle liste t3 qui devra contenir tous les éléments des deux listes en les alternant, de telle manière que chaque nom de mois soit suivi du nombre de jours correspondant : \n",
    "\n",
    " **['Janvier',31,'Février',28,'Mars',31, ...].**"
   ]
  },
  {
   "cell_type": "code",
   "execution_count": null,
   "metadata": {},
   "outputs": [],
   "source": []
  },
  {
   "cell_type": "markdown",
   "metadata": {},
   "source": [
    "## Exercice 5\n",
    "### Ecrire et tester les fonctions de gestion de liste sans utiliser les fonctions prédéfinies de manipulation des listes à l'exception des fonctions basiques \"len\", \"append\" et \"del\" :\n",
    "-\tAjouter un élément en-tête de  liste (empiler).\n",
    "-\tAjouter un élément en fin de liste (enfiler).\n",
    "-\tVérifier si un élément appartient à une liste.\n",
    "-\tDépiler un élément dans une liste.\n",
    "-\tSupprimer un élément d'une liste.\n",
    "-\tCalculer la longueur d'une liste.\n",
    "-\tRemplacer un élément par un autre dans une liste. \n",
    "-\tAfficher le contenu d'une liste. \n",
    "-\tTrouver l'occurrence d’un élément dans une liste.\n",
    "-\tVérifier si une liste est ordonnée \n",
    "-\tTrier une liste.\n",
    "-\tInsérer  un élément dans une liste triée.\n",
    "-\tVérifier si deux listes sont égales.\n",
    "-\tConcaténer deux listes.\n",
    "-\tinverser une liste.\n"
   ]
  },
  {
   "cell_type": "code",
   "execution_count": null,
   "metadata": {},
   "outputs": [],
   "source": []
  },
  {
   "cell_type": "markdown",
   "metadata": {},
   "source": [
    "## Exercice 6\n",
    "### Ecrire et tester les fonctions de gestion des ensembles sans utiliser les fonctions prédéfinies de manipulation des listes :\n",
    "-\tAjouter un élément dans un ensemble.\n",
    "-\tTransformer une liste en un ensemble\n",
    "-\tVérifier que deux ensembles sont égaux.\n",
    "-\tVérifier qu’un ensemble est inclus dans un autre.\n",
    "-\tFaire l’intersection de deux ensembles.\n",
    "-\tFaire l’union de deux ensembles.\n",
    "-\tVérifier que deux ensembles sont complémentaires pour autre ensemble.\n"
   ]
  },
  {
   "cell_type": "code",
   "execution_count": null,
   "metadata": {},
   "outputs": [],
   "source": []
  },
  {
   "cell_type": "markdown",
   "metadata": {},
   "source": [
    "## Exercice 7\n",
    "### Revoir l’exercice 5, en utilisant les listes et les fonctions pour saisir des nombres réels et pour calculer les fonctions suivantes (sans utiliser Numpy) : \n",
    "-\tla somme \n",
    "-\tla moyenne \n",
    "-\tle produit\n",
    "-\tle max \n",
    "-\tle min\n",
    "-\tl’écart-type \n",
    "-\tla variance\n",
    "-\tla covariance<br>\n",
    "\n",
    "Pour effectuer cet exercice, vous aurez besoin d'utiliser la fonction <span style=\"color:red\">**sqrt**</span> pour l'utilisation de la fonction racine carée<br>\n",
    "Pour cela, ajoutez en haut de l'exercice la ligne suivante : <br>\n",
    "<span style=\"color:red\">**from math import sqrt**</span>"
   ]
  },
  {
   "cell_type": "code",
   "execution_count": null,
   "metadata": {},
   "outputs": [],
   "source": []
  },
  {
   "cell_type": "markdown",
   "metadata": {},
   "source": [
    "## Exercice 8\n",
    "### Revoir l'exercice sur la création  fonction personne() du TD 2 afin de  :\n",
    "- créer une liste de personnes ;\n",
    "- Lister cette liste\n",
    "- Chercher une personne de cette liste\n",
    "\n",
    "    def personne():  # faire attention au 2 points « : »\n",
    "        # On demande de saisir le nom. \n",
    "        N= input(\"Quel est votre nom ? \")\n",
    "        # On demande de saisir le prénom.\n",
    "        P= input(\"Quel est votre prénom ? \") \n",
    "        # On demande de saisir le genre.\n",
    "        G= input(\"Quel est votre genre ? \") \n",
    "        # On demande de saisir l’âge.\n",
    "        A= int(input(\"Quel est votre âge? \")) \n",
    "        # On demande de présenter la personne\n",
    "        print(\"Nous avons le plaisir de vous présenter : \") \n",
    "        print(N, \"  \", P, \"  \", G, \"  \", A)"
   ]
  },
  {
   "cell_type": "code",
   "execution_count": null,
   "metadata": {},
   "outputs": [],
   "source": []
  }
 ],
 "metadata": {
  "kernelspec": {
   "display_name": "Python 3",
   "language": "python",
   "name": "python3"
  },
  "language_info": {
   "codemirror_mode": {
    "name": "ipython",
    "version": 3
   },
   "file_extension": ".py",
   "mimetype": "text/x-python",
   "name": "python",
   "nbconvert_exporter": "python",
   "pygments_lexer": "ipython3",
   "version": "3.6.5"
  }
 },
 "nbformat": 4,
 "nbformat_minor": 2
}
