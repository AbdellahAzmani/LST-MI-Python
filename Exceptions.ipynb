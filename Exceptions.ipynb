{
 "cells": [
  {
   "cell_type": "markdown",
   "metadata": {},
   "source": [
    "<center style=\"font-size:35px;color:red;font-weight:bold\"> Initiation à Python</center><br>\n",
    "<center style=\"color:black;font-size:20px\"> Gestion des exceptions  </center>\n",
    "<center style=\"color:black;font-size:14px\"> Try - Except - Else- Finaly- Pass-Assert </center>\n",
    "<br>\n",
    "<center style=\"color:black\">**Cours du Pr. Abdellah AZMANI**</center>\n",
    "<center style=\"color:black\">**Département Génie Informatique**</center>\n",
    "<br>\n",
    "<center style=\"color:black\">Université Abdelmalek Essaadi</center>\n",
    "<center style=\"color:black\">Faculté des Sciences et Techniques</center>\n",
    "<center style=\"color:black\">Tanger</center>"
   ]
  },
  {
   "attachments": {},
   "cell_type": "markdown",
   "metadata": {},
   "source": [
    "## Exception\n",
    "### Qu’est ce qu’une Exception?\n",
    "\n",
    "Durant l’exécution d’un programme Python peut rencontrer  une erreur ou une anomalie qui peut bloquer cette exécution. \n",
    "\n",
    "A titre d’exemple :\n",
    "* Division par zéro\n",
    "* Saisie avec un type non attendu \n",
    "* Calcul avec des expressions non numériques\n",
    "* Mauvais passage de paramètres d’une fonction\n",
    "* …"
   ]
  },
  {
   "cell_type": "code",
   "execution_count": 1,
   "metadata": {},
   "outputs": [
    {
     "ename": "ZeroDivisionError",
     "evalue": "division by zero",
     "output_type": "error",
     "traceback": [
      "\u001b[0;31m---------------------------------------------------------------------------\u001b[0m",
      "\u001b[0;31mZeroDivisionError\u001b[0m                         Traceback (most recent call last)",
      "\u001b[0;32m<ipython-input-1-bbfa64fc24dc>\u001b[0m in \u001b[0;36m<module>\u001b[0;34m()\u001b[0m\n\u001b[1;32m      1\u001b[0m \u001b[0;31m# Exemple d'une division par zéro\u001b[0m\u001b[0;34m\u001b[0m\u001b[0;34m\u001b[0m\u001b[0m\n\u001b[0;32m----> 2\u001b[0;31m \u001b[0mX\u001b[0m \u001b[0;34m=\u001b[0m \u001b[0;36m5\u001b[0m\u001b[0;34m/\u001b[0m\u001b[0;36m0\u001b[0m\u001b[0;34m\u001b[0m\u001b[0m\n\u001b[0m",
      "\u001b[0;31mZeroDivisionError\u001b[0m: division by zero"
     ]
    }
   ],
   "source": [
    "# Exemple d'une division par zéro\n",
    "X = 5/0"
   ]
  },
  {
   "attachments": {},
   "cell_type": "markdown",
   "metadata": {},
   "source": [
    "La gestion des exceptions permet d’anticiper de telles erreurs en les interceptant afin d’envoyer un message d’erreur sans pour autant arrêter l’exécution d’un programme. \n",
    "\n",
    "Parfois, il est obligatoire de gérer les exceptions, c’est notamment le cas où on permet à un utilisateur d’effectuer une saisie dans un type particulier. Ce dernier peut volontairement ou par inadvertance saisir une valeur dont le type est différent du type attendu et provoquera ainsi une interruption du programme, à moins que le programmeur anticipe une telle situation en intégrant la gestion des exceptions dans le code de son programme. \n",
    "\n",
    "<span style=\"color:red\">**!  Attention, il ne faut pas tomber dans les extrêmes et vouloir tout intercepter. Il faut laisser à Python la possibilité de vous signaler d’éventuelles erreurs non attendues car si vous ignorez de telles erreurs, vous risquez d'avoir des résultats erronés dans votre programme.**</span><br>\n",
    "### Comment gérer des exceptions ?\n",
    "Exemple de cas d’erreurs provoquées par l'utilisateur !"
   ]
  },
  {
   "cell_type": "code",
   "execution_count": 2,
   "metadata": {},
   "outputs": [
    {
     "name": "stdout",
     "output_type": "stream",
     "text": [
      "Entrez votre âge = Dix neuf\n"
     ]
    },
    {
     "ename": "ValueError",
     "evalue": "invalid literal for int() with base 10: 'Dix neuf'",
     "output_type": "error",
     "traceback": [
      "\u001b[0;31m---------------------------------------------------------------------------\u001b[0m",
      "\u001b[0;31mValueError\u001b[0m                                Traceback (most recent call last)",
      "\u001b[0;32m<ipython-input-2-8589231fae03>\u001b[0m in \u001b[0;36m<module>\u001b[0;34m()\u001b[0m\n\u001b[1;32m      1\u001b[0m \u001b[0;31m# On demande à l'utilisateur de saisir son âge\u001b[0m\u001b[0;34m\u001b[0m\u001b[0;34m\u001b[0m\u001b[0m\n\u001b[0;32m----> 2\u001b[0;31m \u001b[0mage\u001b[0m \u001b[0;34m=\u001b[0m \u001b[0mint\u001b[0m\u001b[0;34m(\u001b[0m\u001b[0minput\u001b[0m\u001b[0;34m(\u001b[0m\u001b[0;34m\"Entrez votre âge = \"\u001b[0m\u001b[0;34m)\u001b[0m\u001b[0;34m)\u001b[0m\u001b[0;34m\u001b[0m\u001b[0m\n\u001b[0m\u001b[1;32m      3\u001b[0m \u001b[0;31m# avec « int » on convertit la valeur saisie en un entier « integer »\u001b[0m\u001b[0;34m\u001b[0m\u001b[0;34m\u001b[0m\u001b[0m\n\u001b[1;32m      4\u001b[0m \u001b[0;31m#  Et  on suppose que l’utilisateur saisit  Dix neuf au lieu de 19\u001b[0m\u001b[0;34m\u001b[0m\u001b[0;34m\u001b[0m\u001b[0m\n",
      "\u001b[0;31mValueError\u001b[0m: invalid literal for int() with base 10: 'Dix neuf'"
     ]
    }
   ],
   "source": [
    "# On demande à l'utilisateur de saisir son âge\n",
    "age = int(input(\"Entrez votre âge = \")) \n",
    "# avec « int » on convertit la valeur saisie en un entier « integer »\n",
    "#  Et  on suppose que l’utilisateur saisit  Dix neuf au lieu de 19 "
   ]
  },
  {
   "attachments": {},
   "cell_type": "markdown",
   "metadata": {},
   "source": [
    "**La valeur saisie : « dix neuf » est impossible à convertir en entier** : le programme se plante et affiche une erreur de type **ValueError** indiquant que le programme attend un entier et non une expression littéraire. \n",
    "\n",
    "**Principe:**\n",
    "On demande à Python de tester un extrait de code. S'il ne renvoie aucune erreur, Python continue. Sinon, il signale une erreur ou exécute des instructions en rapport avec l’erreur.\n",
    "\n",
    "Forme minimale du bloc try<br>\n",
    "**syntaxe :**<br>\n",
    "try:\n",
    "    # Bloc d'instructions à essayer\n",
    "except:\n",
    "    # Bloc d'instructions qui sera exécuté en cas d'erreur"
   ]
  },
  {
   "cell_type": "code",
   "execution_count": 3,
   "metadata": {},
   "outputs": [
    {
     "name": "stdout",
     "output_type": "stream",
     "text": [
      "Entrez votre âge =test\n",
      "Erreur : la valeur saisie n’est pas un entier.\n"
     ]
    }
   ],
   "source": [
    "try: # On essaye de convertir la saisie en un entier\n",
    "    age = int(input(\"Entrez votre âge =\")) \n",
    "except:\n",
    "    print(\"Erreur : la valeur saisie n’est pas un entier.\")"
   ]
  },
  {
   "attachments": {},
   "cell_type": "markdown",
   "metadata": {},
   "source": [
    "L’exécution cette fois-ci du programme avec la même valeur « dix neuf » en littéraire ne donnera pas d’interruption comme précédemment mais affichera un message d’erreur :<br>\n",
    "**Entrez votre âge = dix neuf**<br>\n",
    "**Erreur : la valeur saisie n’est pas un entier.**\n",
    "\n",
    "<span style=\"color:red\">**! Attention :**</span> « try » permet d’intercepter l’erreur mais ne la corrige pas . \n",
    "\n",
    "A titre d’exemple :  si on réutilise par la suite la variable « age » le système affiche certes une erreur mais finit par planter."
   ]
  },
  {
   "cell_type": "code",
   "execution_count": 4,
   "metadata": {},
   "outputs": [
    {
     "name": "stdout",
     "output_type": "stream",
     "text": [
      "Entrez votre âge =dix neuf\n",
      "Erreur : la valeur saisie n’est pas un entier.\n"
     ]
    },
    {
     "ename": "NameError",
     "evalue": "name 'age' is not defined",
     "output_type": "error",
     "traceback": [
      "\u001b[0;31m---------------------------------------------------------------------------\u001b[0m",
      "\u001b[0;31mNameError\u001b[0m                                 Traceback (most recent call last)",
      "\u001b[0;32m<ipython-input-4-9908f7e3ae68>\u001b[0m in \u001b[0;36m<module>\u001b[0;34m()\u001b[0m\n\u001b[1;32m      3\u001b[0m \u001b[0;32mexcept\u001b[0m\u001b[0;34m:\u001b[0m\u001b[0;34m\u001b[0m\u001b[0m\n\u001b[1;32m      4\u001b[0m     \u001b[0mprint\u001b[0m\u001b[0;34m(\u001b[0m\u001b[0;34m\"Erreur : la valeur saisie n’est pas un entier.\"\u001b[0m\u001b[0;34m)\u001b[0m\u001b[0;34m\u001b[0m\u001b[0m\n\u001b[0;32m----> 5\u001b[0;31m \u001b[0;32mif\u001b[0m \u001b[0mage\u001b[0m\u001b[0;34m>\u001b[0m\u001b[0;36m18\u001b[0m \u001b[0;34m:\u001b[0m\u001b[0;34m\u001b[0m\u001b[0m\n\u001b[0m\u001b[1;32m      6\u001b[0m     \u001b[0mPrint\u001b[0m \u001b[0;34m(\u001b[0m\u001b[0;34m\"la personne est majeure\"\u001b[0m\u001b[0;34m)\u001b[0m\u001b[0;34m\u001b[0m\u001b[0m\n",
      "\u001b[0;31mNameError\u001b[0m: name 'age' is not defined"
     ]
    }
   ],
   "source": [
    "try: # On essaye de convertir la saisie en un entier\n",
    "    age = int(input(\"Entrez votre âge =\")) \n",
    "except:\n",
    "    print(\"Erreur : la valeur saisie n’est pas un entier.\")\n",
    "if age>18 : \n",
    "    Print (\"la personne est majeure\")\n"
   ]
  },
  {
   "attachments": {},
   "cell_type": "markdown",
   "metadata": {},
   "source": [
    "Avec **age=« dix neuf »** la comparaison de la condition du « if » va échouée et donnera après exécution de ce bout de code l’erreur suivante :\n",
    "    if age>18:\n",
    "    NameError: name 'age' is not defined\n",
    "\n",
    "Si on veut éviter de tel problème, il faut redemander à l'utilisateur de saisir l‘âge en cas d’erreur.\n",
    "\n",
    "Il s’agit ici de la forme minimale du bloc « try » car on s’intéresse pas au type d’erreur. \n",
    "\n",
    "**Forme plus complète qui permet d’exécuter le bloc except pour un type d'exception précis :**<br>\n",
    "A titre d’exemple :"
   ]
  },
  {
   "cell_type": "code",
   "execution_count": 5,
   "metadata": {},
   "outputs": [
    {
     "name": "stdout",
     "output_type": "stream",
     "text": [
      "Une erreur est survenue ?\n"
     ]
    }
   ],
   "source": [
    "try:\n",
    "    resultat = X / Y\n",
    "except:\n",
    "    print(\"Une erreur est survenue ?\")   \n",
    "   # mais de quelle erreur s’agit-il ?"
   ]
  },
  {
   "attachments": {},
   "cell_type": "markdown",
   "metadata": {},
   "source": [
    "Parmi les erreurs qu’on peut rencontrer dans le cas d’une division par « / » :\n",
    "* **NameError:** l'une des variables X ou Y n'a pas été définie. Cette erreur est courante quand on utilise dans un calcul ou en passage de paramètre d’entrée une variable qui n’a pas reçu de valeur et qui n’existe donc pas pour Python.\n",
    "* **TypeError:** l'une des variables X ou Y ne peut diviser ou être divisée. A titre d’exemple, les chaînes de caractères ne peuvent être divisées, ni diviser d'autres types. L'opérateur de division « / » doit être utilisé sur des types numériques.\n",
    "* **ZeroDivisionError:** si Y vaut 0, cette exception sera levée.\n",
    "\n",
    "L'exécution de ce code peut générer d’autres erreurs en plus des 3 évoquées ici. Cela montre que plusieurs erreurs peuvent se produire sur une instruction et qu’il faut apprendre à les intercepter en les différentiant.\n",
    "\n",
    "Pour une gestion plus explicite des exceptions, on doit améliorer le bloc « except ».\n",
    "On procède ainsi dans notre exemple précédent :"
   ]
  },
  {
   "cell_type": "code",
   "execution_count": 6,
   "metadata": {},
   "outputs": [
    {
     "name": "stdout",
     "output_type": "stream",
     "text": [
      "La variable X ou Y n'a pas été définie.\n"
     ]
    }
   ],
   "source": [
    "try:\n",
    "    resultat = X / Y \n",
    "except NameError:\n",
    "    print(\"La variable X ou Y n'a pas été définie.\")\n",
    "except TypeError:\n",
    "    print(\"La variable X ou Y possède un type incompatible  \t avec la division.\")\n",
    "except ZeroDivisionError:\n",
    "    print(\"La variable Y est égale à 0.\")"
   ]
  },
  {
   "cell_type": "markdown",
   "metadata": {},
   "source": [
    "Une exception peut être capturée grâce au mot-clé « as »."
   ]
  },
  {
   "cell_type": "code",
   "execution_count": 18,
   "metadata": {},
   "outputs": [
    {
     "ename": "IndentationError",
     "evalue": "expected an indented block (<ipython-input-18-5257eb1b7996>, line 3)",
     "output_type": "error",
     "traceback": [
      "\u001b[0;36m  File \u001b[0;32m\"<ipython-input-18-5257eb1b7996>\"\u001b[0;36m, line \u001b[0;32m3\u001b[0m\n\u001b[0;31m    except type_exception as exception_constatee:\u001b[0m\n\u001b[0m         ^\u001b[0m\n\u001b[0;31mIndentationError\u001b[0m\u001b[0;31m:\u001b[0m expected an indented block\n"
     ]
    }
   ],
   "source": [
    "try:\n",
    "    # Bloc de test\n",
    "except type_exception as exception_constatee:\n",
    "    print(\"L'erreur constatée est : \", exception_constatee)"
   ]
  },
  {
   "attachments": {},
   "cell_type": "markdown",
   "metadata": {},
   "source": [
    "Si jamais le programme génère une erreur de type indiqué (celui exprimé par « type_exception ») suite à l’exécution du bloc « try », Python crée alors une variable « exception_constatee» .\n",
    "\n",
    "#### Utilisation du mot-clé « else » dans la gestion d’une exception\n",
    "« else » va permettre d'exécuter une ou plusieurs actions si aucune erreur ne survient dans le bloc « try »."
   ]
  },
  {
   "cell_type": "code",
   "execution_count": 19,
   "metadata": {},
   "outputs": [
    {
     "name": "stdout",
     "output_type": "stream",
     "text": [
      "La variable X ou Y n'a pas été définie.\n"
     ]
    }
   ],
   "source": [
    "try:\n",
    "    resultat = X / Y \n",
    "except NameError:\n",
    "    print(\"La variable X ou Y n'a pas été définie.\")\n",
    "except TypeError:\n",
    "    print(\"La variable X ou Y possède un type incompatible  \t        avec la division.\")\n",
    "except ZeroDivisionError:\n",
    "    print(\"La variable Y est égale à 0.\")\n",
    "else:\n",
    "    print(\"La division de \",X,\" par \",Y, \" est : \", resultat)"
   ]
  },
  {
   "attachments": {},
   "cell_type": "markdown",
   "metadata": {},
   "source": [
    "Le bloc **« else »** est très peu utilisé car les développeurs préfèrent mettre son contenu directement dans le bloc « try ». Toutefois, il est plus logique et plus esthétique de séparer les instructions du bloc « try » qui peuvent générer des erreurs avec celui du bloc « else » qui en principe ne doit pas en générer. \n",
    "\n",
    "#### Utilisation du mot-clé « finally » dans la gestion d’une exception\n",
    "« finally » va d'exécuter un bloc d’ action(s) après un bloc try, qu’il y a erreur ou qu’il n’y en a pas. !\n",
    "\n",
    "try:\n",
    "    # Test d'instruction(s)\n",
    "except type_de_l_exception:\n",
    "    # Traitement en cas d'erreur\n",
    "finally:\n",
    "    # Instruction(s) exécutée(s) qu'il y ait eu des erreurs ou non\n",
    "    \n",
    "On peut penser que le bloc « finally » n’est pas nécessaire puisqu’il suffit de mettre les instructions qu’il contient juste après le bloc d’exception.<br>\n",
    "Ceci n’est pas toujours vrai car il se peut que le bloc « try » contient une instruction de type « return » qui normalement arrête l’exécution d’une fonction. Dans cas l’existence du bloc « finally » oblige Python à exécuter les instructions qu’il contient. <br>\n",
    "#### Utilisation du mot-clé « pass »\n",
    "Il arrive parfois qu’on cherche à ne rien faire en cas d’erreur lors d’un test d’un bloc d'instructions avec « try ». Et comme l’utilisation « try » seul et sans « except » génère une erreur de syntaxe."
   ]
  },
  {
   "cell_type": "raw",
   "metadata": {},
   "source": [
    ">>> try:\n",
    "...     10/0\n",
    "...\n",
    "  File \"<stdin>\", line 3\n",
    "     ^\n",
    "SyntaxError: invalid syntax"
   ]
  },
  {
   "cell_type": "markdown",
   "metadata": {},
   "source": [
    "Python met à notre disposition l’instruction « pass » qu’on utilise ainsi :"
   ]
  },
  {
   "cell_type": "code",
   "execution_count": 23,
   "metadata": {},
   "outputs": [
    {
     "ename": "IndentationError",
     "evalue": "expected an indented block (<ipython-input-23-71ad32beea0c>, line 3)",
     "output_type": "error",
     "traceback": [
      "\u001b[0;36m  File \u001b[0;32m\"<ipython-input-23-71ad32beea0c>\"\u001b[0;36m, line \u001b[0;32m3\u001b[0m\n\u001b[0;31m    except  type_exception: # Rien ne doit se passer en cas d'erreur\u001b[0m\n\u001b[0m         ^\u001b[0m\n\u001b[0;31mIndentationError\u001b[0m\u001b[0;31m:\u001b[0m expected an indented block\n"
     ]
    }
   ],
   "source": [
    "try:\n",
    "    # Test d'instruction(s)\n",
    "except  type_exception: # Rien ne doit se passer en cas d'erreur\n",
    "    pass"
   ]
  },
  {
   "cell_type": "markdown",
   "metadata": {},
   "source": [
    "L’utilisation de « pass » doit être bien contrôlée, voire évitée.\n",
    "\n",
    "**Noter que « pass » peut être utilisé également dans des conditions ou dans des fonctions que l'on souhaite laisser vides.**"
   ]
  },
  {
   "cell_type": "markdown",
   "metadata": {},
   "source": [
    "#### Utilisation du mot-clé « assert »\n",
    "Les assertions permettent de vérifier une condition avant de continuer l’exécution d’un code. \n",
    "\n",
    "On les utilise généralement avec les blocs try … except et leur syntaxe est la suite :<br>\n",
    "**assert   test ** <br>\n",
    "Si « test » est vrai l'exécution se poursuit, sinon, une exception **AssertionError** est levée.\n",
    "\n",
    "Exemple :"
   ]
  },
  {
   "cell_type": "code",
   "execution_count": 26,
   "metadata": {},
   "outputs": [
    {
     "ename": "AssertionError",
     "evalue": "",
     "output_type": "error",
     "traceback": [
      "\u001b[0;31m---------------------------------------------------------------------------\u001b[0m",
      "\u001b[0;31mAssertionError\u001b[0m                            Traceback (most recent call last)",
      "\u001b[0;32m<ipython-input-26-812fa33e83df>\u001b[0m in \u001b[0;36m<module>\u001b[0;34m()\u001b[0m\n\u001b[1;32m      1\u001b[0m \u001b[0mx\u001b[0m \u001b[0;34m=\u001b[0m \u001b[0;36m5\u001b[0m\u001b[0;34m\u001b[0m\u001b[0m\n\u001b[1;32m      2\u001b[0m \u001b[0;32massert\u001b[0m \u001b[0mx\u001b[0m \u001b[0;34m>\u001b[0m \u001b[0;36m3\u001b[0m      \u001b[0;31m# ici pas d’exception car x=5 et donc supérieur à 3\u001b[0m\u001b[0;34m\u001b[0m\u001b[0m\n\u001b[0;32m----> 3\u001b[0;31m \u001b[0;32massert\u001b[0m \u001b[0mx\u001b[0m \u001b[0;34m<\u001b[0m \u001b[0;36m4\u001b[0m  \u001b[0;31m# ici il y a exception car x=5 n’est pas inférieur à 4\u001b[0m\u001b[0;34m\u001b[0m\u001b[0m\n\u001b[0m",
      "\u001b[0;31mAssertionError\u001b[0m: "
     ]
    }
   ],
   "source": [
    "x = 5\n",
    "assert x > 3      # ici pas d’exception car x=5 et donc supérieur à 3\n",
    "assert x < 4  # ici il y a exception car x=5 n’est pas inférieur à 4"
   ]
  },
  {
   "cell_type": "markdown",
   "metadata": {},
   "source": [
    "### Quelle est l’utilité des assertions ?\n",
    "Supposons qu’on demande à un utilisateur de rentrer une année (annee de naissance par exemple) et qu’on veut s'assurer que la valeur saisie n’est ni inférieure ni égale à 0, dans cas on procède ainsi :"
   ]
  },
  {
   "cell_type": "code",
   "execution_count": 29,
   "metadata": {},
   "outputs": [
    {
     "name": "stdout",
     "output_type": "stream",
     "text": [
      "Saisir votre année de naissance test\n",
      "Vous n'avez pas saisi un nombre.\n"
     ]
    }
   ],
   "source": [
    "annee = input(\"Saisir votre année de naissance \")\n",
    "try:\n",
    "    annee = int(annee) # Conversion de l'année\n",
    "    assert annee > 0\n",
    "except ValueError:\n",
    "    print(\"Vous n'avez pas saisi un nombre.\")\n",
    "except AssertionError:\n",
    "    print(\"L'année saisie est inférieure ou égale à 0.\")"
   ]
  },
  {
   "cell_type": "markdown",
   "metadata": {},
   "source": [
    "**Les assertions lèvent une exception AssertionError si le test échoue.**"
   ]
  },
  {
   "cell_type": "markdown",
   "metadata": {},
   "source": [
    "#### Lever une exception avec le mot-clé raise.\n",
    "<center style=\"color:red\">**raise Type_Exception(\"message à afficher\") :**</center><br>\n",
    "Montrons son utilisation avec l’exemple de l’année de naissance  en levant une exception de type ValueError si l'utilisateur saisit une année négative ou nulle.\n"
   ]
  },
  {
   "cell_type": "code",
   "execution_count": 41,
   "metadata": {},
   "outputs": [
    {
     "ename": "SyntaxError",
     "evalue": "invalid syntax (<ipython-input-41-569fe3a244d1>, line 5)",
     "output_type": "error",
     "traceback": [
      "\u001b[0;36m  File \u001b[0;32m\"<ipython-input-41-569fe3a244d1>\"\u001b[0;36m, line \u001b[0;32m5\u001b[0m\n\u001b[0;31m    annee <= 0:\u001b[0m\n\u001b[0m        ^\u001b[0m\n\u001b[0;31mSyntaxError\u001b[0m\u001b[0;31m:\u001b[0m invalid syntax\n"
     ]
    }
   ],
   "source": [
    "annee = input() # L'utilisateur saisit l'année\n",
    "try:\n",
    "    annee = int(input(\"saisir votre année de naissance\") \n",
    "    # On tente de convertir la valeur saisie en integer if       \n",
    "    annee <= 0:\n",
    "        raise ValueError(\"l'année saisie est négative ou nulle\")\n",
    "except ValueError:\n",
    "    print(\"La valeur saisie est invalide.\")"
   ]
  },
  {
   "attachments": {},
   "cell_type": "markdown",
   "metadata": {},
   "source": [
    "Ici, **raise** n’apporte pas grand-chose. <br>\n",
    "Notons que **« raise »** peut être utilisé sans les exceptions.\n",
    "### Exemples de Classes d'exceptions de base\n",
    "**ArithmeticError**\n",
    "* Classe des exceptions générées pour diverses erreurs arithmétiques, telles que\n",
    "    * OverflowError\n",
    "    * ZeroDivisionError\n",
    "    * FloatingPointError\n"
   ]
  },
  {
   "cell_type": "code",
   "execution_count": 43,
   "metadata": {},
   "outputs": [],
   "source": [
    "def division(a, b):\n",
    "    try:\n",
    "        d = a//b\n",
    "    except ArithmeticError:\n",
    "        print(\"Erreur\")"
   ]
  },
  {
   "cell_type": "markdown",
   "metadata": {},
   "source": [
    "**BufferError**<br>\n",
    "   * Cette exception est déclenchée lorsque des opérations liées à la mémoire tampon ne peuvent pas être effectuées.\n",
    "   \n",
    "\n",
    "**LookupError**\n",
    "* Classe des exceptions déclenchées lorsqu'une clé ou un index est invalide ou introuvable :\n",
    "    * KeyError\n",
    "    * IndexError"
   ]
  },
  {
   "cell_type": "code",
   "execution_count": 45,
   "metadata": {},
   "outputs": [
    {
     "name": "stdout",
     "output_type": "stream",
     "text": [
      "Indice est supérieur à la taille du tableau\n"
     ]
    }
   ],
   "source": [
    "T=[]\n",
    "try:\n",
    "    print(T[4])\n",
    "except LookupError:\n",
    "    print(\"Indice est supérieur à la taille du tableau\")"
   ]
  },
  {
   "cell_type": "markdown",
   "metadata": {},
   "source": [
    "### Synthèse\n",
    "* Python vous permet d’intercepter les erreurs (ou exceptions) levées grâce aux blocs « **try** » et « **except** ».\n",
    "* Il faut éviter d’utiliser « **try** » pour tester n'importe quel partie de votre code. Ne le faite que pour les aspects dont vous connaissez l’éventualité d’une erreur suite à des actions que vous ne pouvez contrôler : saisie avec un type inappropriée, division par zéro, …\n",
    "* Il est important de toujours associer à « **except** » un type d'exceptions (voir exemple de classes d’exceptions et exercice à suivre)\n",
    "* Passer par une variable en s ’appuyant sur « as » n’est pas nécessaire, il est utile lorsque on souhaite traiter les message séparément. \n",
    "* Le bloc « **else** » s’éxecute si aucune erreur ne survient dans le bloc « try ». \n",
    "* Le bloc « **finally** »  s’exécute après un bloc try, qu’il y a erreur ou qu’il n’y en a pas. \n",
    "* « **Pass** » signale qu’il ne faut rien faire en cas d’erreur. \n",
    "* **assert** lève une exception AssertionError si le test échoue.\n",
    "* « raise » permet de lever une exception."
   ]
  },
  {
   "cell_type": "markdown",
   "metadata": {},
   "source": [
    "## Exercices d’application : \n",
    "1. Tester tous les exemples évoqués dans ce support de cours.\n",
    "2. Revoir les différents TP et y ajouter la gestion des exceptions là où c’est nécessaire, pour cela faut faire des recherches sur le web et compléter la liste des types d’exceptions suivante : \n",
    "\n",
    "* **IOError** : si le fichier ne peut pas être ouvert\n",
    "* **KeyboardInterrupt** : si une touche non requise est enfoncée par l'utilisateur\n",
    "* **ValueError**: si la fonction reçoit un argument incorrect\n",
    "* **EOFError**: si End-Of-File (fin de fichier) est atteint sans pouvoir lire aucune donnée\n",
    "* **ImportError**: s'il est impossible de trouver le module à importé\n",
    "* **MemoryError** : si une opération manque de mémoire.\n",
    "* **AttributeError** : si attribut non existant est référencé.\n",
    "* **RecursionError** : si le niveau de récursivité maximal est dépassé. RecursionError est dérivé de RuntimeError. \n",
    "…"
   ]
  },
  {
   "cell_type": "code",
   "execution_count": null,
   "metadata": {},
   "outputs": [],
   "source": []
  }
 ],
 "metadata": {
  "kernelspec": {
   "display_name": "Python 3",
   "language": "python",
   "name": "python3"
  },
  "language_info": {
   "codemirror_mode": {
    "name": "ipython",
    "version": 3
   },
   "file_extension": ".py",
   "mimetype": "text/x-python",
   "name": "python",
   "nbconvert_exporter": "python",
   "pygments_lexer": "ipython3",
   "version": "3.6.5"
  }
 },
 "nbformat": 4,
 "nbformat_minor": 2
}
