{
 "cells": [
  {
   "cell_type": "markdown",
   "metadata": {},
   "source": [
    "<center style=\"font-size:35px;color:red;font-weight:bold\"> Initiation à Python</center><br>\n",
    "<center style=\"color:black;font-size:20px\"> Complément de cours  </center>\n",
    "<center style=\"color:black;font-size:14px\"> Fonction Lambda </center>\n",
    "<br>\n",
    "<center style=\"color:black\">**Cours du Pr. Abdellah AZMANI**</center>\n",
    "<center style=\"color:black\">**Département Génie Informatique**</center>\n",
    "<br>\n",
    "<center style=\"color:black\">Université Abdelmalek Essaadi</center>\n",
    "<center style=\"color:black\">Faculté des Sciences et Techniques</center>\n",
    "<center style=\"color:black\">Tanger</center>"
   ]
  },
  {
   "cell_type": "markdown",
   "metadata": {},
   "source": [
    "## Fonction Lambda\n",
    "En Python, le mot-clé lambda est utilisé pour déclarer une fonction anonyme, elle se réfère à une fonction déclarée sans nom.\n",
    "Une fonction lambda peut prendre n'importe quel nombre d'arguments, mais ne peut avoir qu'une seule expression, elle se comporte de la même manière que les fonctions régulières qui sont déclarées en utilisant le mot-clé **def**.\n",
    "\n",
    "### Syntax\n",
    "***lambda arguments : expression***"
   ]
  },
  {
   "cell_type": "code",
   "execution_count": 1,
   "metadata": {},
   "outputs": [
    {
     "name": "stdout",
     "output_type": "stream",
     "text": [
      "15\n"
     ]
    }
   ],
   "source": [
    "#Ajoutez 10 à l'argument a et renvoyez le résultat:\n",
    "\n",
    "x = lambda a: a + 10\n",
    "print(x (5)) "
   ]
  },
  {
   "cell_type": "code",
   "execution_count": 2,
   "metadata": {},
   "outputs": [
    {
     "name": "stdout",
     "output_type": "stream",
     "text": [
      "30\n"
     ]
    }
   ],
   "source": [
    "#Multipliez l'argument a par l'argument b et renvoyez le résultat:\n",
    "\n",
    "x = lambda a, b: a * b\n",
    "print(x (5, 6)) "
   ]
  },
  {
   "cell_type": "code",
   "execution_count": 3,
   "metadata": {},
   "outputs": [
    {
     "name": "stdout",
     "output_type": "stream",
     "text": [
      "13\n"
     ]
    }
   ],
   "source": [
    "#additionez les arguments a, b et c et renvoyez le résultat: \n",
    "\n",
    "x = lambda a, b, c : a + b + c\n",
    "print(x(5, 6, 2))"
   ]
  },
  {
   "cell_type": "markdown",
   "metadata": {},
   "source": [
    "## Pourquoi utiliser les fonctions Lambda?\n",
    "La puissance de lambda est mieux montrée lorsque vous les utilisez comme fonction anonyme dans une autre fonction.\n",
    "\n",
    "Supposons que vous ayez une définition de fonction qui prend un argument, et cet argument sera multiplié par un nombre inconnu: "
   ]
  },
  {
   "cell_type": "code",
   "execution_count": 4,
   "metadata": {},
   "outputs": [],
   "source": [
    "def myfunc(n):\n",
    "  return lambda a : a * n"
   ]
  },
  {
   "cell_type": "code",
   "execution_count": 7,
   "metadata": {},
   "outputs": [
    {
     "name": "stdout",
     "output_type": "stream",
     "text": [
      "22\n"
     ]
    }
   ],
   "source": [
    "#Utilisez cette définition de fonction pour créer une fonction qui double toujours le nombre que vous envoyez: \n",
    "\n",
    "def myfunc(n):\n",
    "  return lambda a : a * n\n",
    "\n",
    "mydoubler = myfunc(2)\n",
    "\n",
    "print(mydoubler(11))"
   ]
  },
  {
   "cell_type": "code",
   "execution_count": 8,
   "metadata": {},
   "outputs": [
    {
     "name": "stdout",
     "output_type": "stream",
     "text": [
      "33\n"
     ]
    }
   ],
   "source": [
    "#Ou, utilisez la même définition de fonction pour créer une fonction qui triple toujours le nombre que vous envoyez: \n",
    "\n",
    "def myfunc(n):\n",
    "  return lambda a : a * n\n",
    "\n",
    "mytripler = myfunc(3)\n",
    "\n",
    "print(mytripler(11))"
   ]
  },
  {
   "cell_type": "code",
   "execution_count": 9,
   "metadata": {},
   "outputs": [
    {
     "name": "stdout",
     "output_type": "stream",
     "text": [
      "22\n",
      "33\n"
     ]
    }
   ],
   "source": [
    "#Ou utilisez la même définition de fonction pour créer les deux fonctions, dans le même programme: \n",
    "\n",
    "def myfunc(n):\n",
    "  return lambda a : a * n\n",
    "\n",
    "mydoubler = myfunc(2)\n",
    "mytripler = myfunc(3)\n",
    "\n",
    "print(mydoubler(11)) \n",
    "print(mytripler(11))"
   ]
  },
  {
   "cell_type": "markdown",
   "metadata": {},
   "source": [
    "**Utilisez les fonctions lambda lorsqu'une fonction anonyme est requise pendant une courte période.**"
   ]
  }
 ],
 "metadata": {
  "kernelspec": {
   "display_name": "Python 3",
   "language": "python",
   "name": "python3"
  },
  "language_info": {
   "codemirror_mode": {
    "name": "ipython",
    "version": 3
   },
   "file_extension": ".py",
   "mimetype": "text/x-python",
   "name": "python",
   "nbconvert_exporter": "python",
   "pygments_lexer": "ipython3",
   "version": "3.6.5"
  }
 },
 "nbformat": 4,
 "nbformat_minor": 2
}
