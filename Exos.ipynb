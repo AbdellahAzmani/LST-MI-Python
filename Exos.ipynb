{
 "cells": [
  {
   "cell_type": "markdown",
   "metadata": {
    "deletable": false,
    "editable": false
   },
   "source": [
    "### Écrivez un programme pour afficher la mention selon la note saisie : \n",
    "| Note | Mention |\n",
    "| :- | :- |\n",
    "| 0 à 4| Très faible|\n",
    "| 4 à 6| Faible|\n",
    "| 6 à 8| Très médiocre|\n",
    "| 8 à 10| Médiocre|\n",
    "| 10 à 12| Passable|\n",
    "| 12 à 14| Assez bien|\n",
    "| 14 à 16| Bien|\n",
    "| 16 à 20| Très bien|"
   ]
  },
  {
   "cell_type": "code",
   "execution_count": null,
   "metadata": {},
   "outputs": [],
   "source": []
  },
  {
   "cell_type": "markdown",
   "metadata": {
    "deletable": false,
    "editable": false
   },
   "source": [
    "### Écrivez un programme qui, pour une variable recevant une valeur entière, indique si l’année correspondante est bissextile en affichant : \"Cette année est bissextile\" ou \"Cette année n’est pas bissextile\" selon le cas.\n",
    "\n",
    "**Rappel.** Les années bissextiles sont celles qui sont divisibles par 4, sauf lorsqu’elles débutent un siècle non multiple de 400.\n",
    "\n",
    "(Par exemple : l’année 2000 était bissextile : 2000 débute un siècle mais 2000/400 = 50 ; l’année 2100 ne sera pas bissextile)."
   ]
  },
  {
   "cell_type": "code",
   "execution_count": null,
   "metadata": {},
   "outputs": [],
   "source": []
  },
  {
   "cell_type": "markdown",
   "metadata": {
    "deletable": false,
    "editable": false
   },
   "source": [
    "### Écrivez un programme pour afficher tous les nombres naturels en sens inverse de n à 1 en utilisant la boucle for et while."
   ]
  },
  {
   "cell_type": "code",
   "execution_count": null,
   "metadata": {},
   "outputs": [],
   "source": []
  },
  {
   "cell_type": "markdown",
   "metadata": {
    "deletable": false,
    "editable": false
   },
   "source": [
    "### Écrivez un programme pour trouver la somme de tous les nombres naturels entre 1 et n en utilisant la boucle for et while"
   ]
  },
  {
   "cell_type": "code",
   "execution_count": null,
   "metadata": {},
   "outputs": [],
   "source": []
  },
  {
   "cell_type": "markdown",
   "metadata": {
    "deletable": false,
    "editable": false
   },
   "source": [
    "### Écrivez un programme pour entrer un nombre de l'utilisateur et comptez le nombre de chiffres dans l'entier donné en utilisant une boucle."
   ]
  },
  {
   "cell_type": "code",
   "execution_count": null,
   "metadata": {},
   "outputs": [],
   "source": []
  },
  {
   "cell_type": "markdown",
   "metadata": {
    "deletable": false,
    "editable": false
   },
   "source": [
    "### Écrivez un programme pour saisir un nombre et calculer la somme de ses chiffres en utilisant la boucle for."
   ]
  },
  {
   "cell_type": "code",
   "execution_count": null,
   "metadata": {},
   "outputs": [],
   "source": []
  },
  {
   "cell_type": "markdown",
   "metadata": {
    "deletable": false,
    "editable": false
   },
   "source": [
    "### Écrivez un script qui affiche une suite de 12 nombres dont chaque terme soit égal au triple du terme précédent.<br>"
   ]
  },
  {
   "cell_type": "code",
   "execution_count": null,
   "metadata": {},
   "outputs": [],
   "source": []
  },
  {
   "cell_type": "markdown",
   "metadata": {
    "deletable": false,
    "editable": false
   },
   "source": [
    "### Écrivez un programme qui convertit un nombre entier de secondes fourni au départ en un nombre d’années, de mois, de jours, de minutes et de secondes (utilisez l’opérateur modulo : % )."
   ]
  },
  {
   "cell_type": "code",
   "execution_count": null,
   "metadata": {},
   "outputs": [],
   "source": []
  },
  {
   "cell_type": "markdown",
   "metadata": {
    "deletable": false,
    "editable": false
   },
   "source": [
    "### Ecrire un script qui continue de demander à l’utilisateur de saisir des nombres jusqu’à ce que leur somme des nombres saisis dépasse  une valeur initialement demandée à l’utilisateur.\n",
    "* Affiche la dernière somme calculée.\n",
    "* Affiche le nombre des nombres saisis au clavier."
   ]
  },
  {
   "cell_type": "code",
   "execution_count": null,
   "metadata": {},
   "outputs": [],
   "source": []
  },
  {
   "cell_type": "markdown",
   "metadata": {
    "deletable": false,
    "editable": false
   },
   "source": [
    "### Ecrire un programme Python qui continue de demander à l’utilisateur de saisir des nombres jusqu’à ce que ce dernier choisisse d’arrêter sachant que le programme lui demande à chaque itération s’il souhaite arrêter ou continuer.  Dès que l’utilisateur choisit d’arrêter, le programme doit afficher tenant compte des nombres saisis : \n",
    "* leur somme, leur moyenne, leur produit, leur maximum et leur minimum\n",
    "\n"
   ]
  },
  {
   "cell_type": "code",
   "execution_count": null,
   "metadata": {},
   "outputs": [],
   "source": []
  }
 ],
 "metadata": {
  "kernelspec": {
   "display_name": "Python 3",
   "language": "python",
   "name": "python3"
  },
  "language_info": {
   "codemirror_mode": {
    "name": "ipython",
    "version": 3
   },
   "file_extension": ".py",
   "mimetype": "text/x-python",
   "name": "python",
   "nbconvert_exporter": "python",
   "pygments_lexer": "ipython3",
   "version": "3.6.5"
  }
 },
 "nbformat": 4,
 "nbformat_minor": 2
}
