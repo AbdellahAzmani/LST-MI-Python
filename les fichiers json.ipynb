{
 "cells": [
  {
   "cell_type": "markdown",
   "metadata": {
    "deletable": false,
    "editable": false
   },
   "source": [
    "<center style=\"font-size:35px;color:red;font-weight:bold\"> Initiation à Python</center><br>\n",
    "<center style=\"color:black;font-size:20px\"> Structures de Données - Fichiers Json </center>\n",
    "<br>\n",
    "<center style=\"color:black\">**Cours du Pr. Abdellah AZMANI**</center>\n",
    "<center style=\"color:black\">**Département Génie Informatique**</center>\n",
    "<br>\n",
    "<center style=\"color:black\">Université Abdelmalek Essaadi</center>\n",
    "<center style=\"color:black\">Faculté des Sciences et Techniques</center>\n",
    "<center style=\"color:black\">Tanger</center>"
   ]
  },
  {
   "cell_type": "markdown",
   "metadata": {
    "deletable": false,
    "editable": false
   },
   "source": [
    "## Fichiers Json\n",
    "\n",
    "### Qu’est ce qu’un fichier Json?\n",
    "\n",
    "JSON (JavaScript Object Notation) est un format d’échange de données dont la syntaxe s’inspire des objets littéraux JavaScript bien que JSON n’appartienne pas au JavaScript.\n",
    "\n",
    "JSON peut représenter des nombres, des booléens, des chaînes, la valeur null, des séquences de valeurs ordonnées, des objets, etc. JSON ne représente pas nativement des types de données plus complexes tels que des fonctions, des expressions régulières, des dates, etc.\n",
    "\n",
    "Chaque valeur ayant forcément une clé, voici la manière dont nous allons stocker nos objets :\n",
    "\n",
    "<center style=\"color:red\">**{\"nom_objet\": \"valeur\"}**</center>\n",
    "\n",
    "Nous allons commencer tout d'abord par la création du fichier metiers.json, et remplissons le comme suit : \n",
    "\n",
    "[{\"metier\": \" 'Electricien\"},\n",
    "{\" metier \": \" 'Plombier\"},\n",
    "{\"metier\": \" 'Menuisier\"}]"
   ]
  },
  {
   "cell_type": "markdown",
   "metadata": {
    "deletable": false,
    "editable": false
   },
   "source": [
    "### Le module Python json\n",
    "Pour formater des données Python en JSON et inversement, nous allons utiliser le module Python standard json.\n",
    "\n",
    "Lorsqu’on encode des données au format JSON, on dit également qu’on **sérialise** les données. Ce terme fait référence à la transformation de données en une série d’octets. Le processus inverse de décodage de données encodées au format JSON est également appelé **désérialisation**.\n",
    "\n",
    "#### La sérialisation des données Python\n",
    "\n",
    "Pour sérialiser des données, c’est-dire pour convertir un objet Python en chaine JSON, nous allons pouvoir utiliser l’une des méthodes dump() ou dumps() du module json.\n",
    "\n",
    "La méthode dump() permet d’enregistrer les données JSON dans un fichier tandis que dumps() (=“dump string”) renvoie simplement les données sous forme de chaine JSON et nous permet de continuer à travailler avec elles.\n",
    " \n",
    "Les objets Python vont être convertis selon la table d’équivalence suivante :\n",
    "\n",
    "| Python | JSON |\n",
    "| :--------- | :----------------------- |\n",
    "| dict | object |\n",
    "| list, tuple | array |\n",
    "| str | string |\n",
    "| int, float | number |\n",
    "| True | true |\n",
    "| False | false |\n",
    "| None | null |\t"
   ]
  },
  {
   "cell_type": "markdown",
   "metadata": {
    "deletable": false,
    "editable": false
   },
   "source": [
    "### Lecture d'un fichier Json\n",
    "La documentation de Python nous propose la méthode **open('path_to_file')**, que nous avons déjà utilisé pour les fichiers simples.\n",
    "\n",
    "#### Utilisation de l’instruction With \n",
    "« With » permet d’ouvrir et fermer un fichier de manière commode. \n",
    "\n",
    "Si l’ouverture d’un fichier conduit à une erreur (problème d’accès par exemple), l’utilisation de « with » garantit la bonne fermeture du fichier. \n",
    "\n",
    "De plus, avec « with » pas besoin d’utiliser  la fonction close() : Python fermera automatiquement le fichier."
   ]
  },
  {
   "cell_type": "code",
   "execution_count": null,
   "metadata": {},
   "outputs": [],
   "source": [
    "# Importation de la bibliothéque Drive\n",
    "from google.colab import drive\n",
    "drive.mount('/content/drive')"
   ]
  },
  {
   "cell_type": "code",
   "execution_count": null,
   "metadata": {},
   "outputs": [],
   "source": [
    "with open('/content/drive/My Drive/metiers.json', 'r') as Fichier:\n",
    "    for ligne in Fichier:\n",
    "        print (ligne)"
   ]
  },
  {
   "cell_type": "code",
   "execution_count": null,
   "metadata": {},
   "outputs": [],
   "source": [
    "import json\n",
    "with open('/content/drive/My Drive/metiers.json') as json_data:\n",
    "    data_dict = json.load(json_data)\n",
    "    print(data_dict)"
   ]
  },
  {
   "cell_type": "markdown",
   "metadata": {
    "deletable": false,
    "editable": false
   },
   "source": [
    "### Convertir un dictionnaire à une chaine ou à un fichier JSON\n",
    "#### Convertir un dictionnaire à une chaine JSON\n",
    "En Python, il est facile de convertir un dictionnaire à une chaine JSON via la méthode json.dumps():"
   ]
  },
  {
   "cell_type": "code",
   "execution_count": null,
   "metadata": {},
   "outputs": [],
   "source": [
    "import json\n",
    "\n",
    "personneDict = {'Nom': \n",
    "                'Jack', \n",
    "                'email': 'jack001@gmail.com', \n",
    "                'loisirs': ['Sport', 'Cinema', 'Lecture', 'Voyage']}\n",
    "print(type(personneDict))\n",
    "\n",
    "jsonData = json.dumps(personneDict)\n",
    "print(type(jsonData))"
   ]
  },
  {
   "cell_type": "markdown",
   "metadata": {
    "deletable": false,
    "editable": false
   },
   "source": [
    "#### Convertir un dictionnaire à un fichier JSON\n",
    "Pour convertir un dictionnaire Python à un fichier JSON, on utilise la méthode json.dump() ( dump sans 's')"
   ]
  },
  {
   "cell_type": "code",
   "execution_count": null,
   "metadata": {},
   "outputs": [],
   "source": [
    "import json\n",
    "\n",
    "personneDict = {'Nom': \n",
    "                'Jack', \n",
    "                'email': 'jack001@gmail.com', \n",
    "                'loisirs': ['Sport', 'Cinema', 'Lecture', 'Voyage']}\n",
    "\n",
    "with open('/content/drive/My Drive/personne.json', 'w') as jsonFile:\n",
    "    json.dump(personneDict, jsonFile)"
   ]
  },
  {
   "cell_type": "markdown",
   "metadata": {
    "deletable": false,
    "editable": false
   },
   "source": [
    "Après exécution, un fichier personne.json est généré:"
   ]
  },
  {
   "cell_type": "code",
   "execution_count": null,
   "metadata": {},
   "outputs": [],
   "source": [
    "with open('/content/drive/My Drive/personne.json') as json_data:\n",
    "    data_dict = json.load(json_data)\n",
    "    print(data_dict)"
   ]
  }
 ],
 "metadata": {
  "kernelspec": {
   "display_name": "Python 3",
   "language": "python",
   "name": "python3"
  },
  "language_info": {
   "codemirror_mode": {
    "name": "ipython",
    "version": 3
   },
   "file_extension": ".py",
   "mimetype": "text/x-python",
   "name": "python",
   "nbconvert_exporter": "python",
   "pygments_lexer": "ipython3",
   "version": "3.6.5"
  }
 },
 "nbformat": 4,
 "nbformat_minor": 2
}
