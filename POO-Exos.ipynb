{
 "cells": [
  {
   "cell_type": "markdown",
   "metadata": {},
   "source": [
    "<center style=\"font-size:35px;color:red;font-weight:bold\"> Initiation à Python</center><br>\n",
    "<center style=\"color:black;font-size:20px\"> Exercice sur l'initiation à la programation Objet</center>\n",
    "<br>\n",
    "<center style=\"color:black\">**Cours du Pr. Abdellah AZMANI**</center>\n",
    "<center style=\"color:black\">**Département Génie Informatique**</center>\n",
    "<br>\n",
    "<center style=\"color:black\">Université Abdelmalek Essaadi</center>\n",
    "<center style=\"color:black\">Faculté des Sciences et Techniques</center>\n",
    "<center style=\"color:black\">Tanger</center>\n",
    "\n",
    "### Gestion des œuvres (version pédagogique qui restreint le nombre d’attributs)\n",
    "#### On souhaite écrire un programme Python permettant à un collectionneur d’œuvre de gérer sa collection, en se basant sur les informations suivantes : \n",
    "* Une œuvre est soit un Livre, Une Musique, Un Film ou Un Tableau, …\n",
    "* Une œuvre est caractérisé par son Titre, son ou ses auteurs, sa date \n",
    "* Un livre se caractérise en plus par son nombre de pages\n",
    "* Un Film ou Une musique par sa durée\n",
    "* Un tableau par ses dimensions\n",
    "\n",
    "\n",
    "1. Déclarer toutes les classes et sous-> classes ainsi que leur constructeur et les méthodes qui permettent de les déclarer, de modifier leurs attributs, de les lires et de les afficher.  \n",
    "2. Mettre en évidence l’héritage et le polymorphisme"
   ]
  },
  {
   "cell_type": "code",
   "execution_count": 3,
   "metadata": {},
   "outputs": [
    {
     "name": "stdout",
     "output_type": "stream",
     "text": [
      "Les misérables\n",
      "['Victor Hugo']\n",
      "1862\n",
      "2400  pages\n",
      "MAMA\n",
      "Muslim\n",
      "2017\n"
     ]
    },
    {
     "ename": "AttributeError",
     "evalue": "'Music' object has no attribute 'duree'",
     "output_type": "error",
     "traceback": [
      "\u001b[0;31m---------------------------------------------------------------------------\u001b[0m",
      "\u001b[0;31mAttributeError\u001b[0m                            Traceback (most recent call last)",
      "\u001b[0;32m<ipython-input-3-9ce4045867a3>\u001b[0m in \u001b[0;36m<module>\u001b[0;34m()\u001b[0m\n\u001b[1;32m     69\u001b[0m \u001b[0;34m\u001b[0m\u001b[0m\n\u001b[1;32m     70\u001b[0m \u001b[0;32mif\u001b[0m \u001b[0m__name__\u001b[0m \u001b[0;34m==\u001b[0m \u001b[0;34m'__main__'\u001b[0m\u001b[0;34m:\u001b[0m\u001b[0;34m\u001b[0m\u001b[0m\n\u001b[0;32m---> 71\u001b[0;31m     \u001b[0mtest\u001b[0m\u001b[0;34m(\u001b[0m\u001b[0;34m)\u001b[0m\u001b[0;34m\u001b[0m\u001b[0m\n\u001b[0m",
      "\u001b[0;32m<ipython-input-3-9ce4045867a3>\u001b[0m in \u001b[0;36mtest\u001b[0;34m()\u001b[0m\n\u001b[1;32m     64\u001b[0m     \u001b[0mbook\u001b[0m\u001b[0;34m.\u001b[0m\u001b[0mafficherOeuvre\u001b[0m\u001b[0;34m(\u001b[0m\u001b[0;34m)\u001b[0m\u001b[0;34m\u001b[0m\u001b[0m\n\u001b[1;32m     65\u001b[0m     \u001b[0mmusic\u001b[0m\u001b[0;34m=\u001b[0m\u001b[0mMusic\u001b[0m\u001b[0;34m(\u001b[0m\u001b[0;34m\"MAMA\"\u001b[0m\u001b[0;34m,\u001b[0m \u001b[0;34m\"Muslim\"\u001b[0m \u001b[0;34m,\u001b[0m \u001b[0;36m2017\u001b[0m \u001b[0;34m,\u001b[0m \u001b[0;34m\"4 min 30 s \"\u001b[0m \u001b[0;34m)\u001b[0m\u001b[0;34m\u001b[0m\u001b[0m\n\u001b[0;32m---> 66\u001b[0;31m     \u001b[0mmusic\u001b[0m\u001b[0;34m.\u001b[0m\u001b[0mafficherOeuvre\u001b[0m\u001b[0;34m(\u001b[0m\u001b[0;34m)\u001b[0m\u001b[0;34m\u001b[0m\u001b[0m\n\u001b[0m\u001b[1;32m     67\u001b[0m \u001b[0;34m\u001b[0m\u001b[0m\n\u001b[1;32m     68\u001b[0m \u001b[0;34m\u001b[0m\u001b[0m\n",
      "\u001b[0;32m<ipython-input-3-9ce4045867a3>\u001b[0m in \u001b[0;36mafficherOeuvre\u001b[0;34m(self)\u001b[0m\n\u001b[1;32m     44\u001b[0m         \u001b[0mprint\u001b[0m\u001b[0;34m(\u001b[0m\u001b[0mself\u001b[0m\u001b[0;34m.\u001b[0m\u001b[0mauteurs\u001b[0m\u001b[0;34m)\u001b[0m\u001b[0;34m\u001b[0m\u001b[0m\n\u001b[1;32m     45\u001b[0m         \u001b[0mprint\u001b[0m\u001b[0;34m(\u001b[0m\u001b[0mself\u001b[0m\u001b[0;34m.\u001b[0m\u001b[0mdate\u001b[0m\u001b[0;34m)\u001b[0m\u001b[0;34m\u001b[0m\u001b[0m\n\u001b[0;32m---> 46\u001b[0;31m         \u001b[0mprint\u001b[0m\u001b[0;34m(\u001b[0m\u001b[0mself\u001b[0m\u001b[0;34m.\u001b[0m\u001b[0mduree\u001b[0m\u001b[0;34m)\u001b[0m\u001b[0;34m\u001b[0m\u001b[0m\n\u001b[0m\u001b[1;32m     47\u001b[0m \u001b[0;34m\u001b[0m\u001b[0m\n\u001b[1;32m     48\u001b[0m \u001b[0;31m# Classe fille 4 : spécialisation de Oeuvre\u001b[0m\u001b[0;34m\u001b[0m\u001b[0;34m\u001b[0m\u001b[0m\n",
      "\u001b[0;31mAttributeError\u001b[0m: 'Music' object has no attribute 'duree'"
     ]
    }
   ],
   "source": [
    "# Classe principale : généralisation de Oeuvre  \n",
    "class Oeuvre():\n",
    "    def __init__(self,T=\"\",A=[],D=\"\"):\n",
    "        self.titre=T\n",
    "        self.auteurs=A\n",
    "        self.date=D\n",
    "    def saisirOeuvre():\n",
    "        T=str(input(\"Veuillez saisir le titre de l'oeuvre\"))\n",
    "        return(T)\n",
    "    def afficherOeuvre(self):\n",
    "        print(self.titre)\n",
    "        print(self.auteurs)\n",
    "        print(self.date)\n",
    "\n",
    "# Classe fille 1  : spécialisation de Oeuvre        \n",
    "class Livre(Oeuvre):\n",
    "    def __init__(self,T,A,D,NP=0):\n",
    "        Oeuvre.__init__(self,T,A,D)\n",
    "        self.nPage=NP\n",
    "    def afficherOeuvre(self):\n",
    "        print(self.titre)\n",
    "        print(self.auteurs)\n",
    "        print(self.date)\n",
    "        print(self.nPage,\" pages\")\n",
    "\n",
    "# Classe fille 2  : spécialisation de Oeuvre\n",
    "class Film(Oeuvre):\n",
    "    def __init__(self,T,A,D,d=\"\"):\n",
    "        Oeuvre.__init__(self,T,A,D)\n",
    "        self.duré=d\n",
    "    def afficherOeuvre(self):\n",
    "        print(self.titre)\n",
    "        print(self.auteurs)\n",
    "        print(self.date)\n",
    "        print(self.duree)\n",
    "\n",
    "# Classe fille 3  : spécialisation de Oeuvre\n",
    "class Music(Oeuvre):\n",
    "    def __init__(self,T,A,D,d=\"\"):\n",
    "        Oeuvre.__init__(self,T,A,D)\n",
    "        self.duré=d\n",
    "    def afficherOeuvre(self):\n",
    "        print(self.titre)\n",
    "        print(self.auteurs)\n",
    "        print(self.date)\n",
    "        print(self.duree)\n",
    "\n",
    "# Classe fille 4 : spécialisation de Oeuvre\n",
    "class Tableau(Oeuvre):\n",
    "    def __init__(self,T,A,D,n=0,m=0):\n",
    "        Oeuvre.__init__(self,T,A,D)\n",
    "        self.ligne=n\n",
    "        self.colone=m\n",
    "    def afficherOeuvre(self):\n",
    "        print(self.titre)\n",
    "        print(self.auteurs)\n",
    "        print(self.date)\n",
    "        print(self.ligne)\n",
    "        print(self.colone)\n",
    "             \n",
    "\n",
    "def test():\n",
    "    book=Livre(T=\"Les misérables\",A=[\"Victor Hugo\"],D=\"1862\",NP=2400)\n",
    "    book.afficherOeuvre()\n",
    "    music=Music(\"MAMA\", \"Muslim\" , 2017 , \"4 min 30 s \" )\n",
    "    music.afficherOeuvre()\n",
    "    \n",
    "\n",
    "        \n",
    "if __name__ == '__main__':\n",
    "    test()"
   ]
  },
  {
   "cell_type": "markdown",
   "metadata": {},
   "source": [
    "#### AMELIORATIONS\n",
    "Inspirez-vous du menu suivant pour améliorer le programme précédent"
   ]
  },
  {
   "cell_type": "code",
   "execution_count": 4,
   "metadata": {},
   "outputs": [],
   "source": [
    "def menu():\n",
    "    while True: \n",
    "        print(\"\\n Choisir votre opération en tapant le numéro correspondant : \\n\")\n",
    "        print(\"1. Créer un nouveau répertoire (dossier) s'il n'existe pas déjà\")\n",
    "        print(\"2. Créer un nouveau fichier (oeuvre.txt) s'il n'existe pas déjà\")      \n",
    "        print(\"3. Déclarer une oeuvre selon sa catégorie\") \n",
    "        print(\"4. Enregistrer une nouvele oeuvre s'elle n'existe pas déjà\") \n",
    "            # attention aux cas où le dossier ou le fichier n'existe pas et où on y pas sur le bon chemin\")\n",
    "            # attention l'enregistrement se fait au format TEXT, JSON où CSV\n",
    "        print(\"5. Lister les oeuvres depuis leur fichier\")\n",
    "        print(\"6. Chercher une oeuvre\")\n",
    "        print(\"7. Afficher le détail d'une oeuvre \")\n",
    "        print(\"8. Modifier une oeuvre\")\n",
    "        print(\"Tapez 0 pour arrêter \\n\")\n",
    "        Choix=int(input(\"Tapez 0,1,2,3,4 ou 5: \"))\n",
    "        if not Choix in [0,1,2,3,4,5]:\n",
    "            print(\"Erreur de saisie, Veuillez saisir un nombre entier entre 1 et 5 \\n\")\n",
    "        else:\n",
    "            return(Choix) "
   ]
  },
  {
   "cell_type": "markdown",
   "metadata": {},
   "source": [
    "3.Créer un module GestionFichier pour l'importer dans vos divers projets : utiliser par la suite \"from Gestionfichiers import *"
   ]
  },
  {
   "cell_type": "code",
   "execution_count": 5,
   "metadata": {},
   "outputs": [],
   "source": [
    "# la fonction \"chdir\" permet de changer le répertoire courant\n",
    "from os import chdir, mkdir, path\n",
    "\n",
    "\n",
    "# Le module os de Python fournit, entre autres, le sous-module suivants :\n",
    "# ----> 1. la méthode os.path.exists(path) qui vérifie si le ce chemin existe. Ce chemin peut correspondre aussi bien à un dossier qu'à un fichier\n",
    "# ----> 2. la méthode os.path.isfile(fichier) permettant de vérifier si un fichier donné existe ou non.\n",
    "\n",
    "\n",
    "\n",
    "# Vérifier si un chemin existe (exemple de chemin : \"D:\\\\FST\\\\FST 2020-2021\\\\Cours de python\\\\Dossier_TP\" )\n",
    "def existe_chemin(chemin):\n",
    "    if os.path.exists(chemin) :\n",
    "        return True\n",
    "    else:\n",
    "       return False\n",
    "\n",
    "def changer_chemin(Chemin):\n",
    "    if not existe_chemin(chemin):\n",
    "        return(chdir(chemin))\n",
    "        \n",
    "def creer_chemin(Chemin):\n",
    "    if not existe_chemin(chemin):\n",
    "        return(mkdir(chemin))\n",
    "        \n",
    "#vérifie si un fichier exite ou non.\n",
    "def existe_fichier(fichier):\n",
    "    if os.path.isfile(fichier):\n",
    "        return True\n",
    "    else:\n",
    "        return False"
   ]
  }
 ],
 "metadata": {
  "kernelspec": {
   "display_name": "Python 3",
   "language": "python",
   "name": "python3"
  },
  "language_info": {
   "codemirror_mode": {
    "name": "ipython",
    "version": 3
   },
   "file_extension": ".py",
   "mimetype": "text/x-python",
   "name": "python",
   "nbconvert_exporter": "python",
   "pygments_lexer": "ipython3",
   "version": "3.6.5"
  }
 },
 "nbformat": 4,
 "nbformat_minor": 2
}
