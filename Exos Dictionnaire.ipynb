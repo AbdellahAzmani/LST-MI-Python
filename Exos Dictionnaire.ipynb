{
 "cells": [
  {
   "cell_type": "markdown",
   "metadata": {},
   "source": [
    "<center style=\"font-size:35px;color:red;font-weight:bold\"> Initiation à Python</center><br>\n",
    "<center style=\"color:black;font-size:20px\"> Correction Exercices TP5 - Dictionnaire </center>\n",
    "<br>\n",
    "<center style=\"color:black\">**Cours du Pr. Abdellah AZMANI**</center>\n",
    "<center style=\"color:black\">**Département Génie Informatique**</center>\n",
    "<br>\n",
    "<center style=\"color:black\">Université Abdelmalek Essaadi</center>\n",
    "<center style=\"color:black\">Faculté des Sciences et Techniques</center>\n",
    "<center style=\"color:black\">Tanger</center>"
   ]
  },
  {
   "cell_type": "markdown",
   "metadata": {},
   "source": [
    "### Créer un dictionnaire Stock_FL pour gérer le stock des fruits et légumes suivants : Pomme, Banane, Orange, Raisin, Carote, Corgette, Petit Poids, Aubergine … \n",
    "Donner une solution pas à pas pour :\n",
    "1.\tCréer Stock_FL \n",
    "2.\tAjouter les éléments\n",
    "3.\tAfficher  Stock_FL par interrogation ou vérification\n",
    "4.\tAfficher  Stock_FL par print \n",
    "5.\tAfficher  tout en parcourant Stock_FL  (clé, valeur  et clé-valeur)\n",
    "6.\tDonner le nombre de catégorie de produits présents\n",
    "7.\tDonner le nombre de produits présents\n",
    "8.\tCopier Stock_FL dans Stock (cas de Copy et cas d’une affectation)\n",
    "9.\tQue donnera l’instruction Stock_FL.items()\n",
    "10.\tSupprimer un produit (avec del())\n",
    "11.\tVérifier les valeurs de stock et Stock_FL.  \n",
    "    **Que constatez-vous ? **\n",
    "12.\tUtiliser le conditionnel pour afficher un message selon qu’un produit existe ou n’existe pas dans le stock (avec in …)\n",
    "13.\tFormer une liste des produits présents en stock.\n",
    "14.\tFormer une liste avec les valeurs des quantités du stock\n",
    "15.\tFormer la liste et le tuple des produits et leur quantités disponible (avec stock.items())."
   ]
  },
  {
   "cell_type": "code",
   "execution_count": 1,
   "metadata": {},
   "outputs": [],
   "source": [
    "#Exo1\n",
    "# 1. Créer Stock_FL \n",
    "Stock_FL={\"Pomme\":0, \"Banane\":0, \"Orange\":0, \"Raisin\":0, \"Carotte\":0, \"Corgette\":0, \"Petit Poids\":0, \"Aubergine\":0}"
   ]
  },
  {
   "cell_type": "code",
   "execution_count": 2,
   "metadata": {},
   "outputs": [],
   "source": [
    "#Exo2\n",
    "# 2. Ajouter les éléments \n",
    "def ajout_element(Stock_FL,element,val):\n",
    "    Stock_FL[element]=val"
   ]
  },
  {
   "cell_type": "code",
   "execution_count": 3,
   "metadata": {},
   "outputs": [
    {
     "name": "stdout",
     "output_type": "stream",
     "text": [
      "Fruit : Pomme  --- Quantité : 0\n",
      "Fruit : Banane  --- Quantité : 0\n",
      "Fruit : Orange  --- Quantité : 0\n",
      "Fruit : Raisin  --- Quantité : 0\n",
      "Fruit : Carotte  --- Quantité : 0\n",
      "Fruit : Corgette  --- Quantité : 0\n",
      "Fruit : Petit Poids  --- Quantité : 0\n",
      "Fruit : Aubergine  --- Quantité : 0\n"
     ]
    }
   ],
   "source": [
    "#Exo3\n",
    "# 3. Afficher  Stock_FL par interrogation ou vérification  \n",
    "def afficher_v1(dico):\n",
    "    for k in dico.keys():\n",
    "        print(\"Fruit :\", k, \" --- Quantité :\", dico[k])\n",
    "\n",
    "afficher_v1(Stock_FL)"
   ]
  },
  {
   "cell_type": "code",
   "execution_count": 4,
   "metadata": {},
   "outputs": [
    {
     "name": "stdout",
     "output_type": "stream",
     "text": [
      "Fruit : Pomme  --- Quantité : 0\n",
      "Fruit : Banane  --- Quantité : 0\n",
      "Fruit : Orange  --- Quantité : 0\n",
      "Fruit : Raisin  --- Quantité : 0\n",
      "Fruit : Carotte  --- Quantité : 0\n",
      "Fruit : Corgette  --- Quantité : 0\n",
      "Fruit : Petit Poids  --- Quantité : 0\n",
      "Fruit : Aubergine  --- Quantité : 0\n"
     ]
    }
   ],
   "source": [
    "#Exo4\n",
    "# 4. Afficher  Stock_FL par print \n",
    "def afficher_v2(dico):\n",
    "    for C,V in dico.items():\n",
    "        print (\"Fruit :\", C, \" --- Quantité :\", V)\n",
    "\n",
    "afficher_v2(Stock_FL)"
   ]
  },
  {
   "cell_type": "code",
   "execution_count": 5,
   "metadata": {},
   "outputs": [
    {
     "name": "stdout",
     "output_type": "stream",
     "text": [
      "Fruit : Pomme  --- Quantité : 0\n",
      "Fruit : Banane  --- Quantité : 0\n",
      "Fruit : Orange  --- Quantité : 0\n",
      "Fruit : Raisin  --- Quantité : 0\n",
      "Fruit : Carotte  --- Quantité : 0\n",
      "Fruit : Corgette  --- Quantité : 0\n",
      "Fruit : Petit Poids  --- Quantité : 0\n",
      "Fruit : Aubergine  --- Quantité : 0\n"
     ]
    }
   ],
   "source": [
    "#Exo5\n",
    "# 5. Afficher  tout en parcourant Stock_FL  (clé, valeur  et clé-valeur)\n",
    "def afficher_v3(dico):\n",
    "    for K in dico.keys():\n",
    "        print (\"Fruit :\", K, \" --- Quantité :\", dico.get(K))\n",
    "\n",
    "afficher_v3(Stock_FL)"
   ]
  },
  {
   "cell_type": "code",
   "execution_count": 6,
   "metadata": {},
   "outputs": [],
   "source": [
    "#Exo 6\n",
    "# 6. Donner le nombre de catégorie de produits présents\n",
    "# Pour faire cet exos on doit reprendre le dictionnaire initial en ajoutant la catégorie \"Fruit\" et \"Légume\""
   ]
  },
  {
   "cell_type": "code",
   "execution_count": 7,
   "metadata": {},
   "outputs": [
    {
     "data": {
      "text/plain": [
       "8"
      ]
     },
     "execution_count": 7,
     "metadata": {},
     "output_type": "execute_result"
    }
   ],
   "source": [
    "#Exo7\n",
    "# 7. Donner le nombre de produits présents\n",
    "def nombre_fruit(dico):\n",
    "    return len(dico)\n",
    "\n",
    "nombre_fruit(Stock_FL)"
   ]
  },
  {
   "cell_type": "code",
   "execution_count": 8,
   "metadata": {},
   "outputs": [
    {
     "data": {
      "text/plain": [
       "{'Pomme': 0,\n",
       " 'Banane': 0,\n",
       " 'Orange': 0,\n",
       " 'Raisin': 0,\n",
       " 'Carotte': 0,\n",
       " 'Corgette': 0,\n",
       " 'Petit Poids': 0,\n",
       " 'Aubergine': 0}"
      ]
     },
     "execution_count": 8,
     "metadata": {},
     "output_type": "execute_result"
    }
   ],
   "source": [
    "#Exo8\n",
    "# 8. Copier Stock_FL dans Stock (cas de Copy et cas d’une affectation)\n",
    "Stock = Stock_FL.copy()\n",
    "Stock"
   ]
  },
  {
   "cell_type": "code",
   "execution_count": 9,
   "metadata": {},
   "outputs": [
    {
     "data": {
      "text/plain": [
       "dict_items([('Pomme', 0), ('Banane', 0), ('Orange', 0), ('Raisin', 0), ('Carotte', 0), ('Corgette', 0), ('Petit Poids', 0), ('Aubergine', 0)])"
      ]
     },
     "execution_count": 9,
     "metadata": {},
     "output_type": "execute_result"
    }
   ],
   "source": [
    "#Exo9\n",
    "# 9. Que donnera l’instruction?\n",
    "Stock_FL.items()\n",
    "#Résultat : Il récupéra un couple de clé, valeur"
   ]
  },
  {
   "cell_type": "code",
   "execution_count": 10,
   "metadata": {},
   "outputs": [],
   "source": [
    "#Exo10\n",
    "# 10. Supprimer un produit (avec del())\n",
    "def supprimer_element(dico,element):\n",
    "    del dico[element]\n",
    "    return"
   ]
  },
  {
   "cell_type": "code",
   "execution_count": 11,
   "metadata": {},
   "outputs": [
    {
     "data": {
      "text/plain": [
       "{'Pomme': 0,\n",
       " 'Banane': 0,\n",
       " 'Orange': 0,\n",
       " 'Raisin': 0,\n",
       " 'Carotte': 0,\n",
       " 'Corgette': 0,\n",
       " 'Petit Poids': 0,\n",
       " 'Aubergine': 0}"
      ]
     },
     "execution_count": 11,
     "metadata": {},
     "output_type": "execute_result"
    }
   ],
   "source": [
    "##Exo11\n",
    "# 11. Vérifier les valeurs de stock et Stock_FL.  \n",
    "# Que constatez-vous ? \n",
    "Stock"
   ]
  },
  {
   "cell_type": "code",
   "execution_count": 12,
   "metadata": {},
   "outputs": [
    {
     "data": {
      "text/plain": [
       "{'Pomme': 0,\n",
       " 'Banane': 0,\n",
       " 'Orange': 0,\n",
       " 'Raisin': 0,\n",
       " 'Carotte': 0,\n",
       " 'Corgette': 0,\n",
       " 'Petit Poids': 0,\n",
       " 'Aubergine': 0}"
      ]
     },
     "execution_count": 12,
     "metadata": {},
     "output_type": "execute_result"
    }
   ],
   "source": [
    "Stock_FL\n",
    "#Résultat : Les valeurs sont identiques"
   ]
  },
  {
   "cell_type": "code",
   "execution_count": 13,
   "metadata": {},
   "outputs": [
    {
     "name": "stdout",
     "output_type": "stream",
     "text": [
      "Existe\n"
     ]
    }
   ],
   "source": [
    "#Exo12\n",
    "# 12. Utiliser le conditionnel pour afficher un message selon qu’un produit existe ou n’existe pas dans le stock (avec in …)\n",
    "def existeDico(dico,element):\n",
    "    if( element in dico.keys()):\n",
    "        print(\"Existe\")\n",
    "    else:\n",
    "        print(\"N'existe pas\")\n",
    "\n",
    "existeDico(Stock_FL,'Pomme')"
   ]
  },
  {
   "cell_type": "code",
   "execution_count": 14,
   "metadata": {},
   "outputs": [
    {
     "data": {
      "text/plain": [
       "['Pomme',\n",
       " 'Banane',\n",
       " 'Orange',\n",
       " 'Raisin',\n",
       " 'Carotte',\n",
       " 'Corgette',\n",
       " 'Petit Poids',\n",
       " 'Aubergine']"
      ]
     },
     "execution_count": 14,
     "metadata": {},
     "output_type": "execute_result"
    }
   ],
   "source": [
    "#Exo13\n",
    "# 13. Former une liste des produits présents en stock.\n",
    "def list_Produit(dico):\n",
    "    produit=[]\n",
    "    for k in dico.keys():\n",
    "        produit=produit+[k]\n",
    "    return produit\n",
    "\n",
    "list_Produit(Stock_FL)"
   ]
  },
  {
   "cell_type": "code",
   "execution_count": 15,
   "metadata": {},
   "outputs": [
    {
     "data": {
      "text/plain": [
       "[0, 0, 0, 0, 0, 0, 0, 0]"
      ]
     },
     "execution_count": 15,
     "metadata": {},
     "output_type": "execute_result"
    }
   ],
   "source": [
    "#Exo14\n",
    "# 14. Former une liste avec les valeurs des quantités du stock\n",
    "def listValeur(dico):\n",
    "    valeur=[]\n",
    "    for k in dico.keys():\n",
    "        valeur=valeur+[dico[k]]\n",
    "    return valeur\n",
    "\n",
    "listValeur(Stock_FL)"
   ]
  },
  {
   "cell_type": "code",
   "execution_count": 16,
   "metadata": {},
   "outputs": [
    {
     "data": {
      "text/plain": [
       "(('Pomme',\n",
       "  'Banane',\n",
       "  'Orange',\n",
       "  'Raisin',\n",
       "  'Carotte',\n",
       "  'Corgette',\n",
       "  'Petit Poids',\n",
       "  'Aubergine'),\n",
       " [0, 0, 0, 0, 0, 0, 0, 0])"
      ]
     },
     "execution_count": 16,
     "metadata": {},
     "output_type": "execute_result"
    }
   ],
   "source": [
    "#Exo15\n",
    "# 15. Former la liste et le tuple des produits et leur quantités disponible (avec stock.items()).\n",
    "def prod_valeur(dico):\n",
    "    produit =()\n",
    "    valeur=[]\n",
    "    for C,V in dico.items():\n",
    "        produit=produit+(C,)\n",
    "        valeur=valeur+[V]\n",
    "    return(produit,valeur)\n",
    "\n",
    "prod_valeur(Stock_FL)"
   ]
  },
  {
   "cell_type": "markdown",
   "metadata": {},
   "source": [
    "### Créer une base de données fonctionnant à l’aide d’un dictionnaire, dans lequel on enregistre les noms des étudiants, leur moyenne et leur classement. \n",
    "On suppose que le dictionnaire ne contient pas plusieurs valeurs identiques. \n",
    "Le programme doit proposer un menu qui demande à l'utilisateur de choisir une opération parmi :\n",
    "* R : Remplir la base de données\n",
    "* C : Consulter les notes d'un étudiant\n",
    "* T: Terminer le programme \n",
    "\n",
    "La saisie des données, doit se faire tant que l'utilisateur le souhaite."
   ]
  },
  {
   "cell_type": "code",
   "execution_count": null,
   "metadata": {},
   "outputs": [],
   "source": [
    "#Forme de dictionnaire\n",
    "dico={'étudiant 1':[15,4],'étudiant 2':[16,2]}\n",
    "\n",
    "def afficherMenu():\n",
    "    print(\"-----------------------------------------------------\")\n",
    "    print(\"Remplir la base de données ....................... R\")\n",
    "    print(\"Consulter les notes d'un étudiant..................C\")\n",
    "    print(\"Terminer le programme .............................T\")\n",
    "    print(\"-----------------------------------------------------\")\n",
    "    choix=input(\"Veuillez saisir votre choix : \")\n",
    "    return choix\n",
    "\n",
    "choix=''\n",
    "\n",
    "def remplir():\n",
    "    nom=''\n",
    "    moyen=0\n",
    "    classement =0\n",
    "    nom=input(\"Entrer le nom : \")\n",
    "    moyen=int(input(\"Entrer le moyen : \"))\n",
    "    classement=int(input(\"Entrer le classement : \"))\n",
    "    dico[nom]=[moyen,classement]\n",
    "    return\n",
    "\n",
    "def consulter():\n",
    "    nom=''\n",
    "    nom=input(\"Entrer le nom : \")\n",
    "    print(dico[nom][0])\n",
    "    return\n",
    "    \n",
    "choix=afficherMenu()\n",
    "while(not(choix=='T' or choix=='t')):\n",
    "    if(choix=='R' or choix =='r'):\n",
    "        remplir()\n",
    "    elif(choix=='C' or choix =='c'):\n",
    "        consulter()\n",
    "    else:\n",
    "        print(\"SVP entrer un choix correct\")\n",
    "    choix=afficherMenu()\n",
    "\n",
    "print(\"Au revoir!\")"
   ]
  },
  {
   "cell_type": "markdown",
   "metadata": {},
   "source": [
    "### Créer un répertoire de coordonnées de vos contacts \n",
    "#### Nom :  Prénom : Fonction : Date Naissance : Tél. :  eMail :  Adresse : \n",
    "#### Code Postal :  Ville :  Pays :  Adresse FB :  Lien LinkdIn :  Twitter :\n",
    "\n",
    "1. Ajouter un contact (si le dictionnaire n'existe pas il faut le créer + Vérifier si le contact n'existe pas déjà dans le dictionnaire)\n",
    "2. Chercher les coordonnées d'un contact \n",
    "3. Supprimer un contact\n",
    "4. Afficher tous les contacts\n",
    "...\n",
    "{1:{'Nom':\"AZMANI\", 'Prénom':\"Abdellah\",'Fonction':\"\",''},2:{}}\n",
    "\"\"\"\n",
    "        * Nom :  \n",
    "        * Prénom\n",
    "        * Fonction\n",
    "        * Date Naissance\n",
    "        * Tél.\n",
    "        * eMail\n",
    "        * Adresse\n",
    "        * Code Postal\n",
    "        * Ville\n",
    "        * Pays\n",
    "        * Adresse FB\n",
    "        * Lien LinkdIn\n",
    "        * Twitter"
   ]
  },
  {
   "cell_type": "code",
   "execution_count": 18,
   "metadata": {},
   "outputs": [
    {
     "name": "stdout",
     "output_type": "stream",
     "text": [
      "Au revoir!\n",
      "-----------------------------------------------------\n",
      "Ajouter un contact ....................... A\n",
      "Rechercher un contact..................R\n",
      "Terminer le programme .............................T\n",
      "-----------------------------------------------------\n",
      "Veuillez saisir votre choix : A\n",
      "Entrer le nom : test\n",
      "Entrer le prénom : test\n",
      "Entrer la fonction : test\n",
      "Entrer la Date Naissance : t\n",
      "Entrer le numéro de téléphone : t\n",
      "Entrer l'email : t\n",
      "Entrer l'Adresse' : t\n",
      "Entrer le code postal : t\n",
      "Entrer la ville : t\n",
      "Entrer le pays : t\n",
      "Entrer l'adresse facebook' : t\n",
      "Entrer l'adresse LinkdIn' : t\n",
      "Entrer l'adresse Twitter' : t\n",
      "-----------------------------------------------------\n",
      "Ajouter un contact ....................... A\n",
      "Rechercher un contact..................R\n",
      "Terminer le programme .............................T\n",
      "-----------------------------------------------------\n",
      "Veuillez saisir votre choix : R\n",
      "Veuillez saisir un nomtest\n",
      "Nom  :  test\n",
      "Prénom  :  test\n",
      "Fonction  :  test\n",
      "Date de naissance  :  t\n",
      "Tel  :  t\n",
      "Email  :  t\n",
      "Adresse  :  t\n",
      "Code postal  :  t\n",
      "Ville  :  t\n",
      "Pays  :  t\n",
      "Facebook  :  t\n",
      "LinkdIn  :  t\n",
      "Twitter  :  t\n",
      "-----------------------------------------------------\n",
      "Ajouter un contact ....................... A\n",
      "Rechercher un contact..................R\n",
      "Terminer le programme .............................T\n",
      "-----------------------------------------------------\n",
      "Veuillez saisir votre choix : T\n"
     ]
    }
   ],
   "source": [
    "#Forme de dictionnaire\n",
    "repertoire={}\n",
    "\n",
    "def afficherMenu():\n",
    "    print(\"-----------------------------------------------------\")\n",
    "    print(\"Ajouter un contact ....................... A\")\n",
    "    print(\"Rechercher un contact..................R\")\n",
    "    print(\"Terminer le programme .............................T\")\n",
    "    print(\"-----------------------------------------------------\")\n",
    "    choix=input(\"Veuillez saisir votre choix : \")\n",
    "    return choix\n",
    "\n",
    "choix=''\n",
    "\n",
    "def creerContact():\n",
    "    contact={}\n",
    "    nom=str(input(\"Entrer le nom : \"))\n",
    "    prenom=str(input(\"Entrer le prénom : \"))\n",
    "    fonction=str(input(\"Entrer la fonction : \"))\n",
    "    date_naissance=str(input(\"Entrer la Date Naissance : \"))\n",
    "    tel=str(input(\"Entrer le numéro de téléphone : \"))\n",
    "    email=str(input(\"Entrer l'email : \"))\n",
    "    adresse=str(input(\"Entrer l'Adresse' : \"))\n",
    "    cp=str(input(\"Entrer le code postal : \"))\n",
    "    ville=str(input(\"Entrer la ville : \"))\n",
    "    pays=str(input(\"Entrer le pays : \"))\n",
    "    adresse_fb=str(input(\"Entrer l'adresse facebook : \"))\n",
    "    adresse_linkdin=str(input(\"Entrer l'adresse LinkdIn : \"))\n",
    "    adresse_twitter=str(input(\"Entrer l'adresse Twitter : \"))\n",
    "    contact['Nom']=nom\n",
    "    contact['Prénom']=prenom\n",
    "    contact['Fonction']=fonction\n",
    "    contact['Date de naissance']=date_naissance\n",
    "    contact['Tel']=tel\n",
    "    contact['Email']=email\n",
    "    contact['Adresse']=adresse\n",
    "    contact['Code postal']=cp\n",
    "    contact['Ville']=ville\n",
    "    contact['Pays']=pays\n",
    "    contact['Facebook']=adresse_fb\n",
    "    contact['LinkdIn']=adresse_linkdin\n",
    "    contact['Twitter']=adresse_twitter\n",
    "    return contact\n",
    "\n",
    "def ajouterContact(repertoire):\n",
    "    index=len(repertoire)\n",
    "    repertoire[index]=creerContact()\n",
    "    return()\n",
    "\n",
    "def chercherContact(NOM,repertoire):\n",
    "  L=[]\n",
    "  for i in range(len(repertoire)):\n",
    "    if repertoire[i]['Nom']==NOM :\n",
    "      L=L+[i]\n",
    "  return L    \n",
    "\n",
    "def afficherContact(Contact):\n",
    "  for clef, val  in Contact.items():\n",
    "    print(clef,\" : \", val,\"\\n\")\n",
    "\n",
    "def afficherResultat(List,repertoire):\n",
    "    for i in range(len(List)):\n",
    "        afficherContact(repertoire[i])\n",
    "    \n",
    "def main_exo2():\n",
    "    rep = {}\n",
    "    choix=afficherMenu()\n",
    "    print(\"\\n\")\n",
    "    while(not(choix=='T' or choix=='t')):\n",
    "        if(choix=='A' or choix =='a'):\n",
    "            ajouterContact(rep)\n",
    "        elif(choix=='R' or choix =='r'):\n",
    "            name=str(input(\"Veuillez saisir un nom\"))\n",
    "            chercherContact(name,rep)\n",
    "            afficherResultat(chercherContact(name,rep), rep)\n",
    "        else:\n",
    "            print(\"SVP entrer un choix correct\")\n",
    "        choix=afficherMenu()\n",
    "\n",
    "print(\"Au revoir!\")\n",
    "\n",
    "main_exo2()"
   ]
  }
 ],
 "metadata": {
  "kernelspec": {
   "display_name": "Python 3",
   "language": "python",
   "name": "python3"
  },
  "language_info": {
   "codemirror_mode": {
    "name": "ipython",
    "version": 3
   },
   "file_extension": ".py",
   "mimetype": "text/x-python",
   "name": "python",
   "nbconvert_exporter": "python",
   "pygments_lexer": "ipython3",
   "version": "3.6.5"
  }
 },
 "nbformat": 4,
 "nbformat_minor": 2
}
