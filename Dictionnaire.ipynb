{
 "cells": [
  {
   "cell_type": "markdown",
   "metadata": {
    "deletable": false,
    "editable": false
   },
   "source": [
    "# Structures des données\n",
    "## Dictionnaire\n",
    "### Définition et Syntaxe\n",
    "\n",
    "Python propose le type « dictionnaire » qui s’utilise comme une liste avec une variante puisqu’il s’appuie sur des clés ou index numérique, alpha ou alphanumérique.\n",
    "\n",
    "un dictionnaire gère n’importe quel type : valeurs numériques,  chaines, listes, tuples, dictionnaires, et également des fonctions, des classes ou des instances\n",
    "\n",
    "Pour initialiser une variable type dictionnaire, on procède ainsi :"
   ]
  },
  {
   "cell_type": "code",
   "execution_count": 1,
   "metadata": {},
   "outputs": [],
   "source": [
    "Dico = {}"
   ]
  },
  {
   "cell_type": "markdown",
   "metadata": {
    "deletable": false,
    "editable": false
   },
   "source": [
    "Si nous voulons ajouter une entrée, nous allons indiquer une clé, ainsi que la valeur de cet élément :"
   ]
  },
  {
   "cell_type": "code",
   "execution_count": 2,
   "metadata": {},
   "outputs": [
    {
     "data": {
      "text/plain": [
       "{'Cle_A': 'Analyse', 'Cle_B': 'Booléan'}"
      ]
     },
     "execution_count": 2,
     "metadata": {},
     "output_type": "execute_result"
    }
   ],
   "source": [
    "Dico = {}\n",
    "Dico['Cle_A'] ='Analyse'\n",
    "Dico['Cle_B'] = 'Booléan'\n",
    "Dico"
   ]
  },
  {
   "cell_type": "markdown",
   "metadata": {
    "deletable": false,
    "editable": false
   },
   "source": [
    "On peut observer qu’un dictionnaire correspond à une serie enfermée entre deux accolades et dont les éléments sont séparés par des « , ». Chaque élément est formé d’un **index** ou **clé** et d’une **valeur**,  séparés par un « : », on parle de **clé-valeur.**"
   ]
  },
  {
   "cell_type": "markdown",
   "metadata": {
    "deletable": false,
    "editable": false
   },
   "source": [
    "### Affichage des valeurs d’un dictionnaire "
   ]
  },
  {
   "cell_type": "code",
   "execution_count": 4,
   "metadata": {},
   "outputs": [],
   "source": [
    "Agenda = {\"nom\": \"ASWAD\", \"NumPhone\": \"0611223344\"}"
   ]
  },
  {
   "cell_type": "markdown",
   "metadata": {
    "deletable": false,
    "editable": false
   },
   "source": [
    "**Méthode « keys » pour afficher les clés d’un dictionnaire :**"
   ]
  },
  {
   "cell_type": "code",
   "execution_count": 5,
   "metadata": {},
   "outputs": [
    {
     "name": "stdout",
     "output_type": "stream",
     "text": [
      "nom\n",
      "NumPhone\n"
     ]
    }
   ],
   "source": [
    "for K in Agenda.keys():\n",
    "    print (K)"
   ]
  },
  {
   "cell_type": "markdown",
   "metadata": {
    "deletable": false,
    "editable": false
   },
   "source": [
    "**Méthode « values » pour afficher toutes les valeurs d’un dictionnaire :**"
   ]
  },
  {
   "cell_type": "code",
   "execution_count": 6,
   "metadata": {},
   "outputs": [
    {
     "name": "stdout",
     "output_type": "stream",
     "text": [
      "ASWAD\n",
      "0611223344\n"
     ]
    }
   ],
   "source": [
    "for V in Agenda.values():\n",
    "    print (V)\n"
   ]
  },
  {
   "cell_type": "code",
   "execution_count": 7,
   "metadata": {},
   "outputs": [],
   "source": [
    "Agenda = {\"nom\": \"ABYAD \", \"NumPhone\": \"0644332211\"}"
   ]
  },
  {
   "cell_type": "markdown",
   "metadata": {
    "deletable": false,
    "editable": false
   },
   "source": [
    "**Méthode « get » pour l’affichage d’une valeur dans un dictionnaire**"
   ]
  },
  {
   "cell_type": "code",
   "execution_count": 8,
   "metadata": {},
   "outputs": [
    {
     "data": {
      "text/plain": [
       "'ABYAD '"
      ]
     },
     "execution_count": 8,
     "metadata": {},
     "output_type": "execute_result"
    }
   ],
   "source": [
    "Agenda.get(\"nom\")"
   ]
  },
  {
   "cell_type": "markdown",
   "metadata": {
    "deletable": false,
    "editable": false
   },
   "source": [
    "**Méthode « items » pour afficher les clés et les valeurs :**"
   ]
  },
  {
   "cell_type": "code",
   "execution_count": 9,
   "metadata": {},
   "outputs": [
    {
     "name": "stdout",
     "output_type": "stream",
     "text": [
      "nom ABYAD \n",
      "NumPhone 0644332211\n"
     ]
    }
   ],
   "source": [
    "for C,V in Agenda.items():\n",
    "    print (C, V)"
   ]
  },
  {
   "cell_type": "code",
   "execution_count": 10,
   "metadata": {},
   "outputs": [],
   "source": [
    "Agenda = {\"nom \" : \"AZRAK\", \"NumPhone\": \"0699887766\"}"
   ]
  },
  {
   "cell_type": "markdown",
   "metadata": {
    "deletable": false,
    "editable": false
   },
   "source": [
    "**La méthode « copy » pour créer une copie d’un dictionnaire :**"
   ]
  },
  {
   "cell_type": "code",
   "execution_count": 11,
   "metadata": {},
   "outputs": [
    {
     "data": {
      "text/plain": [
       "{'nom ': 'AZRAK', 'NumPhone': '0699887766', 'nom': 'AKHDAR'}"
      ]
     },
     "execution_count": 11,
     "metadata": {},
     "output_type": "execute_result"
    }
   ],
   "source": [
    "CopyAgenda = Agenda.copy()\n",
    "Agenda [\"nom\"] = \"AKHDAR\" \n",
    "Agenda"
   ]
  },
  {
   "cell_type": "code",
   "execution_count": 12,
   "metadata": {},
   "outputs": [
    {
     "data": {
      "text/plain": [
       "{'nom ': 'AZRAK', 'NumPhone': '0699887766'}"
      ]
     },
     "execution_count": 12,
     "metadata": {},
     "output_type": "execute_result"
    }
   ],
   "source": [
    "CopyAgenda"
   ]
  },
  {
   "cell_type": "markdown",
   "metadata": {
    "deletable": false,
    "editable": false
   },
   "source": [
    "**Attention :**<br>\n",
    "Si nous affectons, les 2 copies ne seront pas indépendantes :"
   ]
  },
  {
   "cell_type": "code",
   "execution_count": 14,
   "metadata": {},
   "outputs": [
    {
     "data": {
      "text/plain": [
       "{'nom': 'BORTOKALI', 'NumPhone': '0655667788'}"
      ]
     },
     "execution_count": 14,
     "metadata": {},
     "output_type": "execute_result"
    }
   ],
   "source": [
    "Agenda = {\"nom\": \"WARDI\", \"NumPhone\": \"0655667788\"}\n",
    "CopyAgenda = Agenda\n",
    "Agenda [\"nom\"] = \"BORTOKALI\"\n",
    "Agenda"
   ]
  },
  {
   "cell_type": "code",
   "execution_count": 15,
   "metadata": {},
   "outputs": [
    {
     "data": {
      "text/plain": [
       "{'nom': 'BORTOKALI', 'NumPhone': '0655667788'}"
      ]
     },
     "execution_count": 15,
     "metadata": {},
     "output_type": "execute_result"
    }
   ],
   "source": [
    "CopyAgenda"
   ]
  },
  {
   "cell_type": "markdown",
   "metadata": {
    "deletable": false,
    "editable": false
   },
   "source": [
    "**Exemple**\n",
    " \n",
    "Contrairement aux listes, il n’est pas nécessaire de faire appel a une méthode particulière (telle que **append()) pour ajouter de nouveaux éléments à un dictionnaire** : il suffit de créer une nouvelle paire **clé-valeur.**"
   ]
  },
  {
   "cell_type": "code",
   "execution_count": 16,
   "metadata": {},
   "outputs": [
    {
     "name": "stdout",
     "output_type": "stream",
     "text": [
      "{'intelligent': 'smart', 'ville': 'city', 'Tanger': 'Tangier'}\n"
     ]
    }
   ],
   "source": [
    "traducteur = {}\n",
    "traducteur['intelligent'] ='smart'\n",
    "traducteur['ville'] = 'city'\n",
    "traducteur['Tanger'] ='Tangier'\n",
    "print(traducteur)"
   ]
  },
  {
   "cell_type": "code",
   "execution_count": 18,
   "metadata": {},
   "outputs": [
    {
     "name": "stdout",
     "output_type": "stream",
     "text": [
      "city\n"
     ]
    }
   ],
   "source": [
    "# Pour accéder à un élément, nous utilisons les clés :\n",
    "print(traducteur['ville'])"
   ]
  },
  {
   "cell_type": "markdown",
   "metadata": {
    "deletable": false,
    "editable": false
   },
   "source": [
    "La méthode **keys()** renvoie la sequence des clés utilisées dans le dictionnaire. \n",
    "\n",
    "Cette sequence peut etre utilisée telle quelle dans les expressions, ou convertie en liste ou en tuple si nécessaire, avec les fonctions integrees correspondantes : **list()** et **tuple()** :"
   ]
  },
  {
   "cell_type": "code",
   "execution_count": 20,
   "metadata": {},
   "outputs": [
    {
     "name": "stdout",
     "output_type": "stream",
     "text": [
      "dict_keys(['intelligent', 'ville', 'Tanger'])\n"
     ]
    }
   ],
   "source": [
    "print(traducteur.keys())"
   ]
  },
  {
   "cell_type": "code",
   "execution_count": 21,
   "metadata": {},
   "outputs": [
    {
     "name": "stdout",
     "output_type": "stream",
     "text": [
      "cle : intelligent  --- valeur : smart\n",
      "cle : ville  --- valeur : city\n",
      "cle : Tanger  --- valeur : Tangier\n"
     ]
    }
   ],
   "source": [
    "for k in traducteur.keys():\n",
    "    print(\"cle :\", k, \" --- valeur :\", traducteur[k])"
   ]
  },
  {
   "cell_type": "code",
   "execution_count": 22,
   "metadata": {},
   "outputs": [
    {
     "data": {
      "text/plain": [
       "['intelligent', 'ville', 'Tanger']"
      ]
     },
     "execution_count": 22,
     "metadata": {},
     "output_type": "execute_result"
    }
   ],
   "source": [
    "list(traducteur .keys())"
   ]
  },
  {
   "cell_type": "code",
   "execution_count": 23,
   "metadata": {},
   "outputs": [
    {
     "data": {
      "text/plain": [
       "('intelligent', 'ville', 'Tanger')"
      ]
     },
     "execution_count": 23,
     "metadata": {},
     "output_type": "execute_result"
    }
   ],
   "source": [
    "tuple(traducteur .keys())"
   ]
  },
  {
   "cell_type": "code",
   "execution_count": 25,
   "metadata": {},
   "outputs": [
    {
     "name": "stdout",
     "output_type": "stream",
     "text": [
      "intelligent\n",
      "ville\n",
      "Tanger\n"
     ]
    }
   ],
   "source": [
    "#Affichage des clés\n",
    "for clef in traducteur:\n",
    "    print(clef)"
   ]
  },
  {
   "cell_type": "code",
   "execution_count": 26,
   "metadata": {},
   "outputs": [
    {
     "name": "stdout",
     "output_type": "stream",
     "text": [
      "intelligent smart\n",
      "ville city\n",
      "Tanger Tangier\n"
     ]
    }
   ],
   "source": [
    "#Affichage des valeurs\n",
    "for clef in traducteur:\n",
    "    print(clef, traducteur[clef])"
   ]
  },
  {
   "cell_type": "code",
   "execution_count": 28,
   "metadata": {},
   "outputs": [
    {
     "name": "stdout",
     "output_type": "stream",
     "text": [
      "intelligent smart\n",
      "ville city\n",
      "Tanger Tangier\n"
     ]
    }
   ],
   "source": [
    "#Affichage des valeurs version 2\n",
    "for clef, val  in traducteur .items():\n",
    "    print(clef, val)\n"
   ]
  }
 ],
 "metadata": {
  "kernelspec": {
   "display_name": "Python 3",
   "language": "python",
   "name": "python3"
  },
  "language_info": {
   "codemirror_mode": {
    "name": "ipython",
    "version": 3
   },
   "file_extension": ".py",
   "mimetype": "text/x-python",
   "name": "python",
   "nbconvert_exporter": "python",
   "pygments_lexer": "ipython3",
   "version": "3.6.5"
  }
 },
 "nbformat": 4,
 "nbformat_minor": 2
}
