{
 "cells": [
  {
   "cell_type": "markdown",
   "metadata": {},
   "source": [
    "<center style=\"font-size:35px;color:red;font-weight:bold\"> Initiation à Python</center><br>\n",
    "<center style=\"color:black;font-size:20px\"> TP - Python : Graphes  </center>\n",
    "<br>\n",
    "<center style=\"color:black\">**Cours du Pr. Abdellah AZMANI**</center>\n",
    "<center style=\"color:black\">**Département Génie Informatique**</center>\n",
    "<br>\n",
    "<center style=\"color:black\">Université Abdelmalek Essaadi</center>\n",
    "<center style=\"color:black\">Faculté des Sciences et Techniques</center>\n",
    "<center style=\"color:black\">Tanger</center>"
   ]
  },
  {
   "cell_type": "markdown",
   "metadata": {},
   "source": [
    "Un groupe d’amis organise une randonnée.\n",
    "\n",
    "Soit Graphe G1(X1,Y1, un graphe non orienté, representé par les sommets A, B, C, D, E, F par lesquels ils peuvent choisir de passer.\n",
    "\n",
    "Une arête entre deux sommets coïncide avec l’existence d’un chemin entre les deux sommets.\n",
    "\n",
    "Ensemble des sommets: X = { A ,B ,C ,D ,E ,F}\n",
    "Ensemble des arêtes: Y = {A:(B,D,E,F) , B:(A,C,E,F) , C:(B,F) , D:(A,E,F) , E:(A,B,D,F) , F:(A,B,C,D,E)}\n",
    "\n",
    "### 1. Dessiner le graphe.\n",
    "### 2. Justifier que le graphe est connexe.\n",
    "\n",
    "** Rappel ** : Un graphe G est connexe si chaque couple de sommets est relié par une chaîne. \n",
    "\n",
    "### 3. Calculer le Degré des sommets du graphe\n",
    "\n",
    "** Rappel ** : Pour un graphe ou un multigraphe, on appelle degré du sommet v, et on note d(v), le nombre d‘arêtes incidentes avec ce sommet\n",
    "\n",
    "### 4. Donner la matrice d’adjacence M1 de ce graphe\n",
    "\n",
    "Le groupe se trouve au sommet C et souhaite se rendre au sommet D. Les distances en kilomètres entre chaque sommet sont comme suit : \n",
    "\n",
    "* A = {(A,B)=2 , (A,D)=12 , (A,E)=3 , (A,F)=4}\n",
    "* B = {(B,A)=2 , (B,C)=12 , (B,E)=5 , (B,F)=3}\n",
    "* C = {(C,B)=12 , (C,F)=15}\n",
    "* D = {(D,A)=12 , (D,E)=7 , (D,F)=23}\n",
    "* E = {(E,A)=3 , (E,B)=5 , (E,D)=7 , (E,F)=8}\n",
    "* F = {(F,A)=4 , (F,B)=3 , (F,C)=15 , (F,E)=8 , (F,D)=23}\n",
    "\n",
    "### 5. suivant la nouvelle modélisation graphique, donner a matrice d’adjacence M2 du nouveau graphe\n",
    "### 6. Déterminer le plus court chemin entre C et D en appliquant l’algorithme de Djikstra\n",
    "### 7. Déterminer le plus courts chemins reliant le sommet F à tous les sommets du graphe en appliquant  l’algorithme de Ford-Bellman\n",
    "\n",
    "Commençons par transformer le graphe non orienté en graphe orienté avec comme poids la durée du parcours, afin de calculer le temps à parcourir entre chaque sommet, la distance va être representé par minutes comme suit : \n",
    "\n",
    "* A = {(A,D)=30min , (A,E)=10min}\n",
    "* B = {(B,A)=5min , (B,C)=30min , (B,F)=10min}\n",
    "* C = {(C,B)=30min}\n",
    "* D = {(D,E)=17min}\n",
    "* E = {E,B)=15min , (E,F)=13min}\n",
    "* F = {(F,A)=8min ,(F,C)=35min , (F,D)=55min}\n",
    "\n",
    "### 8. suivant la nouvelle modélisation graphique, donner a matrice d’adjacence M2 du nouveau graphe\n",
    "### 9. Extraire les circuits du graphe\n",
    "\n",
    "** Rappel ** : Dans un graphe orienté, on appelle circuit une suite d'arcs consécutifs dont les deux sommets extrémités sont identiques \n",
    "\n",
    "\n",
    "### 10.  On vous demande d'appliquer les algorithmes précédents pour en extraire les chemins les plus rapides sachant que certains arcs présentent des contrainte qui peuvent apporter un ralentissement de quelques minutes (exemple l'arc ( F , D ) 15 mn)"
   ]
  },
  {
   "cell_type": "code",
   "execution_count": 4,
   "metadata": {},
   "outputs": [
    {
     "data": {
      "image/png": "[encoded data removed]",
      "text/plain": [
       "<Figure size 432x288 with 1 Axes>"
      ]
     },
     "metadata": {},
     "output_type": "display_data"
    }
   ],
   "source": [
    "# libraries\n",
    "import pandas as pd\n",
    "import numpy as np\n",
    "import networkx as nx\n",
    "import matplotlib.pyplot as plt\n",
    " \n",
    "# Build a dataframe with 4 connections\n",
    "df = pd.DataFrame({ 'from':['A', 'A', 'A','A','B', 'B', 'B','B','C','C','D','D','D','E','E','E','E','F','F','F','F','F'], 'to':['B', 'D', 'E','F','A','C','E','F','B','F','A','E','F','A','B','D','F','A','B','C','D','E']})\n",
    "df\n",
    " \n",
    "# Build your graph\n",
    "G=nx.from_pandas_edgelist(df, 'from', 'to')\n",
    " \n",
    "# Plot it\n",
    "nx.draw(G, with_labels=True)\n",
    "plt.show()"
   ]
  },
  {
   "cell_type": "markdown",
   "metadata": {},
   "source": [
    "#Y = {A:(B,D,E,F) , B:(A,C,E,F) , C:(B,F) , D:(A,E,F) , E:(A,B,D,F) , F:(A,B,C,D,E)}\n",
    "### 2. le Graphe est connexe \n",
    "Ce graphe est connexe car tous les sommets peuvent être reliés entre eux par (au moins) une chaine.\n",
    "Par exemple, la chaîne **BCAFED** contient tous les sommets."
   ]
  },
  {
   "cell_type": "markdown",
   "metadata": {},
   "source": [
    "### 3. Calculer le Degré des sommets du graphe\n",
    "* d(A) = 4\n",
    "* d(B) = 4\n",
    "* d(C) = 2\n",
    "* d(D) = 3\n",
    "* d(E) = 4\n",
    "* d(F) = 5"
   ]
  },
  {
   "cell_type": "markdown",
   "metadata": {},
   "source": [
    "### 4. Donner la matrice d’adjacence M1 de ce graphe"
   ]
  },
  {
   "cell_type": "code",
   "execution_count": 8,
   "metadata": {},
   "outputs": [
    {
     "name": "stdout",
     "output_type": "stream",
     "text": [
      "[[0 1 0 1 1 1]\n",
      " [1 0 1 0 1 1]\n",
      " [0 1 0 0 0 1]\n",
      " [1 0 0 0 1 1]\n",
      " [1 0 0 1 1 1]\n",
      " [1 1 1 1 1 0]]\n"
     ]
    }
   ],
   "source": [
    "M1 = [[0,1,0,1,1,1],[1, 0, 1, 0, 1, 1],[0, 1, 0, 0, 0, 1],[1, 0, 0, 0, 1, 1],[1, 0, 0, 1, 1, 1],[1, 1, 1, 1, 1, 0]]\n",
    "print(np.array(M1))"
   ]
  },
  {
   "cell_type": "markdown",
   "metadata": {},
   "source": [
    "### 5. suivant la nouvelle modélisation graphique, donner a matrice d’adjacence M2 du nouveau graphe"
   ]
  },
  {
   "cell_type": "code",
   "execution_count": 9,
   "metadata": {},
   "outputs": [
    {
     "name": "stdout",
     "output_type": "stream",
     "text": [
      "[[ 0  2  0 12  3  4]\n",
      " [ 2  0 12  0  5  3]\n",
      " [ 0 12  0  0  0 15]\n",
      " [12  0  0  0  7 23]\n",
      " [ 3  5  0  7  0  8]\n",
      " [ 4  3 15 23  8  0]]\n"
     ]
    }
   ],
   "source": [
    "M2 = [[0,2,0,12,3,4],[2,0,12,0,5,3],[0,12,0,0,0,15],[12,0,0,0,7,23],[3,5,0,7,0,8],[4,3,15,23,8,0]]\n",
    "print(np.array(M2))"
   ]
  },
  {
   "cell_type": "markdown",
   "metadata": {},
   "source": [
    "### 6. Déterminer le plus court chemin entre C et D en appliquant l’algorithme de Djikstra"
   ]
  },
  {
   "cell_type": "markdown",
   "metadata": {},
   "source": [
    "#### Algorithme de Djikstra"
   ]
  },
  {
   "cell_type": "code",
   "execution_count": 10,
   "metadata": {},
   "outputs": [
    {
     "name": "stdout",
     "output_type": "stream",
     "text": [
      "[[ 0.  2. 14. 10.  3.  4.]\n",
      " [ 2.  0. 12. 12.  5.  3.]\n",
      " [14. 12.  0. 24. 17. 15.]\n",
      " [10. 12. 24.  0.  7. 14.]\n",
      " [ 3.  5. 17.  7.  0.  7.]\n",
      " [ 4.  3. 15. 14.  7.  0.]]\n",
      "--------------------------\n",
      "[[-9999     0     1     4     0     0]\n",
      " [    1 -9999     1     4     1     1]\n",
      " [    1     2 -9999     4     1     2]\n",
      " [    4     4     1 -9999     3     0]\n",
      " [    4     4     1     4 -9999     0]\n",
      " [    5     5     5     4     0 -9999]]\n"
     ]
    }
   ],
   "source": [
    "from scipy.sparse import csr_matrix\n",
    "from scipy.sparse.csgraph import dijkstra\n",
    "M2 = [[0,2,0,12,3,4],[2,0,12,0,5,3],[0,12,0,0,0,15],[12,0,0,0,7,23],[3,5,0,7,0,8],[4,3,15,23,8,0]]\n",
    "G_eparse = csr_matrix(M2)\n",
    "dist_matrix, predecessors = dijkstra (csgraph = G_eparse, directed = True,\n",
    "return_predecessors = True)\n",
    "print(dist_matrix)\n",
    "print(\"--------------------------\")\n",
    "print(predecessors)"
   ]
  },
  {
   "cell_type": "code",
   "execution_count": 22,
   "metadata": {},
   "outputs": [],
   "source": [
    "class Dijkstra:\n",
    "\n",
    "    def __init__(self, vertices, graph):\n",
    "        self.vertices = vertices  # (\"A\", \"B\", \"C\" ...)\n",
    "        self.graph = graph  # {\"A\": {\"B\": 1}, \"B\": {\"A\": 3, \"C\": 5} ...}\n",
    "\n",
    "    def find_route(self, start, end):\n",
    "        unvisited = {n: float(\"inf\") for n in self.vertices}\n",
    "        unvisited[start] = 0  # set start vertex to 0\n",
    "        visited = {}  # list of all visited nodes\n",
    "        parents = {}  # predecessors\n",
    "        while unvisited:\n",
    "            min_vertex = min(unvisited, key=unvisited.get)  # get smallest distance\n",
    "            for neighbour, _ in self.graph.get(min_vertex, {}).items():\n",
    "                if neighbour in visited:\n",
    "                    continue\n",
    "                new_distance = unvisited[min_vertex] + self.graph[min_vertex].get(neighbour, float(\"inf\"))\n",
    "                if new_distance < unvisited[neighbour]:\n",
    "                    unvisited[neighbour] = new_distance\n",
    "                    parents[neighbour] = min_vertex\n",
    "            visited[min_vertex] = unvisited[min_vertex]\n",
    "            unvisited.pop(min_vertex)\n",
    "            if min_vertex == end:\n",
    "                break\n",
    "        return parents, visited\n",
    "\n",
    "    @staticmethod\n",
    "    def generate_path(parents, start, end):\n",
    "        path = [end]\n",
    "        while True:\n",
    "            key = parents[path[0]]\n",
    "            path.insert(0, key)\n",
    "            if key == start:\n",
    "                break\n",
    "        return path"
   ]
  },
  {
   "cell_type": "code",
   "execution_count": 29,
   "metadata": {},
   "outputs": [
    {
     "name": "stdout",
     "output_type": "stream",
     "text": [
      "Distance from C to D is: 24.00\n",
      "Path from C to D is: C -> B -> E -> D\n"
     ]
    }
   ],
   "source": [
    "input_vertices = (\"A\", \"B\", \"C\", \"D\", \"E\", \"F\")\n",
    "input_graph = {\n",
    "    \"A\": {\"B\": 2, \"D\": 12, \"E\": 3, \"F\": 4},\n",
    "    \"B\": {\"A\": 2, \"C\": 12, \"E\": 5, \"F\":3},\n",
    "    \"C\": {\"B\": 12, \"F\": 15},\n",
    "    \"D\": {\"A\": 12, \"E\": 7, \"F\": 23},\n",
    "    \"E\": {\"A\": 3, \"B\": 5, \"D\": 7, \"F\": 8},\n",
    "    \"F\": {\"A\": 4, \"B\": 3, \"C\": 15, \"D\":23, \"E\":8},\n",
    "}\n",
    "start_vertex = \"C\"\n",
    "end_vertex= \"D\"\n",
    "dijkstra = Dijkstra(input_vertices, input_graph)\n",
    "p, v = dijkstra.find_route(start_vertex, end_vertex)\n",
    "print(\"Distance from %s to %s is: %.2f\" % (start_vertex, end_vertex, v[end_vertex]))\n",
    "se = dijkstra.generate_path(p, start_vertex, end_vertex)\n",
    "print(\"Path from %s to %s is: %s\" % (start_vertex, end_vertex, \" -> \".join(se)))"
   ]
  },
  {
   "cell_type": "markdown",
   "metadata": {},
   "source": [
    "#### Algorithme de parcours en largeur (BFS : Breadth First Search)"
   ]
  },
  {
   "cell_type": "code",
   "execution_count": 8,
   "metadata": {},
   "outputs": [
    {
     "data": {
      "text/plain": [
       "array([[ 0,  2,  0, 12,  3,  4],\n",
       "       [ 0,  0, 12,  0,  0,  0],\n",
       "       [ 0,  0,  0,  0,  0,  0],\n",
       "       [ 0,  0,  0,  0,  0,  0],\n",
       "       [ 0,  0,  0,  0,  0,  0],\n",
       "       [ 0,  0,  0,  0,  0,  0]])"
      ]
     },
     "execution_count": 8,
     "metadata": {},
     "output_type": "execute_result"
    }
   ],
   "source": [
    "from scipy.sparse import csr_matrix\n",
    "from scipy.sparse.csgraph import breadth_first_tree \n",
    "G = [[0,2,0,12,3,4],[2,0,12,0,5,3],[0,12,0,0,0,15],[12,0,0,0,7,23],[3,5,0,7,0,8],[4,3,15,23,8,0]]\n",
    "G_eparse = csr_matrix(G)\n",
    "p = breadth_first_tree ( G_eparse, 0, directed = True)\n",
    "p.toarray().astype(int)"
   ]
  },
  {
   "cell_type": "markdown",
   "metadata": {},
   "source": [
    "#### Algorithme de parcours en profondeur (DFS : Depth First Search)"
   ]
  },
  {
   "cell_type": "code",
   "execution_count": 11,
   "metadata": {},
   "outputs": [
    {
     "data": {
      "text/plain": [
       "array([[ 0,  2,  0,  0,  0,  0],\n",
       "       [ 0,  0, 12,  0,  0,  0],\n",
       "       [ 0,  0,  0,  0,  0, 15],\n",
       "       [ 0,  0,  0,  0,  7,  0],\n",
       "       [ 0,  0,  0,  0,  0,  0],\n",
       "       [ 0,  0,  0, 23,  0,  0]])"
      ]
     },
     "execution_count": 11,
     "metadata": {},
     "output_type": "execute_result"
    }
   ],
   "source": [
    "from scipy.sparse import csr_matrix\n",
    "from scipy.sparse.csgraph import depth_first_tree \n",
    "G = [[0,2,0,12,3,4],[2,0,12,0,5,3],[0,12,0,0,0,15],[12,0,0,0,7,23],[3,5,0,7,0,8],[4,3,15,23,8,0]]\n",
    "G_eparse = csr_matrix(G)\n",
    "d = depth_first_tree ( G_eparse, 0, directed = True)\n",
    "d.toarray().astype(int)"
   ]
  },
  {
   "cell_type": "markdown",
   "metadata": {},
   "source": [
    "### 7. Déterminer le plus courts chemins reliant le sommet F à tous les sommets du graphe en appliquant l’algorithme de Ford-Bellman"
   ]
  },
  {
   "cell_type": "code",
   "execution_count": 13,
   "metadata": {},
   "outputs": [
    {
     "name": "stdout",
     "output_type": "stream",
     "text": [
      "[[ 0.  2. 14. 10.  3.  4.]\n",
      " [ 2.  0. 12. 12.  5.  3.]\n",
      " [14. 12.  0. 24. 17. 15.]\n",
      " [10. 12. 24.  0.  7. 14.]\n",
      " [ 3.  5. 17.  7.  0.  7.]\n",
      " [ 4.  3. 15. 14.  7.  0.]]\n",
      "--------------------------\n",
      "[[-9999     0     1     4     0     0]\n",
      " [    1 -9999     1     4     1     1]\n",
      " [    1     2 -9999     4     1     2]\n",
      " [    4     4     1 -9999     3     0]\n",
      " [    4     4     1     4 -9999     0]\n",
      " [    5     5     5     4     0 -9999]]\n"
     ]
    }
   ],
   "source": [
    "from scipy.sparse import csr_matrix\n",
    "from scipy.sparse.csgraph import bellman_ford\n",
    "G = [[0,2,0,12,3,4],[2,0,12,0,5,3],[0,12,0,0,0,15],[12,0,0,0,7,23],[3,5,0,7,0,8],[4,3,15,23,8,0]]\n",
    "G_eparse = csr_matrix(G)\n",
    "dist_matrix, predecessors = bellman_ford (csgraph = G_eparse, directed = True,\n",
    "return_predecessors = True)\n",
    "print(dist_matrix)\n",
    "print(\"--------------------------\")\n",
    "print(predecessors)"
   ]
  },
  {
   "cell_type": "markdown",
   "metadata": {
    "scrolled": true
   },
   "source": [
    "### 8.suivant la nouvelle modélisation graphique, donner a matrice d’adjacence M2 du nouveau graphe"
   ]
  },
  {
   "cell_type": "code",
   "execution_count": 6,
   "metadata": {},
   "outputs": [
    {
     "name": "stdout",
     "output_type": "stream",
     "text": [
      "[[ 0  0  0 30  0 10]\n",
      " [ 5  0 30  0  0 10]\n",
      " [ 0 30  0  0  0  0]\n",
      " [ 0  0  0  0 17  0]\n",
      " [ 0 15  0  0  0 13]\n",
      " [ 8  0 35 55  0  0]]\n"
     ]
    }
   ],
   "source": [
    "import numpy as np\n",
    "\n",
    "M2 = [[0,0,0,30,0,10],[5,0,30,0,0,10],[0,30,0,0,0,0],[0,0,0,0,17,0],[0,15,0,0,0,13],[8,0,35,55,0,0]]\n",
    "\n",
    "print(np.array(M2))"
   ]
  },
  {
   "cell_type": "markdown",
   "metadata": {},
   "source": [
    "### 9.Extraire les circuits du graphe"
   ]
  },
  {
   "cell_type": "code",
   "execution_count": 2,
   "metadata": {},
   "outputs": [
    {
     "data": {
      "image/png": "[encoded data removed]",
      "text/plain": [
       "<Figure size 432x288 with 1 Axes>"
      ]
     },
     "metadata": {},
     "output_type": "display_data"
    }
   ],
   "source": [
    "# libraries\n",
    "import pandas as pd\n",
    "import numpy as np\n",
    "import networkx as nx\n",
    "import matplotlib.pyplot as plt\n",
    " \n",
    "# Build a dataframe with 4 connections\n",
    "df = pd.DataFrame({ 'from':['A', 'A', 'B','B','B', 'C', 'D','E','E','F','F','F'], 'to':['D', 'E', 'A','C','F','B','E','B','F','A','C','D']})\n",
    "df\n",
    " \n",
    "# Build your graph\n",
    "G=nx.from_pandas_edgelist(df, 'from', 'to')\n",
    " \n",
    "# Plot it\n",
    "nx.draw(G, with_labels=True)\n",
    "plt.show()"
   ]
  },
  {
   "cell_type": "markdown",
   "metadata": {},
   "source": [
    "### 10.  On vous demande d'appliquer les algorithmes précédents pour en extraire les chemins les plus rapides sachant que certains arcs présentent des contrainte qui peuvent apporter un ralentissement de quelques minutes (exemple l'arc ( D , F ) 15 mn)"
   ]
  },
  {
   "cell_type": "code",
   "execution_count": 3,
   "metadata": {},
   "outputs": [
    {
     "name": "stdout",
     "output_type": "stream",
     "text": [
      "[[  0   0   0  30   0  10]\n",
      " [  5   0  30   0   0  10]\n",
      " [  0  30   0   0   0   0]\n",
      " [  0   0   0   0  17 -15]\n",
      " [  0  15   0   0   0  13]\n",
      " [  8   0  35  55   0   0]]\n"
     ]
    }
   ],
   "source": [
    "import numpy as np\n",
    "\n",
    "M2 = [[0,0,0,30,0,10],[5,0,30,0,0,10],[0,30,0,0,0,0],[0,0,0,0,17,-15],[0,15,0,0,0,13],[8,0,35,55,0,0]]\n",
    "\n",
    "print(np.array(M2))"
   ]
  },
  {
   "cell_type": "markdown",
   "metadata": {},
   "source": [
    "#### Algorithme de parcours en largeur (BFS : Breadth First Search)"
   ]
  },
  {
   "cell_type": "code",
   "execution_count": 10,
   "metadata": {},
   "outputs": [
    {
     "data": {
      "text/plain": [
       "array([[ 0,  0,  0, 30,  0, 10],\n",
       "       [ 0,  0,  0,  0,  0,  0],\n",
       "       [ 0,  0,  0,  0,  0,  0],\n",
       "       [ 0,  0,  0,  0, 17,  0],\n",
       "       [ 0, 15,  0,  0,  0,  0],\n",
       "       [ 0,  0, 35,  0,  0,  0]])"
      ]
     },
     "execution_count": 10,
     "metadata": {},
     "output_type": "execute_result"
    }
   ],
   "source": [
    "from scipy.sparse import csr_matrix\n",
    "from scipy.sparse.csgraph import breadth_first_tree \n",
    "\n",
    "G= [[0,0,0,30,0,10],[5,0,30,0,0,10],[0,30,0,0,0,0],[0,0,0,0,17,-15],[0,15,0,0,0,13],[8,0,35,55,0,0]]\n",
    "\n",
    "G_eparse = csr_matrix(G)\n",
    "p = breadth_first_tree ( G_eparse, 0, directed = True)\n",
    "p.toarray().astype(int)"
   ]
  },
  {
   "cell_type": "markdown",
   "metadata": {},
   "source": [
    "#### Algorithme de parcours en profondeur (DFS : Depth First Search)"
   ]
  },
  {
   "cell_type": "code",
   "execution_count": 12,
   "metadata": {},
   "outputs": [
    {
     "data": {
      "text/plain": [
       "array([[ 0,  0,  0, 30,  0,  0],\n",
       "       [ 0,  0, 30,  0,  0, 10],\n",
       "       [ 0,  0,  0,  0,  0,  0],\n",
       "       [ 0,  0,  0,  0, 17,  0],\n",
       "       [ 0, 15,  0,  0,  0,  0],\n",
       "       [ 0,  0,  0,  0,  0,  0]])"
      ]
     },
     "execution_count": 12,
     "metadata": {},
     "output_type": "execute_result"
    }
   ],
   "source": [
    "from scipy.sparse import csr_matrix\n",
    "from scipy.sparse.csgraph import depth_first_tree \n",
    "G= [[0,0,0,30,0,10],[5,0,30,0,0,10],[0,30,0,0,0,0],[0,0,0,0,17,-15],[0,15,0,0,0,13],[8,0,35,55,0,0]]\n",
    "G_eparse = csr_matrix(G)\n",
    "d = depth_first_tree ( G_eparse, 0, directed = True)\n",
    "d.toarray().astype(int)"
   ]
  },
  {
   "cell_type": "markdown",
   "metadata": {},
   "source": [
    "#### Algorithme de Dijkstra"
   ]
  },
  {
   "cell_type": "code",
   "execution_count": 4,
   "metadata": {},
   "outputs": [],
   "source": [
    "class Dijkstra:\n",
    "\n",
    "    def __init__(self, vertices, graph):\n",
    "        self.vertices = vertices  # (\"A\", \"B\", \"C\" ...)\n",
    "        self.graph = graph  # {\"A\": {\"B\": 1}, \"B\": {\"A\": 3, \"C\": 5} ...}\n",
    "\n",
    "    def find_route(self, start, end):\n",
    "        unvisited = {n: float(\"inf\") for n in self.vertices}\n",
    "        unvisited[start] = 0  # set start vertex to 0\n",
    "        visited = {}  # list of all visited nodes\n",
    "        parents = {}  # predecessors\n",
    "        while unvisited:\n",
    "            min_vertex = min(unvisited, key=unvisited.get)  # get smallest distance\n",
    "            for neighbour, _ in self.graph.get(min_vertex, {}).items():\n",
    "                if neighbour in visited:\n",
    "                    continue\n",
    "                new_distance = unvisited[min_vertex] + self.graph[min_vertex].get(neighbour, float(\"inf\"))\n",
    "                if new_distance < unvisited[neighbour]:\n",
    "                    unvisited[neighbour] = new_distance\n",
    "                    parents[neighbour] = min_vertex\n",
    "            visited[min_vertex] = unvisited[min_vertex]\n",
    "            unvisited.pop(min_vertex)\n",
    "            if min_vertex == end:\n",
    "                break\n",
    "        return parents, visited\n",
    "\n",
    "    @staticmethod\n",
    "    def generate_path(parents, start, end):\n",
    "        path = [end]\n",
    "        while True:\n",
    "            key = parents[path[0]]\n",
    "            path.insert(0, key)\n",
    "            if key == start:\n",
    "                break\n",
    "        return path"
   ]
  },
  {
   "cell_type": "code",
   "execution_count": 5,
   "metadata": {},
   "outputs": [
    {
     "name": "stdout",
     "output_type": "stream",
     "text": [
      "Distance from C to D is: 65.00\n",
      "Path from C to D is: C -> B -> A -> D\n"
     ]
    }
   ],
   "source": [
    "input_vertices = (\"A\", \"B\", \"C\", \"D\", \"E\", \"F\")\n",
    "input_graph = {\n",
    "    \"A\": {\"D\": 30, \"E\": 10},\n",
    "    \"B\": {\"A\": 5, \"C\": 30,\"F\":10},\n",
    "    \"C\": {\"B\": 30},\n",
    "    \"D\": {\"E\": 17,\"F\":-15},\n",
    "    \"E\": {\"B\": 15,\"F\": 13},\n",
    "    \"F\": {\"A\": 8, \"C\": 35, \"D\":55},\n",
    "}\n",
    "start_vertex = \"C\"\n",
    "end_vertex= \"D\"\n",
    "dijkstra = Dijkstra(input_vertices, input_graph)\n",
    "p, v = dijkstra.find_route(start_vertex, end_vertex)\n",
    "print(\"Distance from %s to %s is: %.2f\" % (start_vertex, end_vertex, v[end_vertex]))\n",
    "se = dijkstra.generate_path(p, start_vertex, end_vertex)\n",
    "print(\"Path from %s to %s is: %s\" % (start_vertex, end_vertex, \" -> \".join(se)))"
   ]
  },
  {
   "cell_type": "markdown",
   "metadata": {},
   "source": [
    "#### Algorithme de Dijkstra"
   ]
  },
  {
   "cell_type": "code",
   "execution_count": 1,
   "metadata": {},
   "outputs": [
    {
     "name": "stdout",
     "output_type": "stream",
     "text": [
      "[[  0.  62.  45.  30.  47.  10.]\n",
      " [  5.   0.  30.  35.  52.  10.]\n",
      " [ 35.  30.   0.  65.  82.  40.]\n",
      " [ -7.  32.  20.   0.  17. -15.]\n",
      " [ 20.  15.  45.  50.   0.  13.]\n",
      " [  8.  65.  35.  38.  55.   0.]]\n",
      "--------------------------\n",
      "[[-9999     4     5     0     3     0]\n",
      " [    1 -9999     1     0     3     1]\n",
      " [    1     2 -9999     0     3     1]\n",
      " [    5     4     5 -9999     3     3]\n",
      " [    1     4     1     0 -9999     4]\n",
      " [    5     2     5     0     3 -9999]]\n"
     ]
    }
   ],
   "source": [
    "from scipy.sparse import csr_matrix\n",
    "from scipy.sparse.csgraph import bellman_ford\n",
    "G= [[0,0,0,30,0,10],[5,0,30,0,0,10],[0,30,0,0,0,0],[0,0,0,0,17,-15],[0,15,0,0,0,13],[8,0,35,55,0,0]]\n",
    "G_eparse = csr_matrix(G)\n",
    "dist_matrix, predecessors = bellman_ford (csgraph = G_eparse, directed = True,\n",
    "return_predecessors = True)\n",
    "print(dist_matrix)\n",
    "print(\"--------------------------\")\n",
    "print(predecessors)"
   ]
  }
 ],
 "metadata": {
  "kernelspec": {
   "display_name": "Python 3",
   "language": "python",
   "name": "python3"
  },
  "language_info": {
   "codemirror_mode": {
    "name": "ipython",
    "version": 3
   },
   "file_extension": ".py",
   "mimetype": "text/x-python",
   "name": "python",
   "nbconvert_exporter": "python",
   "pygments_lexer": "ipython3",
   "version": "3.6.5"
  }
 },
 "nbformat": 4,
 "nbformat_minor": 2
}
