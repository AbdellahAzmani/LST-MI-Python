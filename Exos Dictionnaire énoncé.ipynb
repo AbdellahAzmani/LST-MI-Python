{
 "cells": [
  {
   "cell_type": "markdown",
   "metadata": {},
   "source": [
    "<center style=\"font-size:35px;color:red;font-weight:bold\"> Initiation à Python</center><br>\n",
    "<center style=\"color:black;font-size:20px\"> Exercices TP4 - Dictionnaire</center>\n",
    "<br>\n",
    "<center style=\"color:black\">**Cours du Pr. Abdellah AZMANI**</center>\n",
    "<center style=\"color:black\">**Département Génie Informatique**</center>\n",
    "<br>\n",
    "<center style=\"color:black\">Université Abdelmalek Essaadi</center>\n",
    "<center style=\"color:black\">Faculté des Sciences et Techniques</center>\n",
    "<center style=\"color:black\">Tanger</center>"
   ]
  },
  {
   "cell_type": "markdown",
   "metadata": {},
   "source": [
    "### Créer un dictionnaire Stock_FL pour gérer le stock des fruits et légumes suivants : Pomme, Banane, Orange, Raisin, Carote, Corgette, Petit Poids, Aubergine … \n",
    "Donner une solution pas à pas pour :\n",
    "1.\tCréer Stock_FL \n",
    "2.\tAjouter les éléments\n",
    "3.\tAfficher  Stock_FL par interrogation ou vérification\n",
    "4.\tAfficher  Stock_FL par print \n",
    "5.\tAfficher  tout en parcourant Stock_FL  (clé, valeur  et clé-valeur)\n",
    "6.\tDonner le nombre de catégorie de produits présents\n",
    "7.\tDonner le nombre de produits présents\n",
    "8.\tCopier Stock_FL dans Stock (cas de Copy et cas d’une affectation)\n",
    "9.\tQue donnera l’instruction Stock_FL.items()\n",
    "10.\tSupprimer un produit (avec del())\n",
    "11.\tVérifier les valeurs de stock et Stock_FL.  \n",
    "    **Que constatez-vous ? **\n",
    "12.\tUtiliser le conditionnel pour afficher un message selon qu’un produit existe ou n’existe pas dans le stock (avec in …)\n",
    "13.\tFormer une liste des produits présents en stock.\n",
    "14.\tFormer une liste avec les valeurs des quantités du stock\n",
    "15.\tFormer la liste et le tuple des produits et leur quantités disponible (avec stock.items())."
   ]
  },
  {
   "cell_type": "code",
   "execution_count": null,
   "metadata": {},
   "outputs": [],
   "source": []
  },
  {
   "cell_type": "markdown",
   "metadata": {},
   "source": [
    "### Créer une base de données fonctionnant à l’aide d’un dictionnaire, dans lequel on enregistre les noms des étudiants, leur moyenne et leur classement. \n",
    "On suppose que le dictionnaire ne contient pas plusieurs valeurs identiques. \n",
    "Le programme doit proposer un menu qui demande à l'utilisateur de choisir une opération parmi :\n",
    "* R : Remplir la base de données\n",
    "* C : Consulter les notes d'un étudiant\n",
    "* T: Terminer le programme \n",
    "\n",
    "La saisie des données, doit se faire tant que l'utilisateur le souhaite."
   ]
  },
  {
   "cell_type": "code",
   "execution_count": null,
   "metadata": {},
   "outputs": [],
   "source": []
  }
 ],
 "metadata": {
  "kernelspec": {
   "display_name": "Python 3",
   "language": "python",
   "name": "python3"
  },
  "language_info": {
   "codemirror_mode": {
    "name": "ipython",
    "version": 3
   },
   "file_extension": ".py",
   "mimetype": "text/x-python",
   "name": "python",
   "nbconvert_exporter": "python",
   "pygments_lexer": "ipython3",
   "version": "3.6.5"
  }
 },
 "nbformat": 4,
 "nbformat_minor": 2
}
