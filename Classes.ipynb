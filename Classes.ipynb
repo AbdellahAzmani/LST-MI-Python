{
 "cells": [
  {
   "cell_type": "code",
   "execution_count": 108,
   "metadata": {},
   "outputs": [
    {
     "name": "stdout",
     "output_type": "stream",
     "text": [
      "saisir sommet A\n",
      "saisir sommet B\n",
      "saisir sommet C\n",
      "saisir sommet 1 A\n",
      "saisir sommet 2 B\n",
      "saisir Poids 7\n",
      "saisir sommet 1 B\n",
      "saisir sommet 2 C\n",
      "saisir Poids 11\n",
      "{'A': {'B': '7'}, 'B': {'A': '7', 'C': '11'}, 'C': {'B': '11'}}\n",
      "--------------------------------\n",
      "{'A': {'B': '7'}, 'B': {'A': '7', 'C': '11'}, 'C': {'B': '11'}}\n",
      "-----------------\n",
      "\n",
      "0 1 0 \n",
      "1 0 1 \n",
      "0 1 0 \n",
      " -----------------\n",
      "A  --> \n",
      "dict_keys(['B'])\n",
      "B  --> \n",
      "dict_keys(['A', 'C'])\n",
      "C  --> \n",
      "dict_keys(['B'])\n",
      "None\n",
      "--------------------------------\n"
     ]
    }
   ],
   "source": [
    "# libraries\n",
    "import pandas as pd\n",
    "import numpy as np\n",
    "import networkx as nx\n",
    "import matplotlib.pyplot as plt\n",
    "\n",
    "class Graphe(object):\n",
    "    def __init__(self):\n",
    "        self.graphe = {}\n",
    "\n",
    "    def ajouteSommet(self, sommet):\n",
    "        \"\"\"Ajoute un sommet au graphe sans aucun voisin.\n",
    "        \"\"\"\n",
    "        if sommet not in self.graphe.keys():\n",
    "            self.graphe[sommet] = {}\n",
    "\n",
    "    def ajouteArrete(self, sommet, sommetVoisin, p):\n",
    "        \"\"\"Crée une arrête en reliant sommet avec sommetVoisin en associant le poids p.\n",
    "        \"\"\"\n",
    "        if sommet != sommetVoisin:\n",
    "            self.graphe[sommetVoisin][sommet] = p\n",
    "            self.graphe[sommet][sommetVoisin] = p\n",
    "\n",
    "\n",
    "    def supprimeSommet(self, sommet):\n",
    "        \"\"\"Supprime un sommet du graphe.\n",
    "        \"\"\"\n",
    "        for sommetVoisin in self.graphe[sommet].keys():\n",
    "            del self.graphe[sommetVoisin][sommet]\n",
    "        del self.graphe[sommet]\n",
    "\n",
    "    def supprimeArrete(self, sommet, sommetVoisin):\n",
    "        \"\"\"Supprime une arrête.\n",
    "        \"\"\"\n",
    "        if sommet in self.graphe[sommetVoisin]:\n",
    "            self.supprimeSommet(sommet)\n",
    "            self.supprimeSommet(sommetVoisin)\n",
    "\n",
    "    def toMatrice(self):\n",
    "        \"\"\"Affichage matriciel du graphe.\n",
    "        \"\"\"\n",
    "        for i in sorted(self.graphe.keys()):\n",
    "            print()\n",
    "            for j in sorted(self.graphe.keys()):\n",
    "                if i in self.graphe[j].keys():\n",
    "                    print ('1', end=\" \")\n",
    "                else:\n",
    "                    print ('0', end=\" \")\n",
    "                    \n",
    "    def toListe(self):\n",
    "        \"\"\"Affiche le graphe sous forme de listes d'adjacences.\"\"\"\n",
    "        for i in sorted(self.graphe.keys()):\n",
    "            print (i, \" --> \")\n",
    "            print (self.graphe[i].keys())\n",
    "\n",
    "    def __eq__(self, graphe1):\n",
    "        \"\"\"Compare deux graphes.\n",
    "        \"\"\"\n",
    "        return self.graphe == graphe1\n",
    "\n",
    "    def __str__(self):\n",
    "        \"\"\"Affichage du graphe.\n",
    "        \"\"\"\n",
    "        return repr(self.graphe)\n",
    "\n",
    "    def __repr__(self):\n",
    "        \"\"\"Représentation du graphe.\n",
    "        \"\"\"\n",
    "        return repr(self.graphe)\n",
    "\n",
    "if __name__ == \"__main__\":\n",
    "    # Point d'entrée en exécution.\n",
    "    graph = Graphe()\n",
    "    graph.ajouteSommet(input('saisir sommet '))\n",
    "    graph.ajouteSommet(input('saisir sommet '))\n",
    "    graph.ajouteSommet(input('saisir sommet '))\n",
    "    \n",
    "\n",
    "    graph.ajouteArrete((input('saisir sommet 1 ')), (input('saisir sommet 2 ')), (input('saisir Poids ')))\n",
    "    graph.ajouteArrete((input('saisir sommet 1 ')), (input('saisir sommet 2 ')), (input('saisir Poids ')))\n",
    "    \n",
    "    print('--------------------------------')\n",
    "    print (graph)\n",
    "    print('-----------------')\n",
    "    \n",
    "    graph.toMatrice()\n",
    "    \n",
    "    print('\\n -----------------')\n",
    "    print (graph.toListe())\n",
    "    print('--------------------------------')\n",
    "    \n"
   ]
  },
  {
   "cell_type": "code",
   "execution_count": 113,
   "metadata": {},
   "outputs": [
    {
     "data": {
      "image/png": "[encoded data removed]",
      "text/plain": [
       "<Figure size 432x288 with 1 Axes>"
      ]
     },
     "metadata": {},
     "output_type": "display_data"
    }
   ],
   "source": [
    "A = {'A': {'B': '7'}, 'B': {'A': '7', 'C': '9'}, 'C': {'B': '9'}}\n",
    "g = nx.DiGraph(A)\n",
    "nx.draw(g, with_labels=True)"
   ]
  },
  {
   "cell_type": "code",
   "execution_count": 35,
   "metadata": {},
   "outputs": [
    {
     "data": {
      "image/png": "[encoded data removed]",
      "text/plain": [
       "<Figure size 432x288 with 1 Axes>"
      ]
     },
     "metadata": {},
     "output_type": "display_data"
    }
   ],
   "source": [
    "import networkx as nx\n",
    "\n",
    "G = nx.random_geometric_graph(10, 0.6)\n",
    "nx.draw(G)\n",
    "plt.show()"
   ]
  },
  {
   "cell_type": "code",
   "execution_count": 44,
   "metadata": {},
   "outputs": [
    {
     "data": {
      "text/plain": [
       "EdgeView([(1, 2), (1, 3), (2, 3)])"
      ]
     },
     "execution_count": 44,
     "metadata": {},
     "output_type": "execute_result"
    }
   ],
   "source": [
    "import networkx as nx\n",
    "\n",
    "g = nx.Graph() # empty graph\n",
    "\n",
    "g.add_node(1)\n",
    "for \n",
    "g.add_nodes_from([2, 3])\n",
    "\n",
    "g.add_edge(1, 2)\n",
    "e = (2, 3)\n",
    "g.add_edge(*e) # unpack tuple\n",
    "g.add_edges_from([(1, 2), (1, 3)])\n",
    "\n",
    "g.nodes()\n",
    "g.edges()"
   ]
  },
  {
   "cell_type": "code",
   "execution_count": 45,
   "metadata": {},
   "outputs": [
    {
     "data": {
      "text/plain": [
       "<dict_keyiterator at 0xa23843ea8>"
      ]
     },
     "execution_count": 45,
     "metadata": {},
     "output_type": "execute_result"
    }
   ],
   "source": [
    "g.neighbors(1)"
   ]
  },
  {
   "cell_type": "code",
   "execution_count": 46,
   "metadata": {},
   "outputs": [
    {
     "data": {
      "text/plain": [
       "2"
      ]
     },
     "execution_count": 46,
     "metadata": {},
     "output_type": "execute_result"
    }
   ],
   "source": [
    "g.degree(1)"
   ]
  },
  {
   "cell_type": "code",
   "execution_count": 3,
   "metadata": {},
   "outputs": [],
   "source": [
    " def toMatrice(self):\n",
    "        \"\"\"Affichage matriciel du graphe.\n",
    "        \"\"\"\n",
    "        print (\" \")\n",
    "        for i in sorted(self.graphe.keys()):\n",
    "            print (i)\n",
    "        for i in sorted(self.graphe.keys()):\n",
    "            print (i)\n",
    "            for j in sorted(self.graphe.keys()):\n",
    "                if i in self.graphe[j].keys():\n",
    "                    print ('1', end=\" \")\n",
    "                else:\n",
    "                    print ('0', end=\" \")"
   ]
  },
  {
   "cell_type": "code",
   "execution_count": null,
   "metadata": {},
   "outputs": [],
   "source": [
    "\n",
    "    def supprimeSommet(self, sommet):\n",
    "        \"\"\"Supprime un sommet du graphe.\n",
    "        \"\"\"\n",
    "        for sommetVoisin in self.graphe[sommet].keys():\n",
    "            del self.graphe[sommetVoisin][sommet]\n",
    "        del self.graphe[sommet]\n",
    "\n",
    "    def supprimeArrete(self, sommet, sommetVoisin):\n",
    "        \"\"\"Supprime une arrête.\n",
    "        \"\"\"\n",
    "        if sommet in self.graphe[sommetVoisin]:\n",
    "            self.supprimeSommet(sommet)\n",
    "            self.supprimeSommet(sommetVoisin)"
   ]
  },
  {
   "cell_type": "code",
   "execution_count": 140,
   "metadata": {},
   "outputs": [
    {
     "name": "stdout",
     "output_type": "stream",
     "text": [
      "Les noeuds de G sont : ['A', 'B', 'C', 'D']\n",
      "Les arêtes de G sont : [('A', 'B'), ('A', 'C'), ('B', 'C'), ('D', 'A'), ('D', 'C')]\n",
      "La matrice d'adjacence de G est : [[0, 1, 1, 1], [1, 0, 1, 0], [1, 1, 0, 1], [1, 0, 1, 0]]\n"
     ]
    }
   ],
   "source": [
    "class Graphe:\n",
    "    def __init__(self,*args):\n",
    "        self.edges = [ e for e in args ]\n",
    "        self.nodes = []\n",
    "        for e in self.edges:\n",
    "            if e[0] not in self.nodes:\n",
    "                self.nodes += [ e[0] ]\n",
    "            if e[1] not in self.nodes:\n",
    "                self.nodes += [ e[1] ]\n",
    "\n",
    "    def mat(self):\n",
    "        self.mat = [[ 0 for j in range(len(self.nodes))] for i in range(len(self.nodes))] \n",
    "        for i in self.edges:\n",
    "            self.mat[ self.nodes.index(i[0]) ][ self.nodes.index(i[1]) ] = 1\n",
    "            self.mat[ self.nodes.index(i[1]) ][ self.nodes.index(i[0]) ] = 1\n",
    "        \n",
    "        return self.mat\n",
    "    \n",
    "G = Graphe( ('A','B') , ('A','C') , ('B','C'), ('D','A'),('D','C') )\n",
    "print( 'Les noeuds de G sont : {}'.format(G.nodes) )\n",
    "print( 'Les arêtes de G sont : {}'.format(G.edges) )\n",
    "print( 'La matrice d\\'adjacence de G est : {}'.format(G.mat()) )"
   ]
  },
  {
   "cell_type": "code",
   "execution_count": 152,
   "metadata": {},
   "outputs": [
    {
     "data": {
      "image/png": "[encoded data removed]",
      "text/plain": [
       "<Figure size 432x288 with 1 Axes>"
      ]
     },
     "metadata": {},
     "output_type": "display_data"
    }
   ],
   "source": [
    "g = nx.DiGraph(G.edges)\n",
    "nx.draw(g, with_labels=True)"
   ]
  },
  {
   "cell_type": "code",
   "execution_count": 153,
   "metadata": {},
   "outputs": [
    {
     "name": "stdout",
     "output_type": "stream",
     "text": [
      "0 1 1 1 \n",
      "1 0 1 0 \n",
      "1 1 0 1 \n",
      "1 0 1 0 \n"
     ]
    }
   ],
   "source": [
    "for i in G.mat:\n",
    "    for j in i:\n",
    "        print(j, end=\" \")\n",
    "    print()"
   ]
  },
  {
   "cell_type": "code",
   "execution_count": 154,
   "metadata": {},
   "outputs": [
    {
     "data": {
      "text/plain": [
       "array([[0, 1, 1, 1],\n",
       "       [0, 0, 0, 0],\n",
       "       [0, 0, 0, 0],\n",
       "       [0, 0, 0, 0]])"
      ]
     },
     "execution_count": 154,
     "metadata": {},
     "output_type": "execute_result"
    }
   ],
   "source": [
    "from scipy.sparse import csr_matrix\n",
    "from scipy.sparse.csgraph import breadth_first_tree \n",
    "G_eparse = csr_matrix(G.mat)\n",
    "p = breadth_first_tree ( G_eparse, 0, directed = True)\n",
    "p.toarray().astype(int)"
   ]
  },
  {
   "cell_type": "code",
   "execution_count": 155,
   "metadata": {},
   "outputs": [
    {
     "name": "stdout",
     "output_type": "stream",
     "text": [
      "[[0. 1. 1. 1.]\n",
      " [1. 0. 1. 2.]\n",
      " [1. 1. 0. 1.]\n",
      " [1. 2. 1. 0.]]\n",
      "--------------------------\n",
      "[[-9999     0     0     0]\n",
      " [    1 -9999     1     2]\n",
      " [    2     2 -9999     2]\n",
      " [    3     0     3 -9999]]\n"
     ]
    }
   ],
   "source": [
    "from scipy.sparse import csr_matrix\n",
    "from scipy.sparse.csgraph import bellman_ford\n",
    "G_eparse = csr_matrix(G.mat)\n",
    "dist_matrix, predecessors = bellman_ford (csgraph = G_eparse, directed = True,\n",
    "return_predecessors = True)\n",
    "print(dist_matrix)\n",
    "print(\"--------------------------\")\n",
    "print(predecessors)"
   ]
  },
  {
   "cell_type": "code",
   "execution_count": null,
   "metadata": {},
   "outputs": [],
   "source": []
  }
 ],
 "metadata": {
  "kernelspec": {
   "display_name": "Python 3",
   "language": "python",
   "name": "python3"
  },
  "language_info": {
   "codemirror_mode": {
    "name": "ipython",
    "version": 3
   },
   "file_extension": ".py",
   "mimetype": "text/x-python",
   "name": "python",
   "nbconvert_exporter": "python",
   "pygments_lexer": "ipython3",
   "version": "3.6.5"
  }
 },
 "nbformat": 4,
 "nbformat_minor": 2
}
