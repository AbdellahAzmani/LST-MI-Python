{
 "cells": [
  {
   "cell_type": "markdown",
   "metadata": {},
   "source": [
    "<center style=\"font-size:35px;color:red;font-weight:bold\"> Initiation à Python</center><br>\n",
    "<center style=\"color:black;font-size:20px\"> Programmation Scientifique  </center>\n",
    "<center style=\"color:black;font-size:14px\"> Scipy </center>\n",
    "<br>\n",
    "<center style=\"color:black\">**Cours du Pr. Abdellah AZMANI**</center>\n",
    "<center style=\"color:black\">**Département Génie Informatique**</center>\n",
    "<br>\n",
    "<center style=\"color:black\">Université Abdelmalek Essaadi</center>\n",
    "<center style=\"color:black\">Faculté des Sciences et Techniques</center>\n",
    "<center style=\"color:black\">Tanger</center>"
   ]
  },
  {
   "cell_type": "markdown",
   "metadata": {},
   "source": [
    "## Scipy\n",
    "### Qu'est-ce que Scipy?\n",
    "* SciPy est une bibliothèque de calcul scientifique qui utilise NumPy en dessous.\n",
    "* SciPy signifie Scientific Python.\n",
    "* Il fournit plus de fonctions utilitaires pour l'optimisation, les statistiques et le traitement du signal.\n",
    "* Comme NumPy, SciPy est open source afin que nous puissions l'utiliser librement.\n",
    "* SciPy a été créé par le créateur de NumPy, Travis Olliphant.\n",
    "\n",
    "### Pourquoi utiliser SciPy?\n",
    "SciPy a optimisé et ajouté des fonctions fréquemment utilisées dans NumPy et Data Science.\n",
    "\n",
    "### Dans quelle langue SciPy est-il écrit?\n",
    "SciPy est principalement écrit en Python, mais quelques segments sont écrits en C.\n",
    "\n",
    "### Où se trouve la base de code SciPy?\n",
    "Le code source de SciPy se trouve dans ce référentiel github https://github.com/scipy/scipy"
   ]
  },
  {
   "cell_type": "markdown",
   "metadata": {},
   "source": [
    "### Importation NumPy\n",
    "Une fois SciPy installé, importez le ou les modules SciPy que vous souhaitez utiliser dans vos applications en ajoutant l'instruction:"
   ]
  },
  {
   "cell_type": "code",
   "execution_count": 3,
   "metadata": {},
   "outputs": [
    {
     "name": "stdout",
     "output_type": "stream",
     "text": [
      "0.001\n"
     ]
    }
   ],
   "source": [
    "from scipy import constants \n",
    "print(constants.liter)"
   ]
  },
  {
   "cell_type": "markdown",
   "metadata": {},
   "source": [
    "## Constantes dans SciPy\n",
    "Comme SciPy est plus axé sur les implémentations scientifiques, il fournit de nombreuses constantes scientifiques intégrées.\n",
    "\n",
    "Ces constantes peuvent être utiles lorsque vous travaillez avec Data Science.\n",
    "\n",
    "**PI est un exemple de constante scientifique.**"
   ]
  },
  {
   "cell_type": "code",
   "execution_count": 4,
   "metadata": {},
   "outputs": [
    {
     "name": "stdout",
     "output_type": "stream",
     "text": [
      "3.141592653589793\n"
     ]
    }
   ],
   "source": [
    "from scipy import constants \n",
    "print(constants.pi)"
   ]
  },
  {
   "cell_type": "markdown",
   "metadata": {},
   "source": [
    "### Unités constantes\n",
    "Une liste de toutes les unités sous le module constantes peut être vue en utilisant la fonction dir ()."
   ]
  },
  {
   "cell_type": "code",
   "execution_count": 5,
   "metadata": {},
   "outputs": [
    {
     "name": "stdout",
     "output_type": "stream",
     "text": [
      "['Avogadro', 'Boltzmann', 'Btu', 'Btu_IT', 'Btu_th', 'ConstantWarning', 'G', 'Julian_year', 'N_A', 'Planck', 'R', 'Rydberg', 'Stefan_Boltzmann', 'Wien', '__all__', '__builtins__', '__cached__', '__doc__', '__file__', '__loader__', '__name__', '__package__', '__path__', '__spec__', '_obsolete_constants', 'absolute_import', 'acre', 'alpha', 'angstrom', 'arcmin', 'arcminute', 'arcsec', 'arcsecond', 'astronomical_unit', 'atm', 'atmosphere', 'atomic_mass', 'atto', 'au', 'bar', 'barrel', 'bbl', 'blob', 'c', 'calorie', 'calorie_IT', 'calorie_th', 'carat', 'centi', 'codata', 'constants', 'convert_temperature', 'day', 'deci', 'degree', 'degree_Fahrenheit', 'deka', 'division', 'dyn', 'dyne', 'e', 'eV', 'electron_mass', 'electron_volt', 'elementary_charge', 'epsilon_0', 'erg', 'exa', 'exbi', 'femto', 'fermi', 'find', 'fine_structure', 'fluid_ounce', 'fluid_ounce_US', 'fluid_ounce_imp', 'foot', 'g', 'gallon', 'gallon_US', 'gallon_imp', 'gas_constant', 'gibi', 'giga', 'golden', 'golden_ratio', 'grain', 'gram', 'gravitational_constant', 'h', 'hbar', 'hectare', 'hecto', 'horsepower', 'hour', 'hp', 'inch', 'k', 'kgf', 'kibi', 'kilo', 'kilogram_force', 'kmh', 'knot', 'lambda2nu', 'lb', 'lbf', 'light_year', 'liter', 'litre', 'long_ton', 'm_e', 'm_n', 'm_p', 'm_u', 'mach', 'mebi', 'mega', 'metric_ton', 'micro', 'micron', 'mil', 'mile', 'milli', 'minute', 'mmHg', 'mph', 'mu_0', 'nano', 'nautical_mile', 'neutron_mass', 'nu2lambda', 'ounce', 'oz', 'parsec', 'pebi', 'peta', 'physical_constants', 'pi', 'pico', 'point', 'pound', 'pound_force', 'precision', 'print_function', 'proton_mass', 'psi', 'pt', 'short_ton', 'sigma', 'slinch', 'slug', 'speed_of_light', 'speed_of_sound', 'stone', 'survey_foot', 'survey_mile', 'tebi', 'tera', 'test', 'ton_TNT', 'torr', 'troy_ounce', 'troy_pound', 'u', 'unit', 'value', 'week', 'yard', 'year', 'yobi', 'yotta', 'zebi', 'zepto', 'zero_Celsius', 'zetta']\n"
     ]
    }
   ],
   "source": [
    "from scipy import constants \n",
    "print(dir(constants))"
   ]
  },
  {
   "cell_type": "markdown",
   "metadata": {},
   "source": [
    "### Catégories d'unités\n",
    "Les unités sont placées dans ces catégories:\n",
    "\n",
    "* Métrique\n",
    "* Binaire\n",
    "* Masse\n",
    "* Angle\n",
    "* Temps\n",
    "* Longueur\n",
    "* Pression\n",
    "* Volume\n",
    "* Vitesse\n",
    "* Température\n",
    "* Énergie\n",
    "* Puissance\n",
    "* Force"
   ]
  },
  {
   "cell_type": "markdown",
   "metadata": {},
   "source": [
    "### Métrique"
   ]
  },
  {
   "cell_type": "code",
   "execution_count": 8,
   "metadata": {},
   "outputs": [
    {
     "name": "stdout",
     "output_type": "stream",
     "text": [
      "1e+24\n",
      "1e+21\n",
      "1e+18\n",
      "1000000000000000.0\n",
      "1000000000000.0\n",
      "1000000000.0\n",
      "1000000.0\n",
      "1000.0\n",
      "100.0\n",
      "10.0\n",
      "0.1\n",
      "0.01\n",
      "0.001\n",
      "1e-06\n",
      "1e-09\n",
      "1e-12\n",
      "1e-15\n",
      "1e-18\n",
      "1e-21\n"
     ]
    }
   ],
   "source": [
    "from scipy import constants \n",
    "\n",
    "print(constants.yotta)    #1e+24\n",
    "print(constants.zetta)    #1e+21\n",
    "print(constants.exa)      #1e+18\n",
    "print(constants.peta)     #1000000000000000.0\n",
    "print(constants.tera)     #1000000000000.0\n",
    "print(constants.giga)     #1000000000.0\n",
    "print(constants.mega)     #1000000.0\n",
    "print(constants.kilo)     #1000.0\n",
    "print(constants.hecto)    #100.0\n",
    "print(constants.deka)     #10.0\n",
    "print(constants.deci)     #0.1\n",
    "print(constants.centi)    #0.01\n",
    "print(constants.milli)    #0.001\n",
    "print(constants.micro)    #1e-06\n",
    "print(constants.nano)     #1e-09\n",
    "print(constants.pico)     #1e-12\n",
    "print(constants.femto)    #1e-15\n",
    "print(constants.atto)     #1e-18\n",
    "print(constants.zepto)    #1e-21"
   ]
  },
  {
   "cell_type": "markdown",
   "metadata": {},
   "source": [
    "### Binaire"
   ]
  },
  {
   "cell_type": "code",
   "execution_count": 10,
   "metadata": {},
   "outputs": [
    {
     "name": "stdout",
     "output_type": "stream",
     "text": [
      "1024\n",
      "1048576\n",
      "1073741824\n",
      "1099511627776\n",
      "1125899906842624\n",
      "1152921504606846976\n",
      "1180591620717411303424\n",
      "1208925819614629174706176\n"
     ]
    }
   ],
   "source": [
    "from scipy import constants \n",
    "\n",
    "print(constants.kibi)    #1024\n",
    "print(constants.mebi)    #1048576\n",
    "print(constants.gibi)    #1073741824\n",
    "print(constants.tebi)    #1099511627776\n",
    "print(constants.pebi)    #1125899906842624\n",
    "print(constants.exbi)    #1152921504606846976\n",
    "print(constants.zebi)    #1180591620717411303424\n",
    "print(constants.yobi)    #1208925819614629174706176"
   ]
  },
  {
   "cell_type": "markdown",
   "metadata": {},
   "source": [
    "### Masse"
   ]
  },
  {
   "cell_type": "code",
   "execution_count": 11,
   "metadata": {},
   "outputs": [
    {
     "name": "stdout",
     "output_type": "stream",
     "text": [
      "0.001\n",
      "1000.0\n",
      "6.479891e-05\n",
      "0.45359236999999997\n",
      "0.45359236999999997\n",
      "0.028349523124999998\n",
      "0.028349523124999998\n",
      "6.3502931799999995\n",
      "1016.0469088\n",
      "907.1847399999999\n",
      "0.031103476799999998\n",
      "0.37324172159999996\n",
      "0.0002\n",
      "1.66053904e-27\n",
      "1.66053904e-27\n",
      "1.66053904e-27\n"
     ]
    }
   ],
   "source": [
    "from scipy import constants \n",
    "\n",
    "print(constants.gram)        #0.001\n",
    "print(constants.metric_ton)  #1000.0\n",
    "print(constants.grain)       #6.479891e-05\n",
    "print(constants.lb)          #0.45359236999999997\n",
    "print(constants.pound)       #0.45359236999999997\n",
    "print(constants.oz)          #0.028349523124999998\n",
    "print(constants.ounce)       #0.028349523124999998\n",
    "print(constants.stone)       #6.3502931799999995\n",
    "print(constants.long_ton)    #1016.0469088\n",
    "print(constants.short_ton)   #907.1847399999999\n",
    "print(constants.troy_ounce)  #0.031103476799999998\n",
    "print(constants.troy_pound)  #0.37324172159999996\n",
    "print(constants.carat)       #0.0002\n",
    "print(constants.atomic_mass) #1.66053904e-27\n",
    "print(constants.m_u)         #1.66053904e-27\n",
    "print(constants.u)           #1.66053904e-27"
   ]
  },
  {
   "cell_type": "markdown",
   "metadata": {},
   "source": [
    "### Angle"
   ]
  },
  {
   "cell_type": "code",
   "execution_count": 12,
   "metadata": {},
   "outputs": [
    {
     "name": "stdout",
     "output_type": "stream",
     "text": [
      "0.017453292519943295\n",
      "0.0002908882086657216\n",
      "0.0002908882086657216\n",
      "4.84813681109536e-06\n",
      "4.84813681109536e-06\n"
     ]
    }
   ],
   "source": [
    "from scipy import constants \n",
    "\n",
    "print(constants.degree)     #0.017453292519943295\n",
    "print(constants.arcmin)     #0.0002908882086657216\n",
    "print(constants.arcminute)  #0.0002908882086657216\n",
    "print(constants.arcsec)     #4.84813681109536e-06\n",
    "print(constants.arcsecond)  #4.84813681109536e-06"
   ]
  },
  {
   "cell_type": "markdown",
   "metadata": {},
   "source": [
    "### Temps"
   ]
  },
  {
   "cell_type": "code",
   "execution_count": 13,
   "metadata": {},
   "outputs": [
    {
     "name": "stdout",
     "output_type": "stream",
     "text": [
      "60.0\n",
      "3600.0\n",
      "86400.0\n",
      "604800.0\n",
      "31536000.0\n",
      "31557600.0\n"
     ]
    }
   ],
   "source": [
    "from scipy import constants \n",
    "\n",
    "print(constants.minute)      #60.0\n",
    "print(constants.hour)        #3600.0\n",
    "print(constants.day)         #86400.0\n",
    "print(constants.week)        #604800.0\n",
    "print(constants.year)        #31536000.0\n",
    "print(constants.Julian_year) #31557600.0"
   ]
  },
  {
   "cell_type": "markdown",
   "metadata": {},
   "source": [
    "### Longueur"
   ]
  },
  {
   "cell_type": "code",
   "execution_count": 14,
   "metadata": {},
   "outputs": [
    {
     "name": "stdout",
     "output_type": "stream",
     "text": [
      "0.0254\n",
      "0.30479999999999996\n",
      "0.9143999999999999\n",
      "1609.3439999999998\n",
      "2.5399999999999997e-05\n",
      "0.00035277777777777776\n",
      "0.00035277777777777776\n",
      "0.3048006096012192\n",
      "1609.3472186944373\n",
      "1852.0\n",
      "1e-15\n",
      "1e-10\n",
      "1e-06\n",
      "149597870691.0\n",
      "149597870691.0\n",
      "9460730472580800.0\n",
      "3.0856775813057292e+16\n"
     ]
    }
   ],
   "source": [
    "from scipy import constants \n",
    "\n",
    "print(constants.inch)              #0.0254\n",
    "print(constants.foot)              #0.30479999999999996\n",
    "print(constants.yard)              #0.9143999999999999\n",
    "print(constants.mile)              #1609.3439999999998\n",
    "print(constants.mil)               #2.5399999999999997e-05\n",
    "print(constants.pt)                #0.00035277777777777776\n",
    "print(constants.point)             #0.00035277777777777776\n",
    "print(constants.survey_foot)       #0.3048006096012192\n",
    "print(constants.survey_mile)       #1609.3472186944373\n",
    "print(constants.nautical_mile)     #1852.0\n",
    "print(constants.fermi)             #1e-15\n",
    "print(constants.angstrom)          #1e-10\n",
    "print(constants.micron)            #1e-06\n",
    "print(constants.au)                #149597870691.0\n",
    "print(constants.astronomical_unit) #149597870691.0\n",
    "print(constants.light_year)        #9460730472580800.0\n",
    "print(constants.parsec)            #3.0856775813057292e+16"
   ]
  },
  {
   "cell_type": "markdown",
   "metadata": {},
   "source": [
    "### Pression"
   ]
  },
  {
   "cell_type": "code",
   "execution_count": 15,
   "metadata": {},
   "outputs": [
    {
     "name": "stdout",
     "output_type": "stream",
     "text": [
      "101325.0\n",
      "101325.0\n",
      "100000.0\n",
      "133.32236842105263\n",
      "133.32236842105263\n",
      "6894.757293168361\n"
     ]
    }
   ],
   "source": [
    "from scipy import constants \n",
    "\n",
    "print(constants.atm)         #101325.0\n",
    "print(constants.atmosphere)  #101325.0\n",
    "print(constants.bar)         #100000.0\n",
    "print(constants.torr)        #133.32236842105263\n",
    "print(constants.mmHg)        #133.32236842105263\n",
    "print(constants.psi)         #6894.757293168361"
   ]
  },
  {
   "cell_type": "markdown",
   "metadata": {},
   "source": [
    "### Volume"
   ]
  },
  {
   "cell_type": "code",
   "execution_count": 17,
   "metadata": {},
   "outputs": [
    {
     "name": "stdout",
     "output_type": "stream",
     "text": [
      "0.001\n",
      "0.001\n",
      "0.0037854117839999997\n",
      "0.0037854117839999997\n",
      "0.00454609\n",
      "2.9573529562499998e-05\n",
      "2.9573529562499998e-05\n",
      "2.84130625e-05\n",
      "0.15898729492799998\n",
      "0.15898729492799998\n"
     ]
    }
   ],
   "source": [
    "from scipy import constants \n",
    "\n",
    "print(constants.liter)            #0.001\n",
    "print(constants.litre)            #0.001\n",
    "print(constants.gallon)           #0.0037854117839999997\n",
    "print(constants.gallon_US)        #0.0037854117839999997\n",
    "print(constants.gallon_imp)       #0.00454609\n",
    "print(constants.fluid_ounce)      #2.9573529562499998e-05\n",
    "print(constants.fluid_ounce_US)   #2.9573529562499998e-05\n",
    "print(constants.fluid_ounce_imp)  #2.84130625e-05\n",
    "print(constants.barrel)           #0.15898729492799998\n",
    "print(constants.bbl)              #0.15898729492799998"
   ]
  },
  {
   "cell_type": "markdown",
   "metadata": {},
   "source": [
    "### Vitesse"
   ]
  },
  {
   "cell_type": "code",
   "execution_count": 18,
   "metadata": {},
   "outputs": [
    {
     "name": "stdout",
     "output_type": "stream",
     "text": [
      "0.2777777777777778\n",
      "0.44703999999999994\n",
      "340.5\n",
      "340.5\n",
      "0.5144444444444445\n"
     ]
    }
   ],
   "source": [
    "from scipy import constants \n",
    "\n",
    "print(constants.kmh)            #0.2777777777777778\n",
    "print(constants.mph)            #0.44703999999999994\n",
    "print(constants.mach)           #340.5\n",
    "print(constants.speed_of_sound) #340.5\n",
    "print(constants.knot)           #0.5144444444444445"
   ]
  },
  {
   "cell_type": "markdown",
   "metadata": {},
   "source": [
    "### Température"
   ]
  },
  {
   "cell_type": "code",
   "execution_count": 19,
   "metadata": {},
   "outputs": [
    {
     "name": "stdout",
     "output_type": "stream",
     "text": [
      "273.15\n",
      "0.5555555555555556\n"
     ]
    }
   ],
   "source": [
    "from scipy import constants \n",
    "\n",
    "print(constants.zero_Celsius)      #273.15\n",
    "print(constants.degree_Fahrenheit) #0.5555555555555556"
   ]
  },
  {
   "cell_type": "markdown",
   "metadata": {},
   "source": [
    "### Enérgie"
   ]
  },
  {
   "cell_type": "code",
   "execution_count": 20,
   "metadata": {},
   "outputs": [
    {
     "name": "stdout",
     "output_type": "stream",
     "text": [
      "1.6021766208e-19\n",
      "1.6021766208e-19\n",
      "4.184\n",
      "4.184\n",
      "4.1868\n",
      "1e-07\n",
      "1055.05585262\n",
      "1055.05585262\n",
      "1054.3502644888888\n",
      "4184000000.0\n"
     ]
    }
   ],
   "source": [
    "from scipy import constants \n",
    "\n",
    "print(constants.eV)            #1.6021766208e-19\n",
    "print(constants.electron_volt) #1.6021766208e-19\n",
    "print(constants.calorie)       #4.184\n",
    "print(constants.calorie_th)    #4.184\n",
    "print(constants.calorie_IT)    #4.1868\n",
    "print(constants.erg)           #1e-07\n",
    "print(constants.Btu)           #1055.05585262\n",
    "print(constants.Btu_IT)        #1055.05585262\n",
    "print(constants.Btu_th)        #1054.3502644888888\n",
    "print(constants.ton_TNT)       #4184000000.0"
   ]
  },
  {
   "cell_type": "markdown",
   "metadata": {},
   "source": [
    "### Puissance"
   ]
  },
  {
   "cell_type": "code",
   "execution_count": 21,
   "metadata": {},
   "outputs": [
    {
     "name": "stdout",
     "output_type": "stream",
     "text": [
      "745.6998715822701\n",
      "745.6998715822701\n"
     ]
    }
   ],
   "source": [
    "from scipy import constants \n",
    "\n",
    "print(constants.hp)         #745.6998715822701\n",
    "print(constants.horsepower) #745.6998715822701"
   ]
  },
  {
   "cell_type": "markdown",
   "metadata": {},
   "source": [
    "### Force"
   ]
  },
  {
   "cell_type": "code",
   "execution_count": 22,
   "metadata": {},
   "outputs": [
    {
     "name": "stdout",
     "output_type": "stream",
     "text": [
      "1e-05\n",
      "1e-05\n",
      "4.4482216152605\n",
      "4.4482216152605\n",
      "9.80665\n",
      "9.80665\n"
     ]
    }
   ],
   "source": [
    "from scipy import constants \n",
    "\n",
    "print(constants.dyn)             #1e-05\n",
    "print(constants.dyne)            #1e-05\n",
    "print(constants.lbf)             #4.4482216152605\n",
    "print(constants.pound_force)     #4.4482216152605\n",
    "print(constants.kgf)             #9.80665\n",
    "print(constants.kilogram_force)  #9.80665"
   ]
  },
  {
   "cell_type": "markdown",
   "metadata": {},
   "source": [
    "## Optimiseurs dans SciPy\n",
    "Les optimiseurs sont un ensemble de procédures définies dans SciPy qui trouvent soit la valeur minimale d'une fonction, soit la racine d'une équation.\n",
    "\n",
    "### Optimisation des fonctions\n",
    "Essentiellement, tous les algorithmes du Machine Learning ne sont rien de plus qu'une équation complexe qui doit être minimisée à l'aide de données données.\n",
    "\n",
    "### Racines d'une équation\n",
    "NumPy est capable de trouver des racines pour des polynômes et des équations linéaires, mais il ne peut pas trouver de racines pour des équations non linéaires, comme celle-ci:\n",
    "\n",
    "**x + cos (x)**\n",
    "\n",
    "Pour cela, vous pouvez utiliser la fonction optimze.root de SciPy.\n",
    "\n",
    "Cette fonction prend deux arguments obligatoires:\n",
    "\n",
    "* fun - une fonction représentant une équation.\n",
    "\n",
    "* x0 - une estimation initiale de la racine.\n",
    "\n",
    "La fonction renvoie un objet avec des informations sur la solution.\n",
    "\n",
    "La solution réelle est donnée sous l'attribut x de l'objet retourné:"
   ]
  },
  {
   "cell_type": "code",
   "execution_count": 25,
   "metadata": {},
   "outputs": [
    {
     "name": "stdout",
     "output_type": "stream",
     "text": [
      "[-0.73908513]\n"
     ]
    }
   ],
   "source": [
    "from scipy.optimize import root \n",
    "from math import cos \n",
    "\n",
    "def eqn(x):\n",
    "  return x + cos(x)\n",
    "\n",
    "myroot = root(eqn, 0)\n",
    "\n",
    "print(myroot.x)"
   ]
  },
  {
   "cell_type": "markdown",
   "metadata": {},
   "source": [
    "#### Exemple\n",
    "Afficher toutes les informations sur la solution (pas seulement x qui est la racine)"
   ]
  },
  {
   "cell_type": "code",
   "execution_count": 26,
   "metadata": {},
   "outputs": [
    {
     "name": "stdout",
     "output_type": "stream",
     "text": [
      "    fjac: array([[-1.]])\n",
      "     fun: array([0.])\n",
      " message: 'The solution converged.'\n",
      "    nfev: 9\n",
      "     qtf: array([-2.66786593e-13])\n",
      "       r: array([-1.67361202])\n",
      "  status: 1\n",
      " success: True\n",
      "       x: array([-0.73908513])\n"
     ]
    }
   ],
   "source": [
    "print(myroot)"
   ]
  },
  {
   "cell_type": "markdown",
   "metadata": {},
   "source": [
    "### Minimiser une fonction\n",
    "Une fonction, dans ce contexte, représente une courbe, les courbes ont des points hauts et des points bas.\n",
    "\n",
    "* Les points hauts sont appelés maxima.\n",
    "* Les points bas sont appelés minima.\n",
    "* Le point le plus élevé de toute la courbe est appelé maxima global, tandis que les autres sont appelés maxima locaux.\n",
    "* Le point le plus bas de toute la courbe est appelé minima global, tandis que les autres sont appelés minima locaux.\n",
    "\n",
    "### Recherche de minima\n",
    "Nous pouvons utiliser la fonction **scipy.optimize.minimize()** pour minimiser la fonction.\n",
    "\n",
    "La fonction **minimize()** prend les arguments suivants:\n",
    "\n",
    "* fun - une fonction représentant une équation.\n",
    "* x0 - une estimation initiale de la racine.\n",
    "* method - nom de la méthode à utiliser. Valeurs légales:\n",
    "    * «CG»\n",
    "    * «BFGS»\n",
    "    * «Newton-CG»\n",
    "    * «L-BFGS-B»\n",
    "    * «TNC»\n",
    "    * «COBYLA»\n",
    "    * «SLSQP»\n",
    "* callback - fonction appelée après chaque itération d'optimisation.\n",
    "* options - un dictionnaire définissant des paramètres supplémentaires:\n",
    "    \n",
    "    {\n",
    "      \"disp\": booléen - affiche la description détaillée\n",
    "      \"gtol\": nombre - la tolérance de l'erreur\n",
    "   }"
   ]
  },
  {
   "cell_type": "markdown",
   "metadata": {},
   "source": [
    "**Minimiser la fonction x^2 + x + 2 avec BFGS**"
   ]
  },
  {
   "cell_type": "code",
   "execution_count": 27,
   "metadata": {},
   "outputs": [
    {
     "name": "stdout",
     "output_type": "stream",
     "text": [
      "      fun: 1.75\n",
      " hess_inv: array([[0.50000001]])\n",
      "      jac: array([0.])\n",
      "  message: 'Optimization terminated successfully.'\n",
      "     nfev: 12\n",
      "      nit: 2\n",
      "     njev: 4\n",
      "   status: 0\n",
      "  success: True\n",
      "        x: array([-0.50000001])\n"
     ]
    }
   ],
   "source": [
    "from scipy.optimize import minimize\n",
    "\n",
    "def eqn(x):\n",
    "  return x**2 + x + 2\n",
    "\n",
    "mymin = minimize(eqn, 0, method='BFGS')\n",
    "\n",
    "print(mymin)"
   ]
  },
  {
   "cell_type": "markdown",
   "metadata": {},
   "source": [
    "## les données éparses\n",
    "### Que sont les données éparses\n",
    "Les données éparses sont des données qui ont pour la plupart des éléments inutilisés (éléments qui ne portent aucune information).\n",
    "\n",
    "Cela peut être un tableau comme celui-ci:\n",
    "\n",
    "* [1, 0, 2, 0, 0, 3, 0, 0, 0, 0, 0, 0]\n",
    "\n",
    "**Données éparses: est un ensemble de données dans lequel la plupart des valeurs d'éléments sont nulles.**<br>\n",
    "**Dense Array: est l'opposé d'un tableau clairsemé: la plupart des valeurs ne sont pas nulles.**\n",
    "\n",
    "En informatique scientifique, lorsque nous traitons de dérivées partielles en algèbre linéaire, nous rencontrons des données rares.\n",
    "\n",
    "### Comment travailler avec des données éparses\n",
    "SciPy a un module, **scipy.sparse** qui fournit des fonctions pour traiter les données rares.\n",
    "\n",
    "Il existe principalement deux types de matrices creuses que nous utilisons:\n",
    "\n",
    "* CSC - Colonne clairsemée compressée. Pour une arithmétique efficace et un découpage rapide des colonnes.\n",
    "* CSR - Compressed Sparse Row. Pour un découpage rapide des lignes, des produits vectoriels matriciels plus rapides\n",
    "\n",
    "### Matrice CSR\n",
    "Nous pouvons créer une matrice CSR en passant un tableau dans la fonction **scipy.sparse.csr_matrix().**"
   ]
  },
  {
   "cell_type": "code",
   "execution_count": 28,
   "metadata": {},
   "outputs": [
    {
     "name": "stdout",
     "output_type": "stream",
     "text": [
      "  (0, 5)\t1\n",
      "  (0, 6)\t1\n",
      "  (0, 8)\t2\n"
     ]
    }
   ],
   "source": [
    "import numpy as np\n",
    "from scipy.sparse import csr_matrix \n",
    "\n",
    "arr = np.array([0, 0, 0, 0, 0, 1, 1, 0, 2]) \n",
    "\n",
    "print(csr_matrix(arr))"
   ]
  },
  {
   "cell_type": "markdown",
   "metadata": {},
   "source": [
    "D'après le résultat, nous pouvons voir qu'il y a 3 éléments avec une valeur.\n",
    "\n",
    "* L'élément 1. est dans la ligne 0 position 5 et a la valeur 1.\n",
    "* L'élément 2. est dans la ligne 0 position 6 et a la valeur 1.\n",
    "* L'élément 3. est dans la ligne 0 position 8 et a la valeur 2."
   ]
  },
  {
   "cell_type": "markdown",
   "metadata": {},
   "source": [
    "### Méthodes de matrice creuse\n",
    "Affichage des données stockées (pas les éléments zéro) avec la propriété data:"
   ]
  },
  {
   "cell_type": "code",
   "execution_count": 29,
   "metadata": {},
   "outputs": [
    {
     "name": "stdout",
     "output_type": "stream",
     "text": [
      "[1 1 2]\n"
     ]
    }
   ],
   "source": [
    "import numpy as np\n",
    "from scipy.sparse import csr_matrix \n",
    "\n",
    "arr = np.array([[0, 0, 0], [0, 0, 1], [1, 0, 2]]) \n",
    "\n",
    "print(csr_matrix(arr).data)"
   ]
  },
  {
   "cell_type": "markdown",
   "metadata": {},
   "source": [
    "**Compter les nonzeros avec la méthode count_nonzero ():**"
   ]
  },
  {
   "cell_type": "code",
   "execution_count": 30,
   "metadata": {},
   "outputs": [
    {
     "name": "stdout",
     "output_type": "stream",
     "text": [
      "3\n"
     ]
    }
   ],
   "source": [
    "import numpy as np\n",
    "from scipy.sparse import csr_matrix \n",
    "\n",
    "arr = np.array([[0, 0, 0], [0, 0, 1], [1, 0, 2]]) \n",
    "\n",
    "print(csr_matrix(arr).count_nonzero())"
   ]
  },
  {
   "cell_type": "markdown",
   "metadata": {},
   "source": [
    "**Suppression des entrées zéro de la matrice avec la méthode remove_zeros():**"
   ]
  },
  {
   "cell_type": "code",
   "execution_count": 31,
   "metadata": {},
   "outputs": [
    {
     "name": "stdout",
     "output_type": "stream",
     "text": [
      "  (1, 2)\t1\n",
      "  (2, 0)\t1\n",
      "  (2, 2)\t2\n"
     ]
    }
   ],
   "source": [
    "import numpy as np\n",
    "from scipy.sparse import csr_matrix\n",
    "\n",
    "arr = np.array([[0, 0, 0], [0, 0, 1], [1, 0, 2]])\n",
    "\n",
    "mat = csr_matrix(arr)\n",
    "mat.eliminate_zeros()\n",
    "\n",
    "print(mat)"
   ]
  },
  {
   "cell_type": "markdown",
   "metadata": {},
   "source": [
    "**Éliminer les doublons avec la méthode sum_duplicates():**"
   ]
  },
  {
   "cell_type": "code",
   "execution_count": 32,
   "metadata": {},
   "outputs": [
    {
     "name": "stdout",
     "output_type": "stream",
     "text": [
      "  (1, 2)\t1\n",
      "  (2, 0)\t1\n",
      "  (2, 2)\t2\n"
     ]
    }
   ],
   "source": [
    "import numpy as np\n",
    "from scipy.sparse import csr_matrix\n",
    "\n",
    "arr = np.array([[0, 0, 0], [0, 0, 1], [1, 0, 2]])\n",
    "\n",
    "mat = csr_matrix(arr)\n",
    "mat.sum_duplicates()\n",
    "\n",
    "print(mat)"
   ]
  },
  {
   "cell_type": "markdown",
   "metadata": {},
   "source": [
    "**Conversion de csr en csc avec la méthode tocsc():**"
   ]
  },
  {
   "cell_type": "code",
   "execution_count": 33,
   "metadata": {},
   "outputs": [
    {
     "name": "stdout",
     "output_type": "stream",
     "text": [
      "  (2, 0)\t1\n",
      "  (1, 2)\t1\n",
      "  (2, 2)\t2\n"
     ]
    }
   ],
   "source": [
    "import numpy as np\n",
    "from scipy.sparse import csr_matrix \n",
    "\n",
    "arr = np.array([[0, 0, 0], [0, 0, 1], [1, 0, 2]]) \n",
    "\n",
    "newarr = csr_matrix(arr).tocsc() \n",
    "\n",
    "print(newarr)"
   ]
  },
  {
   "cell_type": "markdown",
   "metadata": {},
   "source": [
    "## Les graphes\n",
    "### Travailler avec des graphes\n",
    "Voir <a href=\"https://colab.research.google.com/github/AbdellahAzmani/LST-MI-Python/blob/main/Graphes.ipynb#scrollTo=FqtJeDOgWvPH\">cours théorie des graphes</a>\n",
    "\n",
    "\n",
    "Les graphes sont une structure de données essentielle.\n",
    "\n",
    "SciPy nous fournit le module scipy.sparse.csgraph pour travailler avec de telles structures de données.\n",
    "\n",
    "#### Matrice d'adjacence\n",
    "La matrice d'adjacence est une matrice nxn où n est le nombre d'éléments dans un graphe, et les valeurs représentent la connexion entre les éléments.\n",
    "\n",
    "#### Composants connectés\n",
    "Trouver tous les composants connectés avec la méthode **connected_components().**"
   ]
  },
  {
   "cell_type": "code",
   "execution_count": 34,
   "metadata": {},
   "outputs": [
    {
     "name": "stdout",
     "output_type": "stream",
     "text": [
      "(1, array([0, 0, 0], dtype=int32))\n"
     ]
    }
   ],
   "source": [
    "import numpy as np\n",
    "from scipy.sparse.csgraph import connected_components\n",
    "from scipy.sparse import csr_matrix\n",
    "\n",
    "arr = np.array([\n",
    "  [0, 1, 2],\n",
    "  [1, 0, 0],\n",
    "  [2, 0, 0]\n",
    "])\n",
    "\n",
    "newarr = csr_matrix(arr)\n",
    "\n",
    "print(connected_components(newarr))"
   ]
  },
  {
   "cell_type": "markdown",
   "metadata": {},
   "source": [
    "### Dijkstra\n",
    "L'algorithme de Dijkstra permet de trouver le plus court chemin entre deux sommets d'un graphe (orienté ou non orienté).\n",
    "\n",
    "Utiliser la méthode dijkstra pour trouver le chemin le plus court dans un graphique d'un élément à un autre.\n",
    "\n",
    "Il prend les arguments suivants:\n",
    "* return_predecessors: boolean (True pour retourner le chemin complet du parcours sinon False).\n",
    "* indices: index de l'élément pour renvoyer tous les chemins de cet élément uniquement.\n",
    "* limit: poids max du chemin."
   ]
  },
  {
   "cell_type": "code",
   "execution_count": 35,
   "metadata": {},
   "outputs": [
    {
     "name": "stdout",
     "output_type": "stream",
     "text": [
      "(array([0., 1., 2.]), array([-9999,     0,     0], dtype=int32))\n"
     ]
    }
   ],
   "source": [
    "import numpy as np\n",
    "from scipy.sparse.csgraph import dijkstra\n",
    "from scipy.sparse import csr_matrix\n",
    "\n",
    "arr = np.array([\n",
    "  [0, 1, 2],\n",
    "  [1, 0, 0],\n",
    "  [2, 0, 0]\n",
    "])\n",
    "\n",
    "newarr = csr_matrix(arr)\n",
    "\n",
    "print(dijkstra(newarr, return_predecessors=True, indices=0))"
   ]
  },
  {
   "cell_type": "markdown",
   "metadata": {},
   "source": [
    "### Bellman Ford\n",
    "La méthode **bellman_ford()** peut également trouver le chemin le plus court entre toutes les sommets d'un graphe, mais cette méthode peut également gérer les poids négatifs."
   ]
  },
  {
   "cell_type": "code",
   "execution_count": 1,
   "metadata": {},
   "outputs": [
    {
     "name": "stdout",
     "output_type": "stream",
     "text": [
      "(array([ 0., -1.,  2.]), array([-9999,     0,     0], dtype=int32))\n"
     ]
    }
   ],
   "source": [
    "import numpy as np\n",
    "from scipy.sparse.csgraph import bellman_ford\n",
    "from scipy.sparse import csr_matrix\n",
    "\n",
    "arr = np.array([\n",
    "  [0, -1, 2],\n",
    "  [1, 0, 0],\n",
    "  [2, 0, 0]\n",
    "])\n",
    "\n",
    "newarr = csr_matrix(arr)\n",
    "\n",
    "print(bellman_ford(newarr, return_predecessors=True, indices=0))"
   ]
  },
  {
   "cell_type": "markdown",
   "metadata": {},
   "source": [
    "### Premier ordre de profondeur\n",
    "La méthode **depth_first_order()** renvoie une première traversée en profondeur à partir d'un nœud.\n",
    "\n",
    "Cette fonction prend les arguments suivants:\n",
    "* le graphique.\n",
    "* l'élément de départ à partir duquel parcourir le graphique."
   ]
  },
  {
   "cell_type": "code",
   "execution_count": 2,
   "metadata": {},
   "outputs": [
    {
     "name": "stdout",
     "output_type": "stream",
     "text": [
      "(array([1, 0, 3, 2], dtype=int32), array([    1, -9999,     1,     0], dtype=int32))\n"
     ]
    }
   ],
   "source": [
    "import numpy as np\n",
    "from scipy.sparse.csgraph import depth_first_order\n",
    "from scipy.sparse import csr_matrix\n",
    "\n",
    "arr = np.array([\n",
    "  [0, 1, 0, 1],\n",
    "  [1, 1, 1, 1],\n",
    "  [2, 1, 1, 0],\n",
    "  [0, 1, 0, 1]\n",
    "])\n",
    "\n",
    "newarr = csr_matrix(arr)\n",
    "\n",
    "print(depth_first_order(newarr, 1))"
   ]
  },
  {
   "cell_type": "markdown",
   "metadata": {},
   "source": [
    "## Données spatiales SciPy\n",
    "### Traiter les données spatiales\n",
    "Les données spatiales font référence aux données qui sont représentées dans un espace géométrique.\n",
    "\n",
    "* Par exemple : points sur un système de coordonnées.\n",
    "\n",
    "Nous traitons des problèmes de données spatiales sur de nombreuses tâches.\n",
    "\n",
    "* Par exemple : trouver si un point est à l'intérieur d'une frontière ou non.\n",
    "\n",
    "SciPy nous fournit le module **scipy.spatial**, qui a des fonctions pour travailler avec des données spatiales.\n",
    "\n",
    "### Triangulation\n",
    "Une triangulation d'un polygone consiste à diviser le polygone en plusieurs triangles avec lesquels nous pouvons calculer une aire du polygone.\n",
    "\n",
    "Une triangulation avec des points signifie créer des triangles composés de surface dans lesquels tous les points donnés sont sur au moins un sommet de n'importe quel triangle de la surface.\n",
    "\n",
    "Une méthode pour générer ces triangulations par points est la triangulation **Delaunay()**."
   ]
  },
  {
   "cell_type": "code",
   "execution_count": 4,
   "metadata": {},
   "outputs": [
    {
     "data": {
      "image/png": "[encoded data removed]",
      "text/plain": [
       "<Figure size 432x288 with 1 Axes>"
      ]
     },
     "metadata": {},
     "output_type": "display_data"
    }
   ],
   "source": [
    "import numpy as np\n",
    "from scipy.spatial import Delaunay\n",
    "import matplotlib.pyplot as plt\n",
    "\n",
    "points = np.array([\n",
    "  [2, 4],\n",
    "  [3, 4],\n",
    "  [3, 0],\n",
    "  [2, 2],\n",
    "  [4, 1]\n",
    "])\n",
    "\n",
    "simplices = Delaunay(points).simplices\n",
    "\n",
    "plt.triplot(points[:, 0], points[:, 1], simplices)\n",
    "plt.scatter(points[:, 0], points[:, 1], color='r')\n",
    "\n",
    "plt.show()"
   ]
  },
  {
   "cell_type": "markdown",
   "metadata": {},
   "source": [
    "### Enveloppe convexe\n",
    "C'est le plus petit polygone qui couvre tous les points donnés."
   ]
  },
  {
   "cell_type": "code",
   "execution_count": 6,
   "metadata": {},
   "outputs": [
    {
     "data": {
      "image/png": "[encoded data removed]",
      "text/plain": [
       "<Figure size 432x288 with 1 Axes>"
      ]
     },
     "metadata": {},
     "output_type": "display_data"
    }
   ],
   "source": [
    "import numpy as np\n",
    "from scipy.spatial import ConvexHull\n",
    "import matplotlib.pyplot as plt\n",
    "\n",
    "points = np.array([\n",
    "  [2, 4],\n",
    "  [3, 4],\n",
    "  [3, 0],\n",
    "  [2, 2],\n",
    "  [4, 1],\n",
    "  [1, 2],\n",
    "  [5, 0],\n",
    "  [3, 1],\n",
    "  [1, 2],\n",
    "  [0, 2]\n",
    "])\n",
    "\n",
    "hull = ConvexHull(points)\n",
    "hull_points = hull.simplices\n",
    "\n",
    "plt.scatter(points[:,0], points[:,1])\n",
    "for simplex in hull_points:\n",
    "  plt.plot(points[simplex,0], points[simplex,1], 'k-')\n",
    "\n",
    "plt.show()"
   ]
  },
  {
   "cell_type": "markdown",
   "metadata": {},
   "source": [
    "### Matrice de distance\n",
    "Il existe de nombreuses métriques de distance utilisées pour trouver différents types de distances entre deux points dans la science des données, la distance euclidienne, la distance cosinus, etc.\n",
    "\n",
    "La distance entre deux vecteurs peut non seulement être la longueur de la ligne droite entre eux, mais aussi l'angle entre eux par rapport à l'origine, ou le nombre de pas unitaires requis, etc.\n",
    "\n",
    "La plupart des performances de l'algorithme Machine Learning dépendent fortement des matrices de distance. Par exemple. «K-plus proche voisin» ou «K means», etc.\n",
    "\n",
    "#### Distance Euclidienne"
   ]
  },
  {
   "cell_type": "code",
   "execution_count": 7,
   "metadata": {},
   "outputs": [
    {
     "name": "stdout",
     "output_type": "stream",
     "text": [
      "9.219544457292887\n"
     ]
    }
   ],
   "source": [
    "from scipy.spatial.distance import euclidean\n",
    "\n",
    "p1 = (1, 0)\n",
    "p2 = (10, 2)\n",
    "\n",
    "res = euclidean(p1, p2)\n",
    "\n",
    "print(res)"
   ]
  },
  {
   "cell_type": "markdown",
   "metadata": {},
   "source": [
    "#### la distance cosinus"
   ]
  },
  {
   "cell_type": "code",
   "execution_count": 8,
   "metadata": {},
   "outputs": [
    {
     "name": "stdout",
     "output_type": "stream",
     "text": [
      "0.019419324309079777\n"
     ]
    }
   ],
   "source": [
    "from scipy.spatial.distance import cosine\n",
    "\n",
    "p1 = (1, 0)\n",
    "p2 = (10, 2)\n",
    "\n",
    "res = cosine(p1, p2)\n",
    "\n",
    "print(res)"
   ]
  },
  {
   "cell_type": "markdown",
   "metadata": {},
   "source": [
    "## Interpolation\n",
    "### Qu'est-ce que l'interpolation?\n",
    "L'interpolation est une méthode pour générer des points entre des points donnés.\n",
    "\n",
    "* Par exemple : pour les points 1 et 2, nous pouvons interpoler et trouver les points 1.33 et 1.66.\n",
    "\n",
    "L'interpolation a de nombreuses utilisations, dans le Machine Learning, nous traitons souvent des données manquantes dans un ensemble de données, l'interpolation est souvent utilisée pour remplacer ces valeurs.\n",
    "\n",
    "Cette méthode de remplissage des valeurs est appelée imputation.\n",
    "\n",
    "Outre l'imputation, l'interpolation est souvent utilisée lorsque nous devons lisser les points discrets d'un ensemble de données.\n",
    "\n",
    "### Comment l'implémenter dans SciPy?\n",
    "SciPy nous fournit un module appelé **scipy.interpolate** qui a de nombreuses fonctions pour gérer l'interpolation:\n",
    "\n",
    "### Interpolation 1D\n",
    "La fonction **interp1d()** est utilisée pour interpoler une distribution à 1 variable.\n",
    "\n",
    "Il prend x et y points et renvoie une fonction appelable qui peut être appelée avec un nouveau x et renvoie y correspondant."
   ]
  },
  {
   "cell_type": "code",
   "execution_count": 9,
   "metadata": {},
   "outputs": [
    {
     "name": "stdout",
     "output_type": "stream",
     "text": [
      "[5.2 5.4 5.6 5.8 6.  6.2 6.4 6.6 6.8]\n"
     ]
    }
   ],
   "source": [
    "from scipy.interpolate import interp1d\n",
    "import numpy as np\n",
    "\n",
    "xs = np.arange(10)\n",
    "ys = 2*xs + 1\n",
    "\n",
    "interp_func = interp1d(xs, ys)\n",
    "\n",
    "newarr = interp_func(np.arange(2.1, 3, 0.1))\n",
    "\n",
    "print(newarr)"
   ]
  },
  {
   "cell_type": "markdown",
   "metadata": {},
   "source": [
    "### Interpolation spline\n",
    "Dans l'interpolation 1D, les points sont ajustés pour une seule courbe alors que dans l'interpolation Spline, les points sont ajustés par rapport à une fonction par morceaux définie avec des polynômes appelés splines.\n",
    "\n",
    "La fonction **UnivariateSpline()** prend xs et ys et produit une fonction appelable qui peut être appelée avec de nouveaux xs."
   ]
  },
  {
   "cell_type": "code",
   "execution_count": 10,
   "metadata": {},
   "outputs": [
    {
     "name": "stdout",
     "output_type": "stream",
     "text": [
      "[5.62826474 6.03987348 6.47131994 6.92265019 7.3939103  7.88514634\n",
      " 8.39640439 8.92773053 9.47917082]\n"
     ]
    }
   ],
   "source": [
    "from scipy.interpolate import UnivariateSpline\n",
    "import numpy as np\n",
    "\n",
    "xs = np.arange(10)\n",
    "ys = xs**2 + np.sin(xs) + 1\n",
    "\n",
    "interp_func = UnivariateSpline(xs, ys)\n",
    "\n",
    "newarr = interp_func(np.arange(2.1, 3, 0.1)) \n",
    "\n",
    "print(newarr)"
   ]
  },
  {
   "cell_type": "markdown",
   "metadata": {},
   "source": [
    "### Interpolation avec fonction de base radiale\n",
    "La fonction de base radiale est une fonction définie correspondant à un point de référence fixe.\n",
    "\n",
    "La fonction **Rbf()** prend également xs et ys comme arguments et produit une fonction appelable qui peut être appelée avec de nouveaux xs."
   ]
  },
  {
   "cell_type": "code",
   "execution_count": 11,
   "metadata": {},
   "outputs": [
    {
     "name": "stdout",
     "output_type": "stream",
     "text": [
      "[6.25748981 6.62190817 7.00310702 7.40121814 7.8161443  8.24773402\n",
      " 8.69590519 9.16070828 9.64233874]\n"
     ]
    }
   ],
   "source": [
    "from scipy.interpolate import Rbf\n",
    "import numpy as np\n",
    "\n",
    "xs = np.arange(10)\n",
    "ys = xs**2 + np.sin(xs) + 1\n",
    "\n",
    "interp_func = Rbf(xs, ys)\n",
    "\n",
    "newarr = interp_func(np.arange(2.1, 3, 0.1))\n",
    "\n",
    "print(newarr)"
   ]
  }
 ],
 "metadata": {
  "kernelspec": {
   "display_name": "Python 3",
   "language": "python",
   "name": "python3"
  },
  "language_info": {
   "codemirror_mode": {
    "name": "ipython",
    "version": 3
   },
   "file_extension": ".py",
   "mimetype": "text/x-python",
   "name": "python",
   "nbconvert_exporter": "python",
   "pygments_lexer": "ipython3",
   "version": "3.6.5"
  }
 },
 "nbformat": 4,
 "nbformat_minor": 2
}
